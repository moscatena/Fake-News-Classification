{
 "cells": [
  {
   "cell_type": "markdown",
   "id": "0acff683-3509-4661-a7b5-7a8faf8b029c",
   "metadata": {
    "tags": []
   },
   "source": [
    "# Word2Vec - Exploration and Models\n",
    "\n",
    "**Author**: Marcelo Scatena\n",
    "***\n",
    "March 2022"
   ]
  },
  {
   "cell_type": "code",
   "execution_count": 135,
   "id": "1317e3ce-6fd4-4724-af36-f2e7ae904e12",
   "metadata": {},
   "outputs": [],
   "source": [
    "import pandas as pd\n",
    "import numpy as np\n",
    "\n",
    "#Data Visualization \n",
    "import seaborn as sns\n",
    "import matplotlib.pyplot as plt\n",
    "%matplotlib inline\n",
    "\n",
    "# sklearn\n",
    "from sklearn.pipeline import Pipeline\n",
    "from sklearn.preprocessing import FunctionTransformer\n",
    "from sklearn.manifold import TSNE\n",
    "\n",
    "#Preprocessing\n",
    "import nltk\n",
    "from nltk.collocations import *\n",
    "from nltk import word_tokenize\n",
    "import string\n",
    "\n",
    "#Data Modeling\n",
    "from sklearn.linear_model import LogisticRegression, SGDClassifier \n",
    "from sklearn.ensemble import RandomForestClassifier \n",
    "from sklearn.tree import DecisionTreeClassifier\n",
    "from sklearn.svm import SVC\n",
    "from sklearn.neural_network import MLPClassifier\n",
    "from sklearn.decomposition import PCA\n",
    "\n",
    "#Data Evaluation \n",
    "from imblearn.over_sampling import RandomOverSampler\n",
    "from imblearn.pipeline import Pipeline as imbpipe\n",
    "from sklearn.metrics import confusion_matrix, ConfusionMatrixDisplay, \\\n",
    "                             accuracy_score, plot_confusion_matrix\n",
    "from sklearn.model_selection import cross_validate, cross_val_score\n",
    "\n",
    "#Word2Vec\n",
    "from gensim.models import Word2Vec\n",
    "\n",
    "# Spacy\n",
    "from scipy import spatial\n",
    "\n",
    "# Ignore any warnings\n",
    "import warnings;\n",
    "warnings.filterwarnings('ignore')"
   ]
  },
  {
   "cell_type": "code",
   "execution_count": 2,
   "id": "7626c16c-e30c-4339-9974-dfb213985ae6",
   "metadata": {},
   "outputs": [],
   "source": [
    "def print_cm_with_labels(y_true, \n",
    "                         y_pred):\n",
    "    '''\n",
    "    Takes the true values and predicted values of a classifier and \n",
    "    plots a confusion matrix (normalized by predictions) using \n",
    "    a list of given display labels.\n",
    "    '''\n",
    "    disp_labels = ['True', 'Fake']\n",
    "    cm = confusion_matrix(y_true, y_pred, normalize=True)\n",
    "    disp = ConfusionMatrixDisplay(confusion_matrix=cm, display_labels=disp_labels)\n",
    "\n",
    "    fig, ax = plt.subplots(figsize=(6,6))\n",
    "    disp.plot(ax=ax)\n",
    "    ax.grid(False)\n",
    "    disp.ax_.set_xticklabels(disp_labels)\n",
    "    return None"
   ]
  },
  {
   "cell_type": "markdown",
   "id": "ad3bdb1d-3a6e-4272-bd4f-fbf8884da2af",
   "metadata": {
    "tags": []
   },
   "source": [
    "## Load and Clean data"
   ]
  },
  {
   "cell_type": "markdown",
   "id": "35e6135f-2341-485f-ad4a-26fef9f32f1a",
   "metadata": {},
   "source": [
    "When working with word embeddings we don't usually have to undergo the whole cleaning of the data as we did with categorical encoding. Here the words will have pre-assigned values, and they are important to add meaning and context to the sentences. What'll I'll do is just shape it enough so it can undergo embedding."
   ]
  },
  {
   "cell_type": "code",
   "execution_count": 56,
   "id": "545d25a2-a25d-4971-ba1f-8bc80e07fa88",
   "metadata": {},
   "outputs": [],
   "source": [
    "col_names = ['ID', 'label', 'statement', 'subject', 'speaker', 'speaker\\'s title', 'state', 'party', 'barely true', 'false', 'half true', 'mostly true', 'pants on fire', 'context', 'justification']\n",
    "raw_train = pd.read_csv('data/train2.tsv', sep='\\t', names=col_names)\n",
    "raw_test = pd.read_csv('data/test2.tsv', sep='\\t', names=col_names)\n",
    "raw_val = pd.read_csv('data/val2.tsv', sep='\\t', names=col_names)"
   ]
  },
  {
   "cell_type": "code",
   "execution_count": 58,
   "id": "aecaf27b-190f-45da-a9e8-4978b2be698c",
   "metadata": {},
   "outputs": [],
   "source": [
    "def drop_na(df):\n",
    "    df = df.dropna(subset=['statement'], axis=0)\n",
    "    return df\n",
    "\n",
    "def drop_duplicated(df):\n",
    "    df = df.drop_duplicates()\n",
    "    return df\n",
    "\n",
    "def label(df):\n",
    "    df['label'] = df['label'].map({'true': 1,\n",
    "                                     'mostly-true': 1,\n",
    "                                     'half-true': 1,\n",
    "                                     'false': 0,\n",
    "                                     'barely-true': 0,\n",
    "                                     'pants-fire': 0})\n",
    "    return df\n",
    "\n",
    "def drop_features(df):\n",
    "    df = df[['statement','label']]\n",
    "    return df\n",
    "\n",
    "def reset_index(df):\n",
    "    df['statement'] = df['statement'].apply(lambda x: x.lower())\n",
    "    return df\n",
    "\n",
    "def remove_punctuation(df):\n",
    "    df['statement'] = df['statement'].apply(lambda x: x.translate(str.maketrans(\"\", \"\", string.punctuation)))\n",
    "    return df\n",
    "\n",
    "def lower_case(df):\n",
    "    df = df.reset_index(drop=True)\n",
    "    return df\n",
    "\n",
    "def tokenize_(df):\n",
    "    df['statement'] = df['statement'].map(word_tokenize)\n",
    "    return df"
   ]
  },
  {
   "cell_type": "code",
   "execution_count": 66,
   "id": "abb362cb-78b2-4446-a5da-6bb5a188eb50",
   "metadata": {},
   "outputs": [],
   "source": [
    "cleaning_pipeline = Pipeline(steps=[\n",
    "    ('drop_na', FunctionTransformer(drop_na)),\n",
    "    ('drop_duplicated', FunctionTransformer(drop_duplicated)),\n",
    "    ('label', FunctionTransformer(label)),\n",
    "    ('drop_features', FunctionTransformer(drop_features)),\n",
    "    ('reset_index', FunctionTransformer(reset_index)),\n",
    "    ('lower_case', FunctionTransformer(lower_case)),\n",
    "    ('remove_punctuation', FunctionTransformer(remove_punctuation)),\n",
    "    ('tokenize_', FunctionTransformer(tokenize_))\n",
    "])"
   ]
  },
  {
   "cell_type": "code",
   "execution_count": 67,
   "id": "c3ba7080-61cb-4821-8d56-09903cd554b9",
   "metadata": {},
   "outputs": [],
   "source": [
    "df_train_clean = cleaning_pipeline.fit_transform(raw_train)\n",
    "df_val_clean = cleaning_pipeline.transform(raw_val)\n",
    "df_test_clean = cleaning_pipeline.transform(raw_test)"
   ]
  },
  {
   "cell_type": "code",
   "execution_count": 68,
   "id": "1388bed9-dcb6-41f2-b3bf-40e38a7dbd56",
   "metadata": {},
   "outputs": [],
   "source": [
    "X_train_clean = df_train_clean['statement']\n",
    "y_train_clean = df_train_clean['label']\n",
    "X_val_clean = df_val_clean['statement']\n",
    "y_val_clean = df_val_clean['label']\n",
    "X_test_clean = df_test_clean['statement']\n",
    "y_test_clean = df_test_clean['label']"
   ]
  },
  {
   "cell_type": "code",
   "execution_count": 69,
   "id": "4674a902-71ab-4fd7-abe4-821f2e5e213c",
   "metadata": {},
   "outputs": [
    {
     "data": {
      "text/html": [
       "<div>\n",
       "<style scoped>\n",
       "    .dataframe tbody tr th:only-of-type {\n",
       "        vertical-align: middle;\n",
       "    }\n",
       "\n",
       "    .dataframe tbody tr th {\n",
       "        vertical-align: top;\n",
       "    }\n",
       "\n",
       "    .dataframe thead th {\n",
       "        text-align: right;\n",
       "    }\n",
       "</style>\n",
       "<table border=\"1\" class=\"dataframe\">\n",
       "  <thead>\n",
       "    <tr style=\"text-align: right;\">\n",
       "      <th></th>\n",
       "      <th>statement</th>\n",
       "      <th>label</th>\n",
       "    </tr>\n",
       "  </thead>\n",
       "  <tbody>\n",
       "    <tr>\n",
       "      <th>0</th>\n",
       "      <td>[says, the, annies, list, political, group, su...</td>\n",
       "      <td>0</td>\n",
       "    </tr>\n",
       "    <tr>\n",
       "      <th>1</th>\n",
       "      <td>[when, did, the, decline, of, coal, start, it,...</td>\n",
       "      <td>1</td>\n",
       "    </tr>\n",
       "    <tr>\n",
       "      <th>2</th>\n",
       "      <td>[hillary, clinton, agrees, with, john, mccain,...</td>\n",
       "      <td>1</td>\n",
       "    </tr>\n",
       "    <tr>\n",
       "      <th>3</th>\n",
       "      <td>[health, care, reform, legislation, is, likely...</td>\n",
       "      <td>0</td>\n",
       "    </tr>\n",
       "    <tr>\n",
       "      <th>4</th>\n",
       "      <td>[the, economic, turnaround, started, at, the, ...</td>\n",
       "      <td>1</td>\n",
       "    </tr>\n",
       "  </tbody>\n",
       "</table>\n",
       "</div>"
      ],
      "text/plain": [
       "                                           statement  label\n",
       "0  [says, the, annies, list, political, group, su...      0\n",
       "1  [when, did, the, decline, of, coal, start, it,...      1\n",
       "2  [hillary, clinton, agrees, with, john, mccain,...      1\n",
       "3  [health, care, reform, legislation, is, likely...      0\n",
       "4  [the, economic, turnaround, started, at, the, ...      1"
      ]
     },
     "execution_count": 69,
     "metadata": {},
     "output_type": "execute_result"
    }
   ],
   "source": [
    "df_train_clean.head()"
   ]
  },
  {
   "cell_type": "code",
   "execution_count": 70,
   "id": "657383e0-4942-4dd6-aca4-7022736acaa4",
   "metadata": {},
   "outputs": [],
   "source": [
    "# Name a variable for the W2vec model\n",
    "X_train_w2v = X_train_clean\n",
    "\n",
    "# Creates the w2v model\n",
    "w2v_model = Word2Vec(X_train_w2v, window=5, min_count=1, workers=4)\n",
    "w2v_model.train(X_train_w2v, total_examples=w2v_model.corpus_count, epochs=w2v_model.epochs)\n",
    "\n",
    "wv = w2v_model.wv"
   ]
  },
  {
   "cell_type": "code",
   "execution_count": 71,
   "id": "d7049353-242e-42ae-8681-fa2b6663c3f8",
   "metadata": {},
   "outputs": [
    {
     "name": "stdout",
     "output_type": "stream",
     "text": [
      "the: 0\n",
      "in: 1\n",
      "of: 2\n",
      "to: 3\n",
      "a: 4\n"
     ]
    }
   ],
   "source": [
    "# We have a dictionary with all words in the train data\n",
    "for word, value in w2v_model.wv.key_to_index.items():\n",
    "    if value < 5:\n",
    "        print(f'{word}: {value}')"
   ]
  },
  {
   "cell_type": "code",
   "execution_count": 72,
   "id": "b065d81b-3323-4551-acfe-c8a474e2e3b2",
   "metadata": {},
   "outputs": [
    {
     "data": {
      "text/plain": [
       "13453"
      ]
     },
     "execution_count": 72,
     "metadata": {},
     "output_type": "execute_result"
    }
   ],
   "source": [
    "# Number of unique words in the train data\n",
    "vocab_len = len(w2v_model.wv)\n",
    "vocab_len"
   ]
  },
  {
   "cell_type": "code",
   "execution_count": 73,
   "id": "55e87d5c-45c7-48ef-a9c3-d0dc8a192ab9",
   "metadata": {},
   "outputs": [
    {
     "data": {
      "text/plain": [
       "100"
      ]
     },
     "execution_count": 73,
     "metadata": {},
     "output_type": "execute_result"
    }
   ],
   "source": [
    "# Transforms each word in an array of 100 dimensions\n",
    "X = w2v_model.wv[w2v_model.wv.key_to_index]\n",
    "len(X[0])"
   ]
  },
  {
   "cell_type": "code",
   "execution_count": 74,
   "id": "a33684ec-99cf-4134-b22d-e63defa62f21",
   "metadata": {},
   "outputs": [],
   "source": [
    "# Use PCA to reduce the dimensionality of the array from 100 to 2\n",
    "pca = PCA(n_components=2)\n",
    "result = pca.fit_transform(X)"
   ]
  },
  {
   "cell_type": "code",
   "execution_count": 75,
   "id": "5e4d586f-d9c5-4591-a882-4dffec5a882b",
   "metadata": {},
   "outputs": [
    {
     "data": {
      "image/png": "[encoded data removed]",
      "text/plain": [
       "<Figure size 1440x720 with 1 Axes>"
      ]
     },
     "metadata": {
      "needs_background": "light"
     },
     "output_type": "display_data"
    }
   ],
   "source": [
    "# Vizualize the first 50 words in the dictionary in 2 dimensions\n",
    "fig, ax = plt.subplots(figsize=(20,10))\n",
    "plt.scatter(result[:100, 0], result[:100, 1])\n",
    "words = list(w2v_model.wv.key_to_index)\n",
    "for i, word in enumerate(words[:100]):\n",
    "    plt.annotate(word, xy=(result[i, 0], result[i, 1]))"
   ]
  },
  {
   "cell_type": "markdown",
   "id": "3465172b-0e11-4383-add1-3c9384e33913",
   "metadata": {},
   "source": [
    "#### Examinig Vectors"
   ]
  },
  {
   "cell_type": "code",
   "execution_count": 76,
   "id": "6b50fdbd-66f7-414b-8258-39421dc22a14",
   "metadata": {},
   "outputs": [],
   "source": [
    "# Create a function to show most similar words, or are closest to the given word\n",
    "def show_most_similar(word, length=10):\n",
    "    return wv.most_similar(word, topn=length)"
   ]
  },
  {
   "cell_type": "code",
   "execution_count": 78,
   "id": "f0e5179a-82f0-4385-9d8e-9632c8b4f374",
   "metadata": {},
   "outputs": [
    {
     "data": {
      "text/plain": [
       "[('donald', 0.924665093421936),\n",
       " ('saysabout', 0.9229723811149597),\n",
       " ('trumps', 0.900431752204895),\n",
       " ('sanders', 0.8915305137634277),\n",
       " ('feinstein', 0.8803153038024902)]"
      ]
     },
     "execution_count": 78,
     "metadata": {},
     "output_type": "execute_result"
    }
   ],
   "source": [
    "show_most_similar('trump')[:5]"
   ]
  },
  {
   "cell_type": "code",
   "execution_count": 79,
   "id": "89878a2c-931d-41a1-a221-08dd077e1864",
   "metadata": {},
   "outputs": [
    {
     "data": {
      "text/plain": [
       "[('iraq', 0.9224121570587158),\n",
       " ('ii', 0.9221916794776917),\n",
       " ('came', 0.9157782793045044),\n",
       " ('beginning', 0.9038121700286865),\n",
       " ('ever', 0.8994254469871521)]"
      ]
     },
     "execution_count": 79,
     "metadata": {},
     "output_type": "execute_result"
    }
   ],
   "source": [
    "show_most_similar('war')[:5]"
   ]
  },
  {
   "cell_type": "code",
   "execution_count": 80,
   "id": "bf68969a-576c-4276-b318-4a67249f0a68",
   "metadata": {},
   "outputs": [
    {
     "data": {
      "text/plain": [
       "[('cycle', 0.9358399510383606),\n",
       " ('november', 0.9349574446678162),\n",
       " ('during', 0.930069625377655),\n",
       " ('term', 0.9214144945144653),\n",
       " ('2012', 0.9203440546989441)]"
      ]
     },
     "execution_count": 80,
     "metadata": {},
     "output_type": "execute_result"
    }
   ],
   "source": [
    "show_most_similar('election')[:5]"
   ]
  },
  {
   "cell_type": "code",
   "execution_count": 81,
   "id": "d34cbfe8-fc01-4386-8755-dc1b29e62d60",
   "metadata": {},
   "outputs": [
    {
     "data": {
      "text/plain": [
       "[('barack', 0.968543291091919),\n",
       " ('administration', 0.9226271510124207),\n",
       " ('thensen', 0.9048345685005188),\n",
       " ('contrast', 0.8628866672515869),\n",
       " ('hussein', 0.862370491027832)]"
      ]
     },
     "execution_count": 81,
     "metadata": {},
     "output_type": "execute_result"
    }
   ],
   "source": [
    "show_most_similar('president')[:5]"
   ]
  },
  {
   "cell_type": "code",
   "execution_count": 82,
   "id": "3a4edbf5-ff09-4da6-ac30-e0779427c74c",
   "metadata": {},
   "outputs": [
    {
     "data": {
      "text/plain": [
       "[('affordable', 0.9488025903701782),\n",
       " ('uncompensated', 0.9461062550544739),\n",
       " ('preventive', 0.9250509142875671),\n",
       " ('ration', 0.9246290326118469),\n",
       " ('intensive', 0.9239700436592102)]"
      ]
     },
     "execution_count": 82,
     "metadata": {},
     "output_type": "execute_result"
    }
   ],
   "source": [
    "show_most_similar('health')[:5]"
   ]
  },
  {
   "cell_type": "code",
   "execution_count": 83,
   "id": "ca4c169e-2412-4327-8807-f1e48e5eca14",
   "metadata": {},
   "outputs": [
    {
     "data": {
      "text/plain": [
       "['says', 'the', 'annies', 'list', 'political']"
      ]
     },
     "execution_count": 83,
     "metadata": {},
     "output_type": "execute_result"
    }
   ],
   "source": [
    "# Create list with all words\n",
    "X_train_tokenized = word_tokenize(' '.join(X_train_w2v.apply(lambda x: ' '.join(x))))\n",
    "X_train_tokenized[:5]"
   ]
  },
  {
   "cell_type": "code",
   "execution_count": 84,
   "id": "a8c7ce96-595c-4b01-a963-0a382666f138",
   "metadata": {},
   "outputs": [
    {
     "data": {
      "text/plain": [
       "183973"
      ]
     },
     "execution_count": 84,
     "metadata": {},
     "output_type": "execute_result"
    }
   ],
   "source": [
    "len(X_train_tokenized)"
   ]
  },
  {
   "cell_type": "code",
   "execution_count": 85,
   "id": "ce5b1d69-7948-4cc3-9245-f337711087b8",
   "metadata": {},
   "outputs": [],
   "source": [
    "# Use BigramAssocMeasures from nltk\n",
    "bigram_measures = nltk.collocations.BigramAssocMeasures()\n",
    "\n",
    "finder = BigramCollocationFinder.from_words(X_train_tokenized)\n",
    "bigrams = finder.score_ngrams(bigram_measures.raw_freq)"
   ]
  },
  {
   "cell_type": "code",
   "execution_count": 86,
   "id": "e90686af-7d14-4b2d-a4eb-9f6e5ef3def6",
   "metadata": {},
   "outputs": [
    {
     "data": {
      "text/plain": [
       "[(('in', 'the'), 0.00746305164344768),\n",
       " (('of', 'the'), 0.005669310170514152),\n",
       " (('percent', 'of'), 0.003158072108407212),\n",
       " (('health', 'care'), 0.0021796676686252872),\n",
       " (('to', 'the'), 0.0019296309784587956),\n",
       " (('more', 'than'), 0.0019241953982377848),\n",
       " (('for', 'the'), 0.0017393856707234214),\n",
       " (('on', 'the'), 0.0016632875476292716),\n",
       " (('the', 'united'), 0.0016198029058611862),\n",
       " (('united', 'states'), 0.0016198029058611862),\n",
       " (('barack', 'obama'), 0.0015273980421040044),\n",
       " (('the', 'state'), 0.0013317171541476194),\n",
       " (('is', 'the'), 0.0011577785870752774),\n",
       " (('out', 'of'), 0.0010436314024340528),\n",
       " (('we', 'have'), 0.0010327602419920314),\n",
       " (('the', 'last'), 0.0010110179211079886),\n",
       " (('the', 'us'), 0.0009675332793399031),\n",
       " (('says', 'the'), 0.0009403553782348497),\n",
       " (('and', 'the'), 0.0009294842177928283),\n",
       " (('hillary', 'clinton'), 0.0009240486375718176)]"
      ]
     },
     "execution_count": 86,
     "metadata": {},
     "output_type": "execute_result"
    }
   ],
   "source": [
    "# Display the top 20 bigrams\n",
    "bigrams[:20]"
   ]
  },
  {
   "cell_type": "code",
   "execution_count": null,
   "id": "8539c221-b512-428b-8bad-32f929a6f100",
   "metadata": {},
   "outputs": [],
   "source": []
  },
  {
   "cell_type": "code",
   "execution_count": 38,
   "id": "18dc445b-fd52-4916-adc0-8b0945b4c6d0",
   "metadata": {},
   "outputs": [
    {
     "data": {
      "text/plain": [
       "array([list(['Says', 'the', 'Annies', 'List', 'political', 'group', 'supports', 'third-trimester', 'abortions', 'on', 'demand', '.']),\n",
       "       list(['When', 'did', 'the', 'decline', 'of', 'coal', 'start', '?', 'It', 'started', 'when', 'natural', 'gas', 'took', 'off', 'that', 'started', 'to', 'begin', 'in', '(', 'President', 'George', 'W.', ')', 'Bushs', 'administration', '.']),\n",
       "       list(['Hillary', 'Clinton', 'agrees', 'with', 'John', 'McCain', '``', 'by', 'voting', 'to', 'give', 'George', 'Bush', 'the', 'benefit', 'of', 'the', 'doubt', 'on', 'Iran', '.', \"''\"]),\n",
       "       ...,\n",
       "       list(['Says', 'an', 'alternative', 'to', 'Social', 'Security', 'that', 'operates', 'in', 'Galveston', 'County', ',', 'Texas', ',', 'has', 'meant', 'that', 'participants', 'will', 'retire', 'with', 'a', 'whole', 'lot', 'more', 'money', 'than', 'under', 'Social', 'Security', '.']),\n",
       "       list(['On', 'lifting', 'the', 'U.S.', 'Cuban', 'embargo', 'and', 'allowing', 'travel', 'to', 'Cuba', '.']),\n",
       "       list(['The', 'Department', 'of', 'Veterans', 'Affairs', 'has', 'a', 'manual', 'out', 'there', 'telling', 'our', 'veterans', 'stuff', 'like', ',', \"'Are\", 'you', 'really', 'of', 'value', 'to', 'your', 'community', '?', \"'\", 'You', 'know', ',', 'encouraging', 'them', 'to', 'commit', 'suicide', '.'])],\n",
       "      dtype=object)"
      ]
     },
     "execution_count": 38,
     "metadata": {},
     "output_type": "execute_result"
    }
   ],
   "source": [
    "# target = y_train_clean\n",
    "# data = X_train_clean.map(word_tokenize).values"
   ]
  },
  {
   "cell_type": "markdown",
   "id": "4d168723-6f32-4a23-95ff-3154da25c975",
   "metadata": {},
   "source": [
    "### Glove"
   ]
  },
  {
   "cell_type": "markdown",
   "id": "32d53d53-5fa6-4856-8660-e329e856b67a",
   "metadata": {},
   "source": [
    "GloVe is an unsupervised learning algorithm for obtaining vector representations for words. It was developed as an opens source project at Stanford University. You can find their project [here](https://nlp.stanford.edu/projects/glove/) and the citation in the references."
   ]
  },
  {
   "cell_type": "code",
   "execution_count": 96,
   "id": "d72c09d6-ed08-4dfe-a6be-917e787f4844",
   "metadata": {},
   "outputs": [
    {
     "name": "stdout",
     "output_type": "stream",
     "text": [
      "There are 13453 unique tokens in the dataset.\n"
     ]
    }
   ],
   "source": [
    "total_vocabulary = set(word for headline in X_train_clean.values for word in headline)\n",
    "print('There are {} unique tokens in the dataset.'.format(len(total_vocabulary)))"
   ]
  },
  {
   "cell_type": "code",
   "execution_count": 89,
   "id": "d55efe53-bdff-4bf9-b382-46306fa8233a",
   "metadata": {},
   "outputs": [],
   "source": [
    "# Creating a glove dictionary with 50 dimensions\n",
    "glove_50 = {}\n",
    "with open('./embeddings/glove.6B.50d.txt', 'r', encoding='utf-8') as f:\n",
    "    for line in f:\n",
    "        parts = line.split()\n",
    "        word = parts[0]\n",
    "        if word in total_vocabulary:\n",
    "            vector = np.array(parts[1:], dtype=np.float32)\n",
    "            glove_50[word] = vector"
   ]
  },
  {
   "cell_type": "code",
   "execution_count": 94,
   "id": "eea8ca03-00ff-41f9-b054-35f0171e9b27",
   "metadata": {},
   "outputs": [
    {
     "data": {
      "text/plain": [
       "array([ 0.45769  ,  0.85191  ,  0.31098  ,  1.3478   , -0.021703 ,\n",
       "       -0.05467  , -0.17405  , -0.71014  , -0.57441  ,  0.49786  ,\n",
       "       -0.89382  ,  0.58661  , -0.77013  ,  0.23779  ,  0.37652  ,\n",
       "        1.3668   ,  0.34667  ,  0.082452 ,  0.17561  ,  0.056062 ,\n",
       "        0.50818  ,  0.33751  , -0.8517   ,  0.034619 , -0.57237  ,\n",
       "       -1.1534   , -0.54159  ,  0.24328  ,  0.018737 , -0.58645  ,\n",
       "        0.15261  ,  0.53372  , -0.27601  ,  0.065097 ,  0.3968   ,\n",
       "       -0.62892  ,  0.0046726,  0.081347 , -0.32579  , -0.60933  ,\n",
       "       -0.36464  ,  0.17591  ,  0.0050718,  1.3606   , -0.78583  ,\n",
       "        0.083121 , -0.75184  , -0.74226  ,  0.77053  ,  0.26394  ],\n",
       "      dtype=float32)"
      ]
     },
     "execution_count": 94,
     "metadata": {},
     "output_type": "execute_result"
    }
   ],
   "source": [
    "# Glove 50d representation of the word 'trump'\n",
    "glove_50['trump']"
   ]
  },
  {
   "cell_type": "code",
   "execution_count": 91,
   "id": "968bcbce-066e-4e12-a087-401e90ffee29",
   "metadata": {},
   "outputs": [],
   "source": [
    "# Creating a glove dictionary with 200 dimensions\n",
    "glove_200 = {}\n",
    "with open(\"./embeddings/glove.6B.200d.txt\", 'r', encoding='utf-8') as f:\n",
    "    for line in f:\n",
    "        parts = line.split()\n",
    "        word = parts[0]\n",
    "        if word in total_vocabulary:\n",
    "            vector = np.array(parts[1:], dtype=np.float32)\n",
    "            glove_200[word] = vector"
   ]
  },
  {
   "cell_type": "code",
   "execution_count": 95,
   "id": "bac9b048-c196-4983-b0e5-42006d270fc3",
   "metadata": {},
   "outputs": [
    {
     "data": {
      "text/plain": [
       "array([-8.0178e-01,  1.6873e-01,  1.7636e-01, -1.5029e-01, -1.0933e-01,\n",
       "        3.5040e-01,  8.3435e-01,  1.8739e-01,  1.8220e-03,  4.9690e-01,\n",
       "       -2.6810e-01, -4.6612e-01, -3.8275e-02, -1.4349e-01,  5.2981e-02,\n",
       "       -7.2477e-02, -4.8277e-01,  4.6729e-01,  1.3453e-01,  2.2992e-02,\n",
       "        1.7057e-01,  9.6488e-01,  5.5291e-02,  6.1712e-02, -5.8483e-02,\n",
       "       -9.0204e-02, -3.6331e-01, -2.8411e-01,  3.8108e-01, -6.8041e-01,\n",
       "       -5.2522e-01,  3.1860e-01, -2.8973e-01,  1.8741e-01, -2.6651e-02,\n",
       "        4.2033e-03, -1.4390e-01, -1.8431e-01, -6.2648e-02,  2.4534e-01,\n",
       "        2.0507e-02, -1.6691e-02, -5.5270e-02, -1.6432e-01,  4.6906e-02,\n",
       "        5.8332e-01,  2.2994e-01, -5.8691e-02, -2.6903e-01,  6.6086e-01,\n",
       "        4.8328e-02, -6.5918e-04, -7.2490e-02,  1.4336e-01,  1.5273e-01,\n",
       "       -1.7361e-01,  1.9548e-01, -5.5141e-02,  2.6366e-01, -7.2816e-02,\n",
       "       -2.2922e-01,  1.4436e+00, -5.1534e-01,  4.7246e-01,  1.9811e-01,\n",
       "       -1.8947e-01, -1.1231e+00,  7.2710e-01,  5.5243e-01,  2.0505e-01,\n",
       "        5.7535e-01, -1.6123e-01, -4.7478e-02,  1.2290e-01,  3.3613e-01,\n",
       "        1.1053e-02, -5.8856e-01, -4.6139e-01, -1.7229e-01, -3.8029e-01,\n",
       "       -7.3620e-01,  4.8524e-02,  7.1730e-01, -2.9864e-01, -1.6281e-01,\n",
       "       -9.0011e-02, -3.7875e-01,  4.1673e-01,  3.6770e-01, -7.0327e-01,\n",
       "       -4.2947e-01,  1.4684e+00, -4.9713e-02, -1.5636e-01,  2.3302e-01,\n",
       "        9.1560e-01, -2.3486e-01,  2.4702e-01, -5.4125e-03, -8.4411e-02,\n",
       "       -6.0271e-01, -2.8285e-01,  7.5485e-04, -3.5552e-02,  1.9023e-01,\n",
       "       -5.6171e-01,  5.4115e-02,  6.1389e-01,  1.2087e+00,  8.4550e-01,\n",
       "        2.1311e-01, -7.2152e-01, -1.5225e-01, -2.8637e-01, -5.4473e-01,\n",
       "       -2.9275e-01,  9.3767e-02,  3.5381e-01, -3.7379e-01,  5.8523e-01,\n",
       "        1.5104e-01, -6.8997e-01, -3.2063e-01, -4.6260e-01,  1.8622e-01,\n",
       "       -1.9903e-01, -1.0752e+00, -1.8150e-01,  1.7604e-01, -3.0042e-02,\n",
       "       -3.3802e-01, -3.5869e-01, -6.2829e-01,  5.2445e-02, -2.9850e-01,\n",
       "        1.4193e-01,  1.6852e-01,  7.8915e-02,  5.1022e-01, -5.2687e-02,\n",
       "        7.5811e-01,  5.0247e-01,  4.0064e-01, -3.8000e-01,  2.2471e-01,\n",
       "       -1.1290e-01,  4.7423e-01,  1.3341e-01,  1.7079e-01,  5.2376e-01,\n",
       "        1.0266e-01, -3.7716e-01, -5.9695e-01,  4.9145e-01, -1.5632e-01,\n",
       "        2.6830e-01, -8.5904e-01, -1.1375e-01,  2.4929e-01,  2.8308e-02,\n",
       "       -3.1994e-02, -3.5604e-01,  3.7366e-01, -6.9707e-01, -1.7506e-01,\n",
       "       -5.0082e-01,  7.8141e-02,  4.1880e-02, -9.9760e-02, -2.2828e-01,\n",
       "        3.1090e-01,  6.4507e-01,  5.9387e-01,  4.5993e-02,  9.5467e-01,\n",
       "        1.2773e-01, -3.1422e-01,  2.2987e-01, -3.2544e-01,  7.3324e-01,\n",
       "       -4.1646e-03,  4.5326e-01,  1.7628e-01,  7.3228e-01,  2.1803e-01,\n",
       "        9.2418e-01,  5.0979e-01, -1.8969e-01, -1.9977e-01, -7.2911e-01,\n",
       "        6.6389e-01,  7.4532e-01, -5.9216e-01, -3.0000e-01, -1.5669e-01,\n",
       "        4.3606e-01, -1.0562e-01,  7.0449e-01,  4.6038e-01, -2.6025e-01],\n",
       "      dtype=float32)"
      ]
     },
     "execution_count": 95,
     "metadata": {},
     "output_type": "execute_result"
    }
   ],
   "source": [
    "# Glove 200 representation of the word 'trump'\n",
    "glove_200['trump']"
   ]
  },
  {
   "cell_type": "markdown",
   "id": "99fcd993-80c7-4bdc-9c93-2d74d83da3a4",
   "metadata": {},
   "source": [
    "Scipy allows to use euclidean distance to add or subtract words in the multi dimensional space. I didn't use this for any models, but it's an interesting thing to see:"
   ]
  },
  {
   "cell_type": "code",
   "execution_count": 104,
   "id": "66609fc0-8477-4537-b0d5-e8e0864304af",
   "metadata": {},
   "outputs": [],
   "source": [
    "def find_closest_embeddings(embedding, cutoff=25):\n",
    "    return sorted(glove_200.keys(), key=lambda token: spatial.distance.euclidean(glove_200[token], embedding))"
   ]
  },
  {
   "cell_type": "code",
   "execution_count": 116,
   "id": "530ff9fb-4920-4fd8-a29f-6bdd2996fd9a",
   "metadata": {},
   "outputs": [
    {
     "name": "stdout",
     "output_type": "stream",
     "text": [
      "['woman', 'president', 'man', 'wife', 'mother']\n"
     ]
    }
   ],
   "source": [
    "print(find_closest_embeddings(\n",
    "    glove_200[\"president\"] - glove_200[\"obama\"] + glove_200[\"woman\"]\n",
    ")[:5])"
   ]
  },
  {
   "cell_type": "markdown",
   "id": "3097f619-db4d-45d2-bb4a-056fc0c6ec98",
   "metadata": {},
   "source": [
    "### Tsne"
   ]
  },
  {
   "cell_type": "markdown",
   "id": "96531e41-85bc-43b4-9a27-6e2bbbca4d16",
   "metadata": {},
   "source": [
    "Tsne (t-distributed stochastic neighbourhood embedding), is a method for dimensionality reduction, like PCA, that tries to get a point from a higher dimension to a lower one while preserving it's neighbours.I found their differences easily discribed in [this](https://www.geeksforgeeks.org/difference-between-pca-vs-t-sne/) small article."
   ]
  },
  {
   "cell_type": "code",
   "execution_count": 119,
   "id": "044a40c3-3bab-4f7e-b3d3-759377e27c66",
   "metadata": {},
   "outputs": [],
   "source": [
    "tsne = TSNE(n_components=2, random_state=0)\n",
    "\n",
    "# Creates list of words and list of arrays of glove dictionary\n",
    "tokens = list(glove_200.keys())\n",
    "vectors = [glove_200[token] for token in tokens]\n",
    "# Reduces dimensionality of data\n",
    "Y = tsne.fit_transform(vectors[:200])"
   ]
  },
  {
   "cell_type": "code",
   "execution_count": 124,
   "id": "c0e12631-cdb3-4d03-b6b2-270b0f91a7bc",
   "metadata": {},
   "outputs": [
    {
     "data": {
      "image/png": "[encoded data removed]",
      "text/plain": [
       "<Figure size 1440x720 with 1 Axes>"
      ]
     },
     "metadata": {
      "needs_background": "light"
     },
     "output_type": "display_data"
    }
   ],
   "source": [
    "fig, ax = plt.subplots(figsize=(20,10))\n",
    "plt.scatter(Y[30:, 0], Y[30:, 1])\n",
    "for label, x, y in zip(tokens, Y[30:, 0], Y[30:, 1]):\n",
    "    plt.annotate(label, xy=(x, y), xytext=(0, 0), textcoords='offset points')\n",
    "plt.show()"
   ]
  },
  {
   "cell_type": "markdown",
   "id": "49f22f70-fec3-471e-8958-df20de17c705",
   "metadata": {},
   "source": [
    "### Creating Mean Word Embeddings"
   ]
  },
  {
   "cell_type": "markdown",
   "id": "ab4e10ba-2ae4-43d8-a7e2-d48318708589",
   "metadata": {},
   "source": [
    "He're I'm creating a mean embedding vectorizer class, so I can use it in scikit-learn pipelines. I'll create one for the 50 dimension glove, and one for the 200 dimension one, and will run a few models in a pipeline to find their accuracy.<br />\n",
    "Code for this part was inspired by the [Flatiron material](https://github.com/learn-co-curriculum/dsc-classification-with-word-embeddings-codealong/tree/master) in the subject."
   ]
  },
  {
   "cell_type": "code",
   "execution_count": 127,
   "id": "8e285f4f-fdca-4562-bd71-4ec1a212eb64",
   "metadata": {},
   "outputs": [],
   "source": [
    "class W2vVectorizer_50(object):\n",
    "    \n",
    "    def __init__(self, w2v):\n",
    "        # Takes in a dictionary of words and vectors as input\n",
    "        self.w2v = w2v\n",
    "        if len(w2v) == 0:\n",
    "            self.dimensions = 0\n",
    "        else:\n",
    "            self.dimensions = len(w2v[next(iter(glove_50))])\n",
    "    \n",
    "    # Note: Even though it doesn't do anything, it's required that this object implement a fit method or else\n",
    "    # it can't be used in a scikit-learn pipeline  \n",
    "    def fit(self, X, y):\n",
    "        return self\n",
    "            \n",
    "    def transform(self, X):\n",
    "        return np.array([\n",
    "            np.mean([self.w2v[w] for w in words if w in self.w2v]\n",
    "                   or [np.zeros(self.dimensions)], axis=0) for words in X])"
   ]
  },
  {
   "cell_type": "code",
   "execution_count": 128,
   "id": "f8198697-69a3-4247-8451-61f205dceb7d",
   "metadata": {},
   "outputs": [],
   "source": [
    "class W2vVectorizer_200(object):\n",
    "    \n",
    "    def __init__(self, w2v):\n",
    "        # Takes in a dictionary of words and vectors as input\n",
    "        self.w2v = w2v\n",
    "        if len(w2v) == 0:\n",
    "            self.dimensions = 0\n",
    "        else:\n",
    "            self.dimensions = len(w2v[next(iter(glove_200))])\n",
    "    \n",
    "    # Note: Even though it doesn't do anything, it's required that this object implement a fit method or else\n",
    "    # it can't be used in a scikit-learn pipeline  \n",
    "    def fit(self, X, y):\n",
    "        return self\n",
    "            \n",
    "    def transform(self, X):\n",
    "        return np.array([\n",
    "            np.mean([self.w2v[w] for w in words if w in self.w2v]\n",
    "                   or [np.zeros(self.dimensions)], axis=0) for words in X])"
   ]
  },
  {
   "cell_type": "code",
   "execution_count": 131,
   "id": "1a3cb7ae-7e2a-4c8d-9cf5-40402b5f6a19",
   "metadata": {},
   "outputs": [],
   "source": [
    "rf_50 =  Pipeline([('Word2Vec Vectorizer', W2vVectorizer_50(glove_50)),\n",
    "              ('Random Forest', RandomForestClassifier(n_estimators=100, criterion='entropy', max_depth=22, ccp_alpha=0.1, verbose=True))])\n",
    "svc_50 = Pipeline([('Word2Vec Vectorizer', W2vVectorizer_50(glove_50)),\n",
    "                ('Support Vector Machine', SVC())])\n",
    "lr_50 = Pipeline([('Word2Vec Vectorizer', W2vVectorizer_50(glove_50)),\n",
    "              ('Logistic Regression', LogisticRegression(C=0.1, solver='liblinear'))])\n",
    "sgd_50 = Pipeline([('Vectorizer', W2vVectorizer_50(glove_50)),\n",
    "                ('Stochastic Gradient Descent', SGDClassifier(fit_intercept=False, early_stopping=True, alpha=0.01, loss='log'))])"
   ]
  },
  {
   "cell_type": "code",
   "execution_count": 133,
   "id": "f5728817-6f33-4f82-a244-9240e3f144fb",
   "metadata": {},
   "outputs": [],
   "source": [
    "models_50 = [('Random Forest', rf_50),\n",
    "          ('Support Vector Machine', svc_50),\n",
    "          ('Logistic Regression', lr_50),\n",
    "          ('Stochastic Gradient Descent', sgd_50)]"
   ]
  },
  {
   "cell_type": "code",
   "execution_count": 136,
   "id": "a4788330-64ce-4c52-b0d1-764850c97a55",
   "metadata": {},
   "outputs": [
    {
     "name": "stderr",
     "output_type": "stream",
     "text": [
      "[Parallel(n_jobs=1)]: Using backend SequentialBackend with 1 concurrent workers.\n",
      "[Parallel(n_jobs=1)]: Done 100 out of 100 | elapsed:    5.2s finished\n",
      "[Parallel(n_jobs=1)]: Using backend SequentialBackend with 1 concurrent workers.\n",
      "[Parallel(n_jobs=1)]: Done 100 out of 100 | elapsed:    0.0s finished\n",
      "[Parallel(n_jobs=1)]: Using backend SequentialBackend with 1 concurrent workers.\n",
      "[Parallel(n_jobs=1)]: Done 100 out of 100 | elapsed:    5.2s finished\n",
      "[Parallel(n_jobs=1)]: Using backend SequentialBackend with 1 concurrent workers.\n",
      "[Parallel(n_jobs=1)]: Done 100 out of 100 | elapsed:    0.0s finished\n"
     ]
    }
   ],
   "source": [
    "scores_50 = [(name, cross_val_score(model, X_train_clean.values, y_train_clean, cv=2).mean()) for name, model, in models_50]"
   ]
  },
  {
   "cell_type": "code",
   "execution_count": 139,
   "id": "5faad0bd-0b77-49ab-84be-aecec7e06245",
   "metadata": {},
   "outputs": [
    {
     "data": {
      "text/plain": [
       "[('Random Forest', 0.56171875),\n",
       " ('Support Vector Machine', 0.59794921875),\n",
       " ('Logistic Regression', 0.59755859375),\n",
       " ('Stochastic Gradient Descent', 0.5876953125)]"
      ]
     },
     "execution_count": 139,
     "metadata": {},
     "output_type": "execute_result"
    }
   ],
   "source": [
    "scores_50"
   ]
  },
  {
   "cell_type": "markdown",
   "id": "a215394f-c5e3-4fba-9e25-e0123ce0f5cf",
   "metadata": {},
   "source": [
    "The accuracy of these models are no better than the ones I've done with categorical encoding."
   ]
  },
  {
   "cell_type": "code",
   "execution_count": 137,
   "id": "cfd2838d-e347-4992-a3d8-44da0d186044",
   "metadata": {},
   "outputs": [],
   "source": [
    "rf_200 =  Pipeline([('Word2Vec Vectorizer', W2vVectorizer_200(glove_200)),\n",
    "              ('Random Forest', RandomForestClassifier(n_estimators=100, criterion='entropy', max_depth=22, ccp_alpha=0.1, verbose=True))])\n",
    "svc_200 = Pipeline([('Word2Vec Vectorizer', W2vVectorizer_200(glove_200)),\n",
    "                ('Support Vector Machine', SVC())])\n",
    "lr_200 = Pipeline([('Word2Vec Vectorizer', W2vVectorizer_200(glove_200)),\n",
    "              ('Logistic Regression', LogisticRegression(C=0.1, solver='liblinear'))])\n",
    "sgd_200 = Pipeline([('Vectorizer', W2vVectorizer_200(glove_200)),\n",
    "                ('Stochastic Gradient Descent', SGDClassifier(fit_intercept=False, early_stopping=True, alpha=0.01, loss='log'))])"
   ]
  },
  {
   "cell_type": "code",
   "execution_count": 138,
   "id": "f0f29c60-d7c5-4e53-8308-aef61ae24b9f",
   "metadata": {},
   "outputs": [],
   "source": [
    "models_200 = [('Random Forest', rf_200),\n",
    "          ('Support Vector Machine', svc_200),\n",
    "          ('Logistic Regression', lr_200),\n",
    "          ('Stochastic Gradient Descent', sgd_200)]"
   ]
  },
  {
   "cell_type": "code",
   "execution_count": 140,
   "id": "9e7ccd8c-4b7e-4a45-bdbb-5a9bdc4d2eb4",
   "metadata": {},
   "outputs": [
    {
     "name": "stderr",
     "output_type": "stream",
     "text": [
      "[Parallel(n_jobs=1)]: Using backend SequentialBackend with 1 concurrent workers.\n",
      "[Parallel(n_jobs=1)]: Done 100 out of 100 | elapsed:    9.8s finished\n",
      "[Parallel(n_jobs=1)]: Using backend SequentialBackend with 1 concurrent workers.\n",
      "[Parallel(n_jobs=1)]: Done 100 out of 100 | elapsed:    0.0s finished\n",
      "[Parallel(n_jobs=1)]: Using backend SequentialBackend with 1 concurrent workers.\n",
      "[Parallel(n_jobs=1)]: Done 100 out of 100 | elapsed:    9.5s finished\n",
      "[Parallel(n_jobs=1)]: Using backend SequentialBackend with 1 concurrent workers.\n",
      "[Parallel(n_jobs=1)]: Done 100 out of 100 | elapsed:    0.0s finished\n"
     ]
    }
   ],
   "source": [
    "scores_200 = [(name, cross_val_score(model, X_train_clean.values, y_train_clean, cv=2).mean()) for name, model, in models_200]"
   ]
  },
  {
   "cell_type": "code",
   "execution_count": 141,
   "id": "9c0f2a62-a2f6-4630-92a3-3cc106eec8c3",
   "metadata": {},
   "outputs": [
    {
     "data": {
      "text/plain": [
       "[('Random Forest', 0.56171875),\n",
       " ('Support Vector Machine', 0.6126953125),\n",
       " ('Logistic Regression', 0.6078125000000001),\n",
       " ('Stochastic Gradient Descent', 0.5962890624999999)]"
      ]
     },
     "execution_count": 141,
     "metadata": {},
     "output_type": "execute_result"
    }
   ],
   "source": [
    "scores_200"
   ]
  },
  {
   "cell_type": "markdown",
   "id": "6b019402-a137-4c9e-a24a-68e4d6dd567e",
   "metadata": {},
   "source": [
    "Though these accuracies get slightly better, their still on par with the categorical encoding ones."
   ]
  },
  {
   "cell_type": "code",
   "execution_count": null,
   "id": "ee0863bb-d3a6-4d44-8b21-5200ba4e5b92",
   "metadata": {},
   "outputs": [],
   "source": []
  },
  {
   "cell_type": "code",
   "execution_count": null,
   "id": "384c5d9a-5bd4-4ca0-8909-0fc0c645f284",
   "metadata": {},
   "outputs": [],
   "source": []
  },
  {
   "cell_type": "code",
   "execution_count": 185,
   "id": "a3c56914-a1a9-41fe-b9c9-ea7ed476f68e",
   "metadata": {},
   "outputs": [],
   "source": [
    "from keras.preprocessing.sequence import pad_sequences\n",
    "from keras.layers import Input, Dense, LSTM, Embedding\n",
    "from keras.layers import Dropout, Activation, Bidirectional, GlobalMaxPool1D\n",
    "from keras.models import Sequential\n",
    "from keras import initializers, regularizers, constraints, optimizers, layers\n",
    "from keras.preprocessing import text, sequence\n",
    "from keras.callbacks import ModelCheckpoint"
   ]
  },
  {
   "cell_type": "code",
   "execution_count": 163,
   "id": "075eb0d9-9d64-44c2-aa49-cb4299b1e4ea",
   "metadata": {},
   "outputs": [],
   "source": [
    "y_t = pd.get_dummies(y_train_clean).values\n",
    "y_v = pd.get_dummies(y_val_clean).values"
   ]
  },
  {
   "cell_type": "code",
   "execution_count": 164,
   "id": "3cdc506c-5205-4c40-a1c5-1e26b079e115",
   "metadata": {},
   "outputs": [],
   "source": [
    "tokenizer = text.Tokenizer(num_words=20000)\n",
    "tokenizer.fit_on_texts(list(X_train_clean))\n",
    "\n",
    "list_tokenized_train = tokenizer.texts_to_sequences(X_train_clean)\n",
    "list_tokenized_val = tokenizer.texts_to_sequences(X_val_clean)\n",
    "\n",
    "X_t = sequence.pad_sequences(list_tokenized_train, maxlen=100)\n",
    "X_v = sequence.pad_sequences(list_tokenized_val, maxlen=100)"
   ]
  },
  {
   "cell_type": "code",
   "execution_count": 165,
   "id": "fda6a073-d842-45ab-bd88-c956dfe58bb8",
   "metadata": {},
   "outputs": [],
   "source": [
    "model = Sequential()"
   ]
  },
  {
   "cell_type": "code",
   "execution_count": 166,
   "id": "9e17a4be-7fa0-4cc1-bc6f-cee2bff2f9ed",
   "metadata": {},
   "outputs": [],
   "source": [
    "embedding_size = 128\n",
    "model.add(Embedding(20000, embedding_size))\n",
    "model.add(LSTM(25, return_sequences=True))\n",
    "model.add(GlobalMaxPool1D())\n",
    "model.add(Dropout(0.1))\n",
    "model.add(Dense(50, activation='relu'))\n",
    "model.add(Dropout(0.1))\n",
    "model.add(Dense(2, activation='sigmoid'))"
   ]
  },
  {
   "cell_type": "code",
   "execution_count": 167,
   "id": "be3c4fb8-2ad5-4975-9f68-de81827ee449",
   "metadata": {},
   "outputs": [],
   "source": [
    "model.compile(loss='categorical_crossentropy', \n",
    "              optimizer='adam', \n",
    "              metrics=['accuracy'])"
   ]
  },
  {
   "cell_type": "code",
   "execution_count": 168,
   "id": "68db5c15-d9d1-4a1f-982d-365b5f5d1ab0",
   "metadata": {},
   "outputs": [
    {
     "name": "stdout",
     "output_type": "stream",
     "text": [
      "Model: \"sequential_3\"\n",
      "_________________________________________________________________\n",
      " Layer (type)                Output Shape              Param #   \n",
      "=================================================================\n",
      " embedding_4 (Embedding)     (None, None, 128)         2560000   \n",
      "                                                                 \n",
      " lstm_4 (LSTM)               (None, None, 25)          15400     \n",
      "                                                                 \n",
      " global_max_pooling1d_4 (Glo  (None, 25)               0         \n",
      " balMaxPooling1D)                                                \n",
      "                                                                 \n",
      " dropout_8 (Dropout)         (None, 25)                0         \n",
      "                                                                 \n",
      " dense_8 (Dense)             (None, 50)                1300      \n",
      "                                                                 \n",
      " dropout_9 (Dropout)         (None, 50)                0         \n",
      "                                                                 \n",
      " dense_9 (Dense)             (None, 2)                 102       \n",
      "                                                                 \n",
      "=================================================================\n",
      "Total params: 2,576,802\n",
      "Trainable params: 2,576,802\n",
      "Non-trainable params: 0\n",
      "_________________________________________________________________\n"
     ]
    }
   ],
   "source": [
    "model.summary()"
   ]
  },
  {
   "cell_type": "code",
   "execution_count": 169,
   "id": "a3c019e9-88a0-4126-ad96-a2c3fc83f680",
   "metadata": {},
   "outputs": [
    {
     "name": "stdout",
     "output_type": "stream",
     "text": [
      "Epoch 1/10\n",
      "320/320 [==============================] - 19s 52ms/step - loss: 0.6696 - accuracy: 0.5865 - val_loss: 0.6581 - val_accuracy: 0.6223\n",
      "Epoch 2/10\n",
      "320/320 [==============================] - 16s 51ms/step - loss: 0.5775 - accuracy: 0.7061 - val_loss: 0.6742 - val_accuracy: 0.6098\n",
      "Epoch 3/10\n",
      "320/320 [==============================] - 17s 52ms/step - loss: 0.4251 - accuracy: 0.8115 - val_loss: 0.8055 - val_accuracy: 0.5787\n",
      "Epoch 4/10\n",
      "320/320 [==============================] - 16s 51ms/step - loss: 0.2813 - accuracy: 0.8825 - val_loss: 1.0559 - val_accuracy: 0.5678\n",
      "Epoch 5/10\n",
      "320/320 [==============================] - 16s 50ms/step - loss: 0.1788 - accuracy: 0.9295 - val_loss: 1.4341 - val_accuracy: 0.5732\n",
      "Epoch 6/10\n",
      "320/320 [==============================] - 16s 51ms/step - loss: 0.1113 - accuracy: 0.9579 - val_loss: 1.8666 - val_accuracy: 0.5872\n",
      "Epoch 7/10\n",
      "320/320 [==============================] - 18s 55ms/step - loss: 0.0765 - accuracy: 0.9697 - val_loss: 2.0000 - val_accuracy: 0.5709\n",
      "Epoch 8/10\n",
      "320/320 [==============================] - 19s 59ms/step - loss: 0.0531 - accuracy: 0.9805 - val_loss: 2.3796 - val_accuracy: 0.5740\n",
      "Epoch 9/10\n",
      "320/320 [==============================] - 17s 54ms/step - loss: 0.0418 - accuracy: 0.9857 - val_loss: 2.4277 - val_accuracy: 0.5693\n",
      "Epoch 10/10\n",
      "320/320 [==============================] - 16s 50ms/step - loss: 0.0344 - accuracy: 0.9874 - val_loss: 2.5913 - val_accuracy: 0.5794\n"
     ]
    }
   ],
   "source": [
    "history = model.fit(X_t, y, epochs=10, batch_size=32, validation_data=(X_v, y_v))"
   ]
  },
  {
   "cell_type": "code",
   "execution_count": 170,
   "id": "f880349d-9773-4c83-8351-e20558f9858f",
   "metadata": {},
   "outputs": [
    {
     "data": {
      "image/png": "[encoded data removed]",
      "text/plain": [
       "<Figure size 432x288 with 1 Axes>"
      ]
     },
     "metadata": {
      "needs_background": "light"
     },
     "output_type": "display_data"
    }
   ],
   "source": [
    "plt.plot(history.history['loss'], label='training data')\n",
    "plt.plot(history.history['val_loss'], label='validation data')\n",
    "plt.title('Loss for Text Classification')\n",
    "plt.ylabel('Loss Value')\n",
    "plt.xlabel('No. epoch')\n",
    "plt.legend(loc='upper right')\n",
    "plt.show()"
   ]
  },
  {
   "cell_type": "code",
   "execution_count": 171,
   "id": "e7c3184b-8584-4295-8192-521fa9b2e4c5",
   "metadata": {},
   "outputs": [
    {
     "data": {
      "image/png": "[encoded data removed]",
      "text/plain": [
       "<Figure size 432x288 with 1 Axes>"
      ]
     },
     "metadata": {
      "needs_background": "light"
     },
     "output_type": "display_data"
    }
   ],
   "source": [
    "plt.plot(history.history['accuracy'], label='training data')\n",
    "plt.plot(history.history['val_accuracy'], label='validation data')\n",
    "plt.title('Categorical Accuracy for Text Classification')\n",
    "plt.ylabel('Categorical Accuracy Value')\n",
    "plt.xlabel('No. epoch')\n",
    "plt.legend(loc='upper left')\n",
    "plt.show()"
   ]
  },
  {
   "cell_type": "code",
   "execution_count": 180,
   "id": "03aec5ac-d5d0-4746-b883-1cf7e14131f2",
   "metadata": {},
   "outputs": [],
   "source": [
    "model2 = Sequential()\n",
    "embedding_size = 128\n",
    "model2.add(Embedding(20000, embedding_size))\n",
    "model2.add(LSTM(25, return_sequences=True))\n",
    "model2.add(GlobalMaxPool1D())\n",
    "model2.add(Dense(50, activation='relu'))\n",
    "model2.add(Dense(2, activation='sigmoid'))\n",
    "model2.layers[0].trainable = False"
   ]
  },
  {
   "cell_type": "code",
   "execution_count": 181,
   "id": "1553b037-72ff-450a-9910-db856cad908e",
   "metadata": {},
   "outputs": [],
   "source": [
    "model2.compile(loss='categorical_crossentropy', \n",
    "              optimizer='adam', \n",
    "              metrics=['accuracy'])"
   ]
  },
  {
   "cell_type": "code",
   "execution_count": 182,
   "id": "8b570297-fdf4-47dd-8828-505904d4dea5",
   "metadata": {},
   "outputs": [
    {
     "name": "stdout",
     "output_type": "stream",
     "text": [
      "Model: \"sequential_6\"\n",
      "_________________________________________________________________\n",
      " Layer (type)                Output Shape              Param #   \n",
      "=================================================================\n",
      " embedding_7 (Embedding)     (None, None, 128)         2560000   \n",
      "                                                                 \n",
      " lstm_7 (LSTM)               (None, None, 25)          15400     \n",
      "                                                                 \n",
      " global_max_pooling1d_7 (Glo  (None, 25)               0         \n",
      " balMaxPooling1D)                                                \n",
      "                                                                 \n",
      " dense_14 (Dense)            (None, 50)                1300      \n",
      "                                                                 \n",
      " dense_15 (Dense)            (None, 2)                 102       \n",
      "                                                                 \n",
      "=================================================================\n",
      "Total params: 2,576,802\n",
      "Trainable params: 16,802\n",
      "Non-trainable params: 2,560,000\n",
      "_________________________________________________________________\n"
     ]
    }
   ],
   "source": [
    "model2.summary()"
   ]
  },
  {
   "cell_type": "code",
   "execution_count": 186,
   "id": "f590e8bb-2069-4ff3-8b5b-de5bafba5f7f",
   "metadata": {},
   "outputs": [],
   "source": [
    "#Save the best model\n",
    "filepath = 'nn_models/rnn_100_epoch.hdf5'\n",
    "\n",
    "checkpoint = ModelCheckpoint(filepath=filepath,\n",
    "                                monitor='val_loss',\n",
    "                                verbose=1,\n",
    "                                save_best_only=True,\n",
    "                                mode='min')\n",
    "callbacks = [checkpoint]"
   ]
  },
  {
   "cell_type": "code",
   "execution_count": 188,
   "id": "cd5f7543-3951-4015-84b6-b22729d73893",
   "metadata": {},
   "outputs": [
    {
     "name": "stdout",
     "output_type": "stream",
     "text": [
      "Epoch 1/30\n",
      "319/320 [============================>.] - ETA: 0s - loss: 0.5914 - accuracy: 0.6824\n",
      "Epoch 1: val_loss did not improve from 0.66306\n",
      "320/320 [==============================] - 8s 25ms/step - loss: 0.5914 - accuracy: 0.6825 - val_loss: 0.6726 - val_accuracy: 0.6129\n",
      "Epoch 2/30\n",
      "320/320 [==============================] - ETA: 0s - loss: 0.5787 - accuracy: 0.6968\n",
      "Epoch 2: val_loss did not improve from 0.66306\n",
      "320/320 [==============================] - 8s 26ms/step - loss: 0.5787 - accuracy: 0.6968 - val_loss: 0.6784 - val_accuracy: 0.5942\n",
      "Epoch 3/30\n",
      "318/320 [============================>.] - ETA: 0s - loss: 0.5692 - accuracy: 0.6998\n",
      "Epoch 3: val_loss did not improve from 0.66306\n",
      "320/320 [==============================] - 8s 25ms/step - loss: 0.5688 - accuracy: 0.7002 - val_loss: 0.6844 - val_accuracy: 0.5974\n",
      "Epoch 4/30\n",
      "319/320 [============================>.] - ETA: 0s - loss: 0.5562 - accuracy: 0.7145\n",
      "Epoch 4: val_loss did not improve from 0.66306\n",
      "320/320 [==============================] - 9s 28ms/step - loss: 0.5562 - accuracy: 0.7144 - val_loss: 0.6854 - val_accuracy: 0.6044\n",
      "Epoch 5/30\n",
      "319/320 [============================>.] - ETA: 0s - loss: 0.5429 - accuracy: 0.7249\n",
      "Epoch 5: val_loss did not improve from 0.66306\n",
      "320/320 [==============================] - 8s 23ms/step - loss: 0.5429 - accuracy: 0.7249 - val_loss: 0.7150 - val_accuracy: 0.6121\n",
      "Epoch 6/30\n",
      "319/320 [============================>.] - ETA: 0s - loss: 0.5312 - accuracy: 0.7361\n",
      "Epoch 6: val_loss did not improve from 0.66306\n",
      "320/320 [==============================] - 9s 28ms/step - loss: 0.5312 - accuracy: 0.7361 - val_loss: 0.7555 - val_accuracy: 0.6067\n",
      "Epoch 7/30\n",
      "319/320 [============================>.] - ETA: 0s - loss: 0.5182 - accuracy: 0.7429\n",
      "Epoch 7: val_loss did not improve from 0.66306\n",
      "320/320 [==============================] - 8s 25ms/step - loss: 0.5179 - accuracy: 0.7431 - val_loss: 0.7295 - val_accuracy: 0.5888\n",
      "Epoch 8/30\n",
      "319/320 [============================>.] - ETA: 0s - loss: 0.5103 - accuracy: 0.7508\n",
      "Epoch 8: val_loss did not improve from 0.66306\n",
      "320/320 [==============================] - 9s 28ms/step - loss: 0.5104 - accuracy: 0.7507 - val_loss: 0.7298 - val_accuracy: 0.5927\n",
      "Epoch 9/30\n",
      "319/320 [============================>.] - ETA: 0s - loss: 0.4943 - accuracy: 0.7663\n",
      "Epoch 9: val_loss did not improve from 0.66306\n",
      "320/320 [==============================] - 10s 31ms/step - loss: 0.4943 - accuracy: 0.7663 - val_loss: 0.7648 - val_accuracy: 0.5880\n",
      "Epoch 10/30\n",
      "320/320 [==============================] - ETA: 0s - loss: 0.4875 - accuracy: 0.7638\n",
      "Epoch 10: val_loss did not improve from 0.66306\n",
      "320/320 [==============================] - 11s 35ms/step - loss: 0.4875 - accuracy: 0.7638 - val_loss: 0.7771 - val_accuracy: 0.5903\n",
      "Epoch 11/30\n",
      "319/320 [============================>.] - ETA: 0s - loss: 0.4744 - accuracy: 0.7756\n",
      "Epoch 11: val_loss did not improve from 0.66306\n",
      "320/320 [==============================] - 10s 32ms/step - loss: 0.4746 - accuracy: 0.7753 - val_loss: 0.7839 - val_accuracy: 0.5958\n",
      "Epoch 12/30\n",
      "319/320 [============================>.] - ETA: 0s - loss: 0.4653 - accuracy: 0.7831\n",
      "Epoch 12: val_loss did not improve from 0.66306\n",
      "320/320 [==============================] - 11s 33ms/step - loss: 0.4655 - accuracy: 0.7828 - val_loss: 0.7856 - val_accuracy: 0.5779\n",
      "Epoch 13/30\n",
      "319/320 [============================>.] - ETA: 0s - loss: 0.4540 - accuracy: 0.7906\n",
      "Epoch 13: val_loss did not improve from 0.66306\n",
      "320/320 [==============================] - 11s 33ms/step - loss: 0.4539 - accuracy: 0.7908 - val_loss: 0.8095 - val_accuracy: 0.5802\n",
      "Epoch 14/30\n",
      "318/320 [============================>.] - ETA: 0s - loss: 0.4400 - accuracy: 0.8025\n",
      "Epoch 14: val_loss did not improve from 0.66306\n",
      "320/320 [==============================] - 9s 27ms/step - loss: 0.4400 - accuracy: 0.8021 - val_loss: 0.8247 - val_accuracy: 0.5989\n",
      "Epoch 15/30\n",
      "320/320 [==============================] - ETA: 0s - loss: 0.4317 - accuracy: 0.8011\n",
      "Epoch 15: val_loss did not improve from 0.66306\n",
      "320/320 [==============================] - 10s 32ms/step - loss: 0.4317 - accuracy: 0.8011 - val_loss: 0.8485 - val_accuracy: 0.5896\n",
      "Epoch 16/30\n",
      "319/320 [============================>.] - ETA: 0s - loss: 0.4282 - accuracy: 0.8046\n",
      "Epoch 16: val_loss did not improve from 0.66306\n",
      "320/320 [==============================] - 9s 27ms/step - loss: 0.4281 - accuracy: 0.8045 - val_loss: 0.8407 - val_accuracy: 0.5857\n",
      "Epoch 17/30\n",
      "319/320 [============================>.] - ETA: 0s - loss: 0.4169 - accuracy: 0.8102\n",
      "Epoch 17: val_loss did not improve from 0.66306\n",
      "320/320 [==============================] - 8s 26ms/step - loss: 0.4169 - accuracy: 0.8104 - val_loss: 0.8877 - val_accuracy: 0.5927\n",
      "Epoch 18/30\n",
      "318/320 [============================>.] - ETA: 0s - loss: 0.4049 - accuracy: 0.8221\n",
      "Epoch 18: val_loss did not improve from 0.66306\n",
      "320/320 [==============================] - 8s 25ms/step - loss: 0.4051 - accuracy: 0.8219 - val_loss: 0.9103 - val_accuracy: 0.5966\n",
      "Epoch 19/30\n",
      "319/320 [============================>.] - ETA: 0s - loss: 0.3970 - accuracy: 0.8220\n",
      "Epoch 19: val_loss did not improve from 0.66306\n",
      "320/320 [==============================] - 8s 25ms/step - loss: 0.3972 - accuracy: 0.8220 - val_loss: 0.9192 - val_accuracy: 0.5849\n",
      "Epoch 20/30\n",
      "318/320 [============================>.] - ETA: 0s - loss: 0.3885 - accuracy: 0.8283\n",
      "Epoch 20: val_loss did not improve from 0.66306\n",
      "320/320 [==============================] - 9s 27ms/step - loss: 0.3890 - accuracy: 0.8278 - val_loss: 0.9416 - val_accuracy: 0.5818\n",
      "Epoch 21/30\n",
      "318/320 [============================>.] - ETA: 0s - loss: 0.3770 - accuracy: 0.8362\n",
      "Epoch 21: val_loss did not improve from 0.66306\n",
      "320/320 [==============================] - 8s 26ms/step - loss: 0.3771 - accuracy: 0.8360 - val_loss: 1.0145 - val_accuracy: 0.5685\n",
      "Epoch 22/30\n",
      "319/320 [============================>.] - ETA: 0s - loss: 0.3712 - accuracy: 0.8367\n",
      "Epoch 22: val_loss did not improve from 0.66306\n",
      "320/320 [==============================] - 9s 28ms/step - loss: 0.3714 - accuracy: 0.8365 - val_loss: 0.9958 - val_accuracy: 0.5755\n",
      "Epoch 23/30\n",
      "319/320 [============================>.] - ETA: 0s - loss: 0.3610 - accuracy: 0.8469\n",
      "Epoch 23: val_loss did not improve from 0.66306\n",
      "320/320 [==============================] - 10s 31ms/step - loss: 0.3612 - accuracy: 0.8465 - val_loss: 0.9890 - val_accuracy: 0.5724\n",
      "Epoch 24/30\n",
      "318/320 [============================>.] - ETA: 0s - loss: 0.3536 - accuracy: 0.8495\n",
      "Epoch 24: val_loss did not improve from 0.66306\n",
      "320/320 [==============================] - 8s 26ms/step - loss: 0.3542 - accuracy: 0.8492 - val_loss: 1.0467 - val_accuracy: 0.5880\n",
      "Epoch 25/30\n",
      "320/320 [==============================] - ETA: 0s - loss: 0.3457 - accuracy: 0.8565\n",
      "Epoch 25: val_loss did not improve from 0.66306\n",
      "320/320 [==============================] - 8s 25ms/step - loss: 0.3457 - accuracy: 0.8565 - val_loss: 1.0270 - val_accuracy: 0.5662\n",
      "Epoch 26/30\n",
      "320/320 [==============================] - ETA: 0s - loss: 0.3356 - accuracy: 0.8602\n",
      "Epoch 26: val_loss did not improve from 0.66306\n",
      "320/320 [==============================] - 8s 25ms/step - loss: 0.3356 - accuracy: 0.8602 - val_loss: 1.0717 - val_accuracy: 0.5794\n",
      "Epoch 27/30\n",
      "319/320 [============================>.] - ETA: 0s - loss: 0.3267 - accuracy: 0.8635\n",
      "Epoch 27: val_loss did not improve from 0.66306\n",
      "320/320 [==============================] - 8s 24ms/step - loss: 0.3265 - accuracy: 0.8637 - val_loss: 1.1076 - val_accuracy: 0.5717\n",
      "Epoch 28/30\n",
      "319/320 [============================>.] - ETA: 0s - loss: 0.3179 - accuracy: 0.8700\n",
      "Epoch 28: val_loss did not improve from 0.66306\n",
      "320/320 [==============================] - 8s 25ms/step - loss: 0.3181 - accuracy: 0.8700 - val_loss: 1.1280 - val_accuracy: 0.5771\n",
      "Epoch 29/30\n",
      "318/320 [============================>.] - ETA: 0s - loss: 0.3119 - accuracy: 0.8706\n",
      "Epoch 29: val_loss did not improve from 0.66306\n",
      "320/320 [==============================] - 8s 25ms/step - loss: 0.3121 - accuracy: 0.8705 - val_loss: 1.1488 - val_accuracy: 0.5740\n",
      "Epoch 30/30\n",
      "319/320 [============================>.] - ETA: 0s - loss: 0.3024 - accuracy: 0.8791\n",
      "Epoch 30: val_loss did not improve from 0.66306\n",
      "320/320 [==============================] - 8s 26ms/step - loss: 0.3026 - accuracy: 0.8790 - val_loss: 1.2141 - val_accuracy: 0.5771\n"
     ]
    }
   ],
   "source": [
    "history2 = model2.fit(X_t, y, epochs=30, batch_size=32, validation_data=(X_v, y_v), callbacks=callbacks)"
   ]
  },
  {
   "cell_type": "code",
   "execution_count": 189,
   "id": "e53bab0d-4956-4382-8c4f-3e60c7dffa7b",
   "metadata": {},
   "outputs": [
    {
     "data": {
      "image/png": "[encoded data removed]",
      "text/plain": [
       "<Figure size 432x288 with 1 Axes>"
      ]
     },
     "metadata": {
      "needs_background": "light"
     },
     "output_type": "display_data"
    }
   ],
   "source": [
    "plt.plot(history2.history['loss'], label='training data')\n",
    "plt.plot(history2.history['val_loss'], label='validation data')\n",
    "plt.title('Loss for Text Classification')\n",
    "plt.ylabel('Loss Value')\n",
    "plt.xlabel('No. epoch')\n",
    "plt.legend(loc='upper right')\n",
    "plt.show()"
   ]
  },
  {
   "cell_type": "code",
   "execution_count": 190,
   "id": "c3eca6a4-4d53-443f-8225-724494befdd9",
   "metadata": {},
   "outputs": [
    {
     "data": {
      "image/png": "[encoded data removed]",
      "text/plain": [
       "<Figure size 432x288 with 1 Axes>"
      ]
     },
     "metadata": {
      "needs_background": "light"
     },
     "output_type": "display_data"
    }
   ],
   "source": [
    "plt.plot(history2.history['accuracy'], label='training data')\n",
    "plt.plot(history2.history['val_accuracy'], label='validation data')\n",
    "plt.title('Categorical Accuracy for Text Classification')\n",
    "plt.ylabel('Categorical Accuracy Value')\n",
    "plt.xlabel('No. epoch')\n",
    "plt.legend(loc='upper left')\n",
    "plt.show()"
   ]
  },
  {
   "cell_type": "code",
   "execution_count": 198,
   "id": "d0f1f16d-ddd5-499d-b18a-41f30213f86e",
   "metadata": {},
   "outputs": [
    {
     "name": "stdout",
     "output_type": "stream",
     "text": [
      "Model: \"sequential_12\"\n",
      "_________________________________________________________________\n",
      " Layer (type)                Output Shape              Param #   \n",
      "=================================================================\n",
      " embedding_13 (Embedding)    (None, None, 128)         2560000   \n",
      "                                                                 \n",
      " lstm_13 (LSTM)              (None, None, 25)          15400     \n",
      "                                                                 \n",
      " global_max_pooling1d_9 (Glo  (None, 25)               0         \n",
      " balMaxPooling1D)                                                \n",
      "                                                                 \n",
      " dense_24 (Dense)            (None, 50)                1300      \n",
      "                                                                 \n",
      " dense_25 (Dense)            (None, 2)                 102       \n",
      "                                                                 \n",
      "=================================================================\n",
      "Total params: 2,576,802\n",
      "Trainable params: 16,802\n",
      "Non-trainable params: 2,560,000\n",
      "_________________________________________________________________\n"
     ]
    }
   ],
   "source": [
    "model3 = Sequential()\n",
    "embedding_size = 128\n",
    "model3.add(Embedding(20000, embedding_size))\n",
    "model3.add(LSTM(25, return_sequences=True))\n",
    "model3.add(GlobalMaxPool1D())\n",
    "model3.add(Dense(50, activation='relu', kernel_regularizer=regularizers.l2(0.05)))\n",
    "model3.add(Dense(2, activation='sigmoid'))\n",
    "\n",
    "model3.layers[0].trainable = False\n",
    "\n",
    "model3.compile(loss='categorical_crossentropy', \n",
    "              optimizer='adam', \n",
    "              metrics=['accuracy'])\n",
    "\n",
    "model3.summary()"
   ]
  },
  {
   "cell_type": "code",
   "execution_count": 206,
   "id": "b4da25e1-9862-42a0-946e-1b948a930c29",
   "metadata": {},
   "outputs": [
    {
     "name": "stdout",
     "output_type": "stream",
     "text": [
      "Epoch 1/30\n",
      "320/320 [==============================] - 8s 25ms/step - loss: 0.6809 - accuracy: 0.5617 - val_loss: 0.6912 - val_accuracy: 0.5202\n",
      "Epoch 2/30\n",
      "320/320 [==============================] - 8s 24ms/step - loss: 0.6764 - accuracy: 0.5705 - val_loss: 0.6841 - val_accuracy: 0.5498\n",
      "Epoch 3/30\n",
      "320/320 [==============================] - 8s 25ms/step - loss: 0.6740 - accuracy: 0.5812 - val_loss: 0.6850 - val_accuracy: 0.5857\n",
      "Epoch 4/30\n",
      "320/320 [==============================] - 8s 24ms/step - loss: 0.6728 - accuracy: 0.5913 - val_loss: 0.6796 - val_accuracy: 0.5818\n",
      "Epoch 5/30\n",
      "320/320 [==============================] - 8s 24ms/step - loss: 0.6711 - accuracy: 0.5899 - val_loss: 0.6795 - val_accuracy: 0.5693\n",
      "Epoch 6/30\n",
      "320/320 [==============================] - 7s 23ms/step - loss: 0.6684 - accuracy: 0.5897 - val_loss: 0.6774 - val_accuracy: 0.5958\n",
      "Epoch 7/30\n",
      "320/320 [==============================] - 7s 23ms/step - loss: 0.6670 - accuracy: 0.5891 - val_loss: 0.6771 - val_accuracy: 0.5849\n",
      "Epoch 8/30\n",
      "320/320 [==============================] - 7s 22ms/step - loss: 0.6660 - accuracy: 0.5963 - val_loss: 0.6812 - val_accuracy: 0.5748\n",
      "Epoch 9/30\n",
      "320/320 [==============================] - 7s 23ms/step - loss: 0.6646 - accuracy: 0.5944 - val_loss: 0.6776 - val_accuracy: 0.5896\n",
      "Epoch 10/30\n",
      "320/320 [==============================] - 8s 24ms/step - loss: 0.6638 - accuracy: 0.5954 - val_loss: 0.6792 - val_accuracy: 0.5810\n",
      "Epoch 11/30\n",
      "320/320 [==============================] - 8s 24ms/step - loss: 0.6618 - accuracy: 0.6003 - val_loss: 0.6761 - val_accuracy: 0.5833\n",
      "Epoch 12/30\n",
      "320/320 [==============================] - 7s 23ms/step - loss: 0.6609 - accuracy: 0.6048 - val_loss: 0.6815 - val_accuracy: 0.5919\n",
      "Epoch 13/30\n",
      "320/320 [==============================] - 8s 24ms/step - loss: 0.6603 - accuracy: 0.6023 - val_loss: 0.6777 - val_accuracy: 0.5880\n",
      "Epoch 14/30\n",
      "320/320 [==============================] - 8s 23ms/step - loss: 0.6571 - accuracy: 0.6029 - val_loss: 0.6756 - val_accuracy: 0.5896\n",
      "Epoch 15/30\n",
      "320/320 [==============================] - 8s 24ms/step - loss: 0.6558 - accuracy: 0.6118 - val_loss: 0.6749 - val_accuracy: 0.5802\n",
      "Epoch 16/30\n",
      "320/320 [==============================] - 8s 24ms/step - loss: 0.6535 - accuracy: 0.6112 - val_loss: 0.6823 - val_accuracy: 0.5864\n",
      "Epoch 17/30\n",
      "320/320 [==============================] - 8s 24ms/step - loss: 0.6513 - accuracy: 0.6125 - val_loss: 0.6769 - val_accuracy: 0.5872\n",
      "Epoch 18/30\n",
      "320/320 [==============================] - 8s 25ms/step - loss: 0.6485 - accuracy: 0.6156 - val_loss: 0.6779 - val_accuracy: 0.5833\n",
      "Epoch 19/30\n",
      "320/320 [==============================] - 8s 24ms/step - loss: 0.6479 - accuracy: 0.6197 - val_loss: 0.6765 - val_accuracy: 0.5826\n",
      "Epoch 20/30\n",
      "320/320 [==============================] - 9s 27ms/step - loss: 0.6461 - accuracy: 0.6231 - val_loss: 0.6773 - val_accuracy: 0.5755\n",
      "Epoch 21/30\n",
      "320/320 [==============================] - 8s 25ms/step - loss: 0.6442 - accuracy: 0.6219 - val_loss: 0.6763 - val_accuracy: 0.5748\n",
      "Epoch 22/30\n",
      "320/320 [==============================] - 8s 24ms/step - loss: 0.6431 - accuracy: 0.6248 - val_loss: 0.6775 - val_accuracy: 0.5748\n",
      "Epoch 23/30\n",
      "320/320 [==============================] - 9s 27ms/step - loss: 0.6405 - accuracy: 0.6290 - val_loss: 0.6955 - val_accuracy: 0.5771\n",
      "Epoch 24/30\n",
      "320/320 [==============================] - 8s 25ms/step - loss: 0.6410 - accuracy: 0.6289 - val_loss: 0.6875 - val_accuracy: 0.5693\n",
      "Epoch 25/30\n",
      "320/320 [==============================] - 8s 25ms/step - loss: 0.6367 - accuracy: 0.6332 - val_loss: 0.6961 - val_accuracy: 0.5794\n",
      "Epoch 26/30\n",
      "320/320 [==============================] - 8s 25ms/step - loss: 0.6363 - accuracy: 0.6340 - val_loss: 0.6780 - val_accuracy: 0.5794\n",
      "Epoch 27/30\n",
      "320/320 [==============================] - 8s 26ms/step - loss: 0.6338 - accuracy: 0.6363 - val_loss: 0.6938 - val_accuracy: 0.5771\n",
      "Epoch 28/30\n",
      "320/320 [==============================] - 8s 26ms/step - loss: 0.6336 - accuracy: 0.6343 - val_loss: 0.6939 - val_accuracy: 0.5779\n",
      "Epoch 29/30\n",
      "320/320 [==============================] - 8s 25ms/step - loss: 0.6329 - accuracy: 0.6329 - val_loss: 0.6857 - val_accuracy: 0.5802\n",
      "Epoch 30/30\n",
      "320/320 [==============================] - 8s 25ms/step - loss: 0.6288 - accuracy: 0.6366 - val_loss: 0.6941 - val_accuracy: 0.5763\n"
     ]
    }
   ],
   "source": [
    "#Save the best model\n",
    "filepath = './nn_models/rnn_regularization.hdf5'\n",
    "\n",
    "checkpoint = ModelCheckpoint(filepath=filepath,\n",
    "                                monitor='val_loss',\n",
    "                                verbose=1,\n",
    "                                save_best_only=True,\n",
    "                                mode='min')\n",
    "callbacks = [checkpoint]\n",
    "history3 = model3.fit(X_t, y, epochs=30, batch_size=32, validation_data=(X_v, y_v))"
   ]
  },
  {
   "cell_type": "code",
   "execution_count": 207,
   "id": "43537066-6945-4212-8fae-bdb280392bdc",
   "metadata": {},
   "outputs": [
    {
     "data": {
      "image/png": "[encoded data removed]",
      "text/plain": [
       "<Figure size 432x288 with 1 Axes>"
      ]
     },
     "metadata": {
      "needs_background": "light"
     },
     "output_type": "display_data"
    }
   ],
   "source": [
    "plt.plot(history3.history['loss'], label='training data')\n",
    "plt.plot(history3.history['val_loss'], label='validation data')\n",
    "plt.title('Loss for Text Classification')\n",
    "plt.ylabel('Loss Value')\n",
    "plt.xlabel('No. epoch')\n",
    "plt.legend(loc='upper right')\n",
    "plt.show()"
   ]
  },
  {
   "cell_type": "code",
   "execution_count": 208,
   "id": "eeee5f64-e52e-4c69-984c-7b1add51dba1",
   "metadata": {},
   "outputs": [
    {
     "data": {
      "image/png": "[encoded data removed]",
      "text/plain": [
       "<Figure size 432x288 with 1 Axes>"
      ]
     },
     "metadata": {
      "needs_background": "light"
     },
     "output_type": "display_data"
    }
   ],
   "source": [
    "plt.plot(history3.history['accuracy'], label='training data')\n",
    "plt.plot(history3.history['val_accuracy'], label='validation data')\n",
    "plt.title('Categorical Accuracy for Text Classification')\n",
    "plt.ylabel('Categorical Accuracy Value')\n",
    "plt.xlabel('No. epoch')\n",
    "plt.legend(loc='upper left')\n",
    "plt.show()"
   ]
  },
  {
   "cell_type": "code",
   "execution_count": 211,
   "id": "73ed7c92-23ba-45ac-a898-9a0b14a80e16",
   "metadata": {},
   "outputs": [
    {
     "name": "stdout",
     "output_type": "stream",
     "text": [
      "Model: \"sequential_14\"\n",
      "_________________________________________________________________\n",
      " Layer (type)                Output Shape              Param #   \n",
      "=================================================================\n",
      " embedding_15 (Embedding)    (None, None, 128)         2560000   \n",
      "                                                                 \n",
      " lstm_15 (LSTM)              (None, None, 25)          15400     \n",
      "                                                                 \n",
      " dropout_11 (Dropout)        (None, None, 25)          0         \n",
      "                                                                 \n",
      " global_max_pooling1d_11 (Gl  (None, 25)               0         \n",
      " obalMaxPooling1D)                                               \n",
      "                                                                 \n",
      " dense_28 (Dense)            (None, 50)                1300      \n",
      "                                                                 \n",
      " dense_29 (Dense)            (None, 2)                 102       \n",
      "                                                                 \n",
      "=================================================================\n",
      "Total params: 2,576,802\n",
      "Trainable params: 16,802\n",
      "Non-trainable params: 2,560,000\n",
      "_________________________________________________________________\n"
     ]
    }
   ],
   "source": [
    "model4 = Sequential()\n",
    "embedding_size = 128\n",
    "model4.add(Embedding(20000, embedding_size))\n",
    "model4.add(LSTM(25, return_sequences=True))\n",
    "model4.add(Dropout(0.1))\n",
    "model4.add(GlobalMaxPool1D())\n",
    "model4.add(Dense(50, activation='relu', kernel_regularizer=regularizers.l2(0.05)))\n",
    "model4.add(Dense(2, activation='sigmoid'))\n",
    "\n",
    "model4.layers[0].trainable = False\n",
    "\n",
    "model4.compile(loss='categorical_crossentropy', \n",
    "              optimizer='adam', \n",
    "              metrics=['accuracy'])\n",
    "\n",
    "model4.summary()"
   ]
  },
  {
   "cell_type": "code",
   "execution_count": 212,
   "id": "27a474d1-b9f3-4a39-811f-20714906fd95",
   "metadata": {},
   "outputs": [
    {
     "name": "stdout",
     "output_type": "stream",
     "text": [
      "Epoch 1/30\n",
      "320/320 [==============================] - 12s 28ms/step - loss: 1.1232 - accuracy: 0.5613 - val_loss: 0.7190 - val_accuracy: 0.5202\n",
      "Epoch 2/30\n",
      "320/320 [==============================] - 7s 23ms/step - loss: 0.6889 - accuracy: 0.5617 - val_loss: 0.6926 - val_accuracy: 0.5202\n",
      "Epoch 3/30\n",
      "320/320 [==============================] - 8s 25ms/step - loss: 0.6804 - accuracy: 0.5644 - val_loss: 0.6828 - val_accuracy: 0.5818\n",
      "Epoch 4/30\n",
      "320/320 [==============================] - 8s 25ms/step - loss: 0.6765 - accuracy: 0.5727 - val_loss: 0.6822 - val_accuracy: 0.5561\n",
      "Epoch 5/30\n",
      "320/320 [==============================] - 8s 25ms/step - loss: 0.6722 - accuracy: 0.5854 - val_loss: 0.6861 - val_accuracy: 0.5935\n",
      "Epoch 6/30\n",
      "320/320 [==============================] - 8s 24ms/step - loss: 0.6718 - accuracy: 0.5787 - val_loss: 0.6793 - val_accuracy: 0.5802\n",
      "Epoch 7/30\n",
      "320/320 [==============================] - 8s 26ms/step - loss: 0.6695 - accuracy: 0.5938 - val_loss: 0.6772 - val_accuracy: 0.5763\n",
      "Epoch 8/30\n",
      "320/320 [==============================] - 9s 28ms/step - loss: 0.6683 - accuracy: 0.5952 - val_loss: 0.6789 - val_accuracy: 0.5701\n",
      "Epoch 9/30\n",
      "320/320 [==============================] - 9s 27ms/step - loss: 0.6669 - accuracy: 0.5931 - val_loss: 0.6799 - val_accuracy: 0.5732\n",
      "Epoch 10/30\n",
      "320/320 [==============================] - 9s 27ms/step - loss: 0.6659 - accuracy: 0.5962 - val_loss: 0.6754 - val_accuracy: 0.5826\n",
      "Epoch 11/30\n",
      "320/320 [==============================] - 8s 25ms/step - loss: 0.6649 - accuracy: 0.5979 - val_loss: 0.7111 - val_accuracy: 0.5639\n",
      "Epoch 12/30\n",
      "320/320 [==============================] - 8s 24ms/step - loss: 0.6651 - accuracy: 0.5997 - val_loss: 0.6760 - val_accuracy: 0.5748\n",
      "Epoch 13/30\n",
      "320/320 [==============================] - 9s 27ms/step - loss: 0.6647 - accuracy: 0.6004 - val_loss: 0.6737 - val_accuracy: 0.5864\n",
      "Epoch 14/30\n",
      "320/320 [==============================] - 8s 25ms/step - loss: 0.6611 - accuracy: 0.6041 - val_loss: 0.6849 - val_accuracy: 0.5779\n",
      "Epoch 15/30\n",
      "320/320 [==============================] - 9s 27ms/step - loss: 0.6602 - accuracy: 0.6105 - val_loss: 0.6771 - val_accuracy: 0.5779\n",
      "Epoch 16/30\n",
      "320/320 [==============================] - 8s 26ms/step - loss: 0.6593 - accuracy: 0.6101 - val_loss: 0.6730 - val_accuracy: 0.5864\n",
      "Epoch 17/30\n",
      "320/320 [==============================] - 9s 29ms/step - loss: 0.6585 - accuracy: 0.6084 - val_loss: 0.6772 - val_accuracy: 0.5732\n",
      "Epoch 18/30\n",
      "320/320 [==============================] - 8s 26ms/step - loss: 0.6557 - accuracy: 0.6161 - val_loss: 0.6799 - val_accuracy: 0.5833\n",
      "Epoch 19/30\n",
      "320/320 [==============================] - 8s 25ms/step - loss: 0.6550 - accuracy: 0.6173 - val_loss: 0.6790 - val_accuracy: 0.5794\n",
      "Epoch 20/30\n",
      "320/320 [==============================] - 8s 25ms/step - loss: 0.6539 - accuracy: 0.6172 - val_loss: 0.6751 - val_accuracy: 0.5654\n",
      "Epoch 21/30\n",
      "320/320 [==============================] - 9s 27ms/step - loss: 0.6530 - accuracy: 0.6193 - val_loss: 0.6769 - val_accuracy: 0.5935\n",
      "Epoch 22/30\n",
      "320/320 [==============================] - 9s 27ms/step - loss: 0.6519 - accuracy: 0.6247 - val_loss: 0.6736 - val_accuracy: 0.5833\n",
      "Epoch 23/30\n",
      "320/320 [==============================] - 9s 28ms/step - loss: 0.6489 - accuracy: 0.6224 - val_loss: 0.6753 - val_accuracy: 0.5935\n",
      "Epoch 24/30\n",
      "320/320 [==============================] - 9s 27ms/step - loss: 0.6461 - accuracy: 0.6288 - val_loss: 0.6744 - val_accuracy: 0.5841\n",
      "Epoch 25/30\n",
      "320/320 [==============================] - 9s 27ms/step - loss: 0.6467 - accuracy: 0.6291 - val_loss: 0.6743 - val_accuracy: 0.5771\n",
      "Epoch 26/30\n",
      "320/320 [==============================] - 8s 26ms/step - loss: 0.6441 - accuracy: 0.6305 - val_loss: 0.6799 - val_accuracy: 0.5849\n",
      "Epoch 27/30\n",
      "320/320 [==============================] - 8s 25ms/step - loss: 0.6427 - accuracy: 0.6320 - val_loss: 0.6851 - val_accuracy: 0.5794\n",
      "Epoch 28/30\n",
      "320/320 [==============================] - 8s 26ms/step - loss: 0.6435 - accuracy: 0.6363 - val_loss: 0.6810 - val_accuracy: 0.5794\n",
      "Epoch 29/30\n",
      "320/320 [==============================] - 9s 27ms/step - loss: 0.6401 - accuracy: 0.6383 - val_loss: 0.6775 - val_accuracy: 0.5763\n",
      "Epoch 30/30\n",
      "320/320 [==============================] - 9s 28ms/step - loss: 0.6422 - accuracy: 0.6360 - val_loss: 0.6810 - val_accuracy: 0.5818\n"
     ]
    }
   ],
   "source": [
    "#Save the best model\n",
    "filepath = './nn_models/rnn_regularization.hdf5'\n",
    "\n",
    "checkpoint = ModelCheckpoint(filepath=filepath,\n",
    "                                monitor='val_loss',\n",
    "                                verbose=1,\n",
    "                                save_best_only=True,\n",
    "                                mode='min')\n",
    "callbacks = [checkpoint]\n",
    "history4 = model4.fit(X_t, y, epochs=30, batch_size=32, validation_data=(X_v, y_v))"
   ]
  },
  {
   "cell_type": "code",
   "execution_count": null,
   "id": "33c7048d-d967-4403-9dac-b7cb7817a2b2",
   "metadata": {},
   "outputs": [],
   "source": [
    "plt.plot(history4.history['loss'], label='training data')\n",
    "plt.plot(history4.history['val_loss'], label='validation data')\n",
    "plt.title('Loss for Text Classification')\n",
    "plt.ylabel('Loss Value')\n",
    "plt.xlabel('No. epoch')\n",
    "plt.legend(loc='upper right')\n",
    "plt.show()"
   ]
  },
  {
   "cell_type": "code",
   "execution_count": null,
   "id": "61403c51-e6ef-464c-8398-e14b237b1b5e",
   "metadata": {},
   "outputs": [],
   "source": [
    "plt.plot(history4.history['accuracy'], label='training data')\n",
    "plt.plot(history4.history['val_accuracy'], label='validation data')\n",
    "plt.title('Categorical Accuracy for Text Classification')\n",
    "plt.ylabel('Categorical Accuracy Value')\n",
    "plt.xlabel('No. epoch')\n",
    "plt.legend(loc='upper left')\n",
    "plt.show()"
   ]
  },
  {
   "cell_type": "code",
   "execution_count": null,
   "id": "a74a2985-c942-444d-bb43-5989fc52f6fd",
   "metadata": {},
   "outputs": [],
   "source": []
  },
  {
   "cell_type": "code",
   "execution_count": 221,
   "id": "0449b626-8a04-4981-a429-92431308bd18",
   "metadata": {},
   "outputs": [
    {
     "name": "stdout",
     "output_type": "stream",
     "text": [
      "Model: \"sequential_18\"\n",
      "_________________________________________________________________\n",
      " Layer (type)                Output Shape              Param #   \n",
      "=================================================================\n",
      " embedding_19 (Embedding)    (None, None, 128)         2560000   \n",
      "                                                                 \n",
      " lstm_19 (LSTM)              (None, None, 25)          15400     \n",
      "                                                                 \n",
      " dropout_13 (Dropout)        (None, None, 25)          0         \n",
      "                                                                 \n",
      " global_max_pooling1d_14 (Gl  (None, 25)               0         \n",
      " obalMaxPooling1D)                                               \n",
      "                                                                 \n",
      " dense_36 (Dense)            (None, 50)                1300      \n",
      "                                                                 \n",
      " dense_37 (Dense)            (None, 2)                 102       \n",
      "                                                                 \n",
      "=================================================================\n",
      "Total params: 2,576,802\n",
      "Trainable params: 16,802\n",
      "Non-trainable params: 2,560,000\n",
      "_________________________________________________________________\n"
     ]
    }
   ],
   "source": [
    "model5 = Sequential()\n",
    "embedding_size = 128\n",
    "model5.add(Embedding(20000, embedding_size))\n",
    "model5.add(LSTM(25, return_sequences=True))\n",
    "model5.add(Dropout(0.1))\n",
    "model5.add(GlobalMaxPool1D())\n",
    "model5.add(Dense(50, activation='relu', kernel_regularizer=regularizers.l2(0.1)))\n",
    "model5.add(Dense(2, activation='sigmoid'))\n",
    "\n",
    "model5.layers[0].trainable = False\n",
    "\n",
    "model5.compile(loss='categorical_crossentropy', \n",
    "              optimizer='adam', \n",
    "              metrics=['accuracy'])\n",
    "\n",
    "model5.summary()"
   ]
  },
  {
   "cell_type": "code",
   "execution_count": 222,
   "id": "c8b7e4ba-3315-4d27-b9cb-c26ea99c6bc2",
   "metadata": {},
   "outputs": [
    {
     "name": "stdout",
     "output_type": "stream",
     "text": [
      "Epoch 1/30\n",
      "320/320 [==============================] - 10s 26ms/step - loss: 1.5774 - accuracy: 0.5617 - val_loss: 0.7422 - val_accuracy: 0.5202\n",
      "Epoch 2/30\n",
      "320/320 [==============================] - 7s 23ms/step - loss: 0.6956 - accuracy: 0.5617 - val_loss: 0.6957 - val_accuracy: 0.5202\n",
      "Epoch 3/30\n",
      "320/320 [==============================] - 8s 24ms/step - loss: 0.6843 - accuracy: 0.5617 - val_loss: 0.6918 - val_accuracy: 0.5202\n",
      "Epoch 4/30\n",
      "320/320 [==============================] - 8s 26ms/step - loss: 0.6807 - accuracy: 0.5617 - val_loss: 0.6870 - val_accuracy: 0.5202\n",
      "Epoch 5/30\n",
      "320/320 [==============================] - 9s 28ms/step - loss: 0.6770 - accuracy: 0.5627 - val_loss: 0.6807 - val_accuracy: 0.5202\n",
      "Epoch 6/30\n",
      "320/320 [==============================] - 10s 30ms/step - loss: 0.6753 - accuracy: 0.5715 - val_loss: 0.6817 - val_accuracy: 0.5740\n",
      "Epoch 7/30\n",
      "320/320 [==============================] - 10s 30ms/step - loss: 0.6732 - accuracy: 0.5790 - val_loss: 0.6815 - val_accuracy: 0.6012\n",
      "Epoch 8/30\n",
      "320/320 [==============================] - 10s 32ms/step - loss: 0.6711 - accuracy: 0.5880 - val_loss: 0.6794 - val_accuracy: 0.5927\n",
      "Epoch 9/30\n",
      "320/320 [==============================] - 9s 27ms/step - loss: 0.6713 - accuracy: 0.5854 - val_loss: 0.6771 - val_accuracy: 0.5935\n",
      "Epoch 10/30\n",
      "320/320 [==============================] - 9s 28ms/step - loss: 0.6709 - accuracy: 0.5818 - val_loss: 0.6769 - val_accuracy: 0.5779\n",
      "Epoch 11/30\n",
      "320/320 [==============================] - 9s 28ms/step - loss: 0.6685 - accuracy: 0.5864 - val_loss: 0.6763 - val_accuracy: 0.5958\n",
      "Epoch 12/30\n",
      "320/320 [==============================] - 9s 27ms/step - loss: 0.6681 - accuracy: 0.5856 - val_loss: 0.6770 - val_accuracy: 0.5849\n",
      "Epoch 13/30\n",
      "320/320 [==============================] - 8s 27ms/step - loss: 0.6681 - accuracy: 0.5895 - val_loss: 0.6740 - val_accuracy: 0.5864\n",
      "Epoch 14/30\n",
      "320/320 [==============================] - 8s 26ms/step - loss: 0.6667 - accuracy: 0.5963 - val_loss: 0.6769 - val_accuracy: 0.5911\n",
      "Epoch 15/30\n",
      "320/320 [==============================] - 8s 26ms/step - loss: 0.6655 - accuracy: 0.5955 - val_loss: 0.6734 - val_accuracy: 0.5864\n",
      "Epoch 16/30\n",
      "320/320 [==============================] - 9s 27ms/step - loss: 0.6635 - accuracy: 0.5937 - val_loss: 0.6765 - val_accuracy: 0.5997\n",
      "Epoch 17/30\n",
      "320/320 [==============================] - 8s 26ms/step - loss: 0.6619 - accuracy: 0.5976 - val_loss: 0.6804 - val_accuracy: 0.5919\n",
      "Epoch 18/30\n",
      "320/320 [==============================] - 8s 26ms/step - loss: 0.6619 - accuracy: 0.6031 - val_loss: 0.6729 - val_accuracy: 0.5950\n",
      "Epoch 19/30\n",
      "320/320 [==============================] - 9s 27ms/step - loss: 0.6614 - accuracy: 0.5970 - val_loss: 0.6748 - val_accuracy: 0.5966\n",
      "Epoch 20/30\n",
      "320/320 [==============================] - 9s 28ms/step - loss: 0.6602 - accuracy: 0.6049 - val_loss: 0.6729 - val_accuracy: 0.6005\n",
      "Epoch 21/30\n",
      "320/320 [==============================] - 9s 27ms/step - loss: 0.6581 - accuracy: 0.6081 - val_loss: 0.6711 - val_accuracy: 0.6028\n",
      "Epoch 22/30\n",
      "320/320 [==============================] - 8s 26ms/step - loss: 0.6575 - accuracy: 0.6064 - val_loss: 0.6770 - val_accuracy: 0.5966\n",
      "Epoch 23/30\n",
      "320/320 [==============================] - 9s 27ms/step - loss: 0.6600 - accuracy: 0.5980 - val_loss: 0.6860 - val_accuracy: 0.6028\n",
      "Epoch 24/30\n",
      "320/320 [==============================] - 9s 27ms/step - loss: 0.6560 - accuracy: 0.6067 - val_loss: 0.6760 - val_accuracy: 0.5958\n",
      "Epoch 25/30\n",
      "320/320 [==============================] - 9s 29ms/step - loss: 0.6553 - accuracy: 0.6065 - val_loss: 0.6774 - val_accuracy: 0.6020\n",
      "Epoch 26/30\n",
      "320/320 [==============================] - 8s 26ms/step - loss: 0.6533 - accuracy: 0.6138 - val_loss: 0.6760 - val_accuracy: 0.6036\n",
      "Epoch 27/30\n",
      "320/320 [==============================] - 9s 27ms/step - loss: 0.6518 - accuracy: 0.6161 - val_loss: 0.6744 - val_accuracy: 0.6090\n",
      "Epoch 28/30\n",
      "320/320 [==============================] - 8s 26ms/step - loss: 0.6508 - accuracy: 0.6123 - val_loss: 0.6718 - val_accuracy: 0.5989\n",
      "Epoch 29/30\n",
      "320/320 [==============================] - 8s 25ms/step - loss: 0.6501 - accuracy: 0.6147 - val_loss: 0.6750 - val_accuracy: 0.5880\n",
      "Epoch 30/30\n",
      "320/320 [==============================] - 8s 26ms/step - loss: 0.6507 - accuracy: 0.6132 - val_loss: 0.6735 - val_accuracy: 0.5981\n"
     ]
    }
   ],
   "source": [
    "#Save the best model\n",
    "filepath = './nn_models/rnn_regularization.hdf5'\n",
    "\n",
    "checkpoint = ModelCheckpoint(filepath=filepath,\n",
    "                                monitor='val_loss',\n",
    "                                verbose=1,\n",
    "                                save_best_only=True,\n",
    "                                mode='min')\n",
    "callbacks = [checkpoint]\n",
    "history5 = model5.fit(X_t, y, epochs=30, batch_size=32, validation_data=(X_v, y_v))"
   ]
  },
  {
   "cell_type": "code",
   "execution_count": 225,
   "id": "284a75ef-358b-422f-b03a-24e04ac1c20b",
   "metadata": {},
   "outputs": [
    {
     "data": {
      "image/png": "[encoded data removed]",
      "text/plain": [
       "<Figure size 432x288 with 1 Axes>"
      ]
     },
     "metadata": {
      "needs_background": "light"
     },
     "output_type": "display_data"
    }
   ],
   "source": [
    "plt.plot(history5.history['loss'], label='training data')\n",
    "plt.plot(history5.history['val_loss'], label='validation data')\n",
    "plt.title('Loss for Text Classification')\n",
    "plt.ylabel('Loss Value')\n",
    "plt.xlabel('No. epoch')\n",
    "plt.legend(loc='upper right')\n",
    "plt.show()"
   ]
  },
  {
   "cell_type": "code",
   "execution_count": 226,
   "id": "471481cd-f9be-4b47-bada-527146edd28a",
   "metadata": {},
   "outputs": [
    {
     "data": {
      "image/png": "[encoded data removed]",
      "text/plain": [
       "<Figure size 432x288 with 1 Axes>"
      ]
     },
     "metadata": {
      "needs_background": "light"
     },
     "output_type": "display_data"
    }
   ],
   "source": [
    "plt.plot(history5.history['accuracy'], label='training data')\n",
    "plt.plot(history5.history['val_accuracy'], label='validation data')\n",
    "plt.title('Categorical Accuracy for Text Classification')\n",
    "plt.ylabel('Categorical Accuracy Value')\n",
    "plt.xlabel('No. epoch')\n",
    "plt.legend(loc='upper left')\n",
    "plt.show()"
   ]
  },
  {
   "cell_type": "code",
   "execution_count": null,
   "id": "2a65bb77-4df3-4dcf-8c8f-cad20b04f9d1",
   "metadata": {},
   "outputs": [],
   "source": []
  },
  {
   "cell_type": "code",
   "execution_count": null,
   "id": "2b31cdf3-0678-4031-8489-e4040d6cb097",
   "metadata": {},
   "outputs": [],
   "source": []
  },
  {
   "cell_type": "code",
   "execution_count": 235,
   "id": "d188ce2b-b851-4125-b1aa-40e1013a127c",
   "metadata": {},
   "outputs": [
    {
     "name": "stdout",
     "output_type": "stream",
     "text": [
      "Model: \"sequential_22\"\n",
      "_________________________________________________________________\n",
      " Layer (type)                Output Shape              Param #   \n",
      "=================================================================\n",
      " embedding_23 (Embedding)    (None, None, 128)         2560000   \n",
      "                                                                 \n",
      " lstm_23 (LSTM)              (None, None, 25)          15400     \n",
      "                                                                 \n",
      " dropout_17 (Dropout)        (None, None, 25)          0         \n",
      "                                                                 \n",
      " global_max_pooling1d_18 (Gl  (None, 25)               0         \n",
      " obalMaxPooling1D)                                               \n",
      "                                                                 \n",
      " dense_45 (Dense)            (None, 50)                1300      \n",
      "                                                                 \n",
      " dense_46 (Dense)            (None, 2)                 102       \n",
      "                                                                 \n",
      "=================================================================\n",
      "Total params: 2,576,802\n",
      "Trainable params: 16,802\n",
      "Non-trainable params: 2,560,000\n",
      "_________________________________________________________________\n"
     ]
    }
   ],
   "source": [
    "model6 = Sequential()\n",
    "embedding_size = 128\n",
    "model6.add(Embedding(20000, embedding_size))\n",
    "model6.add(LSTM(25, return_sequences=True))\n",
    "model6.add(Dropout(0.1))\n",
    "model6.add(GlobalMaxPool1D())\n",
    "model6.add(Dense(50, activation='relu', kernel_regularizer=regularizers.l2(0.1)))\n",
    "model6.add(Dense(2, activation='sigmoid'))\n",
    "\n",
    "model6.layers[0].trainable = False\n",
    "\n",
    "model6.compile(loss='categorical_crossentropy', \n",
    "              optimizer='adam', \n",
    "              metrics=['accuracy'])\n",
    "\n",
    "model6.summary()"
   ]
  },
  {
   "cell_type": "code",
   "execution_count": 236,
   "id": "2bb549ff-099b-4c2f-95a2-016cf24f1a1e",
   "metadata": {},
   "outputs": [
    {
     "name": "stdout",
     "output_type": "stream",
     "text": [
      "Epoch 1/100\n",
      "320/320 [==============================] - 11s 28ms/step - loss: 1.5484 - accuracy: 0.5616 - val_loss: 0.7427 - val_accuracy: 0.5202\n",
      "Epoch 2/100\n",
      "320/320 [==============================] - 8s 25ms/step - loss: 0.6941 - accuracy: 0.5617 - val_loss: 0.6917 - val_accuracy: 0.5202\n",
      "Epoch 3/100\n",
      "320/320 [==============================] - 7s 23ms/step - loss: 0.6827 - accuracy: 0.5617 - val_loss: 0.6897 - val_accuracy: 0.5202\n",
      "Epoch 4/100\n",
      "320/320 [==============================] - 7s 23ms/step - loss: 0.6796 - accuracy: 0.5614 - val_loss: 0.6849 - val_accuracy: 0.5202\n",
      "Epoch 5/100\n",
      "320/320 [==============================] - 7s 23ms/step - loss: 0.6757 - accuracy: 0.5764 - val_loss: 0.6832 - val_accuracy: 0.5935\n",
      "Epoch 6/100\n",
      "320/320 [==============================] - 7s 23ms/step - loss: 0.6735 - accuracy: 0.5813 - val_loss: 0.6797 - val_accuracy: 0.5880\n",
      "Epoch 7/100\n",
      "320/320 [==============================] - 7s 23ms/step - loss: 0.6728 - accuracy: 0.5818 - val_loss: 0.6788 - val_accuracy: 0.5896\n",
      "Epoch 8/100\n",
      "320/320 [==============================] - 7s 22ms/step - loss: 0.6700 - accuracy: 0.5842 - val_loss: 0.6819 - val_accuracy: 0.5646\n",
      "Epoch 9/100\n",
      "320/320 [==============================] - 7s 23ms/step - loss: 0.6689 - accuracy: 0.5900 - val_loss: 0.6765 - val_accuracy: 0.5833\n",
      "Epoch 10/100\n",
      "320/320 [==============================] - 7s 23ms/step - loss: 0.6671 - accuracy: 0.5900 - val_loss: 0.6778 - val_accuracy: 0.5911\n",
      "Epoch 11/100\n",
      "320/320 [==============================] - 8s 24ms/step - loss: 0.6653 - accuracy: 0.5963 - val_loss: 0.6767 - val_accuracy: 0.5748\n",
      "Epoch 12/100\n",
      "320/320 [==============================] - 8s 24ms/step - loss: 0.6648 - accuracy: 0.5969 - val_loss: 0.6795 - val_accuracy: 0.5857\n",
      "Epoch 13/100\n",
      "320/320 [==============================] - 8s 24ms/step - loss: 0.6628 - accuracy: 0.5973 - val_loss: 0.6744 - val_accuracy: 0.5880\n",
      "Epoch 14/100\n",
      "320/320 [==============================] - 8s 25ms/step - loss: 0.6619 - accuracy: 0.6027 - val_loss: 0.6739 - val_accuracy: 0.5864\n",
      "Epoch 15/100\n",
      "320/320 [==============================] - 9s 27ms/step - loss: 0.6595 - accuracy: 0.6053 - val_loss: 0.6735 - val_accuracy: 0.5857\n",
      "Epoch 16/100\n",
      "320/320 [==============================] - 9s 27ms/step - loss: 0.6581 - accuracy: 0.6098 - val_loss: 0.6773 - val_accuracy: 0.5896\n",
      "Epoch 17/100\n",
      "320/320 [==============================] - 10s 32ms/step - loss: 0.6580 - accuracy: 0.6013 - val_loss: 0.6735 - val_accuracy: 0.5841\n",
      "Epoch 18/100\n",
      "320/320 [==============================] - 8s 25ms/step - loss: 0.6587 - accuracy: 0.6116 - val_loss: 0.6791 - val_accuracy: 0.5981\n",
      "Epoch 19/100\n",
      "320/320 [==============================] - 9s 30ms/step - loss: 0.6537 - accuracy: 0.6137 - val_loss: 0.6735 - val_accuracy: 0.5857\n",
      "Epoch 20/100\n",
      "320/320 [==============================] - 10s 30ms/step - loss: 0.6548 - accuracy: 0.6157 - val_loss: 0.6759 - val_accuracy: 0.5927\n",
      "Epoch 21/100\n",
      "320/320 [==============================] - 8s 25ms/step - loss: 0.6527 - accuracy: 0.6134 - val_loss: 0.6869 - val_accuracy: 0.5950\n",
      "Epoch 22/100\n",
      "320/320 [==============================] - 8s 25ms/step - loss: 0.6488 - accuracy: 0.6185 - val_loss: 0.6729 - val_accuracy: 0.5864\n",
      "Epoch 23/100\n",
      "320/320 [==============================] - 8s 25ms/step - loss: 0.6490 - accuracy: 0.6244 - val_loss: 0.6753 - val_accuracy: 0.5896\n",
      "Epoch 24/100\n",
      "320/320 [==============================] - 8s 25ms/step - loss: 0.6478 - accuracy: 0.6260 - val_loss: 0.6795 - val_accuracy: 0.5950\n",
      "Epoch 25/100\n",
      "320/320 [==============================] - 8s 25ms/step - loss: 0.6469 - accuracy: 0.6224 - val_loss: 0.6751 - val_accuracy: 0.5833\n",
      "Epoch 26/100\n",
      "320/320 [==============================] - 8s 25ms/step - loss: 0.6445 - accuracy: 0.6254 - val_loss: 0.6744 - val_accuracy: 0.5763\n",
      "Epoch 27/100\n",
      "320/320 [==============================] - 8s 25ms/step - loss: 0.6471 - accuracy: 0.6289 - val_loss: 0.6800 - val_accuracy: 0.5911\n",
      "Epoch 28/100\n",
      "320/320 [==============================] - 8s 26ms/step - loss: 0.6422 - accuracy: 0.6307 - val_loss: 0.6858 - val_accuracy: 0.5911\n",
      "Epoch 29/100\n",
      "320/320 [==============================] - 9s 27ms/step - loss: 0.6410 - accuracy: 0.6340 - val_loss: 0.6805 - val_accuracy: 0.5857\n",
      "Epoch 30/100\n",
      "320/320 [==============================] - 8s 26ms/step - loss: 0.6399 - accuracy: 0.6340 - val_loss: 0.6744 - val_accuracy: 0.5857\n",
      "Epoch 31/100\n",
      "320/320 [==============================] - 8s 26ms/step - loss: 0.6387 - accuracy: 0.6386 - val_loss: 0.6781 - val_accuracy: 0.5872\n",
      "Epoch 32/100\n",
      "320/320 [==============================] - 8s 25ms/step - loss: 0.6411 - accuracy: 0.6361 - val_loss: 0.6753 - val_accuracy: 0.5981\n",
      "Epoch 33/100\n",
      "320/320 [==============================] - 8s 24ms/step - loss: 0.6419 - accuracy: 0.6372 - val_loss: 0.6774 - val_accuracy: 0.5896\n",
      "Epoch 34/100\n",
      "320/320 [==============================] - 8s 24ms/step - loss: 0.6435 - accuracy: 0.6358 - val_loss: 0.6859 - val_accuracy: 0.5857\n",
      "Epoch 35/100\n",
      "320/320 [==============================] - 8s 25ms/step - loss: 0.6368 - accuracy: 0.6389 - val_loss: 0.6893 - val_accuracy: 0.5763\n",
      "Epoch 36/100\n",
      "320/320 [==============================] - 9s 28ms/step - loss: 0.6386 - accuracy: 0.6359 - val_loss: 0.6783 - val_accuracy: 0.5810\n",
      "Epoch 37/100\n",
      "320/320 [==============================] - 8s 25ms/step - loss: 0.6368 - accuracy: 0.6366 - val_loss: 0.6820 - val_accuracy: 0.5958\n",
      "Epoch 38/100\n",
      "320/320 [==============================] - 9s 27ms/step - loss: 0.6300 - accuracy: 0.6496 - val_loss: 0.6817 - val_accuracy: 0.5927\n",
      "Epoch 39/100\n",
      "320/320 [==============================] - 8s 24ms/step - loss: 0.6295 - accuracy: 0.6493 - val_loss: 0.6760 - val_accuracy: 0.5935\n",
      "Epoch 40/100\n",
      "320/320 [==============================] - 8s 25ms/step - loss: 0.6287 - accuracy: 0.6485 - val_loss: 0.6796 - val_accuracy: 0.5896\n",
      "Epoch 41/100\n",
      "320/320 [==============================] - 8s 26ms/step - loss: 0.6594 - accuracy: 0.6048 - val_loss: 0.6998 - val_accuracy: 0.5202\n",
      "Epoch 42/100\n",
      "320/320 [==============================] - 9s 29ms/step - loss: 0.6792 - accuracy: 0.5645 - val_loss: 0.6849 - val_accuracy: 0.5662\n",
      "Epoch 43/100\n",
      "320/320 [==============================] - 9s 29ms/step - loss: 0.6489 - accuracy: 0.6219 - val_loss: 0.6796 - val_accuracy: 0.6028\n",
      "Epoch 44/100\n",
      "320/320 [==============================] - 8s 26ms/step - loss: 0.6409 - accuracy: 0.6371 - val_loss: 0.6942 - val_accuracy: 0.5942\n",
      "Epoch 45/100\n",
      "320/320 [==============================] - 9s 28ms/step - loss: 0.6287 - accuracy: 0.6524 - val_loss: 0.6871 - val_accuracy: 0.6005\n",
      "Epoch 46/100\n",
      "320/320 [==============================] - 8s 25ms/step - loss: 0.6664 - accuracy: 0.6040 - val_loss: 0.6802 - val_accuracy: 0.5569\n",
      "Epoch 47/100\n",
      "320/320 [==============================] - 8s 26ms/step - loss: 0.6499 - accuracy: 0.6292 - val_loss: 0.6849 - val_accuracy: 0.5802\n",
      "Epoch 48/100\n",
      "320/320 [==============================] - 8s 25ms/step - loss: 0.6511 - accuracy: 0.6203 - val_loss: 0.6799 - val_accuracy: 0.5950\n",
      "Epoch 49/100\n",
      "320/320 [==============================] - 9s 28ms/step - loss: 0.6394 - accuracy: 0.6310 - val_loss: 0.6780 - val_accuracy: 0.5935\n",
      "Epoch 50/100\n",
      "320/320 [==============================] - 9s 29ms/step - loss: 0.6288 - accuracy: 0.6473 - val_loss: 0.6705 - val_accuracy: 0.6044\n",
      "Epoch 51/100\n",
      "320/320 [==============================] - 10s 31ms/step - loss: 0.6327 - accuracy: 0.6458 - val_loss: 0.6846 - val_accuracy: 0.6028\n",
      "Epoch 52/100\n",
      "320/320 [==============================] - 9s 29ms/step - loss: 0.6286 - accuracy: 0.6552 - val_loss: 0.6764 - val_accuracy: 0.5903\n",
      "Epoch 53/100\n",
      "320/320 [==============================] - 8s 26ms/step - loss: 0.6286 - accuracy: 0.6501 - val_loss: 0.6702 - val_accuracy: 0.5942\n",
      "Epoch 54/100\n",
      "320/320 [==============================] - 9s 27ms/step - loss: 0.6314 - accuracy: 0.6456 - val_loss: 0.6787 - val_accuracy: 0.6005\n",
      "Epoch 55/100\n",
      "320/320 [==============================] - 9s 28ms/step - loss: 0.6251 - accuracy: 0.6552 - val_loss: 0.6726 - val_accuracy: 0.6005\n",
      "Epoch 56/100\n",
      "320/320 [==============================] - 9s 29ms/step - loss: 0.6435 - accuracy: 0.6253 - val_loss: 0.6802 - val_accuracy: 0.5919\n",
      "Epoch 57/100\n",
      "320/320 [==============================] - 9s 28ms/step - loss: 0.6243 - accuracy: 0.6570 - val_loss: 0.6829 - val_accuracy: 0.5732\n",
      "Epoch 58/100\n",
      "320/320 [==============================] - 9s 30ms/step - loss: 0.6282 - accuracy: 0.6515 - val_loss: 0.6807 - val_accuracy: 0.5919\n",
      "Epoch 59/100\n",
      "320/320 [==============================] - 9s 28ms/step - loss: 0.6208 - accuracy: 0.6605 - val_loss: 0.6817 - val_accuracy: 0.5810\n",
      "Epoch 60/100\n",
      "320/320 [==============================] - 9s 27ms/step - loss: 0.6177 - accuracy: 0.6621 - val_loss: 0.6825 - val_accuracy: 0.5833\n",
      "Epoch 61/100\n",
      "320/320 [==============================] - 9s 27ms/step - loss: 0.6152 - accuracy: 0.6666 - val_loss: 0.6889 - val_accuracy: 0.5950\n",
      "Epoch 62/100\n",
      "320/320 [==============================] - 8s 25ms/step - loss: 0.6163 - accuracy: 0.6668 - val_loss: 0.6981 - val_accuracy: 0.6005\n",
      "Epoch 63/100\n",
      "320/320 [==============================] - 8s 26ms/step - loss: 0.6201 - accuracy: 0.6630 - val_loss: 0.6775 - val_accuracy: 0.5903\n",
      "Epoch 64/100\n",
      "320/320 [==============================] - 8s 25ms/step - loss: 0.6280 - accuracy: 0.6570 - val_loss: 0.6873 - val_accuracy: 0.5997\n",
      "Epoch 65/100\n",
      "320/320 [==============================] - 8s 25ms/step - loss: 0.6171 - accuracy: 0.6631 - val_loss: 0.6877 - val_accuracy: 0.5911\n",
      "Epoch 66/100\n",
      "320/320 [==============================] - 8s 26ms/step - loss: 0.6125 - accuracy: 0.6671 - val_loss: 0.6797 - val_accuracy: 0.5942\n",
      "Epoch 67/100\n",
      "320/320 [==============================] - 8s 26ms/step - loss: 0.6127 - accuracy: 0.6677 - val_loss: 0.6868 - val_accuracy: 0.5950\n",
      "Epoch 68/100\n",
      "320/320 [==============================] - 8s 25ms/step - loss: 0.6169 - accuracy: 0.6614 - val_loss: 0.6839 - val_accuracy: 0.5896\n",
      "Epoch 69/100\n",
      "320/320 [==============================] - 8s 25ms/step - loss: 0.6076 - accuracy: 0.6738 - val_loss: 0.6816 - val_accuracy: 0.5966\n",
      "Epoch 70/100\n",
      "320/320 [==============================] - 8s 25ms/step - loss: 0.6061 - accuracy: 0.6734 - val_loss: 0.6926 - val_accuracy: 0.5919\n",
      "Epoch 71/100\n",
      "320/320 [==============================] - 9s 27ms/step - loss: 0.6030 - accuracy: 0.6747 - val_loss: 0.6918 - val_accuracy: 0.6036\n",
      "Epoch 72/100\n",
      "320/320 [==============================] - 8s 26ms/step - loss: 0.6060 - accuracy: 0.6702 - val_loss: 0.6806 - val_accuracy: 0.5872\n",
      "Epoch 73/100\n",
      "320/320 [==============================] - 8s 25ms/step - loss: 0.5987 - accuracy: 0.6817 - val_loss: 0.6794 - val_accuracy: 0.5903\n",
      "Epoch 74/100\n",
      "320/320 [==============================] - 8s 26ms/step - loss: 0.6026 - accuracy: 0.6758 - val_loss: 0.7016 - val_accuracy: 0.5981\n",
      "Epoch 75/100\n",
      "320/320 [==============================] - 9s 27ms/step - loss: 0.6014 - accuracy: 0.6774 - val_loss: 0.6888 - val_accuracy: 0.5997\n",
      "Epoch 76/100\n",
      "320/320 [==============================] - 10s 30ms/step - loss: 0.6072 - accuracy: 0.6759 - val_loss: 0.6919 - val_accuracy: 0.5958\n",
      "Epoch 77/100\n",
      "320/320 [==============================] - 9s 29ms/step - loss: 0.5947 - accuracy: 0.6870 - val_loss: 0.6880 - val_accuracy: 0.5880\n",
      "Epoch 78/100\n",
      "320/320 [==============================] - 9s 30ms/step - loss: 0.5971 - accuracy: 0.6798 - val_loss: 0.6873 - val_accuracy: 0.5794\n",
      "Epoch 79/100\n",
      "320/320 [==============================] - 9s 27ms/step - loss: 0.5976 - accuracy: 0.6802 - val_loss: 0.6899 - val_accuracy: 0.5942\n",
      "Epoch 80/100\n",
      "320/320 [==============================] - 9s 27ms/step - loss: 0.5922 - accuracy: 0.6847 - val_loss: 0.7014 - val_accuracy: 0.5981\n",
      "Epoch 81/100\n",
      "320/320 [==============================] - 9s 27ms/step - loss: 0.5892 - accuracy: 0.6868 - val_loss: 0.7000 - val_accuracy: 0.5857\n",
      "Epoch 82/100\n",
      "320/320 [==============================] - 8s 26ms/step - loss: 0.5981 - accuracy: 0.6818 - val_loss: 0.6968 - val_accuracy: 0.5771\n",
      "Epoch 83/100\n",
      "320/320 [==============================] - 9s 27ms/step - loss: 0.5930 - accuracy: 0.6871 - val_loss: 0.7074 - val_accuracy: 0.5833\n",
      "Epoch 84/100\n",
      "320/320 [==============================] - 10s 31ms/step - loss: 0.5897 - accuracy: 0.6854 - val_loss: 0.7231 - val_accuracy: 0.5802\n",
      "Epoch 85/100\n",
      "320/320 [==============================] - 10s 33ms/step - loss: 0.5883 - accuracy: 0.6886 - val_loss: 0.7034 - val_accuracy: 0.5927\n",
      "Epoch 86/100\n",
      "320/320 [==============================] - 9s 30ms/step - loss: 0.5971 - accuracy: 0.6774 - val_loss: 0.7062 - val_accuracy: 0.5927\n",
      "Epoch 87/100\n",
      "320/320 [==============================] - 9s 30ms/step - loss: 0.5868 - accuracy: 0.6886 - val_loss: 0.7287 - val_accuracy: 0.5903\n",
      "Epoch 88/100\n",
      "320/320 [==============================] - 10s 30ms/step - loss: 0.5792 - accuracy: 0.6978 - val_loss: 0.7155 - val_accuracy: 0.5942\n",
      "Epoch 89/100\n",
      "320/320 [==============================] - 10s 33ms/step - loss: 0.5810 - accuracy: 0.6972 - val_loss: 0.7044 - val_accuracy: 0.5966\n",
      "Epoch 90/100\n",
      "320/320 [==============================] - 11s 33ms/step - loss: 0.5781 - accuracy: 0.6984 - val_loss: 0.7054 - val_accuracy: 0.5841\n",
      "Epoch 91/100\n",
      "320/320 [==============================] - 11s 34ms/step - loss: 0.5742 - accuracy: 0.7050 - val_loss: 0.7191 - val_accuracy: 0.5966\n",
      "Epoch 92/100\n",
      "320/320 [==============================] - 10s 32ms/step - loss: 0.5727 - accuracy: 0.7055 - val_loss: 0.6987 - val_accuracy: 0.6005\n",
      "Epoch 93/100\n",
      "320/320 [==============================] - 10s 30ms/step - loss: 0.5762 - accuracy: 0.7016 - val_loss: 0.7242 - val_accuracy: 0.5857\n",
      "Epoch 94/100\n",
      "320/320 [==============================] - 9s 29ms/step - loss: 0.5696 - accuracy: 0.7062 - val_loss: 0.7245 - val_accuracy: 0.5935\n",
      "Epoch 95/100\n",
      "320/320 [==============================] - 10s 31ms/step - loss: 0.5746 - accuracy: 0.7059 - val_loss: 0.7267 - val_accuracy: 0.5989\n",
      "Epoch 96/100\n",
      "320/320 [==============================] - 9s 28ms/step - loss: 0.5827 - accuracy: 0.6948 - val_loss: 0.7220 - val_accuracy: 0.5997\n",
      "Epoch 97/100\n",
      "320/320 [==============================] - 8s 26ms/step - loss: 0.5683 - accuracy: 0.7044 - val_loss: 0.7295 - val_accuracy: 0.5950\n",
      "Epoch 98/100\n",
      "320/320 [==============================] - 9s 27ms/step - loss: 0.5636 - accuracy: 0.7139 - val_loss: 0.7208 - val_accuracy: 0.5989\n",
      "Epoch 99/100\n",
      "320/320 [==============================] - 9s 29ms/step - loss: 0.5682 - accuracy: 0.7070 - val_loss: 0.7159 - val_accuracy: 0.5857\n",
      "Epoch 100/100\n",
      "320/320 [==============================] - 9s 29ms/step - loss: 0.5662 - accuracy: 0.7093 - val_loss: 0.7266 - val_accuracy: 0.5888\n"
     ]
    }
   ],
   "source": [
    "#Save the best model\n",
    "filepath = './nn_models/rnn_regularization.hdf5'\n",
    "\n",
    "checkpoint = ModelCheckpoint(filepath=filepath,\n",
    "                                monitor='val_loss',\n",
    "                                verbose=1,\n",
    "                                save_best_only=True,\n",
    "                                mode='min')\n",
    "callbacks = [checkpoint]\n",
    "history6 = model6.fit(X_t, y, epochs=100, batch_size=32, validation_data=(X_v, y_v))"
   ]
  },
  {
   "cell_type": "code",
   "execution_count": 237,
   "id": "cde80db8-3f6a-4277-b8b4-59da94e249a2",
   "metadata": {},
   "outputs": [
    {
     "data": {
      "image/png": "[encoded data removed]",
      "text/plain": [
       "<Figure size 432x288 with 1 Axes>"
      ]
     },
     "metadata": {
      "needs_background": "light"
     },
     "output_type": "display_data"
    }
   ],
   "source": [
    "plt.plot(history6.history['loss'], label='training data')\n",
    "plt.plot(history6.history['val_loss'], label='validation data')\n",
    "plt.title('Loss for Text Classification')\n",
    "plt.ylabel('Loss Value')\n",
    "plt.xlabel('No. epoch')\n",
    "plt.legend(loc='upper right')\n",
    "plt.show()"
   ]
  },
  {
   "cell_type": "code",
   "execution_count": 238,
   "id": "a1248a40-2169-4b2d-b4cd-41e73dc5b0e7",
   "metadata": {},
   "outputs": [
    {
     "data": {
      "image/png": "[encoded data removed]",
      "text/plain": [
       "<Figure size 432x288 with 1 Axes>"
      ]
     },
     "metadata": {
      "needs_background": "light"
     },
     "output_type": "display_data"
    }
   ],
   "source": [
    "plt.plot(history6.history['accuracy'], label='training data')\n",
    "plt.plot(history6.history['val_accuracy'], label='validation data')\n",
    "plt.title('Categorical Accuracy for Text Classification')\n",
    "plt.ylabel('Categorical Accuracy Value')\n",
    "plt.xlabel('No. epoch')\n",
    "plt.legend(loc='upper left')\n",
    "plt.show()"
   ]
  },
  {
   "cell_type": "code",
   "execution_count": 239,
   "id": "70c115cf-24ba-4e66-9a39-70f0f0751eaf",
   "metadata": {},
   "outputs": [
    {
     "name": "stdout",
     "output_type": "stream",
     "text": [
      "Model: \"sequential_23\"\n",
      "_________________________________________________________________\n",
      " Layer (type)                Output Shape              Param #   \n",
      "=================================================================\n",
      " embedding_24 (Embedding)    (None, None, 128)         2560000   \n",
      "                                                                 \n",
      " lstm_24 (LSTM)              (None, None, 25)          15400     \n",
      "                                                                 \n",
      " dropout_18 (Dropout)        (None, None, 25)          0         \n",
      "                                                                 \n",
      " global_max_pooling1d_19 (Gl  (None, 25)               0         \n",
      " obalMaxPooling1D)                                               \n",
      "                                                                 \n",
      " dense_47 (Dense)            (None, 50)                1300      \n",
      "                                                                 \n",
      " dropout_19 (Dropout)        (None, 50)                0         \n",
      "                                                                 \n",
      " dense_48 (Dense)            (None, 2)                 102       \n",
      "                                                                 \n",
      "=================================================================\n",
      "Total params: 2,576,802\n",
      "Trainable params: 16,802\n",
      "Non-trainable params: 2,560,000\n",
      "_________________________________________________________________\n"
     ]
    }
   ],
   "source": [
    "model7 = Sequential()\n",
    "embedding_size = 128\n",
    "model7.add(Embedding(20000, embedding_size))\n",
    "model7.add(LSTM(25, return_sequences=True))\n",
    "model7.add(Dropout(0.1))\n",
    "model7.add(GlobalMaxPool1D())\n",
    "model7.add(Dense(50, activation='relu', kernel_regularizer=regularizers.l2(0.1)))\n",
    "model7.add(Dropout(0.1))\n",
    "model7.add(Dense(2, activation='sigmoid'))\n",
    "\n",
    "model7.layers[0].trainable = False\n",
    "\n",
    "model7.compile(loss='categorical_crossentropy', \n",
    "              optimizer='adam', \n",
    "              metrics=['accuracy'])\n",
    "\n",
    "model7.summary()"
   ]
  },
  {
   "cell_type": "code",
   "execution_count": 240,
   "id": "ffda63bb-f798-41d6-af38-2b2b0ec92194",
   "metadata": {},
   "outputs": [
    {
     "name": "stdout",
     "output_type": "stream",
     "text": [
      "Epoch 1/100\n",
      "320/320 [==============================] - 13s 28ms/step - loss: 1.5508 - accuracy: 0.5595 - val_loss: 0.7437 - val_accuracy: 0.5202\n",
      "Epoch 2/100\n",
      "320/320 [==============================] - 8s 24ms/step - loss: 0.6949 - accuracy: 0.5617 - val_loss: 0.6940 - val_accuracy: 0.5202\n",
      "Epoch 3/100\n",
      "320/320 [==============================] - 7s 23ms/step - loss: 0.6857 - accuracy: 0.5617 - val_loss: 0.6947 - val_accuracy: 0.5202\n",
      "Epoch 4/100\n",
      "320/320 [==============================] - 7s 23ms/step - loss: 0.6834 - accuracy: 0.5617 - val_loss: 0.6900 - val_accuracy: 0.5202\n",
      "Epoch 5/100\n",
      "320/320 [==============================] - 7s 23ms/step - loss: 0.6843 - accuracy: 0.5617 - val_loss: 0.6926 - val_accuracy: 0.5202\n",
      "Epoch 6/100\n",
      "320/320 [==============================] - 8s 24ms/step - loss: 0.6796 - accuracy: 0.5623 - val_loss: 0.6912 - val_accuracy: 0.5202\n",
      "Epoch 7/100\n",
      "320/320 [==============================] - 8s 24ms/step - loss: 0.6772 - accuracy: 0.5696 - val_loss: 0.6847 - val_accuracy: 0.5678\n",
      "Epoch 8/100\n",
      "320/320 [==============================] - 8s 26ms/step - loss: 0.6747 - accuracy: 0.5837 - val_loss: 0.6844 - val_accuracy: 0.5771\n",
      "Epoch 9/100\n",
      "320/320 [==============================] - 8s 24ms/step - loss: 0.6716 - accuracy: 0.5886 - val_loss: 0.6834 - val_accuracy: 0.5709\n",
      "Epoch 10/100\n",
      "320/320 [==============================] - 8s 25ms/step - loss: 0.6702 - accuracy: 0.5897 - val_loss: 0.6845 - val_accuracy: 0.5717\n",
      "Epoch 11/100\n",
      "320/320 [==============================] - 8s 25ms/step - loss: 0.6706 - accuracy: 0.5879 - val_loss: 0.6872 - val_accuracy: 0.5717\n",
      "Epoch 12/100\n",
      "320/320 [==============================] - 8s 25ms/step - loss: 0.6681 - accuracy: 0.5906 - val_loss: 0.6930 - val_accuracy: 0.5755\n",
      "Epoch 13/100\n",
      "320/320 [==============================] - 8s 25ms/step - loss: 0.6678 - accuracy: 0.5935 - val_loss: 0.6882 - val_accuracy: 0.5849\n",
      "Epoch 14/100\n",
      "320/320 [==============================] - 8s 25ms/step - loss: 0.6676 - accuracy: 0.5926 - val_loss: 0.6873 - val_accuracy: 0.5693\n",
      "Epoch 15/100\n",
      "320/320 [==============================] - 8s 27ms/step - loss: 0.6674 - accuracy: 0.5963 - val_loss: 0.6875 - val_accuracy: 0.5709\n",
      "Epoch 16/100\n",
      "320/320 [==============================] - 8s 26ms/step - loss: 0.6659 - accuracy: 0.6007 - val_loss: 0.6844 - val_accuracy: 0.5444\n",
      "Epoch 17/100\n",
      "320/320 [==============================] - 8s 26ms/step - loss: 0.6659 - accuracy: 0.6005 - val_loss: 0.6841 - val_accuracy: 0.5748\n",
      "Epoch 18/100\n",
      "320/320 [==============================] - 9s 27ms/step - loss: 0.6658 - accuracy: 0.6000 - val_loss: 0.6860 - val_accuracy: 0.5763\n",
      "Epoch 19/100\n",
      "320/320 [==============================] - 8s 26ms/step - loss: 0.6644 - accuracy: 0.6020 - val_loss: 0.6835 - val_accuracy: 0.5483\n",
      "Epoch 20/100\n",
      "320/320 [==============================] - 8s 26ms/step - loss: 0.6653 - accuracy: 0.6026 - val_loss: 0.6845 - val_accuracy: 0.5724\n",
      "Epoch 21/100\n",
      "320/320 [==============================] - 9s 27ms/step - loss: 0.6643 - accuracy: 0.6003 - val_loss: 0.6944 - val_accuracy: 0.5693\n",
      "Epoch 22/100\n",
      "320/320 [==============================] - 9s 28ms/step - loss: 0.6622 - accuracy: 0.6087 - val_loss: 0.6900 - val_accuracy: 0.5709\n",
      "Epoch 23/100\n",
      "320/320 [==============================] - 8s 26ms/step - loss: 0.6628 - accuracy: 0.6020 - val_loss: 0.6867 - val_accuracy: 0.5413\n",
      "Epoch 24/100\n",
      "320/320 [==============================] - 8s 26ms/step - loss: 0.6634 - accuracy: 0.5972 - val_loss: 0.6868 - val_accuracy: 0.5724\n",
      "Epoch 25/100\n",
      "320/320 [==============================] - 9s 27ms/step - loss: 0.6619 - accuracy: 0.6058 - val_loss: 0.6889 - val_accuracy: 0.5405\n",
      "Epoch 26/100\n",
      "320/320 [==============================] - 9s 27ms/step - loss: 0.6596 - accuracy: 0.6092 - val_loss: 0.6973 - val_accuracy: 0.5670\n",
      "Epoch 27/100\n",
      "320/320 [==============================] - 8s 26ms/step - loss: 0.6603 - accuracy: 0.6063 - val_loss: 0.6933 - val_accuracy: 0.5717\n",
      "Epoch 28/100\n",
      "320/320 [==============================] - 8s 26ms/step - loss: 0.6591 - accuracy: 0.6103 - val_loss: 0.6871 - val_accuracy: 0.5717\n",
      "Epoch 29/100\n",
      "320/320 [==============================] - 8s 26ms/step - loss: 0.6584 - accuracy: 0.6113 - val_loss: 0.6894 - val_accuracy: 0.5678\n",
      "Epoch 30/100\n",
      "320/320 [==============================] - 9s 27ms/step - loss: 0.6564 - accuracy: 0.6169 - val_loss: 0.6848 - val_accuracy: 0.5623\n",
      "Epoch 31/100\n",
      "320/320 [==============================] - 8s 25ms/step - loss: 0.6566 - accuracy: 0.6149 - val_loss: 0.6936 - val_accuracy: 0.5607\n",
      "Epoch 32/100\n",
      "320/320 [==============================] - 8s 25ms/step - loss: 0.6572 - accuracy: 0.6167 - val_loss: 0.6850 - val_accuracy: 0.5592\n",
      "Epoch 33/100\n",
      "320/320 [==============================] - 8s 25ms/step - loss: 0.6568 - accuracy: 0.6148 - val_loss: 0.6887 - val_accuracy: 0.5592\n",
      "Epoch 34/100\n",
      "320/320 [==============================] - 9s 27ms/step - loss: 0.6531 - accuracy: 0.6210 - val_loss: 0.6905 - val_accuracy: 0.5701\n",
      "Epoch 35/100\n",
      "320/320 [==============================] - 8s 26ms/step - loss: 0.6538 - accuracy: 0.6178 - val_loss: 0.6948 - val_accuracy: 0.5701\n",
      "Epoch 36/100\n",
      "320/320 [==============================] - 8s 26ms/step - loss: 0.6520 - accuracy: 0.6246 - val_loss: 0.6985 - val_accuracy: 0.5678\n",
      "Epoch 37/100\n",
      "320/320 [==============================] - 9s 27ms/step - loss: 0.6526 - accuracy: 0.6208 - val_loss: 0.6941 - val_accuracy: 0.5646\n",
      "Epoch 38/100\n",
      "320/320 [==============================] - 8s 26ms/step - loss: 0.6493 - accuracy: 0.6276 - val_loss: 0.6914 - val_accuracy: 0.5530\n",
      "Epoch 39/100\n",
      "320/320 [==============================] - 8s 26ms/step - loss: 0.6497 - accuracy: 0.6293 - val_loss: 0.6967 - val_accuracy: 0.5623\n",
      "Epoch 40/100\n",
      "320/320 [==============================] - 8s 26ms/step - loss: 0.6499 - accuracy: 0.6314 - val_loss: 0.6909 - val_accuracy: 0.5600\n",
      "Epoch 41/100\n",
      "320/320 [==============================] - 8s 26ms/step - loss: 0.6469 - accuracy: 0.6296 - val_loss: 0.6944 - val_accuracy: 0.5545\n",
      "Epoch 42/100\n",
      "320/320 [==============================] - 8s 26ms/step - loss: 0.6465 - accuracy: 0.6351 - val_loss: 0.6931 - val_accuracy: 0.5592\n",
      "Epoch 43/100\n",
      "320/320 [==============================] - 10s 30ms/step - loss: 0.6476 - accuracy: 0.6312 - val_loss: 0.6855 - val_accuracy: 0.5537\n",
      "Epoch 44/100\n",
      "320/320 [==============================] - 9s 28ms/step - loss: 0.6479 - accuracy: 0.6344 - val_loss: 0.6927 - val_accuracy: 0.5514\n",
      "Epoch 45/100\n",
      "320/320 [==============================] - 8s 25ms/step - loss: 0.6467 - accuracy: 0.6337 - val_loss: 0.6998 - val_accuracy: 0.5537\n",
      "Epoch 46/100\n",
      "320/320 [==============================] - 8s 25ms/step - loss: 0.6428 - accuracy: 0.6385 - val_loss: 0.7033 - val_accuracy: 0.5623\n",
      "Epoch 47/100\n",
      "320/320 [==============================] - 9s 29ms/step - loss: 0.6450 - accuracy: 0.6360 - val_loss: 0.6987 - val_accuracy: 0.5522\n",
      "Epoch 48/100\n",
      "320/320 [==============================] - 8s 26ms/step - loss: 0.6452 - accuracy: 0.6313 - val_loss: 0.6892 - val_accuracy: 0.5561\n",
      "Epoch 49/100\n",
      "320/320 [==============================] - 9s 27ms/step - loss: 0.6436 - accuracy: 0.6381 - val_loss: 0.6913 - val_accuracy: 0.5545\n",
      "Epoch 50/100\n",
      "320/320 [==============================] - 9s 27ms/step - loss: 0.6412 - accuracy: 0.6420 - val_loss: 0.6957 - val_accuracy: 0.5498\n",
      "Epoch 51/100\n",
      "320/320 [==============================] - 9s 27ms/step - loss: 0.6407 - accuracy: 0.6398 - val_loss: 0.7079 - val_accuracy: 0.5530\n",
      "Epoch 52/100\n",
      "320/320 [==============================] - 8s 26ms/step - loss: 0.6413 - accuracy: 0.6433 - val_loss: 0.6943 - val_accuracy: 0.5639\n",
      "Epoch 53/100\n",
      "320/320 [==============================] - 8s 25ms/step - loss: 0.6389 - accuracy: 0.6430 - val_loss: 0.7050 - val_accuracy: 0.5460\n",
      "Epoch 54/100\n",
      "320/320 [==============================] - 9s 28ms/step - loss: 0.6365 - accuracy: 0.6454 - val_loss: 0.6836 - val_accuracy: 0.5709\n",
      "Epoch 55/100\n",
      "320/320 [==============================] - 9s 27ms/step - loss: 0.6437 - accuracy: 0.6365 - val_loss: 0.7098 - val_accuracy: 0.5444\n",
      "Epoch 56/100\n",
      "320/320 [==============================] - 9s 27ms/step - loss: 0.6390 - accuracy: 0.6431 - val_loss: 0.7035 - val_accuracy: 0.5421\n",
      "Epoch 57/100\n",
      "320/320 [==============================] - 8s 26ms/step - loss: 0.6362 - accuracy: 0.6477 - val_loss: 0.7172 - val_accuracy: 0.5537\n",
      "Epoch 58/100\n",
      "320/320 [==============================] - 9s 27ms/step - loss: 0.6367 - accuracy: 0.6495 - val_loss: 0.7024 - val_accuracy: 0.5498\n",
      "Epoch 59/100\n",
      "320/320 [==============================] - 9s 27ms/step - loss: 0.6357 - accuracy: 0.6490 - val_loss: 0.6991 - val_accuracy: 0.5514\n",
      "Epoch 60/100\n",
      "320/320 [==============================] - 9s 27ms/step - loss: 0.6336 - accuracy: 0.6501 - val_loss: 0.7041 - val_accuracy: 0.5498\n",
      "Epoch 61/100\n",
      "320/320 [==============================] - 9s 27ms/step - loss: 0.6368 - accuracy: 0.6486 - val_loss: 0.6908 - val_accuracy: 0.5545\n",
      "Epoch 62/100\n",
      "320/320 [==============================] - 9s 27ms/step - loss: 0.6350 - accuracy: 0.6446 - val_loss: 0.7018 - val_accuracy: 0.5506\n",
      "Epoch 63/100\n",
      "320/320 [==============================] - 9s 27ms/step - loss: 0.6356 - accuracy: 0.6510 - val_loss: 0.6962 - val_accuracy: 0.5483\n",
      "Epoch 64/100\n",
      "320/320 [==============================] - 9s 28ms/step - loss: 0.6326 - accuracy: 0.6544 - val_loss: 0.6989 - val_accuracy: 0.5460\n",
      "Epoch 65/100\n",
      "320/320 [==============================] - 10s 33ms/step - loss: 0.6445 - accuracy: 0.6345 - val_loss: 0.7047 - val_accuracy: 0.5491\n",
      "Epoch 66/100\n",
      "320/320 [==============================] - 10s 30ms/step - loss: 0.6334 - accuracy: 0.6535 - val_loss: 0.6974 - val_accuracy: 0.5475\n",
      "Epoch 67/100\n",
      "320/320 [==============================] - 10s 30ms/step - loss: 0.6337 - accuracy: 0.6533 - val_loss: 0.7105 - val_accuracy: 0.5537\n",
      "Epoch 68/100\n",
      "320/320 [==============================] - 10s 31ms/step - loss: 0.6339 - accuracy: 0.6502 - val_loss: 0.6998 - val_accuracy: 0.5475\n",
      "Epoch 69/100\n",
      "320/320 [==============================] - 10s 30ms/step - loss: 0.6300 - accuracy: 0.6545 - val_loss: 0.7048 - val_accuracy: 0.5514\n",
      "Epoch 70/100\n",
      "320/320 [==============================] - 9s 28ms/step - loss: 0.6283 - accuracy: 0.6607 - val_loss: 0.7045 - val_accuracy: 0.5444\n",
      "Epoch 71/100\n",
      "320/320 [==============================] - 8s 26ms/step - loss: 0.6332 - accuracy: 0.6488 - val_loss: 0.7128 - val_accuracy: 0.5491\n",
      "Epoch 72/100\n",
      "320/320 [==============================] - 8s 26ms/step - loss: 0.6279 - accuracy: 0.6580 - val_loss: 0.7107 - val_accuracy: 0.5483\n",
      "Epoch 73/100\n",
      "320/320 [==============================] - 8s 26ms/step - loss: 0.6275 - accuracy: 0.6612 - val_loss: 0.7004 - val_accuracy: 0.5553\n",
      "Epoch 74/100\n",
      "320/320 [==============================] - 8s 27ms/step - loss: 0.6287 - accuracy: 0.6603 - val_loss: 0.7119 - val_accuracy: 0.5615\n",
      "Epoch 75/100\n",
      "320/320 [==============================] - 8s 26ms/step - loss: 0.6232 - accuracy: 0.6640 - val_loss: 0.7337 - val_accuracy: 0.5514\n",
      "Epoch 76/100\n",
      "320/320 [==============================] - 8s 25ms/step - loss: 0.6239 - accuracy: 0.6639 - val_loss: 0.7288 - val_accuracy: 0.5576\n",
      "Epoch 77/100\n",
      "320/320 [==============================] - 9s 27ms/step - loss: 0.6247 - accuracy: 0.6646 - val_loss: 0.7125 - val_accuracy: 0.5389\n",
      "Epoch 78/100\n",
      "320/320 [==============================] - 8s 26ms/step - loss: 0.6270 - accuracy: 0.6612 - val_loss: 0.7132 - val_accuracy: 0.5491\n",
      "Epoch 79/100\n",
      "320/320 [==============================] - 8s 25ms/step - loss: 0.6226 - accuracy: 0.6646 - val_loss: 0.7203 - val_accuracy: 0.5475\n",
      "Epoch 80/100\n",
      "320/320 [==============================] - 8s 25ms/step - loss: 0.6176 - accuracy: 0.6711 - val_loss: 0.7158 - val_accuracy: 0.5467\n",
      "Epoch 81/100\n",
      "320/320 [==============================] - 8s 26ms/step - loss: 0.6234 - accuracy: 0.6645 - val_loss: 0.7120 - val_accuracy: 0.5491\n",
      "Epoch 82/100\n",
      "320/320 [==============================] - 9s 27ms/step - loss: 0.6198 - accuracy: 0.6662 - val_loss: 0.7227 - val_accuracy: 0.5631\n",
      "Epoch 83/100\n",
      "320/320 [==============================] - 9s 27ms/step - loss: 0.6155 - accuracy: 0.6736 - val_loss: 0.7140 - val_accuracy: 0.5428\n",
      "Epoch 84/100\n",
      "320/320 [==============================] - 9s 28ms/step - loss: 0.6153 - accuracy: 0.6705 - val_loss: 0.7181 - val_accuracy: 0.5389\n",
      "Epoch 85/100\n",
      "320/320 [==============================] - 8s 26ms/step - loss: 0.6195 - accuracy: 0.6635 - val_loss: 0.7070 - val_accuracy: 0.5545\n",
      "Epoch 86/100\n",
      "320/320 [==============================] - 9s 29ms/step - loss: 0.6154 - accuracy: 0.6712 - val_loss: 0.7211 - val_accuracy: 0.5374\n",
      "Epoch 87/100\n",
      "320/320 [==============================] - 11s 34ms/step - loss: 0.6166 - accuracy: 0.6691 - val_loss: 0.7188 - val_accuracy: 0.5405\n",
      "Epoch 88/100\n",
      "320/320 [==============================] - 9s 29ms/step - loss: 0.6196 - accuracy: 0.6654 - val_loss: 0.7077 - val_accuracy: 0.5452\n",
      "Epoch 89/100\n",
      "320/320 [==============================] - 9s 29ms/step - loss: 0.6117 - accuracy: 0.6718 - val_loss: 0.7196 - val_accuracy: 0.5537\n",
      "Epoch 90/100\n",
      "320/320 [==============================] - 9s 30ms/step - loss: 0.6207 - accuracy: 0.6634 - val_loss: 0.6981 - val_accuracy: 0.5678\n",
      "Epoch 91/100\n",
      "320/320 [==============================] - 8s 26ms/step - loss: 0.6324 - accuracy: 0.6534 - val_loss: 0.7226 - val_accuracy: 0.5545\n",
      "Epoch 92/100\n",
      "320/320 [==============================] - 9s 27ms/step - loss: 0.6157 - accuracy: 0.6748 - val_loss: 0.7239 - val_accuracy: 0.5475\n",
      "Epoch 93/100\n",
      "320/320 [==============================] - 9s 28ms/step - loss: 0.6296 - accuracy: 0.6531 - val_loss: 0.6923 - val_accuracy: 0.5413\n",
      "Epoch 94/100\n",
      "320/320 [==============================] - 9s 28ms/step - loss: 0.6386 - accuracy: 0.6474 - val_loss: 0.7069 - val_accuracy: 0.5678\n",
      "Epoch 95/100\n",
      "320/320 [==============================] - 9s 28ms/step - loss: 0.6186 - accuracy: 0.6697 - val_loss: 0.6987 - val_accuracy: 0.5639\n",
      "Epoch 96/100\n",
      "320/320 [==============================] - 9s 29ms/step - loss: 0.6136 - accuracy: 0.6732 - val_loss: 0.7282 - val_accuracy: 0.5576\n",
      "Epoch 97/100\n",
      "320/320 [==============================] - 9s 27ms/step - loss: 0.6070 - accuracy: 0.6765 - val_loss: 0.7148 - val_accuracy: 0.5615\n",
      "Epoch 98/100\n",
      "320/320 [==============================] - 10s 31ms/step - loss: 0.6050 - accuracy: 0.6821 - val_loss: 0.7164 - val_accuracy: 0.5561\n",
      "Epoch 99/100\n",
      "320/320 [==============================] - 9s 30ms/step - loss: 0.6121 - accuracy: 0.6739 - val_loss: 0.7177 - val_accuracy: 0.5545\n",
      "Epoch 100/100\n",
      "320/320 [==============================] - 9s 27ms/step - loss: 0.6067 - accuracy: 0.6790 - val_loss: 0.7153 - val_accuracy: 0.5530\n"
     ]
    }
   ],
   "source": [
    "#Save the best model\n",
    "filepath = './nn_models/rnn_regularization.hdf5'\n",
    "\n",
    "checkpoint = ModelCheckpoint(filepath=filepath,\n",
    "                                monitor='val_loss',\n",
    "                                verbose=1,\n",
    "                                save_best_only=True,\n",
    "                                mode='min')\n",
    "callbacks = [checkpoint]\n",
    "history7 = model7.fit(X_t, y, epochs=100, batch_size=32, validation_data=(X_v, y_v))"
   ]
  },
  {
   "cell_type": "code",
   "execution_count": 241,
   "id": "f0304b7d-1628-4251-b0bb-54a6b881f96d",
   "metadata": {},
   "outputs": [
    {
     "data": {
      "image/png": "[encoded data removed]",
      "text/plain": [
       "<Figure size 432x288 with 1 Axes>"
      ]
     },
     "metadata": {
      "needs_background": "light"
     },
     "output_type": "display_data"
    }
   ],
   "source": [
    "plt.plot(history7.history['loss'], label='training data')\n",
    "plt.plot(history7.history['val_loss'], label='validation data')\n",
    "plt.title('Loss for Text Classification')\n",
    "plt.ylabel('Loss Value')\n",
    "plt.xlabel('No. epoch')\n",
    "plt.legend(loc='upper right')\n",
    "plt.show()"
   ]
  },
  {
   "cell_type": "code",
   "execution_count": 242,
   "id": "564200e2-bf97-4e67-8ea8-f5f4cb87c90e",
   "metadata": {},
   "outputs": [
    {
     "data": {
      "image/png": "[encoded data removed]",
      "text/plain": [
       "<Figure size 432x288 with 1 Axes>"
      ]
     },
     "metadata": {
      "needs_background": "light"
     },
     "output_type": "display_data"
    }
   ],
   "source": [
    "plt.plot(history7.history['accuracy'], label='training data')\n",
    "plt.plot(history7.history['val_accuracy'], label='validation data')\n",
    "plt.title('Categorical Accuracy for Text Classification')\n",
    "plt.ylabel('Categorical Accuracy Value')\n",
    "plt.xlabel('No. epoch')\n",
    "plt.legend(loc='upper left')\n",
    "plt.show()"
   ]
  },
  {
   "cell_type": "code",
   "execution_count": null,
   "id": "5b267299-76f0-438d-9960-931be774ae82",
   "metadata": {},
   "outputs": [],
   "source": []
  },
  {
   "cell_type": "code",
   "execution_count": null,
   "id": "f2a300e1-391e-4be2-8be4-995adf3199b1",
   "metadata": {},
   "outputs": [],
   "source": []
  },
  {
   "cell_type": "markdown",
   "id": "cbf6b170-0909-4db6-b1d3-a95d738d4ce3",
   "metadata": {},
   "source": [
    "##### References:<br />\n",
    "Jeffrey Pennington, Richard Socher, and Christopher D. Manning. 2014. [GloVe: Global Vectors for Word Representation](chrome-extension://efaidnbmnnnibpcajpcglclefindmkaj/viewer.html?pdfurl=https%3A%2F%2Fnlp.stanford.edu%2Fpubs%2Fglove.pdf&clen=2618397)."
   ]
  }
 ],
 "metadata": {
  "kernelspec": {
   "display_name": "nlp-env",
   "language": "python",
   "name": "nlp-env"
  },
  "language_info": {
   "codemirror_mode": {
    "name": "ipython",
    "version": 3
   },
   "file_extension": ".py",
   "mimetype": "text/x-python",
   "name": "python",
   "nbconvert_exporter": "python",
   "pygments_lexer": "ipython3",
   "version": "3.9.7"
  }
 },
 "nbformat": 4,
 "nbformat_minor": 5
}
