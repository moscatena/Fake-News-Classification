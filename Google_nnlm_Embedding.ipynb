{
 "cells": [
  {
   "cell_type": "markdown",
   "id": "70a86ca3-5c91-4896-af40-8b5b8bc74bc1",
   "metadata": {},
   "source": [
    "# Fake News Detection\n",
    "\n",
    "**Author**: Marcelo Scatena\n",
    "***\n",
    "March 2022"
   ]
  },
  {
   "cell_type": "markdown",
   "id": "64a0c772-e23a-4bb2-bb52-41dfe9fdd3f7",
   "metadata": {},
   "source": [
    "# Google nnlm-en-dim128"
   ]
  },
  {
   "cell_type": "markdown",
   "id": "0c5f6f1b-d56e-411f-8d3d-5e896212e1d2",
   "metadata": {},
   "source": [
    "Googles nnlm-en-dim128 is a pre-trained text embedding module. We can access it via Tensorflow Hub, which is a library containing hundreds of machine learning models. The specific model I'll be using has 128 dimensions and have been trained in the English Google News 200B corpus. The module can be found [here](https://tfhub.dev/google/nnlm-en-dim128/2) and the extended text embedding library can found [here](https://tfhub.dev/s?module-type=text-embedding).<br />\n",
    "As with other embeding techniques, little preprocessing is needed, so the cleaning stage of the data is smaller than with categorical encoding."
   ]
  },
  {
   "cell_type": "code",
   "execution_count": 5,
   "id": "8b8099d7-654d-4231-8cbe-65a5920889a1",
   "metadata": {},
   "outputs": [],
   "source": [
    "import pandas as pd\n",
    "import numpy as np\n",
    "from collections import Counter\n",
    "\n",
    "import matplotlib.pyplot as plt\n",
    "import seaborn as sns\n",
    "\n",
    "from sklearn.pipeline import Pipeline\n",
    "from sklearn.preprocessing import FunctionTransformer\n",
    "from nltk.corpus import stopwords\n",
    "\n",
    "import string\n",
    "import re\n",
    "\n",
    "from sklearn.metrics import accuracy_score\n",
    "\n",
    "import tensorflow as tf\n",
    "import tensorflow.keras as keras\n",
    "from tensorflow.keras.preprocessing.text import Tokenizer\n",
    "from tensorflow.keras.preprocessing.sequence import pad_sequences\n",
    "from tensorflow.keras.models import Sequential\n",
    "from tensorflow.keras.layers import Dense\n",
    "from tensorflow.keras.layers import Dropout\n",
    "from tensorflow.keras.layers import Embedding\n",
    "from keras import regularizers\n",
    "from sklearn.preprocessing import LabelEncoder\n",
    "\n",
    "import tensorflow_hub as hub\n",
    "\n",
    "import warnings\n",
    "warnings.filterwarnings('ignore')"
   ]
  },
  {
   "cell_type": "code",
   "execution_count": 6,
   "id": "60afb138-b4ca-4455-8414-3a232aefb566",
   "metadata": {},
   "outputs": [],
   "source": [
    "col_names = ['ID', 'label', 'statement', 'subject', 'speaker', 'speaker\\'s title', 'state', 'party', 'barely true', 'false', 'half true', 'mostly true', 'pants on fire', 'context', 'justification']\n",
    "raw_train = pd.read_csv('data/train2.tsv', sep='\\t', names=col_names)\n",
    "raw_test = pd.read_csv('data/test2.tsv', sep='\\t', names=col_names)\n",
    "raw_val = pd.read_csv('data/val2.tsv', sep='\\t', names=col_names)"
   ]
  },
  {
   "cell_type": "code",
   "execution_count": 7,
   "id": "cb782d2f-c22c-41ff-93f1-dcae2911b9ec",
   "metadata": {},
   "outputs": [],
   "source": [
    "train_df = raw_train.copy()\n",
    "val_df = raw_val.copy()\n",
    "test_df = raw_test.copy()"
   ]
  },
  {
   "cell_type": "code",
   "execution_count": 8,
   "id": "04f38578-4dac-4779-b3b9-cff856f5f222",
   "metadata": {},
   "outputs": [],
   "source": [
    "def drop_na(df):\n",
    "    df = df.dropna(subset=['statement'], axis=0)\n",
    "    return df\n",
    "\n",
    "def drop_duplicated(df):\n",
    "    df = df.drop_duplicates()\n",
    "    return df\n",
    "\n",
    "def label(df):\n",
    "    df['label'] = df['label'].map({'true': 1,\n",
    "                                     'mostly-true': 1,\n",
    "                                     'half-true': 1,\n",
    "                                     'false': 0,\n",
    "                                     'barely-true': 0,\n",
    "                                     'pants-fire': 0})\n",
    "    return df\n",
    "\n",
    "def drop_features(df):\n",
    "    df = df[['statement','label']]\n",
    "    return df\n",
    "\n",
    "def reset_index(df):\n",
    "    df['statement'] = df['statement'].apply(lambda x: x.lower())\n",
    "    return df\n",
    "\n",
    "def remove_punctuation(df):\n",
    "    df['statement'] = df['statement'].apply(lambda x: x.translate(str.maketrans(\"\", \"\", string.punctuation)))\n",
    "    return df\n",
    "\n",
    "def lower_case(df):\n",
    "    df = df.reset_index(drop=True)\n",
    "    return df"
   ]
  },
  {
   "cell_type": "code",
   "execution_count": 9,
   "id": "49901882-ac80-4af0-bc9f-9faa3d7c9f09",
   "metadata": {},
   "outputs": [],
   "source": [
    "cleaning_pipeline = Pipeline(steps=[\n",
    "    ('drop_na', FunctionTransformer(drop_na)),\n",
    "    ('drop_duplicated', FunctionTransformer(drop_duplicated)),\n",
    "    ('label', FunctionTransformer(label)),\n",
    "    ('drop_features', FunctionTransformer(drop_features)),\n",
    "    ('reset_index', FunctionTransformer(reset_index)),\n",
    "    ('remove_punctuation', FunctionTransformer(remove_punctuation)),\n",
    "    ('lower_case', FunctionTransformer(lower_case))\n",
    "])"
   ]
  },
  {
   "cell_type": "code",
   "execution_count": 10,
   "id": "c952af6e-467b-498b-a8db-0b43880dcc1f",
   "metadata": {},
   "outputs": [
    {
     "data": {
      "text/html": [
       "<div>\n",
       "<style scoped>\n",
       "    .dataframe tbody tr th:only-of-type {\n",
       "        vertical-align: middle;\n",
       "    }\n",
       "\n",
       "    .dataframe tbody tr th {\n",
       "        vertical-align: top;\n",
       "    }\n",
       "\n",
       "    .dataframe thead th {\n",
       "        text-align: right;\n",
       "    }\n",
       "</style>\n",
       "<table border=\"1\" class=\"dataframe\">\n",
       "  <thead>\n",
       "    <tr style=\"text-align: right;\">\n",
       "      <th></th>\n",
       "      <th>ID</th>\n",
       "      <th>label</th>\n",
       "      <th>statement</th>\n",
       "      <th>subject</th>\n",
       "      <th>speaker</th>\n",
       "      <th>speaker's title</th>\n",
       "      <th>state</th>\n",
       "      <th>party</th>\n",
       "      <th>barely true</th>\n",
       "      <th>false</th>\n",
       "      <th>half true</th>\n",
       "      <th>mostly true</th>\n",
       "      <th>pants on fire</th>\n",
       "      <th>context</th>\n",
       "      <th>justification</th>\n",
       "    </tr>\n",
       "  </thead>\n",
       "  <tbody>\n",
       "    <tr>\n",
       "      <th>0.0</th>\n",
       "      <td>2635.json</td>\n",
       "      <td>false</td>\n",
       "      <td>Says the Annies List political group supports ...</td>\n",
       "      <td>abortion</td>\n",
       "      <td>dwayne-bohac</td>\n",
       "      <td>State representative</td>\n",
       "      <td>Texas</td>\n",
       "      <td>republican</td>\n",
       "      <td>0.0</td>\n",
       "      <td>1.0</td>\n",
       "      <td>0.0</td>\n",
       "      <td>0.0</td>\n",
       "      <td>0.0</td>\n",
       "      <td>a mailer</td>\n",
       "      <td>That's a premise that he fails to back up. Ann...</td>\n",
       "    </tr>\n",
       "    <tr>\n",
       "      <th>1.0</th>\n",
       "      <td>10540.json</td>\n",
       "      <td>half-true</td>\n",
       "      <td>When did the decline of coal start? It started...</td>\n",
       "      <td>energy,history,job-accomplishments</td>\n",
       "      <td>scott-surovell</td>\n",
       "      <td>State delegate</td>\n",
       "      <td>Virginia</td>\n",
       "      <td>democrat</td>\n",
       "      <td>0.0</td>\n",
       "      <td>0.0</td>\n",
       "      <td>1.0</td>\n",
       "      <td>1.0</td>\n",
       "      <td>0.0</td>\n",
       "      <td>a floor speech.</td>\n",
       "      <td>Surovell said the decline of coal \"started whe...</td>\n",
       "    </tr>\n",
       "    <tr>\n",
       "      <th>2.0</th>\n",
       "      <td>324.json</td>\n",
       "      <td>mostly-true</td>\n",
       "      <td>Hillary Clinton agrees with John McCain \"by vo...</td>\n",
       "      <td>foreign-policy</td>\n",
       "      <td>barack-obama</td>\n",
       "      <td>President</td>\n",
       "      <td>Illinois</td>\n",
       "      <td>democrat</td>\n",
       "      <td>70.0</td>\n",
       "      <td>71.0</td>\n",
       "      <td>160.0</td>\n",
       "      <td>163.0</td>\n",
       "      <td>9.0</td>\n",
       "      <td>Denver</td>\n",
       "      <td>Obama said he would have voted against the ame...</td>\n",
       "    </tr>\n",
       "    <tr>\n",
       "      <th>3.0</th>\n",
       "      <td>1123.json</td>\n",
       "      <td>false</td>\n",
       "      <td>Health care reform legislation is likely to ma...</td>\n",
       "      <td>health-care</td>\n",
       "      <td>blog-posting</td>\n",
       "      <td>NaN</td>\n",
       "      <td>NaN</td>\n",
       "      <td>none</td>\n",
       "      <td>7.0</td>\n",
       "      <td>19.0</td>\n",
       "      <td>3.0</td>\n",
       "      <td>5.0</td>\n",
       "      <td>44.0</td>\n",
       "      <td>a news release</td>\n",
       "      <td>The release may have a point that Mikulskis co...</td>\n",
       "    </tr>\n",
       "    <tr>\n",
       "      <th>4.0</th>\n",
       "      <td>9028.json</td>\n",
       "      <td>half-true</td>\n",
       "      <td>The economic turnaround started at the end of ...</td>\n",
       "      <td>economy,jobs</td>\n",
       "      <td>charlie-crist</td>\n",
       "      <td>NaN</td>\n",
       "      <td>Florida</td>\n",
       "      <td>democrat</td>\n",
       "      <td>15.0</td>\n",
       "      <td>9.0</td>\n",
       "      <td>20.0</td>\n",
       "      <td>19.0</td>\n",
       "      <td>2.0</td>\n",
       "      <td>an interview on CNN</td>\n",
       "      <td>Crist said that the economic \"turnaround start...</td>\n",
       "    </tr>\n",
       "  </tbody>\n",
       "</table>\n",
       "</div>"
      ],
      "text/plain": [
       "             ID        label  \\\n",
       "0.0   2635.json        false   \n",
       "1.0  10540.json    half-true   \n",
       "2.0    324.json  mostly-true   \n",
       "3.0   1123.json        false   \n",
       "4.0   9028.json    half-true   \n",
       "\n",
       "                                             statement  \\\n",
       "0.0  Says the Annies List political group supports ...   \n",
       "1.0  When did the decline of coal start? It started...   \n",
       "2.0  Hillary Clinton agrees with John McCain \"by vo...   \n",
       "3.0  Health care reform legislation is likely to ma...   \n",
       "4.0  The economic turnaround started at the end of ...   \n",
       "\n",
       "                                subject         speaker       speaker's title  \\\n",
       "0.0                            abortion    dwayne-bohac  State representative   \n",
       "1.0  energy,history,job-accomplishments  scott-surovell        State delegate   \n",
       "2.0                      foreign-policy    barack-obama             President   \n",
       "3.0                         health-care    blog-posting                   NaN   \n",
       "4.0                        economy,jobs   charlie-crist                   NaN   \n",
       "\n",
       "        state       party  barely true  false  half true  mostly true  \\\n",
       "0.0     Texas  republican          0.0    1.0        0.0          0.0   \n",
       "1.0  Virginia    democrat          0.0    0.0        1.0          1.0   \n",
       "2.0  Illinois    democrat         70.0   71.0      160.0        163.0   \n",
       "3.0       NaN        none          7.0   19.0        3.0          5.0   \n",
       "4.0   Florida    democrat         15.0    9.0       20.0         19.0   \n",
       "\n",
       "     pants on fire              context  \\\n",
       "0.0            0.0             a mailer   \n",
       "1.0            0.0      a floor speech.   \n",
       "2.0            9.0               Denver   \n",
       "3.0           44.0       a news release   \n",
       "4.0            2.0  an interview on CNN   \n",
       "\n",
       "                                         justification  \n",
       "0.0  That's a premise that he fails to back up. Ann...  \n",
       "1.0  Surovell said the decline of coal \"started whe...  \n",
       "2.0  Obama said he would have voted against the ame...  \n",
       "3.0  The release may have a point that Mikulskis co...  \n",
       "4.0  Crist said that the economic \"turnaround start...  "
      ]
     },
     "execution_count": 10,
     "metadata": {},
     "output_type": "execute_result"
    }
   ],
   "source": [
    "train_df.head()"
   ]
  },
  {
   "cell_type": "code",
   "execution_count": 11,
   "id": "17f56849-87cc-4601-88ab-43d0057d29b1",
   "metadata": {},
   "outputs": [],
   "source": [
    "df_train_clean = cleaning_pipeline.fit_transform(train_df)\n",
    "df_val_clean = cleaning_pipeline.transform(val_df)\n",
    "df_test_clean = cleaning_pipeline.transform(test_df)"
   ]
  },
  {
   "cell_type": "code",
   "execution_count": 12,
   "id": "3a981a4b-4421-46d0-9c61-96294db2c850",
   "metadata": {},
   "outputs": [
    {
     "data": {
      "text/html": [
       "<div>\n",
       "<style scoped>\n",
       "    .dataframe tbody tr th:only-of-type {\n",
       "        vertical-align: middle;\n",
       "    }\n",
       "\n",
       "    .dataframe tbody tr th {\n",
       "        vertical-align: top;\n",
       "    }\n",
       "\n",
       "    .dataframe thead th {\n",
       "        text-align: right;\n",
       "    }\n",
       "</style>\n",
       "<table border=\"1\" class=\"dataframe\">\n",
       "  <thead>\n",
       "    <tr style=\"text-align: right;\">\n",
       "      <th></th>\n",
       "      <th>statement</th>\n",
       "      <th>label</th>\n",
       "    </tr>\n",
       "  </thead>\n",
       "  <tbody>\n",
       "    <tr>\n",
       "      <th>0</th>\n",
       "      <td>says the annies list political group supports ...</td>\n",
       "      <td>0</td>\n",
       "    </tr>\n",
       "    <tr>\n",
       "      <th>1</th>\n",
       "      <td>when did the decline of coal start it started ...</td>\n",
       "      <td>1</td>\n",
       "    </tr>\n",
       "    <tr>\n",
       "      <th>2</th>\n",
       "      <td>hillary clinton agrees with john mccain by vot...</td>\n",
       "      <td>1</td>\n",
       "    </tr>\n",
       "    <tr>\n",
       "      <th>3</th>\n",
       "      <td>health care reform legislation is likely to ma...</td>\n",
       "      <td>0</td>\n",
       "    </tr>\n",
       "    <tr>\n",
       "      <th>4</th>\n",
       "      <td>the economic turnaround started at the end of ...</td>\n",
       "      <td>1</td>\n",
       "    </tr>\n",
       "  </tbody>\n",
       "</table>\n",
       "</div>"
      ],
      "text/plain": [
       "                                           statement  label\n",
       "0  says the annies list political group supports ...      0\n",
       "1  when did the decline of coal start it started ...      1\n",
       "2  hillary clinton agrees with john mccain by vot...      1\n",
       "3  health care reform legislation is likely to ma...      0\n",
       "4  the economic turnaround started at the end of ...      1"
      ]
     },
     "execution_count": 12,
     "metadata": {},
     "output_type": "execute_result"
    }
   ],
   "source": [
    "df_train_clean.head()"
   ]
  },
  {
   "cell_type": "code",
   "execution_count": 13,
   "id": "e3d4c7e4-6107-4988-82c3-0cda1d2f86db",
   "metadata": {},
   "outputs": [],
   "source": [
    "# Count unique words\n",
    "def counter_word(text_col):\n",
    "    count = Counter()\n",
    "    for text in text_col.values:\n",
    "        for word in text.split():\n",
    "            count[word] += 1\n",
    "    return count\n",
    "counter = counter_word(df_train_clean['statement'])\n",
    "num_unique_words = len(counter)"
   ]
  },
  {
   "cell_type": "code",
   "execution_count": 14,
   "id": "5d69b128-68a0-46cc-b057-8ae11c711f1e",
   "metadata": {},
   "outputs": [
    {
     "data": {
      "text/plain": [
       "13453"
      ]
     },
     "execution_count": 14,
     "metadata": {},
     "output_type": "execute_result"
    }
   ],
   "source": [
    "num_unique_words"
   ]
  },
  {
   "cell_type": "code",
   "execution_count": 15,
   "id": "120f0a7f-3526-4a47-b1fd-716090d0f33c",
   "metadata": {},
   "outputs": [],
   "source": [
    "# Fit my tokenizer with train data\n",
    "tokenizer = Tokenizer(num_words=num_unique_words)\n",
    "tokenizer.fit_on_texts(df_train_clean['statement'])"
   ]
  },
  {
   "cell_type": "code",
   "execution_count": 16,
   "id": "4a31b85c-4d7e-4df3-8b01-9d9f9465e478",
   "metadata": {},
   "outputs": [],
   "source": [
    "# Here I set my maximum sentence length and resize sentences to it\n",
    "max_length = 15\n",
    "vocab_size = num_unique_words\n",
    "\n",
    "sequences_train = tokenizer.texts_to_sequences(df_train_clean['statement'])\n",
    "sequences_val = tokenizer.texts_to_sequences(df_val_clean['statement'])\n",
    "sequences_test = tokenizer.texts_to_sequences(df_test_clean['statement'])\n",
    "\n",
    "padded_train = pad_sequences(sequences_train, padding = 'post', maxlen=max_length)\n",
    "padded_val = pad_sequences(sequences_val, padding = 'post', maxlen=max_length)\n",
    "padded_test = pad_sequences(sequences_test, padding = 'post', maxlen=max_length)"
   ]
  },
  {
   "cell_type": "code",
   "execution_count": 17,
   "id": "a5f45242-42ed-4fcb-b23e-2023b02a0339",
   "metadata": {},
   "outputs": [
    {
     "data": {
      "text/plain": [
       "[7, 1, 7130, 1112, 508, 596, 364, 5155, 558, 11, 1564]"
      ]
     },
     "execution_count": 17,
     "metadata": {},
     "output_type": "execute_result"
    }
   ],
   "source": [
    "# Statement tokenized\n",
    "sequences_train[0]"
   ]
  },
  {
   "cell_type": "code",
   "execution_count": 18,
   "id": "1cafc822-5ac7-4acb-8b3b-0e6fa679b6cd",
   "metadata": {},
   "outputs": [
    {
     "data": {
      "text/plain": [
       "array([   7,    1, 7130, 1112,  508,  596,  364, 5155,  558,   11, 1564,\n",
       "          0,    0,    0,    0])"
      ]
     },
     "execution_count": 18,
     "metadata": {},
     "output_type": "execute_result"
    }
   ],
   "source": [
    "# Statement tokenized and padded\n",
    "padded_train[0]"
   ]
  },
  {
   "cell_type": "code",
   "execution_count": 19,
   "id": "0c55a2e2-c250-40ec-8a3f-be2c17ce07f6",
   "metadata": {},
   "outputs": [],
   "source": [
    "y_train = df_train_clean['label']\n",
    "y_val = df_val_clean['label']\n",
    "y_test = df_test_clean['label']"
   ]
  },
  {
   "cell_type": "code",
   "execution_count": 21,
   "id": "9829e444-209d-4be6-9d7e-8cc6e526b539",
   "metadata": {},
   "outputs": [
    {
     "data": {
      "text/plain": [
       "((10240, 15), (10240,), (1284, 15), (1284,), (1267, 15), (1267,))"
      ]
     },
     "execution_count": 21,
     "metadata": {},
     "output_type": "execute_result"
    }
   ],
   "source": [
    "padded_train.shape, y_train.shape, padded_val.shape, y_val.shape, padded_test.shape, y_test.shape"
   ]
  },
  {
   "cell_type": "code",
   "execution_count": 22,
   "id": "ed4bbf76-4e9a-49dd-835f-683eb08ef18a",
   "metadata": {},
   "outputs": [],
   "source": [
    "X_train_clean = df_train_clean['statement']\n",
    "X_val_clean = df_val_clean['statement']\n",
    "X_test_clean = df_test_clean['statement']"
   ]
  },
  {
   "cell_type": "code",
   "execution_count": 23,
   "id": "038b19af-3d20-4562-9e25-a1bb502fea3f",
   "metadata": {},
   "outputs": [
    {
     "data": {
      "text/plain": [
       "0    says the annies list political group supports ...\n",
       "1    when did the decline of coal start it started ...\n",
       "Name: statement, dtype: object"
      ]
     },
     "execution_count": 23,
     "metadata": {},
     "output_type": "execute_result"
    }
   ],
   "source": [
    "X_train_clean[:2]"
   ]
  },
  {
   "cell_type": "code",
   "execution_count": 24,
   "id": "61be27be-892f-421b-83f6-d0fe12ff2e40",
   "metadata": {},
   "outputs": [],
   "source": [
    "# Transform Series data into Numpy array\n",
    "X_train_clean_arr = np.asarray(X_train_clean)\n",
    "X_val_clean_arr = np.asarray(X_val_clean)\n",
    "X_test_clean_arr = np.asarray(X_test_clean)"
   ]
  },
  {
   "cell_type": "code",
   "execution_count": 25,
   "id": "c3f85c1c-874d-4f15-81bc-2e8eac051540",
   "metadata": {},
   "outputs": [
    {
     "data": {
      "text/plain": [
       "array(['says the annies list political group supports thirdtrimester abortions on demand',\n",
       "       'when did the decline of coal start it started when natural gas took off that started to begin in president george w bushs administration'],\n",
       "      dtype=object)"
      ]
     },
     "execution_count": 25,
     "metadata": {},
     "output_type": "execute_result"
    }
   ],
   "source": [
    "X_train_clean_arr[:2]"
   ]
  },
  {
   "cell_type": "code",
   "execution_count": 26,
   "id": "360edc58-0b9d-47f3-84c4-be1f144a3a66",
   "metadata": {},
   "outputs": [],
   "source": [
    "# One hot encoding y_labels\n",
    "le = LabelEncoder()\n",
    "\n",
    "train_labels = le.fit_transform(y_train)\n",
    "train_labels = np.asarray(tf.keras.utils.to_categorical(train_labels))"
   ]
  },
  {
   "cell_type": "code",
   "execution_count": 27,
   "id": "39f49ce3-f444-41e1-bf59-c64d7ea29380",
   "metadata": {},
   "outputs": [
    {
     "data": {
      "text/plain": [
       "array([[1., 0.],\n",
       "       [0., 1.],\n",
       "       [0., 1.]], dtype=float32)"
      ]
     },
     "execution_count": 27,
     "metadata": {},
     "output_type": "execute_result"
    }
   ],
   "source": [
    "train_labels[:3]"
   ]
  },
  {
   "cell_type": "code",
   "execution_count": 28,
   "id": "04d5624e-ba5c-42a7-94e1-99087e1c1152",
   "metadata": {},
   "outputs": [],
   "source": [
    "val_labels = le.transform(y_val)\n",
    "test_labels = le.transform(y_test)\n",
    "\n",
    "val_labels = np.asarray(tf.keras.utils.to_categorical(val_labels))\n",
    "test_labels = np.asarray(tf.keras.utils.to_categorical(test_labels))"
   ]
  },
  {
   "cell_type": "code",
   "execution_count": 29,
   "id": "3f12a7da-7b4b-42fb-b610-7dc1603b7ea3",
   "metadata": {},
   "outputs": [],
   "source": [
    "# Transform data into tensor slice\n",
    "train_ds = tf.data.Dataset.from_tensor_slices((X_train_clean, train_labels))\n",
    "val_ds = tf.data.Dataset.from_tensor_slices((X_val_clean, val_labels))\n",
    "test_ds = tf.data.Dataset.from_tensor_slices((X_test_clean, test_labels))"
   ]
  },
  {
   "cell_type": "code",
   "execution_count": 30,
   "id": "b9eff0dd-4f78-423b-9b3c-4a1071d10c79",
   "metadata": {},
   "outputs": [
    {
     "data": {
      "text/plain": [
       "<TensorSliceDataset element_spec=(TensorSpec(shape=(), dtype=tf.string, name=None), TensorSpec(shape=(2,), dtype=tf.float32, name=None))>"
      ]
     },
     "execution_count": 30,
     "metadata": {},
     "output_type": "execute_result"
    }
   ],
   "source": [
    "train_ds"
   ]
  },
  {
   "cell_type": "markdown",
   "id": "e33d8639-51ef-4b15-b76d-9da043eb37a3",
   "metadata": {},
   "source": [
    "## Neural Networks"
   ]
  },
  {
   "cell_type": "markdown",
   "id": "a8919575-57d0-4647-ada6-a16119f28a7f",
   "metadata": {},
   "source": [
    "In this part I'll try a number of different layers, regularization and dropout."
   ]
  },
  {
   "cell_type": "code",
   "execution_count": 31,
   "id": "83b757b3-edea-487d-8713-e505c95b596f",
   "metadata": {},
   "outputs": [],
   "source": [
    "# Import the embedding layer\n",
    "embedding = \"https://tfhub.dev/google/nnlm-en-dim128/2\""
   ]
  },
  {
   "cell_type": "code",
   "execution_count": 33,
   "id": "5fc778b1-d259-49e3-a72c-5be84f1ee67f",
   "metadata": {},
   "outputs": [],
   "source": [
    "# Create hub layer with embedding\n",
    "hub_layer = hub.KerasLayer(embedding, input_shape=[], \n",
    "                           dtype=tf.string, trainable=False)"
   ]
  },
  {
   "cell_type": "code",
   "execution_count": 34,
   "id": "4bf13ece-8312-4b3c-8475-2055e37bab51",
   "metadata": {},
   "outputs": [
    {
     "name": "stdout",
     "output_type": "stream",
     "text": [
      "Model: \"sequential\"\n",
      "_________________________________________________________________\n",
      " Layer (type)                Output Shape              Param #   \n",
      "=================================================================\n",
      " keras_layer (KerasLayer)    (None, 128)               124642688 \n",
      "                                                                 \n",
      " dense (Dense)               (None, 10)                1290      \n",
      "                                                                 \n",
      " dense_1 (Dense)             (None, 2)                 22        \n",
      "                                                                 \n",
      "=================================================================\n",
      "Total params: 124,644,000\n",
      "Trainable params: 1,312\n",
      "Non-trainable params: 124,642,688\n",
      "_________________________________________________________________\n"
     ]
    }
   ],
   "source": [
    "hub_model1 = Sequential()\n",
    "hub_model1.add(hub_layer)\n",
    "hub_model1.add(Dense(10, activation='relu'))\n",
    "hub_model1.add(Dense(2, activation='sigmoid'))\n",
    "\n",
    "hub_model1.summary()"
   ]
  },
  {
   "cell_type": "code",
   "execution_count": 36,
   "id": "c41c3883-f0ea-48c4-b5ad-17e1904d61da",
   "metadata": {},
   "outputs": [],
   "source": [
    "loss = tf.keras.losses.BinaryCrossentropy()\n",
    "optim = tf.keras.optimizers.Adam()\n",
    "metrics = ['accuracy']"
   ]
  },
  {
   "cell_type": "code",
   "execution_count": 37,
   "id": "624941da-3b1c-48f3-9a30-9c83edc93abe",
   "metadata": {},
   "outputs": [],
   "source": [
    "hub_model1.compile(loss=loss,\n",
    "              optimizer=optim, \n",
    "              metrics=metrics)"
   ]
  },
  {
   "cell_type": "code",
   "execution_count": 38,
   "id": "6ba4f1c6-e424-42fc-985c-8f6c36c25e96",
   "metadata": {},
   "outputs": [
    {
     "name": "stdout",
     "output_type": "stream",
     "text": [
      "Epoch 1/100\n",
      "80/80 [==============================] - 2s 6ms/step - loss: 0.6865 - accuracy: 0.5534 - val_loss: 0.6862 - val_accuracy: 0.5335\n",
      "Epoch 2/100\n",
      "80/80 [==============================] - 0s 3ms/step - loss: 0.6742 - accuracy: 0.5771 - val_loss: 0.6746 - val_accuracy: 0.5732\n",
      "Epoch 3/100\n",
      "80/80 [==============================] - 0s 3ms/step - loss: 0.6639 - accuracy: 0.5959 - val_loss: 0.6671 - val_accuracy: 0.5903\n",
      "Epoch 4/100\n",
      "80/80 [==============================] - 0s 3ms/step - loss: 0.6582 - accuracy: 0.6019 - val_loss: 0.6620 - val_accuracy: 0.6036\n",
      "Epoch 5/100\n",
      "80/80 [==============================] - 0s 4ms/step - loss: 0.6554 - accuracy: 0.6095 - val_loss: 0.6593 - val_accuracy: 0.6137\n",
      "Epoch 6/100\n",
      "80/80 [==============================] - 0s 3ms/step - loss: 0.6534 - accuracy: 0.6109 - val_loss: 0.6575 - val_accuracy: 0.6145\n",
      "Epoch 7/100\n",
      "80/80 [==============================] - 0s 3ms/step - loss: 0.6523 - accuracy: 0.6138 - val_loss: 0.6573 - val_accuracy: 0.6153\n",
      "Epoch 8/100\n",
      "80/80 [==============================] - 0s 3ms/step - loss: 0.6511 - accuracy: 0.6176 - val_loss: 0.6560 - val_accuracy: 0.6129\n",
      "Epoch 9/100\n",
      "80/80 [==============================] - 0s 3ms/step - loss: 0.6501 - accuracy: 0.6155 - val_loss: 0.6564 - val_accuracy: 0.6098\n",
      "Epoch 10/100\n",
      "80/80 [==============================] - 0s 3ms/step - loss: 0.6494 - accuracy: 0.6192 - val_loss: 0.6551 - val_accuracy: 0.6192\n",
      "Epoch 11/100\n",
      "80/80 [==============================] - 0s 4ms/step - loss: 0.6488 - accuracy: 0.6206 - val_loss: 0.6557 - val_accuracy: 0.6160\n",
      "Epoch 12/100\n",
      "80/80 [==============================] - 0s 3ms/step - loss: 0.6476 - accuracy: 0.6210 - val_loss: 0.6559 - val_accuracy: 0.6160\n",
      "Epoch 13/100\n",
      "80/80 [==============================] - 0s 4ms/step - loss: 0.6468 - accuracy: 0.6206 - val_loss: 0.6560 - val_accuracy: 0.6129\n",
      "Epoch 14/100\n",
      "80/80 [==============================] - 0s 3ms/step - loss: 0.6461 - accuracy: 0.6238 - val_loss: 0.6550 - val_accuracy: 0.6160\n",
      "Epoch 15/100\n",
      "80/80 [==============================] - 0s 3ms/step - loss: 0.6454 - accuracy: 0.6252 - val_loss: 0.6559 - val_accuracy: 0.6160\n",
      "Epoch 16/100\n",
      "80/80 [==============================] - 0s 3ms/step - loss: 0.6442 - accuracy: 0.6263 - val_loss: 0.6542 - val_accuracy: 0.6160\n",
      "Epoch 17/100\n",
      "80/80 [==============================] - 0s 3ms/step - loss: 0.6435 - accuracy: 0.6288 - val_loss: 0.6554 - val_accuracy: 0.6129\n",
      "Epoch 18/100\n",
      "80/80 [==============================] - 0s 3ms/step - loss: 0.6431 - accuracy: 0.6280 - val_loss: 0.6543 - val_accuracy: 0.6207\n",
      "Epoch 19/100\n",
      "80/80 [==============================] - 0s 3ms/step - loss: 0.6422 - accuracy: 0.6269 - val_loss: 0.6549 - val_accuracy: 0.6192\n",
      "Epoch 20/100\n",
      "80/80 [==============================] - 0s 3ms/step - loss: 0.6412 - accuracy: 0.6316 - val_loss: 0.6545 - val_accuracy: 0.6192\n",
      "Epoch 21/100\n",
      "80/80 [==============================] - 0s 3ms/step - loss: 0.6403 - accuracy: 0.6331 - val_loss: 0.6546 - val_accuracy: 0.6168\n",
      "Epoch 22/100\n",
      "80/80 [==============================] - 0s 4ms/step - loss: 0.6399 - accuracy: 0.6340 - val_loss: 0.6543 - val_accuracy: 0.6184\n",
      "Epoch 23/100\n",
      "80/80 [==============================] - 0s 3ms/step - loss: 0.6389 - accuracy: 0.6354 - val_loss: 0.6540 - val_accuracy: 0.6184\n",
      "Epoch 24/100\n",
      "80/80 [==============================] - 0s 3ms/step - loss: 0.6383 - accuracy: 0.6345 - val_loss: 0.6541 - val_accuracy: 0.6160\n",
      "Epoch 25/100\n",
      "80/80 [==============================] - 0s 3ms/step - loss: 0.6375 - accuracy: 0.6339 - val_loss: 0.6530 - val_accuracy: 0.6199\n",
      "Epoch 26/100\n",
      "80/80 [==============================] - 0s 3ms/step - loss: 0.6368 - accuracy: 0.6384 - val_loss: 0.6534 - val_accuracy: 0.6184\n",
      "Epoch 27/100\n",
      "80/80 [==============================] - 0s 3ms/step - loss: 0.6361 - accuracy: 0.6383 - val_loss: 0.6533 - val_accuracy: 0.6199\n",
      "Epoch 28/100\n",
      "80/80 [==============================] - 0s 3ms/step - loss: 0.6355 - accuracy: 0.6386 - val_loss: 0.6547 - val_accuracy: 0.6083\n",
      "Epoch 29/100\n",
      "80/80 [==============================] - 0s 3ms/step - loss: 0.6351 - accuracy: 0.6401 - val_loss: 0.6523 - val_accuracy: 0.6145\n",
      "Epoch 30/100\n",
      "80/80 [==============================] - 0s 3ms/step - loss: 0.6343 - accuracy: 0.6406 - val_loss: 0.6535 - val_accuracy: 0.6145\n",
      "Epoch 31/100\n",
      "80/80 [==============================] - 0s 3ms/step - loss: 0.6336 - accuracy: 0.6421 - val_loss: 0.6536 - val_accuracy: 0.6137\n",
      "Epoch 32/100\n",
      "80/80 [==============================] - 0s 4ms/step - loss: 0.6334 - accuracy: 0.6428 - val_loss: 0.6521 - val_accuracy: 0.6106\n",
      "Epoch 33/100\n",
      "80/80 [==============================] - 0s 3ms/step - loss: 0.6325 - accuracy: 0.6422 - val_loss: 0.6521 - val_accuracy: 0.6090\n",
      "Epoch 34/100\n",
      "80/80 [==============================] - 0s 4ms/step - loss: 0.6319 - accuracy: 0.6436 - val_loss: 0.6529 - val_accuracy: 0.6090\n",
      "Epoch 35/100\n",
      "80/80 [==============================] - 0s 3ms/step - loss: 0.6312 - accuracy: 0.6451 - val_loss: 0.6524 - val_accuracy: 0.6044\n",
      "Epoch 36/100\n",
      "80/80 [==============================] - 0s 3ms/step - loss: 0.6311 - accuracy: 0.6464 - val_loss: 0.6528 - val_accuracy: 0.6036\n",
      "Epoch 37/100\n",
      "80/80 [==============================] - 0s 3ms/step - loss: 0.6299 - accuracy: 0.6457 - val_loss: 0.6529 - val_accuracy: 0.6090\n",
      "Epoch 38/100\n",
      "80/80 [==============================] - 0s 3ms/step - loss: 0.6294 - accuracy: 0.6480 - val_loss: 0.6529 - val_accuracy: 0.6075\n",
      "Epoch 39/100\n",
      "80/80 [==============================] - 0s 3ms/step - loss: 0.6290 - accuracy: 0.6490 - val_loss: 0.6528 - val_accuracy: 0.6044\n",
      "Epoch 40/100\n",
      "80/80 [==============================] - 0s 3ms/step - loss: 0.6281 - accuracy: 0.6481 - val_loss: 0.6523 - val_accuracy: 0.6036\n",
      "Epoch 41/100\n",
      "80/80 [==============================] - 0s 3ms/step - loss: 0.6276 - accuracy: 0.6503 - val_loss: 0.6533 - val_accuracy: 0.6075\n",
      "Epoch 42/100\n",
      "80/80 [==============================] - 0s 3ms/step - loss: 0.6270 - accuracy: 0.6518 - val_loss: 0.6535 - val_accuracy: 0.6067\n",
      "Epoch 43/100\n",
      "80/80 [==============================] - 0s 3ms/step - loss: 0.6267 - accuracy: 0.6524 - val_loss: 0.6523 - val_accuracy: 0.6044\n",
      "Epoch 44/100\n",
      "80/80 [==============================] - 0s 3ms/step - loss: 0.6258 - accuracy: 0.6534 - val_loss: 0.6526 - val_accuracy: 0.6051\n",
      "Epoch 45/100\n",
      "80/80 [==============================] - 0s 4ms/step - loss: 0.6254 - accuracy: 0.6538 - val_loss: 0.6524 - val_accuracy: 0.6051\n",
      "Epoch 46/100\n",
      "80/80 [==============================] - 0s 3ms/step - loss: 0.6251 - accuracy: 0.6530 - val_loss: 0.6526 - val_accuracy: 0.6028\n",
      "Epoch 47/100\n",
      "80/80 [==============================] - 0s 4ms/step - loss: 0.6241 - accuracy: 0.6567 - val_loss: 0.6538 - val_accuracy: 0.6028\n",
      "Epoch 48/100\n",
      "80/80 [==============================] - 0s 3ms/step - loss: 0.6235 - accuracy: 0.6564 - val_loss: 0.6528 - val_accuracy: 0.6044\n",
      "Epoch 49/100\n",
      "80/80 [==============================] - 0s 4ms/step - loss: 0.6232 - accuracy: 0.6569 - val_loss: 0.6544 - val_accuracy: 0.6083\n",
      "Epoch 50/100\n",
      "80/80 [==============================] - 0s 4ms/step - loss: 0.6226 - accuracy: 0.6581 - val_loss: 0.6542 - val_accuracy: 0.6106\n",
      "Epoch 51/100\n",
      "80/80 [==============================] - 0s 3ms/step - loss: 0.6220 - accuracy: 0.6609 - val_loss: 0.6548 - val_accuracy: 0.6129\n",
      "Epoch 52/100\n",
      "80/80 [==============================] - 0s 4ms/step - loss: 0.6215 - accuracy: 0.6588 - val_loss: 0.6542 - val_accuracy: 0.6129\n",
      "Epoch 53/100\n",
      "80/80 [==============================] - 0s 4ms/step - loss: 0.6208 - accuracy: 0.6614 - val_loss: 0.6544 - val_accuracy: 0.6121\n",
      "Epoch 54/100\n",
      "80/80 [==============================] - 0s 3ms/step - loss: 0.6202 - accuracy: 0.6610 - val_loss: 0.6542 - val_accuracy: 0.6129\n",
      "Epoch 55/100\n",
      "80/80 [==============================] - 0s 3ms/step - loss: 0.6194 - accuracy: 0.6604 - val_loss: 0.6551 - val_accuracy: 0.6114\n",
      "Epoch 56/100\n",
      "80/80 [==============================] - 0s 3ms/step - loss: 0.6190 - accuracy: 0.6629 - val_loss: 0.6572 - val_accuracy: 0.6106\n",
      "Epoch 57/100\n",
      "80/80 [==============================] - 0s 3ms/step - loss: 0.6188 - accuracy: 0.6633 - val_loss: 0.6557 - val_accuracy: 0.6121\n",
      "Epoch 58/100\n",
      "80/80 [==============================] - 0s 3ms/step - loss: 0.6182 - accuracy: 0.6621 - val_loss: 0.6545 - val_accuracy: 0.6012\n",
      "Epoch 59/100\n",
      "80/80 [==============================] - 0s 3ms/step - loss: 0.6177 - accuracy: 0.6637 - val_loss: 0.6552 - val_accuracy: 0.6083\n",
      "Epoch 60/100\n",
      "80/80 [==============================] - 0s 3ms/step - loss: 0.6169 - accuracy: 0.6651 - val_loss: 0.6554 - val_accuracy: 0.6059\n",
      "Epoch 61/100\n",
      "80/80 [==============================] - 0s 4ms/step - loss: 0.6162 - accuracy: 0.6663 - val_loss: 0.6567 - val_accuracy: 0.6121\n",
      "Epoch 62/100\n",
      "80/80 [==============================] - 0s 3ms/step - loss: 0.6161 - accuracy: 0.6646 - val_loss: 0.6578 - val_accuracy: 0.6199\n",
      "Epoch 63/100\n",
      "80/80 [==============================] - 0s 3ms/step - loss: 0.6153 - accuracy: 0.6666 - val_loss: 0.6563 - val_accuracy: 0.6075\n",
      "Epoch 64/100\n",
      "80/80 [==============================] - 0s 3ms/step - loss: 0.6149 - accuracy: 0.6666 - val_loss: 0.6592 - val_accuracy: 0.6199\n",
      "Epoch 65/100\n",
      "80/80 [==============================] - 0s 3ms/step - loss: 0.6143 - accuracy: 0.6690 - val_loss: 0.6569 - val_accuracy: 0.6020\n",
      "Epoch 66/100\n",
      "80/80 [==============================] - 0s 4ms/step - loss: 0.6135 - accuracy: 0.6678 - val_loss: 0.6569 - val_accuracy: 0.6012\n",
      "Epoch 67/100\n",
      "80/80 [==============================] - 0s 3ms/step - loss: 0.6134 - accuracy: 0.6674 - val_loss: 0.6570 - val_accuracy: 0.6012\n",
      "Epoch 68/100\n",
      "80/80 [==============================] - 0s 3ms/step - loss: 0.6128 - accuracy: 0.6679 - val_loss: 0.6584 - val_accuracy: 0.6106\n",
      "Epoch 69/100\n",
      "80/80 [==============================] - 0s 3ms/step - loss: 0.6123 - accuracy: 0.6673 - val_loss: 0.6590 - val_accuracy: 0.6083\n",
      "Epoch 70/100\n",
      "80/80 [==============================] - 0s 4ms/step - loss: 0.6114 - accuracy: 0.6687 - val_loss: 0.6597 - val_accuracy: 0.6121\n",
      "Epoch 71/100\n",
      "80/80 [==============================] - 0s 4ms/step - loss: 0.6109 - accuracy: 0.6712 - val_loss: 0.6596 - val_accuracy: 0.6090\n",
      "Epoch 72/100\n",
      "80/80 [==============================] - 0s 3ms/step - loss: 0.6105 - accuracy: 0.6696 - val_loss: 0.6584 - val_accuracy: 0.5981\n",
      "Epoch 73/100\n",
      "80/80 [==============================] - 0s 4ms/step - loss: 0.6099 - accuracy: 0.6704 - val_loss: 0.6606 - val_accuracy: 0.6160\n",
      "Epoch 74/100\n",
      "80/80 [==============================] - 0s 4ms/step - loss: 0.6095 - accuracy: 0.6706 - val_loss: 0.6593 - val_accuracy: 0.5989\n",
      "Epoch 75/100\n",
      "80/80 [==============================] - 0s 4ms/step - loss: 0.6090 - accuracy: 0.6714 - val_loss: 0.6606 - val_accuracy: 0.6075\n",
      "Epoch 76/100\n",
      "80/80 [==============================] - 0s 4ms/step - loss: 0.6084 - accuracy: 0.6716 - val_loss: 0.6629 - val_accuracy: 0.6153\n",
      "Epoch 77/100\n",
      "80/80 [==============================] - 0s 3ms/step - loss: 0.6082 - accuracy: 0.6750 - val_loss: 0.6598 - val_accuracy: 0.6051\n",
      "Epoch 78/100\n",
      "80/80 [==============================] - 0s 3ms/step - loss: 0.6074 - accuracy: 0.6740 - val_loss: 0.6610 - val_accuracy: 0.6020\n",
      "Epoch 79/100\n",
      "80/80 [==============================] - 0s 4ms/step - loss: 0.6076 - accuracy: 0.6706 - val_loss: 0.6604 - val_accuracy: 0.6036\n",
      "Epoch 80/100\n",
      "80/80 [==============================] - 0s 4ms/step - loss: 0.6066 - accuracy: 0.6728 - val_loss: 0.6631 - val_accuracy: 0.6098\n",
      "Epoch 81/100\n",
      "80/80 [==============================] - 0s 3ms/step - loss: 0.6060 - accuracy: 0.6747 - val_loss: 0.6617 - val_accuracy: 0.6059\n",
      "Epoch 82/100\n",
      "80/80 [==============================] - 0s 3ms/step - loss: 0.6053 - accuracy: 0.6730 - val_loss: 0.6627 - val_accuracy: 0.6114\n",
      "Epoch 83/100\n",
      "80/80 [==============================] - 0s 3ms/step - loss: 0.6050 - accuracy: 0.6774 - val_loss: 0.6623 - val_accuracy: 0.6114\n",
      "Epoch 84/100\n",
      "80/80 [==============================] - 0s 3ms/step - loss: 0.6048 - accuracy: 0.6752 - val_loss: 0.6630 - val_accuracy: 0.6075\n",
      "Epoch 85/100\n",
      "80/80 [==============================] - 0s 3ms/step - loss: 0.6042 - accuracy: 0.6758 - val_loss: 0.6628 - val_accuracy: 0.6145\n",
      "Epoch 86/100\n",
      "80/80 [==============================] - 0s 4ms/step - loss: 0.6038 - accuracy: 0.6783 - val_loss: 0.6628 - val_accuracy: 0.6098\n",
      "Epoch 87/100\n",
      "80/80 [==============================] - 0s 3ms/step - loss: 0.6032 - accuracy: 0.6775 - val_loss: 0.6633 - val_accuracy: 0.6137\n",
      "Epoch 88/100\n",
      "80/80 [==============================] - 0s 3ms/step - loss: 0.6025 - accuracy: 0.6768 - val_loss: 0.6640 - val_accuracy: 0.6168\n",
      "Epoch 89/100\n",
      "80/80 [==============================] - 0s 3ms/step - loss: 0.6024 - accuracy: 0.6744 - val_loss: 0.6627 - val_accuracy: 0.6020\n",
      "Epoch 90/100\n",
      "80/80 [==============================] - 0s 3ms/step - loss: 0.6021 - accuracy: 0.6778 - val_loss: 0.6648 - val_accuracy: 0.6153\n",
      "Epoch 91/100\n",
      "80/80 [==============================] - 0s 3ms/step - loss: 0.6015 - accuracy: 0.6782 - val_loss: 0.6649 - val_accuracy: 0.6121\n",
      "Epoch 92/100\n",
      "80/80 [==============================] - 0s 3ms/step - loss: 0.6008 - accuracy: 0.6781 - val_loss: 0.6635 - val_accuracy: 0.6059\n",
      "Epoch 93/100\n",
      "80/80 [==============================] - 0s 3ms/step - loss: 0.6004 - accuracy: 0.6801 - val_loss: 0.6644 - val_accuracy: 0.6036\n",
      "Epoch 94/100\n",
      "80/80 [==============================] - 0s 3ms/step - loss: 0.6001 - accuracy: 0.6781 - val_loss: 0.6637 - val_accuracy: 0.6028\n",
      "Epoch 95/100\n",
      "80/80 [==============================] - 0s 4ms/step - loss: 0.5997 - accuracy: 0.6789 - val_loss: 0.6662 - val_accuracy: 0.6083\n",
      "Epoch 96/100\n",
      "80/80 [==============================] - 0s 3ms/step - loss: 0.5995 - accuracy: 0.6794 - val_loss: 0.6661 - val_accuracy: 0.6075\n",
      "Epoch 97/100\n",
      "80/80 [==============================] - 0s 3ms/step - loss: 0.5989 - accuracy: 0.6796 - val_loss: 0.6661 - val_accuracy: 0.6044\n",
      "Epoch 98/100\n",
      "80/80 [==============================] - 0s 4ms/step - loss: 0.5986 - accuracy: 0.6803 - val_loss: 0.6647 - val_accuracy: 0.6090\n",
      "Epoch 99/100\n",
      "80/80 [==============================] - 0s 3ms/step - loss: 0.5982 - accuracy: 0.6791 - val_loss: 0.6682 - val_accuracy: 0.6059\n",
      "Epoch 100/100\n",
      "80/80 [==============================] - 0s 4ms/step - loss: 0.5977 - accuracy: 0.6791 - val_loss: 0.6652 - val_accuracy: 0.6075\n"
     ]
    }
   ],
   "source": [
    "simple_history1 = hub_model1.fit(train_ds.shuffle(2000).batch(128), \n",
    "                                 epochs=100,\n",
    "                                 validation_data=val_ds.batch(128),\n",
    "                                 verbose=1)"
   ]
  },
  {
   "cell_type": "code",
   "execution_count": 39,
   "id": "e77b0c65-5d86-4385-8635-579ba1513d84",
   "metadata": {},
   "outputs": [
    {
     "data": {
      "image/png": "[encoded data removed]",
      "text/plain": [
       "<Figure size 432x288 with 1 Axes>"
      ]
     },
     "metadata": {
      "needs_background": "light"
     },
     "output_type": "display_data"
    }
   ],
   "source": [
    "plt.plot(simple_history1.history['loss'], label='training data')\n",
    "plt.plot(simple_history1.history['val_loss'], label='validation data')\n",
    "plt.title('Loss for Text Classification')\n",
    "plt.ylabel('Loss Value')\n",
    "plt.xlabel('No. epoch')\n",
    "plt.legend(loc='upper right')\n",
    "plt.show()"
   ]
  },
  {
   "cell_type": "code",
   "execution_count": 40,
   "id": "86f99da5-7119-40d3-a7ce-c79006646ce8",
   "metadata": {},
   "outputs": [
    {
     "data": {
      "image/png": "[encoded data removed]",
      "text/plain": [
       "<Figure size 432x288 with 1 Axes>"
      ]
     },
     "metadata": {
      "needs_background": "light"
     },
     "output_type": "display_data"
    }
   ],
   "source": [
    "plt.plot(simple_history1.history['accuracy'], label='training data')\n",
    "plt.plot(simple_history1.history['val_accuracy'], label='validation data')\n",
    "plt.title('Categorical Accuracy for Text Classification')\n",
    "plt.ylabel('Categorical Accuracy Value')\n",
    "plt.xlabel('No. epoch')\n",
    "plt.legend(loc='upper left')\n",
    "plt.show()"
   ]
  },
  {
   "cell_type": "code",
   "execution_count": 48,
   "id": "d568c23e-a053-4121-aab7-56e9656a0ba8",
   "metadata": {},
   "outputs": [
    {
     "name": "stdout",
     "output_type": "stream",
     "text": [
      "Model: \"sequential_5\"\n",
      "_________________________________________________________________\n",
      " Layer (type)                Output Shape              Param #   \n",
      "=================================================================\n",
      " keras_layer (KerasLayer)    (None, 128)               124642688 \n",
      "                                                                 \n",
      " dense_9 (Dense)             (None, 10)                1290      \n",
      "                                                                 \n",
      " dense_10 (Dense)            (None, 10)                110       \n",
      "                                                                 \n",
      " dense_11 (Dense)            (None, 2)                 22        \n",
      "                                                                 \n",
      "=================================================================\n",
      "Total params: 124,644,110\n",
      "Trainable params: 1,422\n",
      "Non-trainable params: 124,642,688\n",
      "_________________________________________________________________\n"
     ]
    }
   ],
   "source": [
    "hub_model2 = Sequential()\n",
    "hub_model2.add(hub_layer)\n",
    "hub_model2.add(Dense(10, activation='relu'))\n",
    "hub_model2.add(Dense(10, activation='relu', kernel_regularizer=regularizers.l2(0.05)))\n",
    "hub_model2.add(Dense(2, activation='sigmoid'))\n",
    "\n",
    "hub_model2.summary()"
   ]
  },
  {
   "cell_type": "code",
   "execution_count": 49,
   "id": "f7c5f671-c302-4dfd-b75d-2632d8d59b43",
   "metadata": {},
   "outputs": [],
   "source": [
    "hub_model2.compile(loss=loss,\n",
    "              optimizer=optim, \n",
    "              metrics=metrics)"
   ]
  },
  {
   "cell_type": "code",
   "execution_count": 51,
   "id": "0497f5bb-2b1a-4ea8-ad72-085e04d47826",
   "metadata": {},
   "outputs": [
    {
     "name": "stdout",
     "output_type": "stream",
     "text": [
      "Epoch 1/100\n",
      "80/80 [==============================] - 1s 5ms/step - loss: 0.8302 - accuracy: 0.5620 - val_loss: 0.7073 - val_accuracy: 0.5553\n",
      "Epoch 2/100\n",
      "80/80 [==============================] - 0s 4ms/step - loss: 0.6801 - accuracy: 0.5928 - val_loss: 0.6725 - val_accuracy: 0.6005\n",
      "Epoch 3/100\n",
      "80/80 [==============================] - 0s 4ms/step - loss: 0.6652 - accuracy: 0.6044 - val_loss: 0.6662 - val_accuracy: 0.6020\n",
      "Epoch 4/100\n",
      "80/80 [==============================] - 0s 3ms/step - loss: 0.6613 - accuracy: 0.6079 - val_loss: 0.6643 - val_accuracy: 0.6090\n",
      "Epoch 5/100\n",
      "80/80 [==============================] - 0s 3ms/step - loss: 0.6596 - accuracy: 0.6087 - val_loss: 0.6621 - val_accuracy: 0.6121\n",
      "Epoch 6/100\n",
      "80/80 [==============================] - 0s 3ms/step - loss: 0.6586 - accuracy: 0.6127 - val_loss: 0.6625 - val_accuracy: 0.6153\n",
      "Epoch 7/100\n",
      "80/80 [==============================] - 0s 5ms/step - loss: 0.6574 - accuracy: 0.6146 - val_loss: 0.6608 - val_accuracy: 0.6075\n",
      "Epoch 8/100\n",
      "80/80 [==============================] - 0s 3ms/step - loss: 0.6569 - accuracy: 0.6141 - val_loss: 0.6601 - val_accuracy: 0.6075\n",
      "Epoch 9/100\n",
      "80/80 [==============================] - 0s 3ms/step - loss: 0.6565 - accuracy: 0.6117 - val_loss: 0.6608 - val_accuracy: 0.6153\n",
      "Epoch 10/100\n",
      "80/80 [==============================] - 0s 4ms/step - loss: 0.6557 - accuracy: 0.6145 - val_loss: 0.6590 - val_accuracy: 0.6098\n",
      "Epoch 11/100\n",
      "80/80 [==============================] - 0s 4ms/step - loss: 0.6550 - accuracy: 0.6161 - val_loss: 0.6604 - val_accuracy: 0.6106\n",
      "Epoch 12/100\n",
      "80/80 [==============================] - 0s 4ms/step - loss: 0.6548 - accuracy: 0.6138 - val_loss: 0.6587 - val_accuracy: 0.6106\n",
      "Epoch 13/100\n",
      "80/80 [==============================] - 0s 3ms/step - loss: 0.6541 - accuracy: 0.6147 - val_loss: 0.6590 - val_accuracy: 0.6153\n",
      "Epoch 14/100\n",
      "80/80 [==============================] - 0s 3ms/step - loss: 0.6539 - accuracy: 0.6169 - val_loss: 0.6587 - val_accuracy: 0.6184\n",
      "Epoch 15/100\n",
      "80/80 [==============================] - 0s 3ms/step - loss: 0.6534 - accuracy: 0.6163 - val_loss: 0.6588 - val_accuracy: 0.6145\n",
      "Epoch 16/100\n",
      "80/80 [==============================] - 0s 3ms/step - loss: 0.6529 - accuracy: 0.6194 - val_loss: 0.6573 - val_accuracy: 0.6129\n",
      "Epoch 17/100\n",
      "80/80 [==============================] - 0s 3ms/step - loss: 0.6527 - accuracy: 0.6194 - val_loss: 0.6586 - val_accuracy: 0.6137\n",
      "Epoch 18/100\n",
      "80/80 [==============================] - 0s 3ms/step - loss: 0.6523 - accuracy: 0.6186 - val_loss: 0.6619 - val_accuracy: 0.6075\n",
      "Epoch 19/100\n",
      "80/80 [==============================] - 0s 3ms/step - loss: 0.6518 - accuracy: 0.6217 - val_loss: 0.6589 - val_accuracy: 0.6106\n",
      "Epoch 20/100\n",
      "80/80 [==============================] - 0s 4ms/step - loss: 0.6521 - accuracy: 0.6187 - val_loss: 0.6581 - val_accuracy: 0.6090\n",
      "Epoch 21/100\n",
      "80/80 [==============================] - 0s 4ms/step - loss: 0.6512 - accuracy: 0.6187 - val_loss: 0.6559 - val_accuracy: 0.6114\n",
      "Epoch 22/100\n",
      "80/80 [==============================] - 0s 4ms/step - loss: 0.6508 - accuracy: 0.6207 - val_loss: 0.6568 - val_accuracy: 0.6075\n",
      "Epoch 23/100\n",
      "80/80 [==============================] - 0s 3ms/step - loss: 0.6504 - accuracy: 0.6206 - val_loss: 0.6564 - val_accuracy: 0.6075\n",
      "Epoch 24/100\n",
      "80/80 [==============================] - 0s 4ms/step - loss: 0.6502 - accuracy: 0.6239 - val_loss: 0.6578 - val_accuracy: 0.6067\n",
      "Epoch 25/100\n",
      "80/80 [==============================] - 0s 4ms/step - loss: 0.6501 - accuracy: 0.6231 - val_loss: 0.6553 - val_accuracy: 0.6168\n",
      "Epoch 26/100\n",
      "80/80 [==============================] - 0s 4ms/step - loss: 0.6497 - accuracy: 0.6223 - val_loss: 0.6572 - val_accuracy: 0.6090\n",
      "Epoch 27/100\n",
      "80/80 [==============================] - 0s 4ms/step - loss: 0.6497 - accuracy: 0.6235 - val_loss: 0.6557 - val_accuracy: 0.6106\n",
      "Epoch 28/100\n",
      "80/80 [==============================] - 0s 4ms/step - loss: 0.6493 - accuracy: 0.6247 - val_loss: 0.6556 - val_accuracy: 0.6106\n",
      "Epoch 29/100\n",
      "80/80 [==============================] - 0s 3ms/step - loss: 0.6493 - accuracy: 0.6239 - val_loss: 0.6585 - val_accuracy: 0.6129\n",
      "Epoch 30/100\n",
      "80/80 [==============================] - 0s 4ms/step - loss: 0.6488 - accuracy: 0.6252 - val_loss: 0.6559 - val_accuracy: 0.6067\n",
      "Epoch 31/100\n",
      "80/80 [==============================] - 0s 4ms/step - loss: 0.6486 - accuracy: 0.6240 - val_loss: 0.6578 - val_accuracy: 0.6129\n",
      "Epoch 32/100\n",
      "80/80 [==============================] - 0s 3ms/step - loss: 0.6486 - accuracy: 0.6237 - val_loss: 0.6544 - val_accuracy: 0.6160\n",
      "Epoch 33/100\n",
      "80/80 [==============================] - 0s 3ms/step - loss: 0.6484 - accuracy: 0.6264 - val_loss: 0.6554 - val_accuracy: 0.6098\n",
      "Epoch 34/100\n",
      "80/80 [==============================] - 0s 3ms/step - loss: 0.6480 - accuracy: 0.6262 - val_loss: 0.6564 - val_accuracy: 0.6083\n",
      "Epoch 35/100\n",
      "80/80 [==============================] - 0s 3ms/step - loss: 0.6484 - accuracy: 0.6246 - val_loss: 0.6542 - val_accuracy: 0.6160\n",
      "Epoch 36/100\n",
      "80/80 [==============================] - 0s 3ms/step - loss: 0.6479 - accuracy: 0.6275 - val_loss: 0.6558 - val_accuracy: 0.6121\n",
      "Epoch 37/100\n",
      "80/80 [==============================] - 0s 3ms/step - loss: 0.6476 - accuracy: 0.6260 - val_loss: 0.6563 - val_accuracy: 0.6090\n",
      "Epoch 38/100\n",
      "80/80 [==============================] - 0s 4ms/step - loss: 0.6478 - accuracy: 0.6279 - val_loss: 0.6568 - val_accuracy: 0.6083\n",
      "Epoch 39/100\n",
      "80/80 [==============================] - 0s 3ms/step - loss: 0.6472 - accuracy: 0.6272 - val_loss: 0.6545 - val_accuracy: 0.6098\n",
      "Epoch 40/100\n",
      "80/80 [==============================] - 0s 3ms/step - loss: 0.6464 - accuracy: 0.6294 - val_loss: 0.6553 - val_accuracy: 0.6106\n",
      "Epoch 41/100\n",
      "80/80 [==============================] - 0s 3ms/step - loss: 0.6464 - accuracy: 0.6283 - val_loss: 0.6542 - val_accuracy: 0.6129\n",
      "Epoch 42/100\n",
      "80/80 [==============================] - 0s 4ms/step - loss: 0.6464 - accuracy: 0.6291 - val_loss: 0.6560 - val_accuracy: 0.6051\n",
      "Epoch 43/100\n",
      "80/80 [==============================] - 0s 3ms/step - loss: 0.6464 - accuracy: 0.6294 - val_loss: 0.6556 - val_accuracy: 0.6051\n",
      "Epoch 44/100\n",
      "80/80 [==============================] - 0s 3ms/step - loss: 0.6458 - accuracy: 0.6301 - val_loss: 0.6551 - val_accuracy: 0.6090\n",
      "Epoch 45/100\n",
      "80/80 [==============================] - 0s 4ms/step - loss: 0.6460 - accuracy: 0.6316 - val_loss: 0.6548 - val_accuracy: 0.6067\n",
      "Epoch 46/100\n",
      "80/80 [==============================] - 0s 3ms/step - loss: 0.6455 - accuracy: 0.6324 - val_loss: 0.6566 - val_accuracy: 0.6083\n",
      "Epoch 47/100\n",
      "80/80 [==============================] - 0s 3ms/step - loss: 0.6456 - accuracy: 0.6287 - val_loss: 0.6571 - val_accuracy: 0.6106\n",
      "Epoch 48/100\n",
      "80/80 [==============================] - 0s 3ms/step - loss: 0.6453 - accuracy: 0.6303 - val_loss: 0.6557 - val_accuracy: 0.6083\n",
      "Epoch 49/100\n",
      "80/80 [==============================] - 0s 4ms/step - loss: 0.6450 - accuracy: 0.6311 - val_loss: 0.6563 - val_accuracy: 0.6067\n",
      "Epoch 50/100\n",
      "80/80 [==============================] - 0s 3ms/step - loss: 0.6445 - accuracy: 0.6323 - val_loss: 0.6556 - val_accuracy: 0.6090\n",
      "Epoch 51/100\n",
      "80/80 [==============================] - 0s 4ms/step - loss: 0.6451 - accuracy: 0.6313 - val_loss: 0.6555 - val_accuracy: 0.6067\n",
      "Epoch 52/100\n",
      "80/80 [==============================] - 0s 3ms/step - loss: 0.6448 - accuracy: 0.6291 - val_loss: 0.6544 - val_accuracy: 0.6106\n",
      "Epoch 53/100\n",
      "80/80 [==============================] - 0s 4ms/step - loss: 0.6439 - accuracy: 0.6323 - val_loss: 0.6551 - val_accuracy: 0.6059\n",
      "Epoch 54/100\n",
      "80/80 [==============================] - 0s 4ms/step - loss: 0.6444 - accuracy: 0.6328 - val_loss: 0.6604 - val_accuracy: 0.6059\n",
      "Epoch 55/100\n",
      "80/80 [==============================] - 0s 4ms/step - loss: 0.6438 - accuracy: 0.6351 - val_loss: 0.6571 - val_accuracy: 0.6090\n",
      "Epoch 56/100\n",
      "80/80 [==============================] - 0s 4ms/step - loss: 0.6437 - accuracy: 0.6338 - val_loss: 0.6585 - val_accuracy: 0.6083\n",
      "Epoch 57/100\n",
      "80/80 [==============================] - 0s 3ms/step - loss: 0.6437 - accuracy: 0.6323 - val_loss: 0.6578 - val_accuracy: 0.6106\n",
      "Epoch 58/100\n",
      "80/80 [==============================] - 0s 4ms/step - loss: 0.6436 - accuracy: 0.6356 - val_loss: 0.6556 - val_accuracy: 0.6090\n",
      "Epoch 59/100\n",
      "80/80 [==============================] - 0s 4ms/step - loss: 0.6431 - accuracy: 0.6344 - val_loss: 0.6550 - val_accuracy: 0.6083\n",
      "Epoch 60/100\n",
      "80/80 [==============================] - 0s 3ms/step - loss: 0.6432 - accuracy: 0.6345 - val_loss: 0.6553 - val_accuracy: 0.6036\n",
      "Epoch 61/100\n",
      "80/80 [==============================] - 0s 3ms/step - loss: 0.6436 - accuracy: 0.6329 - val_loss: 0.6573 - val_accuracy: 0.6145\n",
      "Epoch 62/100\n",
      "80/80 [==============================] - 0s 4ms/step - loss: 0.6431 - accuracy: 0.6362 - val_loss: 0.6564 - val_accuracy: 0.6176\n",
      "Epoch 63/100\n",
      "80/80 [==============================] - 0s 3ms/step - loss: 0.6424 - accuracy: 0.6359 - val_loss: 0.6545 - val_accuracy: 0.6059\n",
      "Epoch 64/100\n",
      "80/80 [==============================] - 0s 4ms/step - loss: 0.6426 - accuracy: 0.6339 - val_loss: 0.6566 - val_accuracy: 0.6153\n",
      "Epoch 65/100\n",
      "80/80 [==============================] - 0s 3ms/step - loss: 0.6421 - accuracy: 0.6356 - val_loss: 0.6570 - val_accuracy: 0.6160\n",
      "Epoch 66/100\n",
      "80/80 [==============================] - 0s 3ms/step - loss: 0.6421 - accuracy: 0.6343 - val_loss: 0.6544 - val_accuracy: 0.6106\n",
      "Epoch 67/100\n",
      "80/80 [==============================] - 0s 3ms/step - loss: 0.6418 - accuracy: 0.6358 - val_loss: 0.6573 - val_accuracy: 0.6199\n",
      "Epoch 68/100\n",
      "80/80 [==============================] - 0s 4ms/step - loss: 0.6416 - accuracy: 0.6349 - val_loss: 0.6555 - val_accuracy: 0.6090\n",
      "Epoch 69/100\n",
      "80/80 [==============================] - 0s 3ms/step - loss: 0.6415 - accuracy: 0.6355 - val_loss: 0.6562 - val_accuracy: 0.6153\n",
      "Epoch 70/100\n",
      "80/80 [==============================] - 0s 3ms/step - loss: 0.6414 - accuracy: 0.6372 - val_loss: 0.6569 - val_accuracy: 0.6184\n",
      "Epoch 71/100\n",
      "80/80 [==============================] - 0s 4ms/step - loss: 0.6411 - accuracy: 0.6357 - val_loss: 0.6548 - val_accuracy: 0.6090\n",
      "Epoch 72/100\n",
      "80/80 [==============================] - 0s 4ms/step - loss: 0.6412 - accuracy: 0.6341 - val_loss: 0.6549 - val_accuracy: 0.6098\n",
      "Epoch 73/100\n",
      "80/80 [==============================] - 0s 3ms/step - loss: 0.6410 - accuracy: 0.6359 - val_loss: 0.6543 - val_accuracy: 0.6083\n",
      "Epoch 74/100\n",
      "80/80 [==============================] - 0s 3ms/step - loss: 0.6405 - accuracy: 0.6365 - val_loss: 0.6616 - val_accuracy: 0.6044\n",
      "Epoch 75/100\n",
      "80/80 [==============================] - 0s 3ms/step - loss: 0.6410 - accuracy: 0.6359 - val_loss: 0.6549 - val_accuracy: 0.6137\n",
      "Epoch 76/100\n",
      "80/80 [==============================] - 0s 3ms/step - loss: 0.6410 - accuracy: 0.6351 - val_loss: 0.6586 - val_accuracy: 0.6137\n",
      "Epoch 77/100\n",
      "80/80 [==============================] - 0s 3ms/step - loss: 0.6407 - accuracy: 0.6374 - val_loss: 0.6566 - val_accuracy: 0.6176\n",
      "Epoch 78/100\n",
      "80/80 [==============================] - 0s 3ms/step - loss: 0.6403 - accuracy: 0.6351 - val_loss: 0.6572 - val_accuracy: 0.6176\n",
      "Epoch 79/100\n",
      "80/80 [==============================] - 0s 3ms/step - loss: 0.6407 - accuracy: 0.6377 - val_loss: 0.6587 - val_accuracy: 0.6137\n",
      "Epoch 80/100\n",
      "80/80 [==============================] - 0s 4ms/step - loss: 0.6401 - accuracy: 0.6392 - val_loss: 0.6563 - val_accuracy: 0.6192\n",
      "Epoch 81/100\n",
      "80/80 [==============================] - 0s 3ms/step - loss: 0.6395 - accuracy: 0.6377 - val_loss: 0.6557 - val_accuracy: 0.6215\n",
      "Epoch 82/100\n",
      "80/80 [==============================] - 0s 4ms/step - loss: 0.6394 - accuracy: 0.6372 - val_loss: 0.6583 - val_accuracy: 0.6137\n",
      "Epoch 83/100\n",
      "80/80 [==============================] - 0s 4ms/step - loss: 0.6391 - accuracy: 0.6385 - val_loss: 0.6556 - val_accuracy: 0.6168\n",
      "Epoch 84/100\n",
      "80/80 [==============================] - 0s 3ms/step - loss: 0.6394 - accuracy: 0.6405 - val_loss: 0.6589 - val_accuracy: 0.6153\n",
      "Epoch 85/100\n",
      "80/80 [==============================] - 0s 4ms/step - loss: 0.6393 - accuracy: 0.6410 - val_loss: 0.6578 - val_accuracy: 0.6121\n",
      "Epoch 86/100\n",
      "80/80 [==============================] - 0s 3ms/step - loss: 0.6388 - accuracy: 0.6393 - val_loss: 0.6557 - val_accuracy: 0.6176\n",
      "Epoch 87/100\n",
      "80/80 [==============================] - 0s 3ms/step - loss: 0.6385 - accuracy: 0.6381 - val_loss: 0.6580 - val_accuracy: 0.6137\n",
      "Epoch 88/100\n",
      "80/80 [==============================] - 0s 3ms/step - loss: 0.6388 - accuracy: 0.6396 - val_loss: 0.6597 - val_accuracy: 0.6145\n",
      "Epoch 89/100\n",
      "80/80 [==============================] - 0s 3ms/step - loss: 0.6385 - accuracy: 0.6393 - val_loss: 0.6557 - val_accuracy: 0.6207\n",
      "Epoch 90/100\n",
      "80/80 [==============================] - 0s 4ms/step - loss: 0.6378 - accuracy: 0.6392 - val_loss: 0.6545 - val_accuracy: 0.6160\n",
      "Epoch 91/100\n",
      "80/80 [==============================] - 0s 4ms/step - loss: 0.6381 - accuracy: 0.6375 - val_loss: 0.6549 - val_accuracy: 0.6176\n",
      "Epoch 92/100\n",
      "80/80 [==============================] - 0s 3ms/step - loss: 0.6378 - accuracy: 0.6384 - val_loss: 0.6574 - val_accuracy: 0.6168\n",
      "Epoch 93/100\n",
      "80/80 [==============================] - 0s 4ms/step - loss: 0.6377 - accuracy: 0.6380 - val_loss: 0.6573 - val_accuracy: 0.6129\n",
      "Epoch 94/100\n",
      "80/80 [==============================] - 0s 4ms/step - loss: 0.6374 - accuracy: 0.6410 - val_loss: 0.6579 - val_accuracy: 0.6153\n",
      "Epoch 95/100\n",
      "80/80 [==============================] - 0s 3ms/step - loss: 0.6372 - accuracy: 0.6411 - val_loss: 0.6542 - val_accuracy: 0.6160\n",
      "Epoch 96/100\n",
      "80/80 [==============================] - 0s 4ms/step - loss: 0.6370 - accuracy: 0.6376 - val_loss: 0.6545 - val_accuracy: 0.6176\n",
      "Epoch 97/100\n",
      "80/80 [==============================] - 0s 3ms/step - loss: 0.6377 - accuracy: 0.6405 - val_loss: 0.6581 - val_accuracy: 0.6129\n",
      "Epoch 98/100\n",
      "80/80 [==============================] - 0s 4ms/step - loss: 0.6369 - accuracy: 0.6434 - val_loss: 0.6548 - val_accuracy: 0.6160\n",
      "Epoch 99/100\n",
      "80/80 [==============================] - 0s 3ms/step - loss: 0.6366 - accuracy: 0.6389 - val_loss: 0.6565 - val_accuracy: 0.6153\n",
      "Epoch 100/100\n",
      "80/80 [==============================] - 0s 4ms/step - loss: 0.6365 - accuracy: 0.6415 - val_loss: 0.6551 - val_accuracy: 0.6176\n"
     ]
    }
   ],
   "source": [
    "simple_history2 = hub_model2.fit(train_ds.shuffle(2000).batch(128), \n",
    "                                 epochs=100,\n",
    "                                 validation_data=val_ds.batch(128),\n",
    "                                 verbose=1)"
   ]
  },
  {
   "cell_type": "code",
   "execution_count": 52,
   "id": "339c8e92-4771-44d7-9e07-91909dff571f",
   "metadata": {},
   "outputs": [
    {
     "data": {
      "image/png": "[encoded data removed]",
      "text/plain": [
       "<Figure size 432x288 with 1 Axes>"
      ]
     },
     "metadata": {
      "needs_background": "light"
     },
     "output_type": "display_data"
    }
   ],
   "source": [
    "plt.plot(simple_history2.history['loss'], label='training data')\n",
    "plt.plot(simple_history2.history['val_loss'], label='validation data')\n",
    "plt.title('Loss for Text Classification')\n",
    "plt.ylabel('Loss Value')\n",
    "plt.xlabel('No. epoch')\n",
    "plt.legend(loc='upper right')\n",
    "plt.show()"
   ]
  },
  {
   "cell_type": "code",
   "execution_count": 53,
   "id": "c47a1005-5e07-4f20-a702-49a7c78feb40",
   "metadata": {},
   "outputs": [
    {
     "data": {
      "image/png": "[encoded data removed]",
      "text/plain": [
       "<Figure size 432x288 with 1 Axes>"
      ]
     },
     "metadata": {
      "needs_background": "light"
     },
     "output_type": "display_data"
    }
   ],
   "source": [
    "plt.plot(simple_history2.history['accuracy'], label='training data')\n",
    "plt.plot(simple_history2.history['val_accuracy'], label='validation data')\n",
    "plt.title('Categorical Accuracy for Text Classification')\n",
    "plt.ylabel('Categorical Accuracy Value')\n",
    "plt.xlabel('No. epoch')\n",
    "plt.legend(loc='upper left')\n",
    "plt.show()"
   ]
  },
  {
   "cell_type": "code",
   "execution_count": 54,
   "id": "9c51a2bf-28f1-4479-94a4-1d3bffe32087",
   "metadata": {},
   "outputs": [
    {
     "name": "stdout",
     "output_type": "stream",
     "text": [
      "Model: \"sequential_6\"\n",
      "_________________________________________________________________\n",
      " Layer (type)                Output Shape              Param #   \n",
      "=================================================================\n",
      " keras_layer (KerasLayer)    (None, 128)               124642688 \n",
      "                                                                 \n",
      " dense_12 (Dense)            (None, 10)                1290      \n",
      "                                                                 \n",
      " dropout (Dropout)           (None, 10)                0         \n",
      "                                                                 \n",
      " dense_13 (Dense)            (None, 10)                110       \n",
      "                                                                 \n",
      " dense_14 (Dense)            (None, 2)                 22        \n",
      "                                                                 \n",
      "=================================================================\n",
      "Total params: 124,644,110\n",
      "Trainable params: 1,422\n",
      "Non-trainable params: 124,642,688\n",
      "_________________________________________________________________\n"
     ]
    }
   ],
   "source": [
    "hub_model3 = Sequential()\n",
    "hub_model3.add(hub_layer)\n",
    "hub_model3.add(Dense(10, activation='relu'))\n",
    "hub_model3.add(Dropout(0.1))\n",
    "hub_model3.add(Dense(10, activation='relu', kernel_regularizer=regularizers.l2(0.05)))\n",
    "hub_model3.add(Dense(2, activation='sigmoid'))\n",
    "\n",
    "hub_model3.summary()"
   ]
  },
  {
   "cell_type": "code",
   "execution_count": 55,
   "id": "16dec599-25b3-47a2-9bd7-f2c3c1af328a",
   "metadata": {},
   "outputs": [],
   "source": [
    "hub_model3.compile(loss=loss,\n",
    "              optimizer=optim, \n",
    "              metrics=metrics)"
   ]
  },
  {
   "cell_type": "code",
   "execution_count": 56,
   "id": "08ec4324-e01f-47a5-ad35-e1345c06909f",
   "metadata": {},
   "outputs": [
    {
     "name": "stdout",
     "output_type": "stream",
     "text": [
      "Epoch 1/100\n",
      "80/80 [==============================] - 1s 5ms/step - loss: 0.8414 - accuracy: 0.5607 - val_loss: 0.7082 - val_accuracy: 0.5724\n",
      "Epoch 2/100\n",
      "80/80 [==============================] - 0s 4ms/step - loss: 0.6809 - accuracy: 0.5924 - val_loss: 0.6753 - val_accuracy: 0.5966\n",
      "Epoch 3/100\n",
      "80/80 [==============================] - 0s 4ms/step - loss: 0.6662 - accuracy: 0.6027 - val_loss: 0.6672 - val_accuracy: 0.6090\n",
      "Epoch 4/100\n",
      "80/80 [==============================] - 0s 3ms/step - loss: 0.6624 - accuracy: 0.6104 - val_loss: 0.6669 - val_accuracy: 0.6067\n",
      "Epoch 5/100\n",
      "80/80 [==============================] - 0s 4ms/step - loss: 0.6613 - accuracy: 0.6051 - val_loss: 0.6658 - val_accuracy: 0.6044\n",
      "Epoch 6/100\n",
      "80/80 [==============================] - 0s 4ms/step - loss: 0.6598 - accuracy: 0.6099 - val_loss: 0.6629 - val_accuracy: 0.6153\n",
      "Epoch 7/100\n",
      "80/80 [==============================] - 0s 3ms/step - loss: 0.6585 - accuracy: 0.6095 - val_loss: 0.6620 - val_accuracy: 0.6121\n",
      "Epoch 8/100\n",
      "80/80 [==============================] - 0s 4ms/step - loss: 0.6580 - accuracy: 0.6114 - val_loss: 0.6628 - val_accuracy: 0.6129\n",
      "Epoch 9/100\n",
      "80/80 [==============================] - 0s 4ms/step - loss: 0.6581 - accuracy: 0.6090 - val_loss: 0.6621 - val_accuracy: 0.6160\n",
      "Epoch 10/100\n",
      "80/80 [==============================] - 0s 4ms/step - loss: 0.6569 - accuracy: 0.6139 - val_loss: 0.6604 - val_accuracy: 0.6106\n",
      "Epoch 11/100\n",
      "80/80 [==============================] - 0s 4ms/step - loss: 0.6569 - accuracy: 0.6142 - val_loss: 0.6607 - val_accuracy: 0.6129\n",
      "Epoch 12/100\n",
      "80/80 [==============================] - 0s 4ms/step - loss: 0.6566 - accuracy: 0.6136 - val_loss: 0.6620 - val_accuracy: 0.6121\n",
      "Epoch 13/100\n",
      "80/80 [==============================] - 0s 3ms/step - loss: 0.6557 - accuracy: 0.6147 - val_loss: 0.6605 - val_accuracy: 0.6176\n",
      "Epoch 14/100\n",
      "80/80 [==============================] - 0s 4ms/step - loss: 0.6556 - accuracy: 0.6168 - val_loss: 0.6617 - val_accuracy: 0.6121\n",
      "Epoch 15/100\n",
      "80/80 [==============================] - 0s 3ms/step - loss: 0.6551 - accuracy: 0.6150 - val_loss: 0.6591 - val_accuracy: 0.6129\n",
      "Epoch 16/100\n",
      "80/80 [==============================] - 0s 4ms/step - loss: 0.6559 - accuracy: 0.6173 - val_loss: 0.6603 - val_accuracy: 0.6145\n",
      "Epoch 17/100\n",
      "80/80 [==============================] - 0s 4ms/step - loss: 0.6540 - accuracy: 0.6142 - val_loss: 0.6605 - val_accuracy: 0.6129\n",
      "Epoch 18/100\n",
      "80/80 [==============================] - 0s 4ms/step - loss: 0.6545 - accuracy: 0.6167 - val_loss: 0.6602 - val_accuracy: 0.6153\n",
      "Epoch 19/100\n",
      "80/80 [==============================] - 0s 4ms/step - loss: 0.6545 - accuracy: 0.6145 - val_loss: 0.6594 - val_accuracy: 0.6192\n",
      "Epoch 20/100\n",
      "80/80 [==============================] - 0s 4ms/step - loss: 0.6546 - accuracy: 0.6143 - val_loss: 0.6583 - val_accuracy: 0.6098\n",
      "Epoch 21/100\n",
      "80/80 [==============================] - 0s 5ms/step - loss: 0.6540 - accuracy: 0.6132 - val_loss: 0.6593 - val_accuracy: 0.6160\n",
      "Epoch 22/100\n",
      "80/80 [==============================] - 0s 3ms/step - loss: 0.6527 - accuracy: 0.6176 - val_loss: 0.6588 - val_accuracy: 0.6160\n",
      "Epoch 23/100\n",
      "80/80 [==============================] - 0s 3ms/step - loss: 0.6529 - accuracy: 0.6165 - val_loss: 0.6579 - val_accuracy: 0.6129\n",
      "Epoch 24/100\n",
      "80/80 [==============================] - 0s 5ms/step - loss: 0.6533 - accuracy: 0.6190 - val_loss: 0.6606 - val_accuracy: 0.6083\n",
      "Epoch 25/100\n",
      "80/80 [==============================] - 0s 4ms/step - loss: 0.6538 - accuracy: 0.6159 - val_loss: 0.6578 - val_accuracy: 0.6129\n",
      "Epoch 26/100\n",
      "80/80 [==============================] - 0s 3ms/step - loss: 0.6527 - accuracy: 0.6175 - val_loss: 0.6587 - val_accuracy: 0.6153\n",
      "Epoch 27/100\n",
      "80/80 [==============================] - 0s 4ms/step - loss: 0.6529 - accuracy: 0.6177 - val_loss: 0.6572 - val_accuracy: 0.6098\n",
      "Epoch 28/100\n",
      "80/80 [==============================] - 0s 4ms/step - loss: 0.6519 - accuracy: 0.6213 - val_loss: 0.6591 - val_accuracy: 0.6121\n",
      "Epoch 29/100\n",
      "80/80 [==============================] - 0s 3ms/step - loss: 0.6522 - accuracy: 0.6191 - val_loss: 0.6585 - val_accuracy: 0.6160\n",
      "Epoch 30/100\n",
      "80/80 [==============================] - 0s 4ms/step - loss: 0.6523 - accuracy: 0.6188 - val_loss: 0.6570 - val_accuracy: 0.6137\n",
      "Epoch 31/100\n",
      "80/80 [==============================] - 0s 3ms/step - loss: 0.6517 - accuracy: 0.6207 - val_loss: 0.6597 - val_accuracy: 0.6098\n",
      "Epoch 32/100\n",
      "80/80 [==============================] - 0s 3ms/step - loss: 0.6508 - accuracy: 0.6200 - val_loss: 0.6584 - val_accuracy: 0.6145\n",
      "Epoch 33/100\n",
      "80/80 [==============================] - 0s 3ms/step - loss: 0.6508 - accuracy: 0.6184 - val_loss: 0.6597 - val_accuracy: 0.6083\n",
      "Epoch 34/100\n",
      "80/80 [==============================] - 0s 4ms/step - loss: 0.6506 - accuracy: 0.6200 - val_loss: 0.6587 - val_accuracy: 0.6106\n",
      "Epoch 35/100\n",
      "80/80 [==============================] - 0s 4ms/step - loss: 0.6516 - accuracy: 0.6184 - val_loss: 0.6575 - val_accuracy: 0.6106\n",
      "Epoch 36/100\n",
      "80/80 [==============================] - 0s 3ms/step - loss: 0.6506 - accuracy: 0.6200 - val_loss: 0.6566 - val_accuracy: 0.6129\n",
      "Epoch 37/100\n",
      "80/80 [==============================] - 0s 3ms/step - loss: 0.6507 - accuracy: 0.6208 - val_loss: 0.6579 - val_accuracy: 0.6129\n",
      "Epoch 38/100\n",
      "80/80 [==============================] - 0s 4ms/step - loss: 0.6513 - accuracy: 0.6211 - val_loss: 0.6583 - val_accuracy: 0.6098\n",
      "Epoch 39/100\n",
      "80/80 [==============================] - 0s 3ms/step - loss: 0.6502 - accuracy: 0.6221 - val_loss: 0.6571 - val_accuracy: 0.6137\n",
      "Epoch 40/100\n",
      "80/80 [==============================] - 0s 3ms/step - loss: 0.6509 - accuracy: 0.6218 - val_loss: 0.6573 - val_accuracy: 0.6129\n",
      "Epoch 41/100\n",
      "80/80 [==============================] - 0s 4ms/step - loss: 0.6496 - accuracy: 0.6237 - val_loss: 0.6576 - val_accuracy: 0.6098\n",
      "Epoch 42/100\n",
      "80/80 [==============================] - 0s 4ms/step - loss: 0.6506 - accuracy: 0.6225 - val_loss: 0.6569 - val_accuracy: 0.6129\n",
      "Epoch 43/100\n",
      "80/80 [==============================] - 0s 3ms/step - loss: 0.6488 - accuracy: 0.6240 - val_loss: 0.6585 - val_accuracy: 0.6075\n",
      "Epoch 44/100\n",
      "80/80 [==============================] - 0s 3ms/step - loss: 0.6508 - accuracy: 0.6201 - val_loss: 0.6584 - val_accuracy: 0.6098\n",
      "Epoch 45/100\n",
      "80/80 [==============================] - 0s 3ms/step - loss: 0.6494 - accuracy: 0.6240 - val_loss: 0.6586 - val_accuracy: 0.6098\n",
      "Epoch 46/100\n",
      "80/80 [==============================] - 0s 3ms/step - loss: 0.6493 - accuracy: 0.6229 - val_loss: 0.6567 - val_accuracy: 0.6137\n",
      "Epoch 47/100\n",
      "80/80 [==============================] - 0s 4ms/step - loss: 0.6497 - accuracy: 0.6238 - val_loss: 0.6576 - val_accuracy: 0.6090\n",
      "Epoch 48/100\n",
      "80/80 [==============================] - 0s 3ms/step - loss: 0.6494 - accuracy: 0.6223 - val_loss: 0.6569 - val_accuracy: 0.6129\n",
      "Epoch 49/100\n",
      "80/80 [==============================] - 0s 4ms/step - loss: 0.6504 - accuracy: 0.6227 - val_loss: 0.6596 - val_accuracy: 0.6075\n",
      "Epoch 50/100\n",
      "80/80 [==============================] - 0s 3ms/step - loss: 0.6487 - accuracy: 0.6257 - val_loss: 0.6562 - val_accuracy: 0.6145\n",
      "Epoch 51/100\n",
      "80/80 [==============================] - 0s 3ms/step - loss: 0.6479 - accuracy: 0.6220 - val_loss: 0.6578 - val_accuracy: 0.6090\n",
      "Epoch 52/100\n",
      "80/80 [==============================] - 0s 4ms/step - loss: 0.6489 - accuracy: 0.6219 - val_loss: 0.6573 - val_accuracy: 0.6114\n",
      "Epoch 53/100\n",
      "80/80 [==============================] - 0s 3ms/step - loss: 0.6484 - accuracy: 0.6247 - val_loss: 0.6566 - val_accuracy: 0.6153\n",
      "Epoch 54/100\n",
      "80/80 [==============================] - 0s 3ms/step - loss: 0.6489 - accuracy: 0.6238 - val_loss: 0.6558 - val_accuracy: 0.6160\n",
      "Epoch 55/100\n",
      "80/80 [==============================] - 0s 3ms/step - loss: 0.6481 - accuracy: 0.6277 - val_loss: 0.6563 - val_accuracy: 0.6160\n",
      "Epoch 56/100\n",
      "80/80 [==============================] - 0s 3ms/step - loss: 0.6472 - accuracy: 0.6278 - val_loss: 0.6566 - val_accuracy: 0.6168\n",
      "Epoch 57/100\n",
      "80/80 [==============================] - 0s 3ms/step - loss: 0.6478 - accuracy: 0.6271 - val_loss: 0.6582 - val_accuracy: 0.6106\n",
      "Epoch 58/100\n",
      "80/80 [==============================] - 0s 3ms/step - loss: 0.6482 - accuracy: 0.6264 - val_loss: 0.6570 - val_accuracy: 0.6145\n",
      "Epoch 59/100\n",
      "80/80 [==============================] - 0s 4ms/step - loss: 0.6480 - accuracy: 0.6255 - val_loss: 0.6570 - val_accuracy: 0.6114\n",
      "Epoch 60/100\n",
      "80/80 [==============================] - 0s 4ms/step - loss: 0.6472 - accuracy: 0.6285 - val_loss: 0.6575 - val_accuracy: 0.6106\n",
      "Epoch 61/100\n",
      "80/80 [==============================] - 0s 3ms/step - loss: 0.6466 - accuracy: 0.6264 - val_loss: 0.6566 - val_accuracy: 0.6153\n",
      "Epoch 62/100\n",
      "80/80 [==============================] - 0s 4ms/step - loss: 0.6464 - accuracy: 0.6279 - val_loss: 0.6569 - val_accuracy: 0.6145\n",
      "Epoch 63/100\n",
      "80/80 [==============================] - 0s 4ms/step - loss: 0.6466 - accuracy: 0.6294 - val_loss: 0.6569 - val_accuracy: 0.6137\n",
      "Epoch 64/100\n",
      "80/80 [==============================] - 0s 3ms/step - loss: 0.6458 - accuracy: 0.6275 - val_loss: 0.6588 - val_accuracy: 0.6083\n",
      "Epoch 65/100\n",
      "80/80 [==============================] - 0s 4ms/step - loss: 0.6465 - accuracy: 0.6288 - val_loss: 0.6561 - val_accuracy: 0.6184\n",
      "Epoch 66/100\n",
      "80/80 [==============================] - 0s 4ms/step - loss: 0.6458 - accuracy: 0.6291 - val_loss: 0.6569 - val_accuracy: 0.6106\n",
      "Epoch 67/100\n",
      "80/80 [==============================] - 0s 3ms/step - loss: 0.6458 - accuracy: 0.6331 - val_loss: 0.6568 - val_accuracy: 0.6160\n",
      "Epoch 68/100\n",
      "80/80 [==============================] - 0s 3ms/step - loss: 0.6458 - accuracy: 0.6322 - val_loss: 0.6558 - val_accuracy: 0.6246\n",
      "Epoch 69/100\n",
      "80/80 [==============================] - 0s 4ms/step - loss: 0.6444 - accuracy: 0.6321 - val_loss: 0.6568 - val_accuracy: 0.6137\n",
      "Epoch 70/100\n",
      "80/80 [==============================] - 0s 4ms/step - loss: 0.6463 - accuracy: 0.6300 - val_loss: 0.6567 - val_accuracy: 0.6145\n",
      "Epoch 71/100\n",
      "80/80 [==============================] - 0s 3ms/step - loss: 0.6442 - accuracy: 0.6333 - val_loss: 0.6565 - val_accuracy: 0.6160\n",
      "Epoch 72/100\n",
      "80/80 [==============================] - 0s 3ms/step - loss: 0.6448 - accuracy: 0.6308 - val_loss: 0.6564 - val_accuracy: 0.6184\n",
      "Epoch 73/100\n",
      "80/80 [==============================] - 0s 3ms/step - loss: 0.6443 - accuracy: 0.6324 - val_loss: 0.6579 - val_accuracy: 0.6176\n",
      "Epoch 74/100\n",
      "80/80 [==============================] - 0s 3ms/step - loss: 0.6436 - accuracy: 0.6339 - val_loss: 0.6595 - val_accuracy: 0.6129\n",
      "Epoch 75/100\n",
      "80/80 [==============================] - 0s 3ms/step - loss: 0.6441 - accuracy: 0.6345 - val_loss: 0.6575 - val_accuracy: 0.6199\n",
      "Epoch 76/100\n",
      "80/80 [==============================] - 0s 4ms/step - loss: 0.6428 - accuracy: 0.6375 - val_loss: 0.6572 - val_accuracy: 0.6199\n",
      "Epoch 77/100\n",
      "80/80 [==============================] - 0s 4ms/step - loss: 0.6432 - accuracy: 0.6378 - val_loss: 0.6585 - val_accuracy: 0.6199\n",
      "Epoch 78/100\n",
      "80/80 [==============================] - 0s 4ms/step - loss: 0.6427 - accuracy: 0.6375 - val_loss: 0.6560 - val_accuracy: 0.6223\n",
      "Epoch 79/100\n",
      "80/80 [==============================] - 0s 3ms/step - loss: 0.6431 - accuracy: 0.6367 - val_loss: 0.6599 - val_accuracy: 0.6129\n",
      "Epoch 80/100\n",
      "80/80 [==============================] - 0s 4ms/step - loss: 0.6425 - accuracy: 0.6371 - val_loss: 0.6591 - val_accuracy: 0.6137\n",
      "Epoch 81/100\n",
      "80/80 [==============================] - 0s 3ms/step - loss: 0.6415 - accuracy: 0.6389 - val_loss: 0.6581 - val_accuracy: 0.6160\n",
      "Epoch 82/100\n",
      "80/80 [==============================] - 0s 3ms/step - loss: 0.6423 - accuracy: 0.6345 - val_loss: 0.6580 - val_accuracy: 0.6145\n",
      "Epoch 83/100\n",
      "80/80 [==============================] - 0s 4ms/step - loss: 0.6416 - accuracy: 0.6420 - val_loss: 0.6563 - val_accuracy: 0.6192\n",
      "Epoch 84/100\n",
      "80/80 [==============================] - 0s 3ms/step - loss: 0.6410 - accuracy: 0.6415 - val_loss: 0.6571 - val_accuracy: 0.6184\n",
      "Epoch 85/100\n",
      "80/80 [==============================] - 0s 3ms/step - loss: 0.6421 - accuracy: 0.6397 - val_loss: 0.6573 - val_accuracy: 0.6192\n",
      "Epoch 86/100\n",
      "80/80 [==============================] - 0s 4ms/step - loss: 0.6418 - accuracy: 0.6366 - val_loss: 0.6576 - val_accuracy: 0.6168\n",
      "Epoch 87/100\n",
      "80/80 [==============================] - 0s 4ms/step - loss: 0.6404 - accuracy: 0.6416 - val_loss: 0.6577 - val_accuracy: 0.6160\n",
      "Epoch 88/100\n",
      "80/80 [==============================] - 0s 3ms/step - loss: 0.6406 - accuracy: 0.6386 - val_loss: 0.6559 - val_accuracy: 0.6238\n",
      "Epoch 89/100\n",
      "80/80 [==============================] - 0s 3ms/step - loss: 0.6412 - accuracy: 0.6357 - val_loss: 0.6566 - val_accuracy: 0.6238\n",
      "Epoch 90/100\n",
      "80/80 [==============================] - 0s 4ms/step - loss: 0.6411 - accuracy: 0.6397 - val_loss: 0.6588 - val_accuracy: 0.6192\n",
      "Epoch 91/100\n",
      "80/80 [==============================] - 0s 4ms/step - loss: 0.6408 - accuracy: 0.6392 - val_loss: 0.6571 - val_accuracy: 0.6223\n",
      "Epoch 92/100\n",
      "80/80 [==============================] - 0s 3ms/step - loss: 0.6392 - accuracy: 0.6442 - val_loss: 0.6575 - val_accuracy: 0.6223\n",
      "Epoch 93/100\n",
      "80/80 [==============================] - 0s 4ms/step - loss: 0.6389 - accuracy: 0.6440 - val_loss: 0.6579 - val_accuracy: 0.6223\n",
      "Epoch 94/100\n",
      "80/80 [==============================] - 0s 4ms/step - loss: 0.6402 - accuracy: 0.6394 - val_loss: 0.6596 - val_accuracy: 0.6160\n",
      "Epoch 95/100\n",
      "80/80 [==============================] - 0s 3ms/step - loss: 0.6396 - accuracy: 0.6405 - val_loss: 0.6566 - val_accuracy: 0.6223\n",
      "Epoch 96/100\n",
      "80/80 [==============================] - 0s 3ms/step - loss: 0.6403 - accuracy: 0.6421 - val_loss: 0.6572 - val_accuracy: 0.6192\n",
      "Epoch 97/100\n",
      "80/80 [==============================] - 0s 3ms/step - loss: 0.6395 - accuracy: 0.6430 - val_loss: 0.6580 - val_accuracy: 0.6199\n",
      "Epoch 98/100\n",
      "80/80 [==============================] - 0s 3ms/step - loss: 0.6391 - accuracy: 0.6396 - val_loss: 0.6581 - val_accuracy: 0.6215\n",
      "Epoch 99/100\n",
      "80/80 [==============================] - 0s 3ms/step - loss: 0.6383 - accuracy: 0.6459 - val_loss: 0.6591 - val_accuracy: 0.6184\n",
      "Epoch 100/100\n",
      "80/80 [==============================] - 0s 4ms/step - loss: 0.6395 - accuracy: 0.6410 - val_loss: 0.6586 - val_accuracy: 0.6199\n"
     ]
    }
   ],
   "source": [
    "simple_history3 = hub_model3.fit(train_ds.shuffle(2000).batch(128), \n",
    "                                 epochs=100,\n",
    "                                 validation_data=val_ds.batch(128),\n",
    "                                 verbose=1)"
   ]
  },
  {
   "cell_type": "code",
   "execution_count": 57,
   "id": "ecf90632-f367-4c5c-9ad4-5f7eb552390d",
   "metadata": {},
   "outputs": [
    {
     "data": {
      "image/png": "[encoded data removed]",
      "text/plain": [
       "<Figure size 432x288 with 1 Axes>"
      ]
     },
     "metadata": {
      "needs_background": "light"
     },
     "output_type": "display_data"
    }
   ],
   "source": [
    "plt.plot(simple_history3.history['loss'], label='training data')\n",
    "plt.plot(simple_history3.history['val_loss'], label='validation data')\n",
    "plt.title('Loss for Text Classification')\n",
    "plt.ylabel('Loss Value')\n",
    "plt.xlabel('No. epoch')\n",
    "plt.legend(loc='upper right')\n",
    "plt.show()"
   ]
  },
  {
   "cell_type": "code",
   "execution_count": 58,
   "id": "04b1140e-3e99-4bbf-9a77-d045a0b1aba6",
   "metadata": {},
   "outputs": [
    {
     "data": {
      "image/png": "[encoded data removed]",
      "text/plain": [
       "<Figure size 432x288 with 1 Axes>"
      ]
     },
     "metadata": {
      "needs_background": "light"
     },
     "output_type": "display_data"
    }
   ],
   "source": [
    "plt.plot(simple_history3.history['accuracy'], label='training data')\n",
    "plt.plot(simple_history3.history['val_accuracy'], label='validation data')\n",
    "plt.title('Categorical Accuracy for Text Classification')\n",
    "plt.ylabel('Categorical Accuracy Value')\n",
    "plt.xlabel('No. epoch')\n",
    "plt.legend(loc='upper left')\n",
    "plt.show()"
   ]
  },
  {
   "cell_type": "code",
   "execution_count": 1,
   "id": "4bf3e74b-791a-453d-8559-3cc8e1202890",
   "metadata": {},
   "outputs": [],
   "source": [
    "hub_model4 = Sequential()\n",
    "hub_model4.add(hub_layer)\n",
    "hub_model4.add(Dense(10, activation='relu'))\n",
    "hub_model4.add(Dropout(0.1))\n",
    "hub_model4.add(Dense(10, activation='relu', kernel_regularizer=regularizers.l2(0.05)))\n",
    "hub_model4.add(Dense(2, activation='sigmoid'))\n",
    "\n",
    "hub_model4.summary()"
   ]
  },
  {
   "cell_type": "code",
   "execution_count": 60,
   "id": "fbf804c4-020e-4862-bb6e-f2767aff2050",
   "metadata": {},
   "outputs": [],
   "source": [
    "hub_model4.compile(loss=loss,\n",
    "              optimizer=optim, \n",
    "              metrics=metrics)"
   ]
  },
  {
   "cell_type": "code",
   "execution_count": 64,
   "id": "9668b57b-8726-4c5a-a512-c1365fdf14c3",
   "metadata": {},
   "outputs": [],
   "source": [
    "simple_history4 = hub_model4.fit(train_ds.shuffle(2000).batch(128), \n",
    "                                 epochs=500,\n",
    "                                 validation_data=val_ds.batch(128),\n",
    "                                 verbose=1)"
   ]
  },
  {
   "cell_type": "code",
   "execution_count": 63,
   "id": "0e287e7c-51fa-46ee-abcc-a5cdfd7861dc",
   "metadata": {},
   "outputs": [
    {
     "data": {
      "image/png": "[encoded data removed]",
      "text/plain": [
       "<Figure size 432x288 with 1 Axes>"
      ]
     },
     "metadata": {
      "needs_background": "light"
     },
     "output_type": "display_data"
    }
   ],
   "source": [
    "plt.plot(simple_history4.history['accuracy'], label='training data')\n",
    "plt.plot(simple_history4.history['val_accuracy'], label='validation data')\n",
    "plt.title('Categorical Accuracy for Text Classification')\n",
    "plt.ylabel('Categorical Accuracy Value')\n",
    "plt.xlabel('No. epoch')\n",
    "plt.legend(loc='upper left')\n",
    "plt.show()"
   ]
  },
  {
   "cell_type": "markdown",
   "id": "9f78420b-c716-4ad7-82c2-386195532f54",
   "metadata": {},
   "source": [
    "The validation accuracy of some embeded models have slightly outperformed the the categorical encoding models. There are still more different types of embeddings to try, so I'll stop here for now and continue with [Sentence Embedding](Sentence_Embedding.ipynb) in another notebook."
   ]
  }
 ],
 "metadata": {
  "kernelspec": {
   "display_name": "nlp-env",
   "language": "python",
   "name": "nlp-env"
  },
  "language_info": {
   "codemirror_mode": {
    "name": "ipython",
    "version": 3
   },
   "file_extension": ".py",
   "mimetype": "text/x-python",
   "name": "python",
   "nbconvert_exporter": "python",
   "pygments_lexer": "ipython3",
   "version": "3.9.7"
  }
 },
 "nbformat": 4,
 "nbformat_minor": 5
}
