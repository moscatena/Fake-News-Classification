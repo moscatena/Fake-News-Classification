{
 "cells": [
  {
   "cell_type": "markdown",
   "id": "0acff683-3509-4661-a7b5-7a8faf8b029c",
   "metadata": {
    "tags": []
   },
   "source": [
    "# Fake News Detection\n",
    "\n",
    "**Author**: Marcelo Scatena\n",
    "***\n",
    "March 2022"
   ]
  },
  {
   "cell_type": "markdown",
   "id": "7ed2b67b-88ae-43c3-9a69-37b74779ff79",
   "metadata": {},
   "source": [
    "## Neural Networks"
   ]
  },
  {
   "cell_type": "code",
   "execution_count": 2,
   "id": "1317e3ce-6fd4-4724-af36-f2e7ae904e12",
   "metadata": {},
   "outputs": [],
   "source": [
    "import pandas as pd\n",
    "import warnings\n",
    "warnings.filterwarnings('ignore')"
   ]
  },
  {
   "cell_type": "code",
   "execution_count": 7,
   "id": "0251a554-b6df-4f6c-9bdb-8cf4389b851f",
   "metadata": {},
   "outputs": [],
   "source": [
    "import matplotlib.pyplot as plt\n",
    "import seaborn as sns"
   ]
  },
  {
   "cell_type": "code",
   "execution_count": 12,
   "id": "1136cae7-f0c6-43a0-86bc-114332363372",
   "metadata": {},
   "outputs": [],
   "source": [
    "from sklearn.pipeline import Pipeline\n",
    "from sklearn.preprocessing import FunctionTransformer"
   ]
  },
  {
   "cell_type": "code",
   "execution_count": 13,
   "id": "550939fc-27c6-4daf-939c-871721b2d030",
   "metadata": {},
   "outputs": [],
   "source": [
    "from nltk.corpus import stopwords\n",
    "import re\n",
    "from nltk.stem.wordnet import WordNetLemmatizer\n",
    "import string"
   ]
  },
  {
   "cell_type": "code",
   "execution_count": 76,
   "id": "20f9be3f-4896-4168-8f85-96964ee82fde",
   "metadata": {},
   "outputs": [],
   "source": [
    "from sklearn.metrics import confusion_matrix, ConfusionMatrixDisplay"
   ]
  },
  {
   "cell_type": "code",
   "execution_count": 343,
   "id": "cef6f3b9-ead2-4b27-81b3-374df7b07c6a",
   "metadata": {},
   "outputs": [],
   "source": [
    "from sklearn.model_selection import GridSearchCV, RandomizedSearchCV\n",
    "from imblearn.over_sampling import RandomOverSampler\n",
    "from sklearn.metrics import accuracy_score\n",
    "import numpy as np"
   ]
  },
  {
   "cell_type": "markdown",
   "id": "1d9e95ef-7dd6-4080-91f0-6d8f57a3f0e7",
   "metadata": {},
   "source": [
    "## Neural Networks <a class=\"anchor\" id=\"Classification\"></a>"
   ]
  },
  {
   "cell_type": "code",
   "execution_count": 62,
   "id": "2fccd073-476e-4576-b89d-0a8885270c1a",
   "metadata": {},
   "outputs": [],
   "source": [
    "%store -r df_train_clean\n",
    "%store -r df_val_clean\n",
    "%store -r df_test_clean"
   ]
  },
  {
   "cell_type": "code",
   "execution_count": 67,
   "id": "518b8912-1e6a-44d4-899a-f5c6f765d370",
   "metadata": {},
   "outputs": [],
   "source": [
    "X_train_clean = df_train_clean['statement']\n",
    "y_train_clean = df_train_clean['label']\n",
    "X_val_clean = df_val_clean['statement']\n",
    "y_val_clean = df_val_clean['label']\n",
    "X_test_clean = df_test_clean['statement']\n",
    "y_test_clean = df_test_clean['label']"
   ]
  },
  {
   "cell_type": "code",
   "execution_count": 68,
   "id": "2b3c0b89-fea6-406c-abcf-2537314d0ac9",
   "metadata": {},
   "outputs": [],
   "source": [
    "X_train_clean = np.asarray(X_train_clean)\n",
    "X_val_clean = np.asarray(X_val_clean)\n",
    "X_test_clean = np.asarray(X_test_clean)"
   ]
  },
  {
   "cell_type": "code",
   "execution_count": 71,
   "id": "d2df3d69-339b-4032-9d58-8095c9e2913d",
   "metadata": {},
   "outputs": [],
   "source": [
    "from tensorflow.keras import layers, losses, regularizers"
   ]
  },
  {
   "cell_type": "code",
   "execution_count": 72,
   "id": "71bfad7b-771c-41ba-977f-41f66c085727",
   "metadata": {},
   "outputs": [],
   "source": [
    "from collections import Counter"
   ]
  },
  {
   "cell_type": "code",
   "execution_count": 73,
   "id": "3c325e32-6003-4935-a365-ed31e2947264",
   "metadata": {},
   "outputs": [],
   "source": [
    "from sklearn.preprocessing import LabelEncoder"
   ]
  },
  {
   "cell_type": "code",
   "execution_count": 86,
   "id": "9223b013-d97c-4513-b10f-d213fc029d98",
   "metadata": {},
   "outputs": [],
   "source": [
    "import pydot"
   ]
  },
  {
   "cell_type": "code",
   "execution_count": 75,
   "id": "c6e67f44-f715-4237-aeae-bbbb1b750238",
   "metadata": {},
   "outputs": [],
   "source": [
    "import tensorflow as tf"
   ]
  },
  {
   "cell_type": "code",
   "execution_count": 82,
   "id": "a0bc806c-2553-4ee1-817f-4c06cd6bbb35",
   "metadata": {},
   "outputs": [],
   "source": [
    "import tensorflow_hub as hub"
   ]
  },
  {
   "cell_type": "code",
   "execution_count": 77,
   "id": "dbb3ac00-d764-4d11-9654-bab3dbe3315e",
   "metadata": {},
   "outputs": [],
   "source": [
    "le = LabelEncoder()"
   ]
  },
  {
   "cell_type": "code",
   "execution_count": 78,
   "id": "08a9a93b-133a-439f-81ea-13cd5d1cb8ec",
   "metadata": {},
   "outputs": [],
   "source": [
    "train_labels = le.fit_transform(y_train_clean)"
   ]
  },
  {
   "cell_type": "code",
   "execution_count": 79,
   "id": "f3d58eda-db7e-4184-90d6-19ac8fa70098",
   "metadata": {},
   "outputs": [],
   "source": [
    "train_labels = np.asarray(tf.keras.utils.to_categorical(train_labels))"
   ]
  },
  {
   "cell_type": "code",
   "execution_count": 83,
   "id": "fe316965-5128-4094-9ec2-50b20906c403",
   "metadata": {},
   "outputs": [],
   "source": [
    "val_labels = le.transform(y_val_clean)\n",
    "test_labels = le.transform(y_test_clean)\n",
    "\n",
    "val_labels = np.asarray(tf.keras.utils.to_categorical(val_labels))\n",
    "test_labels = np.asarray(tf.keras.utils.to_categorical(test_labels))"
   ]
  },
  {
   "cell_type": "code",
   "execution_count": 84,
   "id": "374306b2-e6c3-4a00-99cc-9ee80e16c937",
   "metadata": {},
   "outputs": [],
   "source": [
    "train_ds = tf.data.Dataset.from_tensor_slices((X_train_clean, train_labels))\n",
    "val_ds = tf.data.Dataset.from_tensor_slices((X_val_clean, val_labels))\n",
    "test_ds = tf.data.Dataset.from_tensor_slices((X_test_clean, test_labels))"
   ]
  },
  {
   "cell_type": "code",
   "execution_count": 87,
   "id": "7b2ba2db-4fcf-40ed-b860-2aa6b45688a6",
   "metadata": {},
   "outputs": [],
   "source": [
    "embedding = \"https://tfhub.dev/google/nnlm-en-dim128/2\""
   ]
  },
  {
   "cell_type": "code",
   "execution_count": 89,
   "id": "9e13f096-9cf7-4de9-8c3b-08e4933345e0",
   "metadata": {},
   "outputs": [],
   "source": [
    "hub_layer = hub.KerasLayer(embedding, input_shape=[], \n",
    "                           dtype=tf.string, trainable=True)"
   ]
  },
  {
   "cell_type": "code",
   "execution_count": null,
   "id": "553c624a-264d-439d-b4bc-e073fe97bbf1",
   "metadata": {},
   "outputs": [],
   "source": []
  },
  {
   "cell_type": "code",
   "execution_count": 93,
   "id": "991f1f66-e3fe-4114-b931-3ff29c7fabbd",
   "metadata": {},
   "outputs": [],
   "source": [
    "model = tf.keras.Sequential()\n",
    "model.add(hub_layer)\n",
    "model.add(tf.keras.layers.Dense(10, activation='relu'))\n",
    "model.add(tf.keras.layers.Dense(2, activation='sigmoid'))"
   ]
  },
  {
   "cell_type": "code",
   "execution_count": 94,
   "id": "e28e853a-bae0-4c39-a83a-abab9ffe6edd",
   "metadata": {},
   "outputs": [
    {
     "name": "stdout",
     "output_type": "stream",
     "text": [
      "Model: \"sequential\"\n",
      "_________________________________________________________________\n",
      "Layer (type)                 Output Shape              Param #   \n",
      "=================================================================\n",
      "keras_layer (KerasLayer)     (None, 128)               124642688 \n",
      "_________________________________________________________________\n",
      "dense (Dense)                (None, 10)                1290      \n",
      "_________________________________________________________________\n",
      "dense_1 (Dense)              (None, 2)                 22        \n",
      "=================================================================\n",
      "Total params: 124,644,000\n",
      "Trainable params: 124,644,000\n",
      "Non-trainable params: 0\n",
      "_________________________________________________________________\n"
     ]
    }
   ],
   "source": [
    "model.summary()"
   ]
  },
  {
   "cell_type": "code",
   "execution_count": 96,
   "id": "a48502b5-56a5-4c86-b058-b1551e461b06",
   "metadata": {},
   "outputs": [],
   "source": [
    "model.compile(loss=tf.keras.losses.CategoricalCrossentropy(from_logits=True), optimizer='adam', metrics=['CategoricalAccuracy'])"
   ]
  },
  {
   "cell_type": "code",
   "execution_count": 103,
   "id": "dc21c98f-d922-44e1-adbb-84b61f1953de",
   "metadata": {},
   "outputs": [
    {
     "name": "stdout",
     "output_type": "stream",
     "text": [
      "('You must install pydot (`pip install pydot`) and install graphviz (see instructions at https://graphviz.gitlab.io/download/) ', 'for plot_model/model_to_dot to work.')\n"
     ]
    }
   ],
   "source": [
    "tf.keras.utils.plot_model(model, 'simpleNN_model.png', show_shapes=True)"
   ]
  },
  {
   "cell_type": "code",
   "execution_count": null,
   "id": "0eab5e20-c2a9-4055-8860-445508b79b05",
   "metadata": {},
   "outputs": [],
   "source": []
  },
  {
   "cell_type": "code",
   "execution_count": 109,
   "id": "18d306cb-8362-4e7b-8579-dd5a8b0b3ade",
   "metadata": {},
   "outputs": [
    {
     "name": "stdout",
     "output_type": "stream",
     "text": [
      "Epoch 1/15\n",
      "80/80 [==============================] - 63s 782ms/step - loss: 0.0038 - categorical_accuracy: 0.9983 - val_loss: 3.5935 - val_categorical_accuracy: 0.5958\n",
      "Epoch 2/15\n",
      "80/80 [==============================] - 62s 778ms/step - loss: 0.0042 - categorical_accuracy: 0.9983 - val_loss: 3.6257 - val_categorical_accuracy: 0.5942\n",
      "Epoch 3/15\n",
      "80/80 [==============================] - 63s 782ms/step - loss: 0.0035 - categorical_accuracy: 0.9983 - val_loss: 3.6735 - val_categorical_accuracy: 0.5950\n",
      "Epoch 4/15\n",
      "80/80 [==============================] - 65s 817ms/step - loss: 0.0041 - categorical_accuracy: 0.9982 - val_loss: 3.7041 - val_categorical_accuracy: 0.6005\n",
      "Epoch 5/15\n",
      "80/80 [==============================] - 67s 842ms/step - loss: 0.0040 - categorical_accuracy: 0.9982 - val_loss: 3.7387 - val_categorical_accuracy: 0.5974\n",
      "Epoch 6/15\n",
      "80/80 [==============================] - 67s 840ms/step - loss: 0.0035 - categorical_accuracy: 0.9983 - val_loss: 3.7722 - val_categorical_accuracy: 0.5974\n",
      "Epoch 7/15\n",
      "80/80 [==============================] - 68s 847ms/step - loss: 0.0034 - categorical_accuracy: 0.9982 - val_loss: 3.8016 - val_categorical_accuracy: 0.5981\n",
      "Epoch 8/15\n",
      "80/80 [==============================] - 67s 836ms/step - loss: 0.0030 - categorical_accuracy: 0.9989 - val_loss: 3.8399 - val_categorical_accuracy: 0.5974\n",
      "Epoch 9/15\n",
      "80/80 [==============================] - 65s 808ms/step - loss: 0.0031 - categorical_accuracy: 0.9993 - val_loss: 3.8779 - val_categorical_accuracy: 0.5997\n",
      "Epoch 10/15\n",
      "80/80 [==============================] - 66s 820ms/step - loss: 0.0030 - categorical_accuracy: 0.9993 - val_loss: 3.9117 - val_categorical_accuracy: 0.5966\n",
      "Epoch 11/15\n",
      "80/80 [==============================] - 62s 780ms/step - loss: 0.0031 - categorical_accuracy: 0.9992 - val_loss: 3.9433 - val_categorical_accuracy: 0.5958\n",
      "Epoch 12/15\n",
      "80/80 [==============================] - 62s 780ms/step - loss: 0.0028 - categorical_accuracy: 0.9992 - val_loss: 3.9758 - val_categorical_accuracy: 0.5966\n",
      "Epoch 13/15\n",
      "80/80 [==============================] - 64s 795ms/step - loss: 0.0025 - categorical_accuracy: 0.9993 - val_loss: 4.0063 - val_categorical_accuracy: 0.5958\n",
      "Epoch 14/15\n",
      "80/80 [==============================] - 66s 823ms/step - loss: 0.0030 - categorical_accuracy: 0.9992 - val_loss: 4.0266 - val_categorical_accuracy: 0.6005\n",
      "Epoch 15/15\n",
      "80/80 [==============================] - 67s 841ms/step - loss: 0.0033 - categorical_accuracy: 0.9992 - val_loss: 4.0517 - val_categorical_accuracy: 0.5981\n"
     ]
    }
   ],
   "source": [
    "epochs = 15\n",
    "\n",
    "history = model.fit(train_ds.shuffle(2000).batch(128),\n",
    "                    epochs=epochs,\n",
    "                    validation_data=val_ds.batch(128),\n",
    "                    verbose=1)"
   ]
  },
  {
   "cell_type": "code",
   "execution_count": 111,
   "id": "99ce7bb4-1c1f-4c66-b007-66d42e1edfaa",
   "metadata": {},
   "outputs": [
    {
     "data": {
      "image/png": "[encoded data removed]",
      "text/plain": [
       "<Figure size 432x288 with 1 Axes>"
      ]
     },
     "metadata": {
      "needs_background": "light"
     },
     "output_type": "display_data"
    }
   ],
   "source": [
    "plt.plot(history.history['loss'], label='training data')\n",
    "plt.plot(history.history['val_loss'], label='validation data')\n",
    "plt.title('Loss for Text Classification')\n",
    "plt.ylabel('Loss Value')\n",
    "plt.xlabel('No. epoch')\n",
    "plt.legend(loc='upper right')\n",
    "plt.show()"
   ]
  },
  {
   "cell_type": "code",
   "execution_count": 115,
   "id": "cf5357f3-895f-4734-beca-f2af68a038ef",
   "metadata": {},
   "outputs": [
    {
     "data": {
      "image/png": "[encoded data removed]",
      "text/plain": [
       "<Figure size 432x288 with 1 Axes>"
      ]
     },
     "metadata": {
      "needs_background": "light"
     },
     "output_type": "display_data"
    }
   ],
   "source": [
    "plt.plot(history.history['categorical_accuracy'], label='training data')\n",
    "plt.plot(history.history['val_categorical_accuracy'], label='validation data')\n",
    "plt.title('Categorical Accuracy for Text Classification')\n",
    "plt.ylabel('Categorical Accuracy Value')\n",
    "plt.xlabel('No. epoch')\n",
    "plt.legend(loc='upper left')\n",
    "plt.show()"
   ]
  },
  {
   "cell_type": "code",
   "execution_count": 117,
   "id": "dca78f47-431c-402c-b9f3-3c1f219e72ce",
   "metadata": {},
   "outputs": [],
   "source": [
    "model1 = tf.keras.Sequential()\n",
    "model1.add(hub_layer)\n",
    "model1.add(tf.keras.layers.Dropout(0.5))\n",
    "model1.add(tf.keras.layers.Dense(10, activation='relu', kernel_regularizer=regularizers.l2(0.05)))\n",
    "model1.add(tf.keras.layers.Dropout(0.5))\n",
    "model1.add(tf.keras.layers.Dense(2, activation='sigmoid', kernel_regularizer=regularizers.l2(0.05)))"
   ]
  },
  {
   "cell_type": "code",
   "execution_count": 118,
   "id": "316ff307-759b-4c39-8ed8-039ec8c2386c",
   "metadata": {},
   "outputs": [
    {
     "name": "stdout",
     "output_type": "stream",
     "text": [
      "Model: \"sequential_2\"\n",
      "_________________________________________________________________\n",
      "Layer (type)                 Output Shape              Param #   \n",
      "=================================================================\n",
      "keras_layer (KerasLayer)     (None, 128)               124642688 \n",
      "_________________________________________________________________\n",
      "dropout_1 (Dropout)          (None, 128)               0         \n",
      "_________________________________________________________________\n",
      "dense_2 (Dense)              (None, 10)                1290      \n",
      "_________________________________________________________________\n",
      "dropout_2 (Dropout)          (None, 10)                0         \n",
      "_________________________________________________________________\n",
      "dense_3 (Dense)              (None, 2)                 22        \n",
      "=================================================================\n",
      "Total params: 124,644,000\n",
      "Trainable params: 124,644,000\n",
      "Non-trainable params: 0\n",
      "_________________________________________________________________\n"
     ]
    }
   ],
   "source": [
    "model1.summary()"
   ]
  },
  {
   "cell_type": "code",
   "execution_count": 119,
   "id": "87e4377d-4457-4688-9b9a-99d0cd0cf298",
   "metadata": {},
   "outputs": [],
   "source": [
    "model1.compile(loss=tf.keras.losses.CategoricalCrossentropy(from_logits=True), optimizer='adam', metrics=['CategoricalAccuracy'])"
   ]
  },
  {
   "cell_type": "code",
   "execution_count": 120,
   "id": "5c14eae2-4445-40be-9c21-632f298c98ac",
   "metadata": {},
   "outputs": [
    {
     "name": "stdout",
     "output_type": "stream",
     "text": [
      "Epoch 1/15\n",
      "80/80 [==============================] - 64s 783ms/step - loss: 1.3386 - categorical_accuracy: 0.6059 - val_loss: 1.0298 - val_categorical_accuracy: 0.6729\n",
      "Epoch 2/15\n",
      "80/80 [==============================] - 63s 785ms/step - loss: 0.8538 - categorical_accuracy: 0.6912 - val_loss: 0.8059 - val_categorical_accuracy: 0.6698\n",
      "Epoch 3/15\n",
      "80/80 [==============================] - 61s 760ms/step - loss: 0.6859 - categorical_accuracy: 0.7437 - val_loss: 0.7447 - val_categorical_accuracy: 0.6581\n",
      "Epoch 4/15\n",
      "80/80 [==============================] - 60s 748ms/step - loss: 0.6267 - categorical_accuracy: 0.7654 - val_loss: 0.7304 - val_categorical_accuracy: 0.6604\n",
      "Epoch 5/15\n",
      "80/80 [==============================] - 64s 800ms/step - loss: 0.5979 - categorical_accuracy: 0.7909 - val_loss: 0.7322 - val_categorical_accuracy: 0.6542\n",
      "Epoch 6/15\n",
      "80/80 [==============================] - 63s 786ms/step - loss: 0.5830 - categorical_accuracy: 0.8021 - val_loss: 0.7335 - val_categorical_accuracy: 0.6604\n",
      "Epoch 7/15\n",
      "80/80 [==============================] - 68s 849ms/step - loss: 0.5694 - categorical_accuracy: 0.8153 - val_loss: 0.7396 - val_categorical_accuracy: 0.6550\n",
      "Epoch 8/15\n",
      "80/80 [==============================] - 69s 860ms/step - loss: 0.5559 - categorical_accuracy: 0.8255 - val_loss: 0.7456 - val_categorical_accuracy: 0.6511\n",
      "Epoch 9/15\n",
      "80/80 [==============================] - 67s 840ms/step - loss: 0.5506 - categorical_accuracy: 0.8324 - val_loss: 0.7519 - val_categorical_accuracy: 0.6488\n",
      "Epoch 10/15\n",
      "80/80 [==============================] - 71s 882ms/step - loss: 0.5401 - categorical_accuracy: 0.8350 - val_loss: 0.7564 - val_categorical_accuracy: 0.6449\n",
      "Epoch 11/15\n",
      "80/80 [==============================] - 65s 806ms/step - loss: 0.5321 - categorical_accuracy: 0.8438 - val_loss: 0.7608 - val_categorical_accuracy: 0.6441\n",
      "Epoch 12/15\n",
      "80/80 [==============================] - 63s 789ms/step - loss: 0.5252 - categorical_accuracy: 0.8449 - val_loss: 0.7646 - val_categorical_accuracy: 0.6433\n",
      "Epoch 13/15\n",
      "80/80 [==============================] - 62s 773ms/step - loss: 0.5194 - categorical_accuracy: 0.8472 - val_loss: 0.7647 - val_categorical_accuracy: 0.6456\n",
      "Epoch 14/15\n",
      "80/80 [==============================] - 62s 781ms/step - loss: 0.5133 - categorical_accuracy: 0.8534 - val_loss: 0.7712 - val_categorical_accuracy: 0.6433\n",
      "Epoch 15/15\n",
      "80/80 [==============================] - 61s 766ms/step - loss: 0.5154 - categorical_accuracy: 0.8493 - val_loss: 0.7716 - val_categorical_accuracy: 0.6347\n"
     ]
    }
   ],
   "source": [
    "epochs = 15\n",
    "\n",
    "history1 = model1.fit(train_ds.shuffle(1000).batch(128),\n",
    "                    epochs=epochs,\n",
    "                    validation_data=val_ds.batch(128),\n",
    "                    verbose=1)"
   ]
  },
  {
   "cell_type": "code",
   "execution_count": 122,
   "id": "bd76805d-9549-4643-a06b-dc9586eeed77",
   "metadata": {},
   "outputs": [
    {
     "data": {
      "image/png": "[encoded data removed]",
      "text/plain": [
       "<Figure size 432x288 with 1 Axes>"
      ]
     },
     "metadata": {
      "needs_background": "light"
     },
     "output_type": "display_data"
    }
   ],
   "source": [
    "plt.plot(history1.history['loss'], label='training data')\n",
    "plt.plot(history1.history['val_loss'], label='validation data')\n",
    "plt.title('Loss for Text Classification')\n",
    "plt.ylabel('Loss Value')\n",
    "plt.xlabel('No. epoch')\n",
    "plt.legend(loc='upper right')\n",
    "plt.show()"
   ]
  },
  {
   "cell_type": "code",
   "execution_count": 123,
   "id": "4ef81f17-f75e-42c0-abc8-c2faa4541d10",
   "metadata": {},
   "outputs": [
    {
     "data": {
      "image/png": "[encoded data removed]",
      "text/plain": [
       "<Figure size 432x288 with 1 Axes>"
      ]
     },
     "metadata": {
      "needs_background": "light"
     },
     "output_type": "display_data"
    }
   ],
   "source": [
    "plt.plot(history1.history['categorical_accuracy'], label='training data')\n",
    "plt.plot(history1.history['val_categorical_accuracy'], label='validation data')\n",
    "plt.title('Categorical Accuracy for Text Classification')\n",
    "plt.ylabel('Categorical Accuracy Value')\n",
    "plt.xlabel('No. epoch')\n",
    "plt.legend(loc='upper left')\n",
    "plt.show()"
   ]
  },
  {
   "cell_type": "code",
   "execution_count": 129,
   "id": "24000006-7666-4bf0-b4a7-606839865c93",
   "metadata": {},
   "outputs": [],
   "source": [
    "from sklearn.metrics import accuracy_score"
   ]
  },
  {
   "cell_type": "code",
   "execution_count": 127,
   "id": "9c1d6892-982f-4cb3-8d93-773529d5a470",
   "metadata": {},
   "outputs": [],
   "source": [
    "pred_val_y = model1.predict(X_val_clean)"
   ]
  },
  {
   "cell_type": "code",
   "execution_count": 136,
   "id": "fa897781-f45a-4ec5-a736-9b0af5913fe0",
   "metadata": {},
   "outputs": [],
   "source": [
    "pre_y_continuous = []\n",
    "for combination in pred_val_y:\n",
    "    if combination[0] > 0.5:\n",
    "        pre_y_continuous.append(0)\n",
    "    else:\n",
    "        pre_y_continuous.append(1)"
   ]
  },
  {
   "cell_type": "code",
   "execution_count": 139,
   "id": "333f5b88-80fc-4b78-8c6a-2030a5a3627a",
   "metadata": {},
   "outputs": [
    {
     "data": {
      "text/plain": [
       "0.6339563862928349"
      ]
     },
     "execution_count": 139,
     "metadata": {},
     "output_type": "execute_result"
    }
   ],
   "source": [
    "accuracy_score(y_val_clean, pre_y_continuous)"
   ]
  },
  {
   "cell_type": "code",
   "execution_count": null,
   "id": "9aaffa1c-e09f-4cac-a8f2-8c34034d4d0c",
   "metadata": {},
   "outputs": [],
   "source": []
  },
  {
   "cell_type": "code",
   "execution_count": null,
   "id": "ac2ebb94-89c1-4481-8267-5e69d6c8a031",
   "metadata": {},
   "outputs": [],
   "source": []
  },
  {
   "cell_type": "code",
   "execution_count": null,
   "id": "bcf1093b-6979-4b1b-8942-bf7eb1571fe0",
   "metadata": {},
   "outputs": [],
   "source": []
  },
  {
   "cell_type": "code",
   "execution_count": 172,
   "id": "9c74780b-dc4f-49b8-ac9f-6ce12b6dd67a",
   "metadata": {},
   "outputs": [],
   "source": []
  },
  {
   "cell_type": "code",
   "execution_count": 169,
   "id": "84296172-83dd-44be-bb8e-12d4efa1c511",
   "metadata": {},
   "outputs": [],
   "source": [
    "df_train_clean_copy = df_train_clean.copy()"
   ]
  },
  {
   "cell_type": "code",
   "execution_count": 179,
   "id": "56773e64-2a97-4886-afac-7945421c6a28",
   "metadata": {},
   "outputs": [],
   "source": [
    "vectorizer = TfidfVectorizer()"
   ]
  },
  {
   "cell_type": "code",
   "execution_count": 181,
   "id": "02f2ff71-42a8-4dbb-9a70-dfa5601df9f4",
   "metadata": {},
   "outputs": [],
   "source": [
    "tfidf = vectorizer.fit_transform(df_train_clean_copy['statement'])"
   ]
  },
  {
   "cell_type": "code",
   "execution_count": 212,
   "id": "687d426f-2068-431f-aeaf-1a97adcfbb06",
   "metadata": {},
   "outputs": [
    {
     "data": {
      "text/plain": [
       "<10240x10608 sparse matrix of type '<class 'numpy.float64'>'\n",
       "\twith 109086 stored elements in Compressed Sparse Row format>"
      ]
     },
     "execution_count": 212,
     "metadata": {},
     "output_type": "execute_result"
    }
   ],
   "source": [
    "tfidf"
   ]
  },
  {
   "cell_type": "code",
   "execution_count": 229,
   "id": "0619d1dd-bee2-4eec-96c0-621e644876c1",
   "metadata": {},
   "outputs": [
    {
     "data": {
      "text/plain": [
       "(10240, 10608)"
      ]
     },
     "execution_count": 229,
     "metadata": {},
     "output_type": "execute_result"
    }
   ],
   "source": [
    "tfidf.shape"
   ]
  },
  {
   "cell_type": "code",
   "execution_count": null,
   "id": "bd60c771-7f21-4700-9f1e-1e27c337c2bb",
   "metadata": {},
   "outputs": [],
   "source": []
  },
  {
   "cell_type": "code",
   "execution_count": null,
   "id": "946e804b-4f5a-4b1e-b16c-32449b7f87e4",
   "metadata": {},
   "outputs": [],
   "source": []
  },
  {
   "cell_type": "code",
   "execution_count": 211,
   "id": "c017f571-28b0-44dd-9c2d-829f77beb532",
   "metadata": {},
   "outputs": [
    {
     "data": {
      "text/plain": [
       "<tf.Tensor: shape=(2,), dtype=int32, numpy=array([10240, 10608])>"
      ]
     },
     "execution_count": 211,
     "metadata": {},
     "output_type": "execute_result"
    }
   ],
   "source": [
    "tf.convert_to_tensor(tfidf.shape)"
   ]
  },
  {
   "cell_type": "code",
   "execution_count": null,
   "id": "0cb2db0d-76ba-40d7-8ade-657d3c00593c",
   "metadata": {},
   "outputs": [],
   "source": []
  },
  {
   "cell_type": "code",
   "execution_count": null,
   "id": "3c9eb8ce-b524-4afb-aa01-2752dc022bb8",
   "metadata": {},
   "outputs": [],
   "source": []
  },
  {
   "cell_type": "code",
   "execution_count": 206,
   "id": "0997158c-3faf-4ac6-8742-4b12eb6273e3",
   "metadata": {},
   "outputs": [
    {
     "data": {
      "text/html": [
       "<div>\n",
       "<style scoped>\n",
       "    .dataframe tbody tr th:only-of-type {\n",
       "        vertical-align: middle;\n",
       "    }\n",
       "\n",
       "    .dataframe tbody tr th {\n",
       "        vertical-align: top;\n",
       "    }\n",
       "\n",
       "    .dataframe thead th {\n",
       "        text-align: right;\n",
       "    }\n",
       "</style>\n",
       "<table border=\"1\" class=\"dataframe\">\n",
       "  <thead>\n",
       "    <tr style=\"text-align: right;\">\n",
       "      <th></th>\n",
       "      <th>statement</th>\n",
       "      <th>label</th>\n",
       "    </tr>\n",
       "  </thead>\n",
       "  <tbody>\n",
       "    <tr>\n",
       "      <th>0.0</th>\n",
       "      <td>say annies list political group support third ...</td>\n",
       "      <td>1</td>\n",
       "    </tr>\n",
       "    <tr>\n",
       "      <th>1.0</th>\n",
       "      <td>decline coal start started natural gas took st...</td>\n",
       "      <td>1</td>\n",
       "    </tr>\n",
       "    <tr>\n",
       "      <th>2.0</th>\n",
       "      <td>hillary clinton agrees john mccain voting give...</td>\n",
       "      <td>0</td>\n",
       "    </tr>\n",
       "    <tr>\n",
       "      <th>3.0</th>\n",
       "      <td>health care reform legislation likely mandate ...</td>\n",
       "      <td>1</td>\n",
       "    </tr>\n",
       "    <tr>\n",
       "      <th>4.0</th>\n",
       "      <td>economic turnaround started end term</td>\n",
       "      <td>1</td>\n",
       "    </tr>\n",
       "    <tr>\n",
       "      <th>...</th>\n",
       "      <td>...</td>\n",
       "      <td>...</td>\n",
       "    </tr>\n",
       "    <tr>\n",
       "      <th>10264.0</th>\n",
       "      <td>larger number shark attack florida case voter ...</td>\n",
       "      <td>0</td>\n",
       "    </tr>\n",
       "    <tr>\n",
       "      <th>10265.0</th>\n",
       "      <td>democrat become party atlanta metro area black</td>\n",
       "      <td>0</td>\n",
       "    </tr>\n",
       "    <tr>\n",
       "      <th>10266.0</th>\n",
       "      <td>say alternative social security operates galve...</td>\n",
       "      <td>1</td>\n",
       "    </tr>\n",
       "    <tr>\n",
       "      <th>10267.0</th>\n",
       "      <td>lifting u cuban embargo allowing travel cuba</td>\n",
       "      <td>1</td>\n",
       "    </tr>\n",
       "    <tr>\n",
       "      <th>10268.0</th>\n",
       "      <td>department veteran affair manual telling veter...</td>\n",
       "      <td>1</td>\n",
       "    </tr>\n",
       "  </tbody>\n",
       "</table>\n",
       "<p>10240 rows × 2 columns</p>\n",
       "</div>"
      ],
      "text/plain": [
       "                                                 statement  label\n",
       "0.0      say annies list political group support third ...      1\n",
       "1.0      decline coal start started natural gas took st...      1\n",
       "2.0      hillary clinton agrees john mccain voting give...      0\n",
       "3.0      health care reform legislation likely mandate ...      1\n",
       "4.0                   economic turnaround started end term      1\n",
       "...                                                    ...    ...\n",
       "10264.0  larger number shark attack florida case voter ...      0\n",
       "10265.0     democrat become party atlanta metro area black      0\n",
       "10266.0  say alternative social security operates galve...      1\n",
       "10267.0       lifting u cuban embargo allowing travel cuba      1\n",
       "10268.0  department veteran affair manual telling veter...      1\n",
       "\n",
       "[10240 rows x 2 columns]"
      ]
     },
     "execution_count": 206,
     "metadata": {},
     "output_type": "execute_result"
    }
   ],
   "source": [
    "df_train_clean_copy"
   ]
  },
  {
   "cell_type": "code",
   "execution_count": null,
   "id": "ed36d093-bc80-4ef5-b78a-23fe7c2221fc",
   "metadata": {},
   "outputs": [],
   "source": []
  },
  {
   "cell_type": "code",
   "execution_count": null,
   "id": "5b42bd3f-dbe4-4112-a191-e968f100d4d7",
   "metadata": {},
   "outputs": [],
   "source": []
  },
  {
   "cell_type": "code",
   "execution_count": null,
   "id": "853cd4f6-5f7c-4d55-baea-b1fb6a3b0358",
   "metadata": {},
   "outputs": [],
   "source": []
  },
  {
   "cell_type": "code",
   "execution_count": null,
   "id": "d0d11fab-9d57-4082-85b0-e1619a4a27d5",
   "metadata": {},
   "outputs": [],
   "source": []
  },
  {
   "cell_type": "code",
   "execution_count": null,
   "id": "275a5b1a-23f7-4e14-89db-df6f0fae02ec",
   "metadata": {},
   "outputs": [],
   "source": []
  },
  {
   "cell_type": "code",
   "execution_count": null,
   "id": "fdf62b5b-954b-44f8-b3b3-026454fe8c42",
   "metadata": {},
   "outputs": [],
   "source": []
  },
  {
   "cell_type": "code",
   "execution_count": null,
   "id": "af21f537-fe85-459b-ac3d-598dbd98adf5",
   "metadata": {},
   "outputs": [],
   "source": []
  },
  {
   "cell_type": "code",
   "execution_count": null,
   "id": "ff51aa7f-f155-470b-8336-014965484f1b",
   "metadata": {},
   "outputs": [],
   "source": []
  },
  {
   "cell_type": "code",
   "execution_count": null,
   "id": "0959fed5-f2ee-4d65-9582-a7aa95bbbd81",
   "metadata": {},
   "outputs": [],
   "source": []
  },
  {
   "cell_type": "code",
   "execution_count": null,
   "id": "1e13796f-18c6-4b09-8350-9f758867601e",
   "metadata": {},
   "outputs": [],
   "source": []
  },
  {
   "cell_type": "code",
   "execution_count": null,
   "id": "01210e2c-abea-4358-b486-3e2be2eb74c5",
   "metadata": {},
   "outputs": [],
   "source": []
  },
  {
   "cell_type": "code",
   "execution_count": null,
   "id": "ba4aeee0-fde9-4c7e-9090-21e552f70918",
   "metadata": {},
   "outputs": [],
   "source": []
  },
  {
   "cell_type": "code",
   "execution_count": null,
   "id": "27e3a9df-af7c-4fd4-99ae-525fc9ab5e73",
   "metadata": {},
   "outputs": [],
   "source": []
  },
  {
   "cell_type": "code",
   "execution_count": null,
   "id": "cc396489-a437-4cfe-b069-c8957b2356fb",
   "metadata": {},
   "outputs": [],
   "source": []
  },
  {
   "cell_type": "code",
   "execution_count": 142,
   "id": "195544d8-b50a-483a-9ed7-652610585266",
   "metadata": {},
   "outputs": [],
   "source": [
    "import numpy as np\n",
    "\n",
    "import tensorflow_datasets as tfds\n",
    "import tensorflow as tf\n",
    "\n",
    "# tfds.disable_progress_bar()"
   ]
  },
  {
   "cell_type": "code",
   "execution_count": 143,
   "id": "ac92d4ea-0011-4e64-98bb-b6ca3e73238d",
   "metadata": {},
   "outputs": [],
   "source": [
    "import matplotlib.pyplot as plt\n",
    "\n",
    "def plot_graphs(history, metric):\n",
    "    plt.plot(history.history[metric])\n",
    "    plt.plot(history.history['val_'+metric], '')\n",
    "    plt.xlabel(\"Epochs\")\n",
    "    plt.ylabel(metric)\n",
    "    plt.legend([metric, 'val_'+metric])"
   ]
  },
  {
   "cell_type": "code",
   "execution_count": 144,
   "id": "4c764729-42bf-430a-a986-b3ef405ef4df",
   "metadata": {},
   "outputs": [
    {
     "name": "stdout",
     "output_type": "stream",
     "text": [
      "\u001b[1mDownloading and preparing dataset Unknown size (download: Unknown size, generated: Unknown size, total: Unknown size) to C:\\Users\\Scatena\\tensorflow_datasets\\imdb_reviews\\plain_text\\1.0.0...\u001b[0m\n"
     ]
    },
    {
     "data": {
      "application/vnd.jupyter.widget-view+json": {
       "model_id": "4b8bd4b504784ef3bfeccd84c68d2ec9",
       "version_major": 2,
       "version_minor": 0
      },
      "text/plain": [
       "Dl Completed...: 0 url [00:00, ? url/s]"
      ]
     },
     "metadata": {},
     "output_type": "display_data"
    },
    {
     "data": {
      "application/vnd.jupyter.widget-view+json": {
       "model_id": "166a4f9534d4463c8e7fa6883eb9f588",
       "version_major": 2,
       "version_minor": 0
      },
      "text/plain": [
       "Dl Size...: 0 MiB [00:00, ? MiB/s]"
      ]
     },
     "metadata": {},
     "output_type": "display_data"
    },
    {
     "data": {
      "application/vnd.jupyter.widget-view+json": {
       "model_id": "971fff40ff1c47c08d55b81c13dc2323",
       "version_major": 2,
       "version_minor": 0
      },
      "text/plain": [
       "Generating splits...:   0%|          | 0/3 [00:00<?, ? splits/s]"
      ]
     },
     "metadata": {},
     "output_type": "display_data"
    },
    {
     "data": {
      "application/vnd.jupyter.widget-view+json": {
       "model_id": "d38eab8018de4a269daa66ee2b0c1fd4",
       "version_major": 2,
       "version_minor": 0
      },
      "text/plain": [
       "Generating train examples...: 0 examples [00:00, ? examples/s]"
      ]
     },
     "metadata": {},
     "output_type": "display_data"
    },
    {
     "data": {
      "application/vnd.jupyter.widget-view+json": {
       "model_id": "65aeebf079074ea1822179f6cf455e09",
       "version_major": 2,
       "version_minor": 0
      },
      "text/plain": [
       "Shuffling C:\\Users\\Scatena\\tensorflow_datasets\\imdb_reviews\\plain_text\\1.0.0.incomplete2M8XCT\\imdb_reviews-tra…"
      ]
     },
     "metadata": {},
     "output_type": "display_data"
    },
    {
     "data": {
      "application/vnd.jupyter.widget-view+json": {
       "model_id": "c87a336177334172828069adaf856706",
       "version_major": 2,
       "version_minor": 0
      },
      "text/plain": [
       "Generating test examples...: 0 examples [00:00, ? examples/s]"
      ]
     },
     "metadata": {},
     "output_type": "display_data"
    },
    {
     "data": {
      "application/vnd.jupyter.widget-view+json": {
       "model_id": "25ac592822604647bda9857464e36641",
       "version_major": 2,
       "version_minor": 0
      },
      "text/plain": [
       "Shuffling C:\\Users\\Scatena\\tensorflow_datasets\\imdb_reviews\\plain_text\\1.0.0.incomplete2M8XCT\\imdb_reviews-tes…"
      ]
     },
     "metadata": {},
     "output_type": "display_data"
    },
    {
     "data": {
      "application/vnd.jupyter.widget-view+json": {
       "model_id": "361fa6cbf5f44c8b88a7daa60c47b1c6",
       "version_major": 2,
       "version_minor": 0
      },
      "text/plain": [
       "Generating unsupervised examples...: 0 examples [00:00, ? examples/s]"
      ]
     },
     "metadata": {},
     "output_type": "display_data"
    },
    {
     "data": {
      "application/vnd.jupyter.widget-view+json": {
       "model_id": "2ef256451b94457db3c1efb123e907eb",
       "version_major": 2,
       "version_minor": 0
      },
      "text/plain": [
       "Shuffling C:\\Users\\Scatena\\tensorflow_datasets\\imdb_reviews\\plain_text\\1.0.0.incomplete2M8XCT\\imdb_reviews-uns…"
      ]
     },
     "metadata": {},
     "output_type": "display_data"
    },
    {
     "name": "stdout",
     "output_type": "stream",
     "text": [
      "\u001b[1mDataset imdb_reviews downloaded and prepared to C:\\Users\\Scatena\\tensorflow_datasets\\imdb_reviews\\plain_text\\1.0.0. Subsequent calls will reuse this data.\u001b[0m\n"
     ]
    },
    {
     "data": {
      "text/plain": [
       "(TensorSpec(shape=(), dtype=tf.string, name=None),\n",
       " TensorSpec(shape=(), dtype=tf.int64, name=None))"
      ]
     },
     "execution_count": 144,
     "metadata": {},
     "output_type": "execute_result"
    }
   ],
   "source": [
    "dataset, info = tfds.load('imdb_reviews', with_info=True,\n",
    "                          as_supervised=True)\n",
    "train_dataset, test_dataset = dataset['train'], dataset['test']\n",
    "\n",
    "train_dataset.element_spec"
   ]
  },
  {
   "cell_type": "code",
   "execution_count": 147,
   "id": "39c90ea2-eb29-4864-bdb2-1cf151696783",
   "metadata": {},
   "outputs": [
    {
     "data": {
      "text/plain": [
       "tensorflow.python.data.ops.dataset_ops.PrefetchDataset"
      ]
     },
     "execution_count": 147,
     "metadata": {},
     "output_type": "execute_result"
    }
   ],
   "source": [
    "type(train_dataset)"
   ]
  },
  {
   "cell_type": "code",
   "execution_count": null,
   "id": "5ea9354c-a59b-4f41-be57-2e181f46d6c2",
   "metadata": {},
   "outputs": [],
   "source": []
  },
  {
   "cell_type": "code",
   "execution_count": 145,
   "id": "b0cbda7f-bac6-40b0-a974-05d30df112e6",
   "metadata": {},
   "outputs": [
    {
     "name": "stdout",
     "output_type": "stream",
     "text": [
      "text:  b\"This was an absolutely terrible movie. Don't be lured in by Christopher Walken or Michael Ironside. Both are great actors, but this must simply be their worst role in history. Even their great acting could not redeem this movie's ridiculous storyline. This movie is an early nineties US propaganda piece. The most pathetic scenes were those when the Columbian rebels were making their cases for revolutions. Maria Conchita Alonso appeared phony, and her pseudo-love affair with Walken was nothing but a pathetic emotional plug in a movie that was devoid of any real meaning. I am disappointed that there are movies like this, ruining actor's like Christopher Walken's good name. I could barely sit through it.\"\n",
      "label:  0\n"
     ]
    }
   ],
   "source": [
    "for example, label in train_dataset.take(1):\n",
    "    print('text: ', example.numpy())\n",
    "    print('label: ', label.numpy())"
   ]
  },
  {
   "cell_type": "code",
   "execution_count": 148,
   "id": "a7c5f136-3fee-4c64-823c-dbe9e0f87104",
   "metadata": {},
   "outputs": [],
   "source": [
    "BUFFER_SIZE = 10000\n",
    "BATCH_SIZE = 64"
   ]
  },
  {
   "cell_type": "code",
   "execution_count": 149,
   "id": "c6735aca-bd12-49d4-90e8-141c98bb69c5",
   "metadata": {},
   "outputs": [],
   "source": [
    "train_dataset = train_dataset.shuffle(BUFFER_SIZE).batch(BATCH_SIZE).prefetch(tf.data.AUTOTUNE)\n",
    "test_dataset = test_dataset.batch(BATCH_SIZE).prefetch(tf.data.AUTOTUNE)"
   ]
  },
  {
   "cell_type": "code",
   "execution_count": 150,
   "id": "63314d9a-96e0-4ceb-a8db-344269f3c9c7",
   "metadata": {},
   "outputs": [
    {
     "name": "stdout",
     "output_type": "stream",
     "text": [
      "texts:  [b\"Australia's first mainstream slasher film hits the screen with a bang. And a stab. And a slice. And a scream or two. And plenty of blood, frights, red herrings and lots of laughs.<br /><br />In fact, there's lots of first surrounding Cut - it's the first script of Dave Warner's to be produced, although he has several others either optioned or in negotiation; it's the first major film from director and former Hoodoo Guru Kimble Rendall; and it's also the first film for producer Martin Fabinyi. And for a bunch of guys dipping their toes into this genre for the first time, they sure know their stuff.<br /><br />Cut tells the story of a bunch of Australian film students who hear about a slasher film, Hot Blooded, that was never finished because its director, Hilary (Kylie Minogue), was killed by the actor playing the psycho killer in the film.<br /><br />Despite their lecturer (who was assistant director on the night Hilary died) warning them that whenever someone tries to start up production of Hot Blooded again someone dies, director Raffy (Jessica Napier) and producer Hester (Sarah Kants) decide to go ahead and complete the film. They put together a crew and manage to get the original star, Vanessa Turnbill (Molly Ringwald), to return to Australia - in fact, to the original location - to complete Hot Blooded \\xc2\\x85 14 years after shooting shut down.<br /><br />Of course, this being a slasher film, lots of bloodletting ensues \\xc2\\x85 long with plenty of laughs, a few good scares and a rocking Aussie soundtrack. Cut shows that Australia can make a good, mass-market horror film just as well as Hollywood.<br /><br />It's a finely crafted feature, with excellent special effects, a taut plot and a killer - Scarman - that's a welcome addition to the ranks of Michael, Jason and Freddy.\"\n",
      " b'It was pointed out in a now deleted post from another IMDb user that anyone who might see \"The Medusa Touch\" should be warned about a scene that\\'s eerily reminiscent of the Sept. 11, 2001 terrorist attacks in NYC. But I hope anyone reading this will consider this warning. Despite an interesting pedigree (producer Elliott Kastner produced \"Harper\" and \"The Long Goodbye\"; co-producer Arnon Milchan co-produced the Oscar-nominated \"L.A. Confidential\" and screenwriter John Briley won an Oscar for \"Gandhi\") and an international cast, I found \"The Medusa Touch\" to be a heavy-handed, unintentional laugh riot. It was a poorly directed, horribly written and acted mess. It tried to capitalize on the 70s telekinetic thrillers genre. The movie fails on many counts. Please consider \"Carrie\" and the underrated \"The Fury\" (both directed by Brian DePalma). They were two entertaining and exciting thrillers that dealt with the same subject matter.'\n",
      " b\"The movie starts off in a classroom setting where not surprisingly, our main actress, Orked was seen in a Chinese Language class. Later in the film, she was asked on why (by Mukhsin) that she was sent to learn Mandarin. Her answer was simple for a child she is; coz she's already known the Malay Language well.<br /><br />It's a bit of a romance one may thought of it, but once you've stopped yourself from reading too much critics and go for it, you'll notice the typical elements of Malaysia. The movie basically focuses on 10 year old Orked who met 12 year old Mukhsin in a game of which many would think of it as a boy's game. Running out of players, Mukhsin (who was new in that village) was forced to allow Orked into the game, in which she eagerly showed the male side of her. Orked is no such ordinary girl as she depicts more of the male behavior as you will see in the movie, defending Mukhsin from much violent encounter with her school-bullies, throwing one of the bully's bag out from the school bus window, throwing punches and kicks on Mukhsin's brother where after he teased Mukhsin and so on and so forth. Both were awesome buddies, and stick closer than that, but with a slightest of misunderstanding in which most of us would all respond to in the same way, parted the both of them until the day when Mukhsin left town.<br /><br />Now the movie depicts the first love between Orked and Mukhsin, they started out as friends, but slowly evolving into somewhat more of a closer relationship and then towards BGR. You would notice, the changes Yasmin made in the movies for each of the main actor and the actress when they go through love. The different character was portrayed with eagerness and mild humor. The scenes were all in random but it depicted so much reality in it that you'd be stuck on the screen for a long time. You will love the movie for what it is, and not because that you want to be patriotic to the local scenes, coz it means much more.<br /><br />As the movie envelopes around the two love birds, it also manages to find its lens towards Orked's parents, her mother who was educated in England, speaks very good English and in which, her husband and the caretaker in the house with very much attempt tries to speak back their own kind of English, which was humor all the way indeed. Let me just explain to you why humor can be such a prominent thing in this movie. And that explanation or description that you may portray can be given in only one word and that is RANDOMNESS. Often more than not, we don't learn to laugh at ourselves, and when we do, we do it at the expense of others. It is just like what the movie Just Follow Law by Jack Neo would have mentioned - Often when we are ourselves, we don't see the person in us we are, but when only when we are in another person's body, then only would we learn to see who we really are. And that is how humor applies as well, more so than just dignity.<br /><br />The movie was filled with such randomness that the typical facts of our routine lives as we carried it out could be all the way filled with laughter if we want it to be.<br /><br />The other focus of this movie was on how Orked's neighbor, a couple in which the husband is no longer loving to his wife, and wanted to find another. Pak Koboi as what he's nicked after was seen polishing his motorbike daily and would take it out for a ride with his newly found girlfriend. The producer did not fail to show you perhaps why the husband wanted to find another wife. The wife was a real hurler or KPC as we Chinese would call it, having interrupting on other people's business and sending her own daughter to tease Orked in words only adults would use. After all, what goes around, comes around, and that's probably why bad things kinda want to happen to her. In every time, being nice to people around you won't hurt at all, unless you have an ego to protect, but then again, what's it worth? The movie also centers around Mukhsin's brother, Hussein who would go out to town everyday until very late at night, smoking, drinking, and also finding 'girls'. He's the total opposite of Mukhsin, but that's all perhaps because of family problems. Both the brothers were staying with their aunt and the parents were far away from them. I will not reveal more of the story line as it would spoil much of the interest in wanting to find it out for yourself, but the slightest of all elements in which the producer wanted to send a message across to the viewers is the life of us all. She wanted us, me at least to view life from our own perspective when we are not ourselves. Movies in a way, take us out from our own body, places us in the character's position, and use our empty mind then to view on the happenings of it. Depending on the type and genre of the movie, you will be mesmerized by how a good movie such as this would portray and imply a significant impact on you.\"]\n",
      "\n",
      "labels:  [1 0 1]\n"
     ]
    }
   ],
   "source": [
    "for example, label in train_dataset.take(1):\n",
    "    print('texts: ', example.numpy()[:3])\n",
    "    print()\n",
    "    print('labels: ', label.numpy()[:3])"
   ]
  },
  {
   "cell_type": "code",
   "execution_count": 151,
   "id": "d9658dfe-50fa-4598-95d4-62831229cc68",
   "metadata": {},
   "outputs": [],
   "source": [
    "VOCAB_SIZE = 1000\n",
    "encoder = tf.keras.layers.TextVectorization(\n",
    "    max_tokens=VOCAB_SIZE)\n",
    "encoder.adapt(train_dataset.map(lambda text, label: text))"
   ]
  },
  {
   "cell_type": "code",
   "execution_count": 152,
   "id": "0ad870f8-0873-4dff-82d3-363c5f65833b",
   "metadata": {},
   "outputs": [
    {
     "data": {
      "text/plain": [
       "array(['', '[UNK]', 'the', 'and', 'a', 'of', 'to', 'is', 'in', 'it', 'i',\n",
       "       'this', 'that', 'br', 'was', 'as', 'for', 'with', 'movie', 'but'],\n",
       "      dtype='<U14')"
      ]
     },
     "execution_count": 152,
     "metadata": {},
     "output_type": "execute_result"
    }
   ],
   "source": [
    "vocab = np.array(encoder.get_vocabulary())\n",
    "vocab[:20]"
   ]
  },
  {
   "cell_type": "code",
   "execution_count": 153,
   "id": "253b2831-c367-409d-b971-e83fd5c2cdae",
   "metadata": {},
   "outputs": [
    {
     "data": {
      "text/plain": [
       "array([[  1,  86,   1, ...,   0,   0,   0],\n",
       "       [  9,  14,   1, ...,   0,   0,   0],\n",
       "       [  2,  18, 500, ...,   0,   0,   0]], dtype=int64)"
      ]
     },
     "execution_count": 153,
     "metadata": {},
     "output_type": "execute_result"
    }
   ],
   "source": [
    "encoded_example = encoder(example)[:3].numpy()\n",
    "encoded_example"
   ]
  },
  {
   "cell_type": "code",
   "execution_count": 154,
   "id": "66bce2a5-bdff-4e47-ae96-6e4598a65320",
   "metadata": {},
   "outputs": [
    {
     "name": "stdout",
     "output_type": "stream",
     "text": [
      "Original:  b\"Australia's first mainstream slasher film hits the screen with a bang. And a stab. And a slice. And a scream or two. And plenty of blood, frights, red herrings and lots of laughs.<br /><br />In fact, there's lots of first surrounding Cut - it's the first script of Dave Warner's to be produced, although he has several others either optioned or in negotiation; it's the first major film from director and former Hoodoo Guru Kimble Rendall; and it's also the first film for producer Martin Fabinyi. And for a bunch of guys dipping their toes into this genre for the first time, they sure know their stuff.<br /><br />Cut tells the story of a bunch of Australian film students who hear about a slasher film, Hot Blooded, that was never finished because its director, Hilary (Kylie Minogue), was killed by the actor playing the psycho killer in the film.<br /><br />Despite their lecturer (who was assistant director on the night Hilary died) warning them that whenever someone tries to start up production of Hot Blooded again someone dies, director Raffy (Jessica Napier) and producer Hester (Sarah Kants) decide to go ahead and complete the film. They put together a crew and manage to get the original star, Vanessa Turnbill (Molly Ringwald), to return to Australia - in fact, to the original location - to complete Hot Blooded \\xc2\\x85 14 years after shooting shut down.<br /><br />Of course, this being a slasher film, lots of bloodletting ensues \\xc2\\x85 long with plenty of laughs, a few good scares and a rocking Aussie soundtrack. Cut shows that Australia can make a good, mass-market horror film just as well as Hollywood.<br /><br />It's a finely crafted feature, with excellent special effects, a taut plot and a killer - Scarman - that's a welcome addition to the ranks of Michael, Jason and Freddy.\"\n",
      "Round-trip:  [UNK] first [UNK] [UNK] film [UNK] the screen with a [UNK] and a [UNK] and a [UNK] and a [UNK] or two and plenty of blood [UNK] red [UNK] and lots of [UNK] br in fact theres lots of first [UNK] cut its the first script of [UNK] [UNK] to be [UNK] although he has several others either [UNK] or in [UNK] its the first major film from director and [UNK] [UNK] [UNK] [UNK] [UNK] and its also the first film for [UNK] [UNK] [UNK] and for a bunch of guys [UNK] their [UNK] into this genre for the first time they sure know their [UNK] br cut tells the story of a bunch of [UNK] film [UNK] who hear about a [UNK] film hot [UNK] that was never [UNK] because its director [UNK] [UNK] [UNK] was killed by the actor playing the [UNK] killer in the filmbr br despite their [UNK] who was [UNK] director on the night [UNK] [UNK] [UNK] them that [UNK] someone tries to start up production of hot [UNK] again someone [UNK] director [UNK] [UNK] [UNK] and [UNK] [UNK] [UNK] [UNK] [UNK] to go [UNK] and complete the film they put together a [UNK] and [UNK] to get the original star [UNK] [UNK] [UNK] [UNK] to return to [UNK] in fact to the original [UNK] to complete hot [UNK] [UNK] [UNK] years after [UNK] [UNK] [UNK] br of course this being a [UNK] film lots of [UNK] [UNK] [UNK] long with plenty of laughs a few good [UNK] and a [UNK] [UNK] soundtrack cut shows that [UNK] can make a good [UNK] horror film just as well as [UNK] br its a [UNK] [UNK] feature with excellent special effects a [UNK] plot and a killer [UNK] thats a [UNK] [UNK] to the [UNK] of michael [UNK] and [UNK]                                                                                                                                                                                                                                                                                                                                                                                                                                                                                                                                                                                                                                                                                                                         \n",
      "\n",
      "Original:  b'It was pointed out in a now deleted post from another IMDb user that anyone who might see \"The Medusa Touch\" should be warned about a scene that\\'s eerily reminiscent of the Sept. 11, 2001 terrorist attacks in NYC. But I hope anyone reading this will consider this warning. Despite an interesting pedigree (producer Elliott Kastner produced \"Harper\" and \"The Long Goodbye\"; co-producer Arnon Milchan co-produced the Oscar-nominated \"L.A. Confidential\" and screenwriter John Briley won an Oscar for \"Gandhi\") and an international cast, I found \"The Medusa Touch\" to be a heavy-handed, unintentional laugh riot. It was a poorly directed, horribly written and acted mess. It tried to capitalize on the 70s telekinetic thrillers genre. The movie fails on many counts. Please consider \"Carrie\" and the underrated \"The Fury\" (both directed by Brian DePalma). They were two entertaining and exciting thrillers that dealt with the same subject matter.'\n",
      "Round-trip:  it was [UNK] out in a now [UNK] [UNK] from another imdb [UNK] that anyone who might see the [UNK] [UNK] should be [UNK] about a scene thats [UNK] [UNK] of the [UNK] [UNK] [UNK] [UNK] [UNK] in [UNK] but i hope anyone reading this will [UNK] this [UNK] despite an interesting [UNK] [UNK] [UNK] [UNK] [UNK] [UNK] and the long [UNK] [UNK] [UNK] [UNK] [UNK] the [UNK] la [UNK] and [UNK] john [UNK] [UNK] an oscar for [UNK] and an [UNK] cast i found the [UNK] [UNK] to be a [UNK] [UNK] laugh [UNK] it was a poorly directed [UNK] written and [UNK] mess it tried to [UNK] on the 70s [UNK] [UNK] genre the movie fails on many [UNK] please [UNK] [UNK] and the [UNK] the [UNK] both directed by [UNK] [UNK] they were two entertaining and [UNK] [UNK] that [UNK] with the same subject matter                                                                                                                                                                                                                                                                                                                                                                                                                                                                                                                                                                                                                                                                                                                                                                                                                                                                                    \n",
      "\n",
      "Original:  b\"The movie starts off in a classroom setting where not surprisingly, our main actress, Orked was seen in a Chinese Language class. Later in the film, she was asked on why (by Mukhsin) that she was sent to learn Mandarin. Her answer was simple for a child she is; coz she's already known the Malay Language well.<br /><br />It's a bit of a romance one may thought of it, but once you've stopped yourself from reading too much critics and go for it, you'll notice the typical elements of Malaysia. The movie basically focuses on 10 year old Orked who met 12 year old Mukhsin in a game of which many would think of it as a boy's game. Running out of players, Mukhsin (who was new in that village) was forced to allow Orked into the game, in which she eagerly showed the male side of her. Orked is no such ordinary girl as she depicts more of the male behavior as you will see in the movie, defending Mukhsin from much violent encounter with her school-bullies, throwing one of the bully's bag out from the school bus window, throwing punches and kicks on Mukhsin's brother where after he teased Mukhsin and so on and so forth. Both were awesome buddies, and stick closer than that, but with a slightest of misunderstanding in which most of us would all respond to in the same way, parted the both of them until the day when Mukhsin left town.<br /><br />Now the movie depicts the first love between Orked and Mukhsin, they started out as friends, but slowly evolving into somewhat more of a closer relationship and then towards BGR. You would notice, the changes Yasmin made in the movies for each of the main actor and the actress when they go through love. The different character was portrayed with eagerness and mild humor. The scenes were all in random but it depicted so much reality in it that you'd be stuck on the screen for a long time. You will love the movie for what it is, and not because that you want to be patriotic to the local scenes, coz it means much more.<br /><br />As the movie envelopes around the two love birds, it also manages to find its lens towards Orked's parents, her mother who was educated in England, speaks very good English and in which, her husband and the caretaker in the house with very much attempt tries to speak back their own kind of English, which was humor all the way indeed. Let me just explain to you why humor can be such a prominent thing in this movie. And that explanation or description that you may portray can be given in only one word and that is RANDOMNESS. Often more than not, we don't learn to laugh at ourselves, and when we do, we do it at the expense of others. It is just like what the movie Just Follow Law by Jack Neo would have mentioned - Often when we are ourselves, we don't see the person in us we are, but when only when we are in another person's body, then only would we learn to see who we really are. And that is how humor applies as well, more so than just dignity.<br /><br />The movie was filled with such randomness that the typical facts of our routine lives as we carried it out could be all the way filled with laughter if we want it to be.<br /><br />The other focus of this movie was on how Orked's neighbor, a couple in which the husband is no longer loving to his wife, and wanted to find another. Pak Koboi as what he's nicked after was seen polishing his motorbike daily and would take it out for a ride with his newly found girlfriend. The producer did not fail to show you perhaps why the husband wanted to find another wife. The wife was a real hurler or KPC as we Chinese would call it, having interrupting on other people's business and sending her own daughter to tease Orked in words only adults would use. After all, what goes around, comes around, and that's probably why bad things kinda want to happen to her. In every time, being nice to people around you won't hurt at all, unless you have an ego to protect, but then again, what's it worth? The movie also centers around Mukhsin's brother, Hussein who would go out to town everyday until very late at night, smoking, drinking, and also finding 'girls'. He's the total opposite of Mukhsin, but that's all perhaps because of family problems. Both the brothers were staying with their aunt and the parents were far away from them. I will not reveal more of the story line as it would spoil much of the interest in wanting to find it out for yourself, but the slightest of all elements in which the producer wanted to send a message across to the viewers is the life of us all. She wanted us, me at least to view life from our own perspective when we are not ourselves. Movies in a way, take us out from our own body, places us in the character's position, and use our empty mind then to view on the happenings of it. Depending on the type and genre of the movie, you will be mesmerized by how a good movie such as this would portray and imply a significant impact on you.\"\n",
      "Round-trip:  the movie starts off in a [UNK] setting where not [UNK] our main actress [UNK] was seen in a [UNK] [UNK] class later in the film she was [UNK] on why by [UNK] that she was [UNK] to learn [UNK] her [UNK] was simple for a child she is [UNK] shes already known the [UNK] [UNK] [UNK] br its a bit of a romance one may thought of it but once youve [UNK] yourself from reading too much [UNK] and go for it youll [UNK] the typical elements of [UNK] the movie basically [UNK] on 10 year old [UNK] who [UNK] [UNK] year old [UNK] in a game of which many would think of it as a boys game running out of [UNK] [UNK] who was new in that [UNK] was forced to [UNK] [UNK] into the game in which she [UNK] [UNK] the male side of her [UNK] is no such [UNK] girl as she [UNK] more of the male [UNK] as you will see in the movie [UNK] [UNK] from much [UNK] [UNK] with her [UNK] [UNK] one of the [UNK] [UNK] out from the school [UNK] [UNK] [UNK] [UNK] and [UNK] on [UNK] brother where after he [UNK] [UNK] and so on and so [UNK] both were [UNK] [UNK] and [UNK] [UNK] than that but with a [UNK] of [UNK] in which most of us would all [UNK] to in the same way [UNK] the both of them until the day when [UNK] left [UNK] br now the movie [UNK] the first love between [UNK] and [UNK] they started out as friends but [UNK] [UNK] into somewhat more of a [UNK] relationship and then towards [UNK] you would [UNK] the [UNK] [UNK] made in the movies for each of the main actor and the actress when they go through love the different character was portrayed with [UNK] and [UNK] humor the scenes were all in [UNK] but it [UNK] so much reality in it that [UNK] be [UNK] on the screen for a long time you will love the movie for what it is and not because that you want to be [UNK] to the local scenes [UNK] it means much [UNK] br as the movie [UNK] around the two love [UNK] it also manages to find its [UNK] towards [UNK] parents her mother who was [UNK] in [UNK] [UNK] very good english and in which her husband and the [UNK] in the house with very much attempt tries to [UNK] back their own kind of english which was humor all the way indeed let me just [UNK] to you why humor can be such a [UNK] thing in this movie and that [UNK] or [UNK] that you may [UNK] can be given in only one word and that is [UNK] often more than not we dont learn to laugh at [UNK] and when we do we do it at the [UNK] of others it is just like what the movie just follow [UNK] by jack [UNK] would have [UNK] often when we are [UNK] we dont see the person in us we are but when only when we are in another [UNK] body then only would we learn to see who we really are and that is how humor [UNK] as well more so than just [UNK] br the movie was [UNK] with such [UNK] that the typical [UNK] of our [UNK] lives as we [UNK] it out could be all the way [UNK] with [UNK] if we want it to [UNK] br the other [UNK] of this movie was on how [UNK] [UNK] a couple in which the husband is no [UNK] [UNK] to his wife and wanted to find another [UNK] [UNK] as what hes [UNK] after was seen [UNK] his [UNK] [UNK] and would take it out for a [UNK] with his [UNK] found [UNK] the [UNK] did not [UNK] to show you perhaps why the husband wanted to find another wife the wife was a real [UNK] or [UNK] as we [UNK] would call it having [UNK] on other [UNK] business and [UNK] her own daughter to [UNK] [UNK] in words only [UNK] would use after all what goes around comes around and thats probably why bad things [UNK] want to happen to her in every time being nice to people around you wont [UNK] at all unless you have an [UNK] to [UNK] but then again whats it worth the movie also [UNK] around [UNK] brother [UNK] who would go out to town [UNK] until very late at night [UNK] [UNK] and also [UNK] girls hes the total [UNK] of [UNK] but thats all perhaps because of family problems both the brothers were [UNK] with their [UNK] and the parents were far away from them i will not [UNK] more of the story line as it would [UNK] much of the interest in [UNK] to find it out for yourself but the [UNK] of all elements in which the [UNK] wanted to [UNK] a message across to the viewers is the life of us all she wanted us me at least to view life from our own [UNK] when we are not [UNK] movies in a way take us out from our own body [UNK] us in the characters [UNK] and use our [UNK] mind then to view on the [UNK] of it [UNK] on the type and genre of the movie you will be [UNK] by how a good movie such as this would [UNK] and [UNK] a [UNK] [UNK] on you                                                                              \n",
      "\n"
     ]
    }
   ],
   "source": [
    "for n in range(3):\n",
    "    print(\"Original: \", example[n].numpy())\n",
    "    print(\"Round-trip: \", \" \".join(vocab[encoded_example[n]]))\n",
    "    print()"
   ]
  },
  {
   "cell_type": "code",
   "execution_count": 155,
   "id": "60eaf716-8f1a-4a12-b9da-4e40d05a3f89",
   "metadata": {},
   "outputs": [],
   "source": [
    "model = tf.keras.Sequential([\n",
    "    encoder,\n",
    "    tf.keras.layers.Embedding(\n",
    "        input_dim=len(encoder.get_vocabulary()),\n",
    "        output_dim=64,\n",
    "        # Use masking to handle the variable sequence lengths\n",
    "        mask_zero=True),\n",
    "    tf.keras.layers.Bidirectional(tf.keras.layers.LSTM(64)),\n",
    "    tf.keras.layers.Dense(64, activation='relu'),\n",
    "    tf.keras.layers.Dense(1)\n",
    "])"
   ]
  },
  {
   "cell_type": "code",
   "execution_count": 156,
   "id": "22f3e20b-6cf1-4d38-acc2-4652ff0378da",
   "metadata": {},
   "outputs": [
    {
     "name": "stdout",
     "output_type": "stream",
     "text": [
      "[False, True, True, True, True]\n"
     ]
    }
   ],
   "source": [
    "print([layer.supports_masking for layer in model.layers])"
   ]
  },
  {
   "cell_type": "code",
   "execution_count": 157,
   "id": "13f60587-c5f4-4e77-9e27-d58cfc71904f",
   "metadata": {},
   "outputs": [
    {
     "name": "stdout",
     "output_type": "stream",
     "text": [
      "[0.00294946]\n"
     ]
    }
   ],
   "source": [
    "# predict on a sample text without padding.\n",
    "\n",
    "sample_text = ('The movie was cool. The animation and the graphics '\n",
    "               'were out of this world. I would recommend this movie.')\n",
    "predictions = model.predict(np.array([sample_text]))\n",
    "print(predictions[0])"
   ]
  },
  {
   "cell_type": "code",
   "execution_count": 158,
   "id": "fcac762e-6f1d-47fa-a0b1-f5b428ec0d3b",
   "metadata": {},
   "outputs": [
    {
     "name": "stdout",
     "output_type": "stream",
     "text": [
      "[0.00294946]\n"
     ]
    }
   ],
   "source": [
    "# predict on a sample text with padding\n",
    "\n",
    "padding = \"the \" * 2000\n",
    "predictions = model.predict(np.array([sample_text, padding]))\n",
    "print(predictions[0])"
   ]
  },
  {
   "cell_type": "code",
   "execution_count": 159,
   "id": "f20b01d7-3b12-4410-9f80-dccd21d64e8e",
   "metadata": {},
   "outputs": [],
   "source": [
    "model.compile(loss=tf.keras.losses.BinaryCrossentropy(from_logits=True),\n",
    "              optimizer=tf.keras.optimizers.Adam(1e-4),\n",
    "              metrics=['accuracy'])"
   ]
  },
  {
   "cell_type": "code",
   "execution_count": 161,
   "id": "52ba2e80-435f-47fa-9385-3506b8e7aab1",
   "metadata": {},
   "outputs": [],
   "source": [
    "history = model.fit(train_dataset, epochs=10,\n",
    "                    validation_data=test_dataset,\n",
    "                    validation_steps=30)"
   ]
  },
  {
   "cell_type": "code",
   "execution_count": null,
   "id": "0bf0cab3-f018-4a3c-9cad-fb575d20d65e",
   "metadata": {},
   "outputs": [],
   "source": [
    "test_loss, test_acc = model.evaluate(test_dataset)\n",
    "\n",
    "print('Test Loss:', test_loss)\n",
    "print('Test Accuracy:', test_acc)"
   ]
  },
  {
   "cell_type": "code",
   "execution_count": null,
   "id": "1b7b394d-b7b9-4a30-8b9b-e2727d63af28",
   "metadata": {},
   "outputs": [],
   "source": [
    "plt.figure(figsize=(16, 8))\n",
    "plt.subplot(1, 2, 1)\n",
    "plot_graphs(history, 'accuracy')\n",
    "plt.ylim(None, 1)\n",
    "plt.subplot(1, 2, 2)\n",
    "plot_graphs(history, 'loss')\n",
    "plt.ylim(0, None)"
   ]
  },
  {
   "cell_type": "code",
   "execution_count": null,
   "id": "4fbfb952-90e5-4651-b2ac-768d2b1f046d",
   "metadata": {},
   "outputs": [],
   "source": [
    "sample_text = ('The movie was cool. The animation and the graphics '\n",
    "               'were out of this world. I would recommend this movie.')\n",
    "predictions = model.predict(np.array([sample_text]))"
   ]
  },
  {
   "cell_type": "code",
   "execution_count": null,
   "id": "81290387-abe9-451a-96b3-9543a5deacc9",
   "metadata": {},
   "outputs": [],
   "source": []
  },
  {
   "cell_type": "code",
   "execution_count": null,
   "id": "41c90119-7ade-42ba-bcc4-aa6ef8a3563a",
   "metadata": {},
   "outputs": [],
   "source": []
  },
  {
   "cell_type": "code",
   "execution_count": null,
   "id": "c11ac9b2-1a9c-42cd-8f2f-ebb7b8eb0ec2",
   "metadata": {},
   "outputs": [],
   "source": [
    "model = tf.keras.Sequential([\n",
    "    encoder,\n",
    "    tf.keras.layers.Embedding(len(encoder.get_vocabulary()), 64, mask_zero=True),\n",
    "    tf.keras.layers.Bidirectional(tf.keras.layers.LSTM(64,  return_sequences=True)),\n",
    "    tf.keras.layers.Bidirectional(tf.keras.layers.LSTM(32)),\n",
    "    tf.keras.layers.Dense(64, activation='relu'),\n",
    "    tf.keras.layers.Dropout(0.5),\n",
    "    tf.keras.layers.Dense(1)\n",
    "])"
   ]
  },
  {
   "cell_type": "code",
   "execution_count": null,
   "id": "3c80f848-443d-4f16-843f-c7f288a448cf",
   "metadata": {},
   "outputs": [],
   "source": [
    "model.compile(loss=tf.keras.losses.BinaryCrossentropy(from_logits=True),\n",
    "              optimizer=tf.keras.optimizers.Adam(1e-4),\n",
    "              metrics=['accuracy'])"
   ]
  },
  {
   "cell_type": "code",
   "execution_count": null,
   "id": "a7113dce-97bd-43f6-9371-17b94fed768b",
   "metadata": {},
   "outputs": [],
   "source": [
    "history = model.fit(train_dataset, epochs=10,\n",
    "                    validation_data=test_dataset,\n",
    "                    validation_steps=30)"
   ]
  },
  {
   "cell_type": "code",
   "execution_count": null,
   "id": "2fcdb895-35de-42c5-9768-0b2978d557c6",
   "metadata": {},
   "outputs": [],
   "source": [
    "test_loss, test_acc = model.evaluate(test_dataset)\n",
    "\n",
    "print('Test Loss:', test_loss)\n",
    "print('Test Accuracy:', test_acc)"
   ]
  },
  {
   "cell_type": "code",
   "execution_count": null,
   "id": "af8307f4-bc14-40ad-b6ab-391a4fa6c84d",
   "metadata": {},
   "outputs": [],
   "source": [
    "# predict on a sample text without padding.\n",
    "\n",
    "sample_text = ('The movie was not good. The animation and the graphics '\n",
    "               'were terrible. I would not recommend this movie.')\n",
    "predictions = model.predict(np.array([sample_text]))\n",
    "print(predictions)"
   ]
  },
  {
   "cell_type": "code",
   "execution_count": null,
   "id": "37358c02-f3ca-4c88-a25c-fc8a3f54569e",
   "metadata": {},
   "outputs": [],
   "source": [
    "plt.figure(figsize=(16, 6))\n",
    "plt.subplot(1, 2, 1)\n",
    "plot_graphs(history, 'accuracy')\n",
    "plt.subplot(1, 2, 2)\n",
    "plot_graphs(history, 'loss')"
   ]
  },
  {
   "cell_type": "code",
   "execution_count": null,
   "id": "572ce786-c7be-4edd-bff2-8536d5f46d5d",
   "metadata": {},
   "outputs": [],
   "source": []
  },
  {
   "cell_type": "code",
   "execution_count": null,
   "id": "7e7bd2d1-1285-4d0f-a66d-76d258e36cbc",
   "metadata": {},
   "outputs": [],
   "source": []
  },
  {
   "cell_type": "code",
   "execution_count": null,
   "id": "efa3eceb-232a-4ad4-b035-511fe17490a3",
   "metadata": {},
   "outputs": [],
   "source": []
  },
  {
   "cell_type": "code",
   "execution_count": null,
   "id": "6b50fdbd-66f7-414b-8258-39421dc22a14",
   "metadata": {},
   "outputs": [],
   "source": [
    "# Create a function to show most similar words, or are closest to the given word\n",
    "def show_most_similar(word, length=10):\n",
    "    return wv.most_similar(word, topn=length)"
   ]
  },
  {
   "cell_type": "markdown",
   "id": "3465172b-0e11-4383-add1-3c9384e33913",
   "metadata": {},
   "source": [
    "#### Examinig Vectors"
   ]
  },
  {
   "cell_type": "code",
   "execution_count": null,
   "id": "f0e5179a-82f0-4385-9d8e-9632c8b4f374",
   "metadata": {},
   "outputs": [],
   "source": [
    "show_most_similar('trump')"
   ]
  },
  {
   "cell_type": "code",
   "execution_count": null,
   "id": "89878a2c-931d-41a1-a221-08dd077e1864",
   "metadata": {},
   "outputs": [],
   "source": [
    "show_most_similar('war')"
   ]
  },
  {
   "cell_type": "code",
   "execution_count": null,
   "id": "bf68969a-576c-4276-b318-4a67249f0a68",
   "metadata": {},
   "outputs": [],
   "source": [
    "show_most_similar('election')"
   ]
  },
  {
   "cell_type": "code",
   "execution_count": null,
   "id": "d34cbfe8-fc01-4386-8755-dc1b29e62d60",
   "metadata": {},
   "outputs": [],
   "source": [
    "show_most_similar('president')"
   ]
  },
  {
   "cell_type": "code",
   "execution_count": null,
   "id": "3a4edbf5-ff09-4da6-ac30-e0779427c74c",
   "metadata": {},
   "outputs": [],
   "source": []
  },
  {
   "cell_type": "code",
   "execution_count": null,
   "id": "20d8017f-259c-47b0-9665-fed5d45ed3f6",
   "metadata": {},
   "outputs": [],
   "source": [
    "from nltk.collocations import *\n",
    "# from nltk import TweetTokenizer\n",
    "\n",
    "# tweet_tokenizer = TweetTokenizer(preserve_case=False, strip_handles=True)\n",
    "\n",
    "# X_train_twt = tweet_tokenizer.tokenize(' '.join(X_train_w2v.apply(lambda x: ' '.join(x))))"
   ]
  },
  {
   "cell_type": "code",
   "execution_count": null,
   "id": "ce5b1d69-7948-4cc3-9245-f337711087b8",
   "metadata": {},
   "outputs": [],
   "source": [
    "# Use BigramAssocMeasures from nltk\n",
    "bigram_measures = nltk.collocations.BigramAssocMeasures()\n",
    "\n",
    "finder = BigramCollocationFinder.from_words(X_train_w2v)\n",
    "bigrams = finder.score_ngrams(bigram_measures.raw_freq)"
   ]
  },
  {
   "cell_type": "code",
   "execution_count": null,
   "id": "e90686af-7d14-4b2d-a4eb-9f6e5ef3def6",
   "metadata": {},
   "outputs": [],
   "source": [
    "# Display the top 50 bigrams\n",
    "bigrams[:50]"
   ]
  },
  {
   "cell_type": "code",
   "execution_count": null,
   "id": "e7c93620-0a6d-4bdc-b555-b511c66ba451",
   "metadata": {},
   "outputs": [],
   "source": []
  },
  {
   "cell_type": "code",
   "execution_count": null,
   "id": "6078dca5-765f-4609-bbef-bb9bc3ff04f7",
   "metadata": {},
   "outputs": [],
   "source": []
  },
  {
   "cell_type": "code",
   "execution_count": null,
   "id": "9976799e-65d9-4d9b-9eeb-11b2fae3633b",
   "metadata": {},
   "outputs": [],
   "source": []
  }
 ],
 "metadata": {
  "kernelspec": {
   "display_name": "nlp-env",
   "language": "python",
   "name": "nlp-env"
  },
  "language_info": {
   "codemirror_mode": {
    "name": "ipython",
    "version": 3
   },
   "file_extension": ".py",
   "mimetype": "text/x-python",
   "name": "python",
   "nbconvert_exporter": "python",
   "pygments_lexer": "ipython3",
   "version": "3.9.7"
  }
 },
 "nbformat": 4,
 "nbformat_minor": 5
}
