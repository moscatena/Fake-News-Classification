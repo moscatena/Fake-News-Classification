{
 "cells": [
  {
   "cell_type": "markdown",
   "id": "0acff683-3509-4661-a7b5-7a8faf8b029c",
   "metadata": {
    "tags": []
   },
   "source": [
    "# Fake News Detection\n",
    "\n",
    "**Author**: Marcelo Scatena\n",
    "***\n",
    "March 2022"
   ]
  },
  {
   "cell_type": "code",
   "execution_count": 2,
   "id": "1317e3ce-6fd4-4724-af36-f2e7ae904e12",
   "metadata": {},
   "outputs": [],
   "source": [
    "import pandas as pd\n",
    "import warnings\n",
    "warnings.filterwarnings('ignore')"
   ]
  },
  {
   "cell_type": "code",
   "execution_count": 7,
   "id": "0251a554-b6df-4f6c-9bdb-8cf4389b851f",
   "metadata": {},
   "outputs": [],
   "source": [
    "import matplotlib.pyplot as plt\n",
    "import seaborn as sns"
   ]
  },
  {
   "cell_type": "code",
   "execution_count": 12,
   "id": "1136cae7-f0c6-43a0-86bc-114332363372",
   "metadata": {},
   "outputs": [],
   "source": [
    "from sklearn.pipeline import Pipeline\n",
    "from sklearn.preprocessing import FunctionTransformer"
   ]
  },
  {
   "cell_type": "code",
   "execution_count": 13,
   "id": "550939fc-27c6-4daf-939c-871721b2d030",
   "metadata": {},
   "outputs": [],
   "source": [
    "from nltk.corpus import stopwords\n",
    "import re\n",
    "from nltk.stem.wordnet import WordNetLemmatizer\n",
    "import string"
   ]
  },
  {
   "cell_type": "code",
   "execution_count": 25,
   "id": "82302b82-5b86-44dc-b60f-d483cfe0bc74",
   "metadata": {},
   "outputs": [],
   "source": [
    "from wordcloud import WordCloud"
   ]
  },
  {
   "cell_type": "code",
   "execution_count": 76,
   "id": "20f9be3f-4896-4168-8f85-96964ee82fde",
   "metadata": {},
   "outputs": [],
   "source": [
    "from sklearn.metrics import confusion_matrix, ConfusionMatrixDisplay"
   ]
  },
  {
   "cell_type": "code",
   "execution_count": null,
   "id": "7626c16c-e30c-4339-9974-dfb213985ae6",
   "metadata": {},
   "outputs": [],
   "source": [
    "def print_cm_with_labels(y_true, \n",
    "                         y_pred):\n",
    "    '''\n",
    "    Takes the true values and predicted values of a classifier and \n",
    "    plots a confusion matrix (normalized by predictions) using \n",
    "    a list of given display labels.\n",
    "    '''\n",
    "    disp_labels = ['True', 'Fake']\n",
    "    cm = confusion_matrix(y_true, y_pred)\n",
    "    disp = ConfusionMatrixDisplay(confusion_matrix=cm, display_labels=disp_labels)\n",
    "\n",
    "    fig, ax = plt.subplots(figsize=(6,6))\n",
    "    disp.plot(ax=ax)\n",
    "    ax.grid(False)\n",
    "    disp.ax_.set_xticklabels(disp_labels)\n",
    "    return None"
   ]
  },
  {
   "cell_type": "code",
   "execution_count": 343,
   "id": "cef6f3b9-ead2-4b27-81b3-374df7b07c6a",
   "metadata": {},
   "outputs": [],
   "source": [
    "from sklearn.metrics import accuracy_score\n",
    "import numpy as np"
   ]
  },
  {
   "cell_type": "markdown",
   "id": "ad3bdb1d-3a6e-4272-bd4f-fbf8884da2af",
   "metadata": {
    "tags": []
   },
   "source": [
    "## Vectorization"
   ]
  },
  {
   "cell_type": "code",
   "execution_count": 2,
   "id": "c8da2873-879e-41d7-9727-468f53c004e2",
   "metadata": {},
   "outputs": [],
   "source": [
    "%store -r df_train_clean\n",
    "%store -r df_val_clean\n",
    "%store -r df_test_clean"
   ]
  },
  {
   "cell_type": "code",
   "execution_count": 3,
   "id": "1388bed9-dcb6-41f2-b3bf-40e38a7dbd56",
   "metadata": {},
   "outputs": [],
   "source": [
    "X_train_clean = df_train_clean['statement']\n",
    "y_train_clean = df_train_clean['label']\n",
    "X_val_clean = df_val_clean['statement']\n",
    "y_val_clean = df_val_clean['label']\n",
    "X_test_clean = df_test_clean['statement']\n",
    "y_test_clean = df_test_clean['label']"
   ]
  },
  {
   "cell_type": "code",
   "execution_count": 4,
   "id": "657383e0-4942-4dd6-aca4-7022736acaa4",
   "metadata": {},
   "outputs": [],
   "source": [
    "# Import Word2Vec from Python library gensim and apply to processed train data\n",
    "from gensim.models import Word2Vec\n",
    "from nltk import word_tokenize\n",
    "\n",
    "X_train_w2v = X_train_clean.map(word_tokenize)\n",
    "\n",
    "w2v_model = Word2Vec(X_train_w2v, window=5, min_count=1, workers=4)\n",
    "w2v_model.train(X_train_w2v, total_examples=w2v_model.corpus_count, epochs=w2v_model.epochs)\n",
    "\n",
    "wv = w2v_model.wv"
   ]
  },
  {
   "cell_type": "code",
   "execution_count": 5,
   "id": "6b50fdbd-66f7-414b-8258-39421dc22a14",
   "metadata": {},
   "outputs": [],
   "source": [
    "# Create a function to show most similar words, or are closest to the given word\n",
    "def show_most_similar(word, length=10):\n",
    "    return wv.most_similar(word, topn=length)"
   ]
  },
  {
   "cell_type": "markdown",
   "id": "3465172b-0e11-4383-add1-3c9384e33913",
   "metadata": {},
   "source": [
    "#### Examinig Vectors"
   ]
  },
  {
   "cell_type": "code",
   "execution_count": 57,
   "id": "f0e5179a-82f0-4385-9d8e-9632c8b4f374",
   "metadata": {},
   "outputs": [
    {
     "data": {
      "text/plain": [
       "[('writes', 0.9119263291358948),\n",
       " ('payne', 0.8876219987869263),\n",
       " ('analyst', 0.8782433271408081),\n",
       " ('saysabout', 0.8718438148498535),\n",
       " ('insulted', 0.8634847402572632),\n",
       " ('affordability', 0.8589801788330078),\n",
       " ('sterling', 0.8494797348976135),\n",
       " ('clipper', 0.8407131433486938),\n",
       " ('zandi', 0.8053166270256042),\n",
       " ('said', 0.8003408908843994)]"
      ]
     },
     "execution_count": 57,
     "metadata": {},
     "output_type": "execute_result"
    }
   ],
   "source": [
    "show_most_similar('trump')"
   ]
  },
  {
   "cell_type": "code",
   "execution_count": 7,
   "id": "89878a2c-931d-41a1-a221-08dd077e1864",
   "metadata": {},
   "outputs": [
    {
     "data": {
      "text/plain": [
       "[('iraq', 0.9710062742233276),\n",
       " ('sept', 0.9674686789512634),\n",
       " ('modern', 0.9636507630348206),\n",
       " ('longest', 0.9611484408378601),\n",
       " ('troop', 0.9578167796134949),\n",
       " ('admit', 0.9552557468414307),\n",
       " ('afghanistan', 0.9550725817680359),\n",
       " ('1800s', 0.9549057483673096),\n",
       " ('producing', 0.9547255635261536),\n",
       " ('reagan', 0.9537568092346191)]"
      ]
     },
     "execution_count": 7,
     "metadata": {},
     "output_type": "execute_result"
    }
   ],
   "source": [
    "show_most_similar('war')"
   ]
  },
  {
   "cell_type": "code",
   "execution_count": 8,
   "id": "bf68969a-576c-4276-b318-4a67249f0a68",
   "metadata": {},
   "outputs": [
    {
     "data": {
      "text/plain": [
       "[('confirmed', 0.976656436920166),\n",
       " ('nominated', 0.9764069318771362),\n",
       " ('vacancy', 0.9699544906616211),\n",
       " ('november', 0.9676817655563354),\n",
       " ('elected', 0.9673665761947632),\n",
       " ('beat', 0.9670543074607849),\n",
       " ('came', 0.9668200612068176),\n",
       " ('2000', 0.9646468162536621),\n",
       " ('victor', 0.9632003903388977),\n",
       " ('reed', 0.9631231427192688)]"
      ]
     },
     "execution_count": 8,
     "metadata": {},
     "output_type": "execute_result"
    }
   ],
   "source": [
    "show_most_similar('election')"
   ]
  },
  {
   "cell_type": "code",
   "execution_count": 9,
   "id": "d34cbfe8-fc01-4386-8755-dc1b29e62d60",
   "metadata": {},
   "outputs": [
    {
     "data": {
      "text/plain": [
       "[('barack', 0.9574108123779297),\n",
       " ('administration', 0.9403015375137329),\n",
       " ('george', 0.9343157410621643),\n",
       " ('bush', 0.9321780800819397),\n",
       " ('obama', 0.9295011758804321),\n",
       " ('w', 0.92638099193573),\n",
       " ('rescind', 0.920987606048584),\n",
       " ('august', 0.9138213396072388),\n",
       " ('unilateral', 0.913422167301178),\n",
       " ('obamas', 0.9127466082572937)]"
      ]
     },
     "execution_count": 9,
     "metadata": {},
     "output_type": "execute_result"
    }
   ],
   "source": [
    "show_most_similar('president')"
   ]
  },
  {
   "cell_type": "code",
   "execution_count": 10,
   "id": "3a4edbf5-ff09-4da6-ac30-e0779427c74c",
   "metadata": {},
   "outputs": [
    {
     "data": {
      "text/plain": [
       "[('preventive', 0.9731147885322571),\n",
       " ('uncompensated', 0.9614614248275757),\n",
       " ('affordable', 0.9382889866828918),\n",
       " ('ration', 0.9203252792358398),\n",
       " ('affairshealth', 0.9118868708610535),\n",
       " ('act', 0.9105225205421448),\n",
       " ('slapped', 0.9076265096664429),\n",
       " ('wallace', 0.8982751965522766),\n",
       " ('soar', 0.8945285677909851),\n",
       " ('premium', 0.8909482955932617)]"
      ]
     },
     "execution_count": 10,
     "metadata": {},
     "output_type": "execute_result"
    }
   ],
   "source": [
    "show_most_similar('health')"
   ]
  },
  {
   "cell_type": "code",
   "execution_count": 61,
   "id": "8f42a750-cc62-4219-b602-df634ab0e070",
   "metadata": {},
   "outputs": [
    {
     "data": {
      "text/plain": [
       "[('shortcoming', 0.0),\n",
       " ('frisked', 0.0),\n",
       " ('ernesto', 0.0),\n",
       " ('smear', 0.0),\n",
       " ('bled', 0.0),\n",
       " ('bound', 0.0),\n",
       " ('gemma', 0.0),\n",
       " ('stranded', 0.0),\n",
       " ('materialize', 0.0),\n",
       " ('mature', 0.0)]"
      ]
     },
     "execution_count": 61,
     "metadata": {},
     "output_type": "execute_result"
    }
   ],
   "source": [
    "wv.most_similar(positive=['health'], negative=['health'])"
   ]
  },
  {
   "cell_type": "code",
   "execution_count": null,
   "id": "ba450d4e-4647-41a6-a315-b53656a52218",
   "metadata": {},
   "outputs": [],
   "source": []
  },
  {
   "cell_type": "code",
   "execution_count": 19,
   "id": "ec3f2662-25ad-480f-872c-89c118c74150",
   "metadata": {},
   "outputs": [
    {
     "data": {
      "text/plain": [
       "0.0        [say, annies, list, political, group, support,...\n",
       "1.0        [decline, coal, start, started, natural, gas, ...\n",
       "2.0        [hillary, clinton, agrees, john, mccain, votin...\n",
       "3.0        [health, care, reform, legislation, likely, ma...\n",
       "4.0               [economic, turnaround, started, end, term]\n",
       "                                 ...                        \n",
       "10264.0    [larger, number, shark, attack, florida, case,...\n",
       "10265.0    [democrat, become, party, atlanta, metro, area...\n",
       "10266.0    [say, alternative, social, security, operates,...\n",
       "10267.0    [lifting, u, cuban, embargo, allowing, travel,...\n",
       "10268.0    [department, veteran, affair, manual, telling,...\n",
       "Name: statement, Length: 10240, dtype: object"
      ]
     },
     "execution_count": 19,
     "metadata": {},
     "output_type": "execute_result"
    }
   ],
   "source": [
    "X_train_w2v"
   ]
  },
  {
   "cell_type": "code",
   "execution_count": 23,
   "id": "ba646c1b-93d2-47ef-9205-e6d4fb28455c",
   "metadata": {},
   "outputs": [],
   "source": [
    "from nltk.collocations import *"
   ]
  },
  {
   "cell_type": "code",
   "execution_count": 25,
   "id": "345f4f12-f829-4653-bbc4-e20d2985265b",
   "metadata": {},
   "outputs": [],
   "source": [
    "# from nltk.collocations import *\n",
    "# from nltk import TweetTokenizer\n",
    "\n",
    "# tweet_tokenizer = TweetTokenizer(preserve_case=False, strip_handles=True)\n",
    "\n",
    "# X_train_twt = tweet_tokenizer.tokenize(' '.join(X_train_w2v.apply(lambda x: ' '.join(x))))"
   ]
  },
  {
   "cell_type": "code",
   "execution_count": 31,
   "id": "ca4c169e-2412-4327-8807-f1e48e5eca14",
   "metadata": {},
   "outputs": [],
   "source": [
    "X_train_twt2 = word_tokenize(' '.join(X_train_w2v.apply(lambda x: ' '.join(x))))"
   ]
  },
  {
   "cell_type": "code",
   "execution_count": 35,
   "id": "ce5b1d69-7948-4cc3-9245-f337711087b8",
   "metadata": {},
   "outputs": [],
   "source": [
    "# Use BigramAssocMeasures from nltk\n",
    "bigram_measures = nltk.collocations.BigramAssocMeasures()\n",
    "\n",
    "finder = BigramCollocationFinder.from_words(X_train_twt2)\n",
    "bigrams = finder.score_ngrams(bigram_measures.raw_freq)"
   ]
  },
  {
   "cell_type": "code",
   "execution_count": 36,
   "id": "e90686af-7d14-4b2d-a4eb-9f6e5ef3def6",
   "metadata": {},
   "outputs": [
    {
     "data": {
      "text/plain": [
       "[(('health', 'care'), 0.0035441821349192046),\n",
       " (('barack', 'obama'), 0.002574466441829931),\n",
       " (('united', 'state'), 0.002565884887023831),\n",
       " (('hillary', 'clinton'), 0.0016562400775772554),\n",
       " (('president', 'barack'), 0.0013473041045576639),\n",
       " (('donald', 'trump'), 0.0011585098988234688),\n",
       " (('social', 'security'), 0.0011241836795990697),\n",
       " (('president', 'obama'), 0.00111560212479297),\n",
       " (('scott', 'walker'), 0.0010898574603746707),\n",
       " (('health', 'insurance'), 0.0009611341382831742),\n",
       " (('mitt', 'romney'), 0.000926807919058775),\n",
       " (('rhode', 'island'), 0.0008238292613855779),\n",
       " (('tax', 'cut'), 0.0008066661517733783),\n",
       " (('say', 'president'), 0.0007980845969672786),\n",
       " (('last', 'year'), 0.0007895030421611787),\n",
       " (('year', 'say'), 0.0007551768229367797),\n",
       " (('say', 'hillary'), 0.0007294321585184804),\n",
       " (('new', 'jersey'), 0.0007208506037123806),\n",
       " (('federal', 'government'), 0.0006951059392940813),\n",
       " (('illegal', 'immigrant'), 0.0006521981652635824),\n",
       " (('income', 'tax'), 0.0006521981652635824),\n",
       " (('say', 'u'), 0.0006521981652635824),\n",
       " (('000', 'job'), 0.0006264535008452831),\n",
       " (('obama', 'administration'), 0.0006264535008452831),\n",
       " (('u', 'senate'), 0.0006264535008452831),\n",
       " (('four', 'year'), 0.0006178719460391834),\n",
       " (('care', 'law'), 0.0006092903912330837),\n",
       " (('new', 'york'), 0.0006007088364269838),\n",
       " (('say', 'donald'), 0.0006007088364269838),\n",
       " (('two', 'year'), 0.0006007088364269838),\n",
       " (('tax', 'increase'), 0.0005921272816208841),\n",
       " (('unemployment', 'rate'), 0.0005921272816208841),\n",
       " (('minimum', 'wage'), 0.0005835457268147843),\n",
       " (('rick', 'perry'), 0.0005749641720086845),\n",
       " (('took', 'office'), 0.0005749641720086845),\n",
       " (('gov', 'scott'), 0.0005663826172025848),\n",
       " (('private', 'sector'), 0.0005663826172025848),\n",
       " (('supreme', 'court'), 0.0005663826172025848),\n",
       " (('property', 'tax'), 0.000557801062396485),\n",
       " (('middle', 'class'), 0.0005406379527842854),\n",
       " (('public', 'school'), 0.0005320563979781857),\n",
       " (('say', 'mitt'), 0.0005320563979781857),\n",
       " (('1', 'percent'), 0.0005234748431720859),\n",
       " (('10', 'year'), 0.0005234748431720859),\n",
       " (('rick', 'scott'), 0.0005234748431720859),\n",
       " (('john', 'mccain'), 0.0005148932883659861),\n",
       " (('40', 'percent'), 0.0005063117335598864),\n",
       " (('year', 'ago'), 0.0005063117335598864),\n",
       " (('planned', 'parenthood'), 0.0004977301787537866),\n",
       " (('tax', 'rate'), 0.0004891486239476868)]"
      ]
     },
     "execution_count": 36,
     "metadata": {},
     "output_type": "execute_result"
    }
   ],
   "source": [
    "# Display the top 50 bigrams\n",
    "bigrams[:50]"
   ]
  },
  {
   "cell_type": "code",
   "execution_count": null,
   "id": "2c5dc20b-f08e-428a-a9e0-209c1750d33f",
   "metadata": {},
   "outputs": [],
   "source": []
  },
  {
   "cell_type": "code",
   "execution_count": 41,
   "id": "9fa204c5-a7bc-42d8-ba8c-9fc2ab3b4b2d",
   "metadata": {},
   "outputs": [],
   "source": []
  },
  {
   "cell_type": "code",
   "execution_count": null,
   "id": "8b960e95-4412-49b8-bcdd-f2e4d5f5ea0f",
   "metadata": {},
   "outputs": [],
   "source": []
  },
  {
   "cell_type": "code",
   "execution_count": 44,
   "id": "e7c93620-0a6d-4bdc-b555-b511c66ba451",
   "metadata": {},
   "outputs": [
    {
     "data": {
      "text/plain": [
       "<gensim.models.word2vec.Word2Vec at 0x1dfe432d160>"
      ]
     },
     "execution_count": 44,
     "metadata": {},
     "output_type": "execute_result"
    }
   ],
   "source": [
    "w2v_model"
   ]
  },
  {
   "cell_type": "code",
   "execution_count": null,
   "id": "6078dca5-765f-4609-bbef-bb9bc3ff04f7",
   "metadata": {},
   "outputs": [],
   "source": [
    "from sklearn.linear_model import LogisticRegression\n",
    "logreg = LogisticRegression()\n",
    "logreg.fit(w2v_model.wv, y_train_clean)\n",
    "Accuracy = logreg.score(X_val_clean, y_val_clean)\n",
    "print(Accuracy*100)"
   ]
  },
  {
   "cell_type": "code",
   "execution_count": null,
   "id": "9976799e-65d9-4d9b-9eeb-11b2fae3633b",
   "metadata": {},
   "outputs": [],
   "source": [
    "from sklearn.linear_model import LogisticRegression\n",
    "logreg = LogisticRegression()\n",
    "logreg.fit(w2v_model.wv, y_train_clean)\n",
    "Accuracy = logreg.score(X_val_clean, y_val_clean)\n",
    "print(Accuracy*100)"
   ]
  },
  {
   "cell_type": "code",
   "execution_count": 53,
   "id": "21c3104a-7cb7-4daf-b817-cd56b02bc25d",
   "metadata": {},
   "outputs": [
    {
     "data": {
      "text/plain": [
       "10639"
      ]
     },
     "execution_count": 53,
     "metadata": {},
     "output_type": "execute_result"
    }
   ],
   "source": [
    "len(wv.vectors)"
   ]
  },
  {
   "cell_type": "code",
   "execution_count": 54,
   "id": "be08eaa8-653e-4d4c-aef4-32badc45727f",
   "metadata": {},
   "outputs": [
    {
     "data": {
      "text/plain": [
       "10240"
      ]
     },
     "execution_count": 54,
     "metadata": {},
     "output_type": "execute_result"
    }
   ],
   "source": [
    "len(y_train_clean)"
   ]
  },
  {
   "cell_type": "code",
   "execution_count": 62,
   "id": "e9040a5f-f4a0-43f9-b09a-5ef47b9057e9",
   "metadata": {},
   "outputs": [
    {
     "data": {
      "text/plain": [
       "0.0        say annies list political group support third ...\n",
       "1.0        decline coal start started natural gas took st...\n",
       "2.0        hillary clinton agrees john mccain voting give...\n",
       "3.0        health care reform legislation likely mandate ...\n",
       "4.0                     economic turnaround started end term\n",
       "                                 ...                        \n",
       "10264.0    larger number shark attack florida case voter ...\n",
       "10265.0       democrat become party atlanta metro area black\n",
       "10266.0    say alternative social security operates galve...\n",
       "10267.0         lifting u cuban embargo allowing travel cuba\n",
       "10268.0    department veteran affair manual telling veter...\n",
       "Name: statement, Length: 10240, dtype: object"
      ]
     },
     "execution_count": 62,
     "metadata": {},
     "output_type": "execute_result"
    }
   ],
   "source": [
    "X_train_clean"
   ]
  },
  {
   "cell_type": "code",
   "execution_count": null,
   "id": "8539c221-b512-428b-8bad-32f929a6f100",
   "metadata": {},
   "outputs": [],
   "source": []
  },
  {
   "cell_type": "code",
   "execution_count": 63,
   "id": "18dc445b-fd52-4916-adc0-8b0945b4c6d0",
   "metadata": {},
   "outputs": [],
   "source": [
    "target = y_train_clean\n",
    "data = X_train_clean.map(word_tokenize).values"
   ]
  },
  {
   "cell_type": "code",
   "execution_count": 66,
   "id": "d72c09d6-ed08-4dfe-a6be-917e787f4844",
   "metadata": {},
   "outputs": [],
   "source": [
    "total_vocabulary = set(word for headline in data for word in headline)"
   ]
  },
  {
   "cell_type": "code",
   "execution_count": 68,
   "id": "07c8b7e0-920c-46ca-a8ee-c66bd654826b",
   "metadata": {},
   "outputs": [
    {
     "name": "stdout",
     "output_type": "stream",
     "text": [
      "There are 10639 unique tokens in the dataset.\n"
     ]
    }
   ],
   "source": [
    "len(total_vocabulary)\n",
    "print('There are {} unique tokens in the dataset.'.format(len(total_vocabulary)))"
   ]
  },
  {
   "cell_type": "code",
   "execution_count": 72,
   "id": "9ae7f2fb-f549-488f-80b5-82dbe8243109",
   "metadata": {},
   "outputs": [],
   "source": [
    "import numpy as np"
   ]
  },
  {
   "cell_type": "code",
   "execution_count": 73,
   "id": "d55efe53-bdff-4bf9-b382-46306fa8233a",
   "metadata": {},
   "outputs": [],
   "source": [
    "glove = {}\n",
    "with open('glove.6B.50d.txt', 'rb') as f:\n",
    "    for line in f:\n",
    "        parts = line.split()\n",
    "        word = parts[0].decode('utf-8')\n",
    "        if word in total_vocabulary:\n",
    "            vector = np.array(parts[1:], dtype=np.float32)\n",
    "            glove[word] = vector"
   ]
  },
  {
   "cell_type": "code",
   "execution_count": 75,
   "id": "8e285f4f-fdca-4562-bd71-4ec1a212eb64",
   "metadata": {},
   "outputs": [],
   "source": [
    "class W2vVectorizer(object):\n",
    "    \n",
    "    def __init__(self, w2v):\n",
    "        # Takes in a dictionary of words and vectors as input\n",
    "        self.w2v = w2v\n",
    "        if len(w2v) == 0:\n",
    "            self.dimensions = 0\n",
    "        else:\n",
    "            self.dimensions = len(w2v[next(iter(glove))])\n",
    "    \n",
    "    # Note: Even though it doesn't do anything, it's required that this object implement a fit method or else\n",
    "    # it can't be used in a scikit-learn pipeline  \n",
    "    def fit(self, X, y):\n",
    "        return self\n",
    "            \n",
    "    def transform(self, X):\n",
    "        return np.array([\n",
    "            np.mean([self.w2v[w] for w in words if w in self.w2v]\n",
    "                   or [np.zeros(self.dimensions)], axis=0) for words in X])"
   ]
  },
  {
   "cell_type": "code",
   "execution_count": 110,
   "id": "92ebb534-cd5f-4839-8dea-929b5f30c2ea",
   "metadata": {},
   "outputs": [],
   "source": [
    "w2vect = W2vVectorizer(glove)"
   ]
  },
  {
   "cell_type": "code",
   "execution_count": 115,
   "id": "5694dbb8-4f42-4def-89f1-7b0b7c62bb3b",
   "metadata": {},
   "outputs": [],
   "source": [
    "a = w2vect.transform(df_train_clean['statement'])"
   ]
  },
  {
   "cell_type": "code",
   "execution_count": 117,
   "id": "b1d8983f-4dd0-44f6-bb86-91ead4e74293",
   "metadata": {},
   "outputs": [
    {
     "data": {
      "text/plain": [
       "(10240, 50)"
      ]
     },
     "execution_count": 117,
     "metadata": {},
     "output_type": "execute_result"
    }
   ],
   "source": [
    "a.shape"
   ]
  },
  {
   "cell_type": "code",
   "execution_count": 93,
   "id": "1a3cb7ae-7e2a-4c8d-9cf5-40402b5f6a19",
   "metadata": {},
   "outputs": [],
   "source": [
    "from sklearn.ensemble import RandomForestClassifier\n",
    "from sklearn.svm import SVC\n",
    "from sklearn.linear_model import LogisticRegression, SGDClassifier\n",
    "from sklearn.pipeline import Pipeline\n",
    "from sklearn.model_selection import cross_val_score\n",
    "\n",
    "rf =  Pipeline([('Word2Vec Vectorizer', W2vVectorizer(glove)),\n",
    "              ('Random Forest', RandomForestClassifier(n_estimators=100, criterion='entropy', max_depth=22, ccp_alpha=0.1, verbose=True))])\n",
    "svc = Pipeline([('Word2Vec Vectorizer', W2vVectorizer(glove)),\n",
    "                ('Support Vector Machine', SVC())])\n",
    "lr = Pipeline([('Word2Vec Vectorizer', W2vVectorizer(glove)),\n",
    "              ('Logistic Regression', LogisticRegression(C=0.1, solver='liblinear'))])\n",
    "sgd = Pipeline([('Vectorizer', W2vVectorizer(glove)),\n",
    "                ('Stochastic Gradient Descent', SGDClassifier(fit_intercept=False, early_stopping=True, alpha=0.01, loss='log'))])"
   ]
  },
  {
   "cell_type": "code",
   "execution_count": 94,
   "id": "f5728817-6f33-4f82-a244-9240e3f144fb",
   "metadata": {},
   "outputs": [],
   "source": [
    "models = [('Random Forest', rf),\n",
    "          ('Support Vector Machine', svc),\n",
    "          ('Logistic Regression', lr),\n",
    "          ('Stochastic Gradient Descent', sgd)]"
   ]
  },
  {
   "cell_type": "code",
   "execution_count": 95,
   "id": "a4788330-64ce-4c52-b0d1-764850c97a55",
   "metadata": {},
   "outputs": [
    {
     "name": "stderr",
     "output_type": "stream",
     "text": [
      "[Parallel(n_jobs=1)]: Using backend SequentialBackend with 1 concurrent workers.\n",
      "[Parallel(n_jobs=1)]: Done 100 out of 100 | elapsed:    5.3s finished\n",
      "[Parallel(n_jobs=1)]: Using backend SequentialBackend with 1 concurrent workers.\n",
      "[Parallel(n_jobs=1)]: Done 100 out of 100 | elapsed:    0.0s finished\n",
      "[Parallel(n_jobs=1)]: Using backend SequentialBackend with 1 concurrent workers.\n",
      "[Parallel(n_jobs=1)]: Done 100 out of 100 | elapsed:    4.9s finished\n",
      "[Parallel(n_jobs=1)]: Using backend SequentialBackend with 1 concurrent workers.\n",
      "[Parallel(n_jobs=1)]: Done 100 out of 100 | elapsed:    0.0s finished\n"
     ]
    }
   ],
   "source": [
    "scores = [(name, cross_val_score(model, data, target, cv=2).mean()) for name, model, in models]"
   ]
  },
  {
   "cell_type": "code",
   "execution_count": 96,
   "id": "5faad0bd-0b77-49ab-84be-aecec7e06245",
   "metadata": {},
   "outputs": [
    {
     "data": {
      "text/plain": [
       "[('Random Forest', 0.6447265625),\n",
       " ('Support Vector Machine', 0.64541015625),\n",
       " ('Logistic Regression', 0.6480468749999999),\n",
       " ('Stochastic Gradient Descent', 0.64658203125)]"
      ]
     },
     "execution_count": 96,
     "metadata": {},
     "output_type": "execute_result"
    }
   ],
   "source": [
    "scores"
   ]
  },
  {
   "cell_type": "code",
   "execution_count": null,
   "id": "4ba82737-6771-47db-8880-daa7184a2fa4",
   "metadata": {},
   "outputs": [],
   "source": []
  },
  {
   "cell_type": "code",
   "execution_count": null,
   "id": "cfd2838d-e347-4992-a3d8-44da0d186044",
   "metadata": {},
   "outputs": [],
   "source": []
  },
  {
   "cell_type": "code",
   "execution_count": null,
   "id": "f0f29c60-d7c5-4e53-8308-aef61ae24b9f",
   "metadata": {},
   "outputs": [],
   "source": []
  },
  {
   "cell_type": "code",
   "execution_count": null,
   "id": "9e7ccd8c-4b7e-4a45-bdbb-5a9bdc4d2eb4",
   "metadata": {},
   "outputs": [],
   "source": []
  },
  {
   "cell_type": "code",
   "execution_count": null,
   "id": "9c0f2a62-a2f6-4630-92a3-3cc106eec8c3",
   "metadata": {},
   "outputs": [],
   "source": []
  },
  {
   "cell_type": "code",
   "execution_count": null,
   "id": "3e247801-3287-462a-bed9-b417454b01d6",
   "metadata": {},
   "outputs": [],
   "source": []
  },
  {
   "cell_type": "code",
   "execution_count": null,
   "id": "76ba92a8-3c30-49de-8c84-e478e9954133",
   "metadata": {},
   "outputs": [],
   "source": []
  }
 ],
 "metadata": {
  "kernelspec": {
   "display_name": "nlp-env",
   "language": "python",
   "name": "nlp-env"
  },
  "language_info": {
   "codemirror_mode": {
    "name": "ipython",
    "version": 3
   },
   "file_extension": ".py",
   "mimetype": "text/x-python",
   "name": "python",
   "nbconvert_exporter": "python",
   "pygments_lexer": "ipython3",
   "version": "3.9.7"
  }
 },
 "nbformat": 4,
 "nbformat_minor": 5
}
