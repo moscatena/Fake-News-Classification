{
 "cells": [
  {
   "cell_type": "markdown",
   "id": "0acff683-3509-4661-a7b5-7a8faf8b029c",
   "metadata": {
    "jp-MarkdownHeadingCollapsed": true,
    "tags": []
   },
   "source": [
    "# Fake News Detection\n",
    "\n",
    "**Author**: Marcelo Scatena\n",
    "***\n",
    "March 2022"
   ]
  },
  {
   "cell_type": "markdown",
   "id": "7ed2b67b-88ae-43c3-9a69-37b74779ff79",
   "metadata": {
    "tags": []
   },
   "source": [
    "# Embedding Layer"
   ]
  },
  {
   "cell_type": "markdown",
   "id": "2699eebd-3d2c-49bb-b1a5-c56663dcaab4",
   "metadata": {},
   "source": [
    "This notebook uses Keras Embedding layer in the model to try to improve models accuracy. It allows us to convert each word into a fixed length vector of defined size. The only arguments it needs are the size of the vocabulary, the length of the vector for each word and the maximum length of a sequence. It's documentation can be found [here](https://keras.io/api/layers/core_layers/embedding/).<br />\n",
    "As with other embeding techniques, little preprocessing is needed, so the cleaning stage of the data is smaller than with categorical encoding."
   ]
  },
  {
   "cell_type": "code",
   "execution_count": 178,
   "id": "744c9438-bb2d-4443-a821-ca30f44661de",
   "metadata": {},
   "outputs": [],
   "source": [
    "import pandas as pd\n",
    "import numpy as np\n",
    "\n",
    "#Data Visualization \n",
    "import seaborn as sns\n",
    "import matplotlib.pyplot as plt\n",
    "%matplotlib inline\n",
    "\n",
    "# sklearn\n",
    "from sklearn.pipeline import Pipeline\n",
    "from sklearn.preprocessing import FunctionTransformer\n",
    "\n",
    "#Preprocessing\n",
    "import nltk\n",
    "from nltk.collocations import *\n",
    "from nltk import word_tokenize\n",
    "import string\n",
    "\n",
    "from collections import Counter\n",
    "\n",
    "from tensorflow.keras.preprocessing.text import Tokenizer\n",
    "from tensorflow.keras.preprocessing.sequence import pad_sequences\n",
    "from tensorflow.keras.layers import *\n",
    "from tensorflow.keras.models import *\n",
    "\n",
    "from tensorflow.keras import regularizers\n",
    "\n",
    "# Ignore any warnings\n",
    "import warnings;\n",
    "warnings.filterwarnings('ignore')"
   ]
  },
  {
   "cell_type": "code",
   "execution_count": 127,
   "id": "57d8ece4-a7d6-4d6c-ae47-d8fe65349615",
   "metadata": {},
   "outputs": [],
   "source": [
    "col_names = ['ID', 'label', 'statement', 'subject', 'speaker', 'speaker\\'s title', 'state', 'party', 'barely true', 'false', 'half true', 'mostly true', 'pants on fire', 'context', 'justification']\n",
    "raw_train = pd.read_csv('data/train2.tsv', sep='\\t', names=col_names)\n",
    "raw_test = pd.read_csv('data/test2.tsv', sep='\\t', names=col_names)\n",
    "raw_val = pd.read_csv('data/val2.tsv', sep='\\t', names=col_names)"
   ]
  },
  {
   "cell_type": "code",
   "execution_count": 129,
   "id": "08ebc1c3-d86e-4dc0-993f-75e4b5fa40c7",
   "metadata": {},
   "outputs": [],
   "source": [
    "def drop_na(df):\n",
    "    df = df.dropna(subset=['statement'], axis=0)\n",
    "    return df\n",
    "\n",
    "def drop_duplicated(df):\n",
    "    df = df.drop_duplicates()\n",
    "    return df\n",
    "\n",
    "def label(df):\n",
    "    df['label'] = df['label'].map({'true': 1,\n",
    "                                     'mostly-true': 1,\n",
    "                                     'half-true': 1,\n",
    "                                     'false': 0,\n",
    "                                     'barely-true': 0,\n",
    "                                     'pants-fire': 0})\n",
    "    return df\n",
    "\n",
    "def drop_features(df):\n",
    "    df = df[['statement','label']]\n",
    "    return df\n",
    "\n",
    "def reset_index(df):\n",
    "    df['statement'] = df['statement'].apply(lambda x: x.lower())\n",
    "    return df\n",
    "\n",
    "def remove_punctuation(df):\n",
    "    df['statement'] = df['statement'].apply(lambda x: x.translate(str.maketrans(\"\", \"\", string.punctuation)))\n",
    "    return df\n",
    "\n",
    "def lower_case(df):\n",
    "    df = df.reset_index(drop=True)\n",
    "    return df\n",
    "\n",
    "def tokenize_(df):\n",
    "    df['statement'] = df['statement'].map(word_tokenize)\n",
    "    return df"
   ]
  },
  {
   "cell_type": "code",
   "execution_count": 130,
   "id": "5814e2f7-cc20-4d94-95ed-e966ef3b47c9",
   "metadata": {},
   "outputs": [],
   "source": [
    "cleaning_pipeline = Pipeline(steps=[\n",
    "    ('drop_na', FunctionTransformer(drop_na)),\n",
    "    ('drop_duplicated', FunctionTransformer(drop_duplicated)),\n",
    "    ('label', FunctionTransformer(label)),\n",
    "    ('drop_features', FunctionTransformer(drop_features)),\n",
    "    ('reset_index', FunctionTransformer(reset_index)),\n",
    "    ('lower_case', FunctionTransformer(lower_case)),\n",
    "    ('remove_punctuation', FunctionTransformer(remove_punctuation)),\n",
    "    ('tokenize_', FunctionTransformer(tokenize_))\n",
    "])"
   ]
  },
  {
   "cell_type": "code",
   "execution_count": 131,
   "id": "c4d6762d-6f77-4236-9fd6-79bc87c2d9fb",
   "metadata": {},
   "outputs": [],
   "source": [
    "df_train_clean = cleaning_pipeline.fit_transform(raw_train)\n",
    "df_val_clean = cleaning_pipeline.transform(raw_val)\n",
    "df_test_clean = cleaning_pipeline.transform(raw_test)"
   ]
  },
  {
   "cell_type": "code",
   "execution_count": 132,
   "id": "3cf06684-2b32-491c-ab71-37b6bd6be465",
   "metadata": {},
   "outputs": [],
   "source": [
    "X_train_clean = df_train_clean['statement']\n",
    "y_train_clean = df_train_clean['label']\n",
    "X_val_clean = df_val_clean['statement']\n",
    "y_val_clean = df_val_clean['label']\n",
    "X_test_clean = df_test_clean['statement']\n",
    "y_test_clean = df_test_clean['label']"
   ]
  },
  {
   "cell_type": "code",
   "execution_count": 134,
   "id": "1abbcfe3-018e-481a-8fda-477e7543d3c9",
   "metadata": {},
   "outputs": [
    {
     "data": {
      "text/html": [
       "<div>\n",
       "<style scoped>\n",
       "    .dataframe tbody tr th:only-of-type {\n",
       "        vertical-align: middle;\n",
       "    }\n",
       "\n",
       "    .dataframe tbody tr th {\n",
       "        vertical-align: top;\n",
       "    }\n",
       "\n",
       "    .dataframe thead th {\n",
       "        text-align: right;\n",
       "    }\n",
       "</style>\n",
       "<table border=\"1\" class=\"dataframe\">\n",
       "  <thead>\n",
       "    <tr style=\"text-align: right;\">\n",
       "      <th></th>\n",
       "      <th>statement</th>\n",
       "      <th>label</th>\n",
       "    </tr>\n",
       "  </thead>\n",
       "  <tbody>\n",
       "    <tr>\n",
       "      <th>0</th>\n",
       "      <td>[says, the, annies, list, political, group, su...</td>\n",
       "      <td>0</td>\n",
       "    </tr>\n",
       "    <tr>\n",
       "      <th>1</th>\n",
       "      <td>[when, did, the, decline, of, coal, start, it,...</td>\n",
       "      <td>1</td>\n",
       "    </tr>\n",
       "    <tr>\n",
       "      <th>2</th>\n",
       "      <td>[hillary, clinton, agrees, with, john, mccain,...</td>\n",
       "      <td>1</td>\n",
       "    </tr>\n",
       "    <tr>\n",
       "      <th>3</th>\n",
       "      <td>[health, care, reform, legislation, is, likely...</td>\n",
       "      <td>0</td>\n",
       "    </tr>\n",
       "    <tr>\n",
       "      <th>4</th>\n",
       "      <td>[the, economic, turnaround, started, at, the, ...</td>\n",
       "      <td>1</td>\n",
       "    </tr>\n",
       "  </tbody>\n",
       "</table>\n",
       "</div>"
      ],
      "text/plain": [
       "                                           statement  label\n",
       "0  [says, the, annies, list, political, group, su...      0\n",
       "1  [when, did, the, decline, of, coal, start, it,...      1\n",
       "2  [hillary, clinton, agrees, with, john, mccain,...      1\n",
       "3  [health, care, reform, legislation, is, likely...      0\n",
       "4  [the, economic, turnaround, started, at, the, ...      1"
      ]
     },
     "execution_count": 134,
     "metadata": {},
     "output_type": "execute_result"
    }
   ],
   "source": [
    "df_train_clean.head()"
   ]
  },
  {
   "cell_type": "code",
   "execution_count": 146,
   "id": "6bfc9540-3505-4257-a421-d429294c2707",
   "metadata": {},
   "outputs": [
    {
     "name": "stdout",
     "output_type": "stream",
     "text": [
      "13453\n"
     ]
    }
   ],
   "source": [
    "# Count unique words\n",
    "def counter_word(text_col):\n",
    "    count = Counter()\n",
    "    for text in text_col.values:\n",
    "        for word in ' '.join(text).split():\n",
    "            count[word] += 1\n",
    "    return count\n",
    "counter = counter_word(df_train_clean['statement'])\n",
    "num_unique_words = len(counter)\n",
    "print(num_unique_words)"
   ]
  },
  {
   "cell_type": "code",
   "execution_count": 137,
   "id": "d544c515-c9b9-4f20-a3e4-1d57763f8035",
   "metadata": {},
   "outputs": [],
   "source": [
    "# Transform Series into Numpy arrays\n",
    "train_text = df_train_clean['statement'].to_numpy()\n",
    "train_labels = df_train_clean['label'].to_numpy()\n",
    "val_text = df_val_clean['statement'].to_numpy()\n",
    "val_labels = df_val_clean['label'].to_numpy()\n",
    "test_text = df_test_clean['statement'].to_numpy()\n",
    "test_labels = df_test_clean['label'].to_numpy()"
   ]
  },
  {
   "cell_type": "code",
   "execution_count": 138,
   "id": "b725d7e1-117b-4c9f-8f8e-7b3a16f09ea6",
   "metadata": {},
   "outputs": [
    {
     "data": {
      "text/plain": [
       "((10240,), (1284,), (1267,))"
      ]
     },
     "execution_count": 138,
     "metadata": {},
     "output_type": "execute_result"
    }
   ],
   "source": [
    "train_text.shape, val_text.shape, test_text.shape"
   ]
  },
  {
   "cell_type": "code",
   "execution_count": 149,
   "id": "2e29ff4e-9774-47f4-9698-a4e637acaef1",
   "metadata": {},
   "outputs": [],
   "source": [
    "# Tokenize\n",
    "# Vectorize a corpus turning text into sequence of integers\n",
    "tokenizer = Tokenizer(num_words=num_unique_words)\n",
    "tokenizer.fit_on_texts(train_text)"
   ]
  },
  {
   "cell_type": "code",
   "execution_count": 150,
   "id": "f1067c81-278d-4051-93b7-7425070aa408",
   "metadata": {},
   "outputs": [],
   "source": [
    "# Gives value for every word (key) in a dictionary\n",
    "word_index = tokenizer.word_index"
   ]
  },
  {
   "cell_type": "code",
   "execution_count": 151,
   "id": "7fa4d746-f41e-46de-85a3-29ce97b70131",
   "metadata": {},
   "outputs": [
    {
     "data": {
      "text/plain": [
       "[('the', 1), ('in', 2), ('of', 3), ('to', 4), ('a', 5)]"
      ]
     },
     "execution_count": 151,
     "metadata": {},
     "output_type": "execute_result"
    }
   ],
   "source": [
    "list(word_index.items())[:5]"
   ]
  },
  {
   "cell_type": "code",
   "execution_count": 152,
   "id": "41b81936-913e-4ddd-b946-f4eaac722dfe",
   "metadata": {},
   "outputs": [],
   "source": [
    "# Transform word sentences in lists of numbers\n",
    "train_sequences = tokenizer.texts_to_sequences(train_text)\n",
    "val_sequences = tokenizer.texts_to_sequences(val_text)\n",
    "test_sequences = tokenizer.texts_to_sequences(test_text)"
   ]
  },
  {
   "cell_type": "code",
   "execution_count": 153,
   "id": "2d759d0a-55d5-4553-9071-6efd24817f59",
   "metadata": {},
   "outputs": [
    {
     "data": {
      "text/plain": [
       "[[7, 1, 7130, 1111, 508, 596, 364, 5155, 558, 11, 1563],\n",
       " [60,\n",
       "  152,\n",
       "  1,\n",
       "  2069,\n",
       "  3,\n",
       "  1062,\n",
       "  907,\n",
       "  23,\n",
       "  597,\n",
       "  60,\n",
       "  1112,\n",
       "  304,\n",
       "  173,\n",
       "  233,\n",
       "  9,\n",
       "  597,\n",
       "  4,\n",
       "  1792,\n",
       "  2,\n",
       "  33,\n",
       "  294,\n",
       "  598,\n",
       "  1063,\n",
       "  166],\n",
       " [120,\n",
       "  96,\n",
       "  3528,\n",
       "  24,\n",
       "  183,\n",
       "  251,\n",
       "  20,\n",
       "  321,\n",
       "  4,\n",
       "  327,\n",
       "  294,\n",
       "  167,\n",
       "  1,\n",
       "  1064,\n",
       "  3,\n",
       "  1,\n",
       "  3529,\n",
       "  11,\n",
       "  381],\n",
       " [31, 43, 258, 281, 10, 634, 4, 646, 432, 647, 389, 4142],\n",
       " [1, 311, 4143, 597, 37, 1, 401, 3, 164, 617]]"
      ]
     },
     "execution_count": 153,
     "metadata": {},
     "output_type": "execute_result"
    }
   ],
   "source": [
    "train_sequences[:5]"
   ]
  },
  {
   "cell_type": "code",
   "execution_count": 155,
   "id": "75146a0d-558a-4e84-91f4-ae0209642ae9",
   "metadata": {},
   "outputs": [
    {
     "data": {
      "text/plain": [
       "((10240, 15), (1284, 15), (1267, 15))"
      ]
     },
     "execution_count": 155,
     "metadata": {},
     "output_type": "execute_result"
    }
   ],
   "source": [
    "# Pad the sequences to have the same length\n",
    "# Max number of words in a sequence\n",
    "max_length = 15\n",
    "\n",
    "train_padded = pad_sequences(train_sequences, maxlen=max_length, padding='post', truncating='post')\n",
    "val_padded = pad_sequences(val_sequences, maxlen=max_length, padding='post', truncating='post')\n",
    "test_padded = pad_sequences(test_sequences, maxlen=max_length, padding='post', truncating='post')\n",
    "\n",
    "train_padded.shape, val_padded.shape, test_padded.shape"
   ]
  },
  {
   "cell_type": "code",
   "execution_count": 156,
   "id": "61da8179-c30f-4302-a155-198baeb65877",
   "metadata": {},
   "outputs": [
    {
     "data": {
      "text/plain": [
       "array([[   7,    1, 7130, 1111,  508,  596,  364, 5155,  558,   11, 1563,\n",
       "           0,    0,    0,    0],\n",
       "       [  60,  152,    1, 2069,    3, 1062,  907,   23,  597,   60, 1112,\n",
       "         304,  173,  233,    9],\n",
       "       [ 120,   96, 3528,   24,  183,  251,   20,  321,    4,  327,  294,\n",
       "         167,    1, 1064,    3],\n",
       "       [  31,   43,  258,  281,   10,  634,    4,  646,  432,  647,  389,\n",
       "        4142,    0,    0,    0],\n",
       "       [   1,  311, 4143,  597,   37,    1,  401,    3,  164,  617,    0,\n",
       "           0,    0,    0,    0]])"
      ]
     },
     "execution_count": 156,
     "metadata": {},
     "output_type": "execute_result"
    }
   ],
   "source": [
    "train_padded[:5]"
   ]
  },
  {
   "cell_type": "code",
   "execution_count": 157,
   "id": "4d92da75-3548-491b-b14b-1224a8464010",
   "metadata": {},
   "outputs": [],
   "source": [
    "# Check reversing the indicies\n",
    "# flip key, value\n",
    "reverse_word_index = dict([(idx, word) for (word, idx) in word_index.items()])"
   ]
  },
  {
   "cell_type": "code",
   "execution_count": 158,
   "id": "9d9b1e87-3bab-491f-a3aa-ebdf0cf708fc",
   "metadata": {},
   "outputs": [],
   "source": [
    "def decode(sequence):\n",
    "    return ' '.join([reverse_word_index.get(idx, '?') for idx in sequence])"
   ]
  },
  {
   "cell_type": "code",
   "execution_count": 159,
   "id": "1bd20f4c-0f38-4749-84bc-4a79b501b9d7",
   "metadata": {},
   "outputs": [],
   "source": [
    "decoded_text = decode(train_sequences[10])"
   ]
  },
  {
   "cell_type": "code",
   "execution_count": 160,
   "id": "8a1a8ca7-d8ae-4d93-a316-6cad12eb9fa1",
   "metadata": {},
   "outputs": [
    {
     "name": "stdout",
     "output_type": "stream",
     "text": [
      "[8, 1, 97, 102, 2, 180, 1, 1114, 3, 1, 131, 872, 159, 1795, 10, 1345, 16, 1, 2072, 159, 1795]\n"
     ]
    },
    {
     "data": {
      "text/plain": [
       "'for the first time in history the share of the national popular vote margin is smaller than the latino vote margin'"
      ]
     },
     "execution_count": 160,
     "metadata": {},
     "output_type": "execute_result"
    }
   ],
   "source": [
    "print(train_sequences[10])\n",
    "decoded_text"
   ]
  },
  {
   "cell_type": "code",
   "execution_count": 162,
   "id": "de2cecd0-2093-4012-8201-b057fd2602c3",
   "metadata": {},
   "outputs": [],
   "source": [
    "# Ohe label values\n",
    "labels_train = np.zeros((len(train_labels), train_labels.max()+1))\n",
    "labels_val = np.zeros((len(val_labels), val_labels.max()+1))\n",
    "labels_test = np.zeros((len(test_labels), val_labels.max()+1))\n",
    "\n",
    "labels_train[np.arange(len(train_labels)), train_labels] = 1\n",
    "labels_val[np.arange(len(val_labels)), val_labels] = 1\n",
    "labels_test[np.arange(len(test_labels)), test_labels] = 1"
   ]
  },
  {
   "cell_type": "markdown",
   "id": "864ed0e4-e504-4ac9-bdb3-44ec0c739a92",
   "metadata": {},
   "source": [
    "## Neural Networks"
   ]
  },
  {
   "cell_type": "code",
   "execution_count": 171,
   "id": "3e2472a5-23dd-4430-8407-f823c3e648da",
   "metadata": {},
   "outputs": [
    {
     "name": "stdout",
     "output_type": "stream",
     "text": [
      "Model: \"model_3\"\n",
      "_________________________________________________________________\n",
      " Layer (type)                Output Shape              Param #   \n",
      "=================================================================\n",
      " input_4 (InputLayer)        [(None, 15)]              0         \n",
      "                                                                 \n",
      " embedding_18 (Embedding)    (None, 15, 100)           12443000  \n",
      "                                                                 \n",
      " lstm_16 (LSTM)              (None, 100)               80400     \n",
      "                                                                 \n",
      " dense_21 (Dense)            (None, 2)                 202       \n",
      "                                                                 \n",
      "=================================================================\n",
      "Total params: 12,523,602\n",
      "Trainable params: 80,602\n",
      "Non-trainable params: 12,443,000\n",
      "_________________________________________________________________\n"
     ]
    }
   ],
   "source": [
    "input_ = Input(shape=(15)) # shape from train_data\n",
    "embedded = Embedding(len(vocabulary_dict)*10, 100, input_length=len(vocabulary_dict))(input_)\n",
    "lstm = LSTM(100)(embedded)\n",
    "dense = Dense(2, activation='sigmoid')(lstm) \n",
    "\n",
    "model_keras_tok_1 = Model(input_, dense)\n",
    "model_keras_tok_1.layers[1].trainable = False\n",
    "model_keras_tok_1.summary()"
   ]
  },
  {
   "cell_type": "code",
   "execution_count": 172,
   "id": "fc8076e3-489b-4cbe-b987-550114138553",
   "metadata": {},
   "outputs": [],
   "source": [
    "loss = tf.keras.losses.BinaryCrossentropy()\n",
    "optim = tf.keras.optimizers.Adam()\n",
    "metrics = ['accuracy']\n",
    "\n",
    "model_keras_tok_1.compile(loss=loss, optimizer=optim, metrics=metrics)"
   ]
  },
  {
   "cell_type": "code",
   "execution_count": 173,
   "id": "0e38a90a-8ad4-4852-9a6d-226cbcf5fda4",
   "metadata": {},
   "outputs": [
    {
     "name": "stdout",
     "output_type": "stream",
     "text": [
      "Epoch 1/30\n",
      "320/320 - 8s - loss: 0.6840 - accuracy: 0.5588 - val_loss: 0.7272 - val_accuracy: 0.5428 - 8s/epoch - 26ms/step\n",
      "Epoch 2/30\n",
      "320/320 - 3s - loss: 0.6778 - accuracy: 0.5752 - val_loss: 0.6831 - val_accuracy: 0.5498 - 3s/epoch - 9ms/step\n",
      "Epoch 3/30\n",
      "320/320 - 3s - loss: 0.6738 - accuracy: 0.5842 - val_loss: 0.6768 - val_accuracy: 0.5724 - 3s/epoch - 9ms/step\n",
      "Epoch 4/30\n",
      "320/320 - 3s - loss: 0.6706 - accuracy: 0.5827 - val_loss: 0.6716 - val_accuracy: 0.5857 - 3s/epoch - 9ms/step\n",
      "Epoch 5/30\n",
      "320/320 - 3s - loss: 0.6682 - accuracy: 0.5916 - val_loss: 0.6766 - val_accuracy: 0.5701 - 3s/epoch - 9ms/step\n",
      "Epoch 6/30\n",
      "320/320 - 3s - loss: 0.6653 - accuracy: 0.5951 - val_loss: 0.6789 - val_accuracy: 0.5670 - 3s/epoch - 9ms/step\n",
      "Epoch 7/30\n",
      "320/320 - 3s - loss: 0.6634 - accuracy: 0.5979 - val_loss: 0.6840 - val_accuracy: 0.5623 - 3s/epoch - 10ms/step\n",
      "Epoch 8/30\n",
      "320/320 - 3s - loss: 0.6612 - accuracy: 0.6019 - val_loss: 0.6788 - val_accuracy: 0.5631 - 3s/epoch - 9ms/step\n",
      "Epoch 9/30\n",
      "320/320 - 3s - loss: 0.6593 - accuracy: 0.6016 - val_loss: 0.6727 - val_accuracy: 0.5748 - 3s/epoch - 10ms/step\n",
      "Epoch 10/30\n",
      "320/320 - 3s - loss: 0.6578 - accuracy: 0.6048 - val_loss: 0.6776 - val_accuracy: 0.5787 - 3s/epoch - 9ms/step\n",
      "Epoch 11/30\n",
      "320/320 - 3s - loss: 0.6558 - accuracy: 0.6112 - val_loss: 0.6751 - val_accuracy: 0.5771 - 3s/epoch - 9ms/step\n",
      "Epoch 12/30\n",
      "320/320 - 3s - loss: 0.6531 - accuracy: 0.6131 - val_loss: 0.6770 - val_accuracy: 0.5779 - 3s/epoch - 9ms/step\n",
      "Epoch 13/30\n",
      "320/320 - 3s - loss: 0.6518 - accuracy: 0.6141 - val_loss: 0.6801 - val_accuracy: 0.5779 - 3s/epoch - 8ms/step\n",
      "Epoch 14/30\n",
      "320/320 - 3s - loss: 0.6472 - accuracy: 0.6195 - val_loss: 0.6931 - val_accuracy: 0.5670 - 3s/epoch - 10ms/step\n",
      "Epoch 15/30\n",
      "320/320 - 3s - loss: 0.6459 - accuracy: 0.6229 - val_loss: 0.6887 - val_accuracy: 0.5623 - 3s/epoch - 9ms/step\n",
      "Epoch 16/30\n",
      "320/320 - 3s - loss: 0.6422 - accuracy: 0.6271 - val_loss: 0.6883 - val_accuracy: 0.5654 - 3s/epoch - 9ms/step\n",
      "Epoch 17/30\n",
      "320/320 - 3s - loss: 0.6400 - accuracy: 0.6257 - val_loss: 0.6968 - val_accuracy: 0.5615 - 3s/epoch - 9ms/step\n",
      "Epoch 18/30\n",
      "320/320 - 3s - loss: 0.6372 - accuracy: 0.6300 - val_loss: 0.6982 - val_accuracy: 0.5576 - 3s/epoch - 10ms/step\n",
      "Epoch 19/30\n",
      "320/320 - 3s - loss: 0.6318 - accuracy: 0.6382 - val_loss: 0.6943 - val_accuracy: 0.5545 - 3s/epoch - 10ms/step\n",
      "Epoch 20/30\n",
      "320/320 - 3s - loss: 0.6269 - accuracy: 0.6461 - val_loss: 0.6945 - val_accuracy: 0.5506 - 3s/epoch - 9ms/step\n",
      "Epoch 21/30\n",
      "320/320 - 3s - loss: 0.6218 - accuracy: 0.6473 - val_loss: 0.6993 - val_accuracy: 0.5498 - 3s/epoch - 9ms/step\n",
      "Epoch 22/30\n",
      "320/320 - 3s - loss: 0.6168 - accuracy: 0.6530 - val_loss: 0.7039 - val_accuracy: 0.5623 - 3s/epoch - 10ms/step\n",
      "Epoch 23/30\n",
      "320/320 - 3s - loss: 0.6097 - accuracy: 0.6555 - val_loss: 0.7367 - val_accuracy: 0.5421 - 3s/epoch - 9ms/step\n",
      "Epoch 24/30\n",
      "320/320 - 3s - loss: 0.6033 - accuracy: 0.6671 - val_loss: 0.7438 - val_accuracy: 0.5389 - 3s/epoch - 9ms/step\n",
      "Epoch 25/30\n",
      "320/320 - 3s - loss: 0.5968 - accuracy: 0.6688 - val_loss: 0.7359 - val_accuracy: 0.5545 - 3s/epoch - 9ms/step\n",
      "Epoch 26/30\n",
      "320/320 - 3s - loss: 0.5877 - accuracy: 0.6771 - val_loss: 0.7708 - val_accuracy: 0.5506 - 3s/epoch - 9ms/step\n",
      "Epoch 27/30\n",
      "320/320 - 3s - loss: 0.5806 - accuracy: 0.6767 - val_loss: 0.7439 - val_accuracy: 0.5607 - 3s/epoch - 9ms/step\n",
      "Epoch 28/30\n",
      "320/320 - 3s - loss: 0.5701 - accuracy: 0.6889 - val_loss: 0.7639 - val_accuracy: 0.5436 - 3s/epoch - 9ms/step\n",
      "Epoch 29/30\n",
      "320/320 - 3s - loss: 0.5623 - accuracy: 0.6971 - val_loss: 0.7658 - val_accuracy: 0.5413 - 3s/epoch - 9ms/step\n",
      "Epoch 30/30\n",
      "320/320 - 3s - loss: 0.5530 - accuracy: 0.6959 - val_loss: 0.8069 - val_accuracy: 0.5382 - 3s/epoch - 9ms/step\n"
     ]
    }
   ],
   "source": [
    "history_keras_tok_1 = model_keras_tok_1.fit(train_padded, labels_train, epochs=30, validation_data=(val_padded, labels_val), verbose=2)"
   ]
  },
  {
   "cell_type": "code",
   "execution_count": 174,
   "id": "d330dc75-5c36-44a6-92fb-312785dedb0a",
   "metadata": {},
   "outputs": [
    {
     "data": {
      "image/png": "[encoded data removed]",
      "text/plain": [
       "<Figure size 432x288 with 1 Axes>"
      ]
     },
     "metadata": {
      "needs_background": "light"
     },
     "output_type": "display_data"
    }
   ],
   "source": [
    "plt.plot(history_keras_tok_1.history['loss'], label='training data')\n",
    "plt.plot(history_keras_tok_1.history['val_loss'], label='validation data')\n",
    "plt.title('Loss for Text Classification')\n",
    "plt.ylabel('Loss Value')\n",
    "plt.xlabel('No. epoch')\n",
    "plt.legend(loc='upper right')\n",
    "plt.show()"
   ]
  },
  {
   "cell_type": "code",
   "execution_count": 175,
   "id": "4acfe2e0-889e-4f8f-8a65-744dc98a2a42",
   "metadata": {},
   "outputs": [
    {
     "data": {
      "image/png": "[encoded data removed]",
      "text/plain": [
       "<Figure size 432x288 with 1 Axes>"
      ]
     },
     "metadata": {
      "needs_background": "light"
     },
     "output_type": "display_data"
    }
   ],
   "source": [
    "plt.plot(history_keras_tok_1.history['accuracy'], label='training data')\n",
    "plt.plot(history_keras_tok_1.history['val_accuracy'], label='validation data')\n",
    "plt.title('Categorical Accuracy for Text Classification')\n",
    "plt.ylabel('Categorical Accuracy Value')\n",
    "plt.xlabel('No. epoch')\n",
    "plt.legend(loc='upper left')\n",
    "plt.show()"
   ]
  },
  {
   "cell_type": "code",
   "execution_count": 179,
   "id": "a89c2661-cdcb-4493-9953-2c98ce3a60d7",
   "metadata": {},
   "outputs": [],
   "source": [
    "input_2 = Input(shape=(15))\n",
    "embedded_2 = Embedding(len(vocabulary_dict)*10, 100, input_length=len(vocabulary_dict))(input_2)\n",
    "lstm_2 = LSTM(100)(embedded_2)\n",
    "reg_2 = Dense(100, activation='relu', kernel_regularizer=regularizers.l2(0.05))(lstm_2)\n",
    "dense_2 = Dense(2, activation='sigmoid')(reg_2) "
   ]
  },
  {
   "cell_type": "code",
   "execution_count": 180,
   "id": "0c07cf09-0cda-489d-8d12-d94bb4b1309d",
   "metadata": {},
   "outputs": [
    {
     "name": "stdout",
     "output_type": "stream",
     "text": [
      "Model: \"model_4\"\n",
      "_________________________________________________________________\n",
      " Layer (type)                Output Shape              Param #   \n",
      "=================================================================\n",
      " input_6 (InputLayer)        [(None, 15)]              0         \n",
      "                                                                 \n",
      " embedding_20 (Embedding)    (None, 15, 100)           12443000  \n",
      "                                                                 \n",
      " lstm_18 (LSTM)              (None, 100)               80400     \n",
      "                                                                 \n",
      " dense_22 (Dense)            (None, 100)               10100     \n",
      "                                                                 \n",
      " dense_23 (Dense)            (None, 2)                 202       \n",
      "                                                                 \n",
      "=================================================================\n",
      "Total params: 12,533,702\n",
      "Trainable params: 90,702\n",
      "Non-trainable params: 12,443,000\n",
      "_________________________________________________________________\n"
     ]
    }
   ],
   "source": [
    "model_keras_tok_2 = Model(input_2, dense_2)\n",
    "model_keras_tok_2.layers[1].trainable = False\n",
    "model_keras_tok_2.summary()"
   ]
  },
  {
   "cell_type": "code",
   "execution_count": 181,
   "id": "4ece5692-d5fd-49c8-8780-9256efcafdd1",
   "metadata": {},
   "outputs": [],
   "source": [
    "model_keras_tok_2.compile(loss=loss, optimizer=optim, metrics=metrics)"
   ]
  },
  {
   "cell_type": "code",
   "execution_count": 182,
   "id": "19ad349c-bfb6-40fb-b214-987cfe1156e1",
   "metadata": {},
   "outputs": [
    {
     "name": "stdout",
     "output_type": "stream",
     "text": [
      "Epoch 1/30\n",
      "320/320 - 6s - loss: 0.8285 - accuracy: 0.5602 - val_loss: 0.7055 - val_accuracy: 0.5202 - 6s/epoch - 20ms/step\n",
      "Epoch 2/30\n",
      "320/320 - 3s - loss: 0.6858 - accuracy: 0.5617 - val_loss: 0.6951 - val_accuracy: 0.5202 - 3s/epoch - 8ms/step\n",
      "Epoch 3/30\n",
      "320/320 - 3s - loss: 0.6873 - accuracy: 0.5617 - val_loss: 0.6945 - val_accuracy: 0.5202 - 3s/epoch - 9ms/step\n",
      "Epoch 4/30\n",
      "320/320 - 3s - loss: 0.6865 - accuracy: 0.5617 - val_loss: 0.6944 - val_accuracy: 0.5202 - 3s/epoch - 8ms/step\n",
      "Epoch 5/30\n",
      "320/320 - 3s - loss: 0.6860 - accuracy: 0.5617 - val_loss: 0.6982 - val_accuracy: 0.5202 - 3s/epoch - 8ms/step\n",
      "Epoch 6/30\n",
      "320/320 - 3s - loss: 0.6850 - accuracy: 0.5617 - val_loss: 0.7007 - val_accuracy: 0.5202 - 3s/epoch - 8ms/step\n",
      "Epoch 7/30\n",
      "320/320 - 3s - loss: 0.6851 - accuracy: 0.5617 - val_loss: 0.6951 - val_accuracy: 0.5202 - 3s/epoch - 9ms/step\n",
      "Epoch 8/30\n",
      "320/320 - 3s - loss: 0.6839 - accuracy: 0.5617 - val_loss: 0.6952 - val_accuracy: 0.5202 - 3s/epoch - 8ms/step\n",
      "Epoch 9/30\n",
      "320/320 - 3s - loss: 0.6843 - accuracy: 0.5617 - val_loss: 0.7178 - val_accuracy: 0.5202 - 3s/epoch - 8ms/step\n",
      "Epoch 10/30\n",
      "320/320 - 3s - loss: 0.6843 - accuracy: 0.5617 - val_loss: 0.6942 - val_accuracy: 0.5202 - 3s/epoch - 8ms/step\n",
      "Epoch 11/30\n",
      "320/320 - 3s - loss: 0.6803 - accuracy: 0.5617 - val_loss: 0.6923 - val_accuracy: 0.5202 - 3s/epoch - 8ms/step\n",
      "Epoch 12/30\n",
      "320/320 - 3s - loss: 0.6793 - accuracy: 0.5617 - val_loss: 0.6919 - val_accuracy: 0.5202 - 3s/epoch - 8ms/step\n",
      "Epoch 13/30\n",
      "320/320 - 3s - loss: 0.6780 - accuracy: 0.5617 - val_loss: 0.6880 - val_accuracy: 0.5202 - 3s/epoch - 8ms/step\n",
      "Epoch 14/30\n",
      "320/320 - 3s - loss: 0.6763 - accuracy: 0.5617 - val_loss: 0.6913 - val_accuracy: 0.5202 - 3s/epoch - 8ms/step\n",
      "Epoch 15/30\n",
      "320/320 - 3s - loss: 0.6728 - accuracy: 0.5759 - val_loss: 0.6904 - val_accuracy: 0.5685 - 3s/epoch - 8ms/step\n",
      "Epoch 16/30\n",
      "320/320 - 3s - loss: 0.6736 - accuracy: 0.5693 - val_loss: 0.6931 - val_accuracy: 0.5467 - 3s/epoch - 8ms/step\n",
      "Epoch 17/30\n",
      "320/320 - 3s - loss: 0.6695 - accuracy: 0.5809 - val_loss: 0.6830 - val_accuracy: 0.5654 - 3s/epoch - 8ms/step\n",
      "Epoch 18/30\n",
      "320/320 - 3s - loss: 0.6686 - accuracy: 0.5834 - val_loss: 0.6872 - val_accuracy: 0.5600 - 3s/epoch - 8ms/step\n",
      "Epoch 19/30\n",
      "320/320 - 3s - loss: 0.6665 - accuracy: 0.5853 - val_loss: 0.6920 - val_accuracy: 0.5763 - 3s/epoch - 8ms/step\n",
      "Epoch 20/30\n",
      "320/320 - 3s - loss: 0.6654 - accuracy: 0.5916 - val_loss: 0.6881 - val_accuracy: 0.5646 - 3s/epoch - 9ms/step\n",
      "Epoch 21/30\n",
      "320/320 - 3s - loss: 0.6618 - accuracy: 0.5954 - val_loss: 0.6888 - val_accuracy: 0.5600 - 3s/epoch - 8ms/step\n",
      "Epoch 22/30\n",
      "320/320 - 3s - loss: 0.6597 - accuracy: 0.5993 - val_loss: 0.6946 - val_accuracy: 0.5771 - 3s/epoch - 8ms/step\n",
      "Epoch 23/30\n",
      "320/320 - 3s - loss: 0.6577 - accuracy: 0.6071 - val_loss: 0.6860 - val_accuracy: 0.5771 - 3s/epoch - 8ms/step\n",
      "Epoch 24/30\n",
      "320/320 - 3s - loss: 0.6538 - accuracy: 0.6131 - val_loss: 0.6964 - val_accuracy: 0.5615 - 3s/epoch - 8ms/step\n",
      "Epoch 25/30\n",
      "320/320 - 3s - loss: 0.6535 - accuracy: 0.6066 - val_loss: 0.6812 - val_accuracy: 0.5787 - 3s/epoch - 8ms/step\n",
      "Epoch 26/30\n",
      "320/320 - 3s - loss: 0.6494 - accuracy: 0.6173 - val_loss: 0.6932 - val_accuracy: 0.5794 - 3s/epoch - 9ms/step\n",
      "Epoch 27/30\n",
      "320/320 - 3s - loss: 0.6490 - accuracy: 0.6182 - val_loss: 0.6878 - val_accuracy: 0.5639 - 3s/epoch - 8ms/step\n",
      "Epoch 28/30\n",
      "320/320 - 3s - loss: 0.6460 - accuracy: 0.6229 - val_loss: 0.6872 - val_accuracy: 0.5709 - 3s/epoch - 9ms/step\n",
      "Epoch 29/30\n",
      "320/320 - 3s - loss: 0.6424 - accuracy: 0.6232 - val_loss: 0.6997 - val_accuracy: 0.5701 - 3s/epoch - 8ms/step\n",
      "Epoch 30/30\n",
      "320/320 - 3s - loss: 0.6404 - accuracy: 0.6296 - val_loss: 0.7091 - val_accuracy: 0.5607 - 3s/epoch - 9ms/step\n"
     ]
    }
   ],
   "source": [
    "history_keras_tok_2 = model_keras_tok_2.fit(train_padded, labels_train, epochs=30, validation_data=(val_padded, labels_val), verbose=2)"
   ]
  },
  {
   "cell_type": "code",
   "execution_count": 183,
   "id": "576b1ccd-8820-42ae-8d5e-baf80089f3c1",
   "metadata": {},
   "outputs": [
    {
     "data": {
      "image/png": "[encoded data removed]",
      "text/plain": [
       "<Figure size 432x288 with 1 Axes>"
      ]
     },
     "metadata": {
      "needs_background": "light"
     },
     "output_type": "display_data"
    }
   ],
   "source": [
    "plt.plot(history_keras_tok_2.history['loss'], label='training data')\n",
    "plt.plot(history_keras_tok_2.history['val_loss'], label='validation data')\n",
    "plt.title('Loss for Text Classification')\n",
    "plt.ylabel('Loss Value')\n",
    "plt.xlabel('No. epoch')\n",
    "plt.legend(loc='upper right')\n",
    "plt.show()"
   ]
  },
  {
   "cell_type": "code",
   "execution_count": 184,
   "id": "4867d133-32e9-4f91-bcb0-43b9bff19861",
   "metadata": {},
   "outputs": [
    {
     "data": {
      "image/png": "[encoded data removed]",
      "text/plain": [
       "<Figure size 432x288 with 1 Axes>"
      ]
     },
     "metadata": {
      "needs_background": "light"
     },
     "output_type": "display_data"
    }
   ],
   "source": [
    "plt.plot(history_keras_tok_2.history['accuracy'], label='training data')\n",
    "plt.plot(history_keras_tok_2.history['val_accuracy'], label='validation data')\n",
    "plt.title('Categorical Accuracy for Text Classification')\n",
    "plt.ylabel('Categorical Accuracy Value')\n",
    "plt.xlabel('No. epoch')\n",
    "plt.legend(loc='upper left')\n",
    "plt.show()"
   ]
  },
  {
   "cell_type": "code",
   "execution_count": 185,
   "id": "42c2716e-855f-4a83-ade7-8bcab5fc73be",
   "metadata": {},
   "outputs": [],
   "source": [
    "input_3 = Input(shape=(15)) # shape from train_data\n",
    "embedded_3 = Embedding(len(vocabulary_dict)*10, 100, input_length=len(vocabulary_dict))(input_3)\n",
    "lstm_3 = LSTM(100)(embedded_3)\n",
    "drop_3 = Dropout(0.1)(lstm_3)\n",
    "reg_3 = Dense(100, activation='relu', kernel_regularizer=regularizers.l2(0.05))(drop_3)\n",
    "dense_3 = Dense(2, activation='sigmoid')(reg_3) "
   ]
  },
  {
   "cell_type": "code",
   "execution_count": 186,
   "id": "01b9035b-01de-4e3e-a682-a8e8e6986aca",
   "metadata": {},
   "outputs": [
    {
     "name": "stdout",
     "output_type": "stream",
     "text": [
      "Model: \"model_5\"\n",
      "_________________________________________________________________\n",
      " Layer (type)                Output Shape              Param #   \n",
      "=================================================================\n",
      " input_7 (InputLayer)        [(None, 15)]              0         \n",
      "                                                                 \n",
      " embedding_21 (Embedding)    (None, 15, 100)           12443000  \n",
      "                                                                 \n",
      " lstm_19 (LSTM)              (None, 100)               80400     \n",
      "                                                                 \n",
      " dropout (Dropout)           (None, 100)               0         \n",
      "                                                                 \n",
      " dense_24 (Dense)            (None, 100)               10100     \n",
      "                                                                 \n",
      " dense_25 (Dense)            (None, 2)                 202       \n",
      "                                                                 \n",
      "=================================================================\n",
      "Total params: 12,533,702\n",
      "Trainable params: 90,702\n",
      "Non-trainable params: 12,443,000\n",
      "_________________________________________________________________\n"
     ]
    }
   ],
   "source": [
    "model_keras_tok_3 = Model(input_3, dense_3)\n",
    "model_keras_tok_3.layers[1].trainable = False\n",
    "model_keras_tok_3.summary()"
   ]
  },
  {
   "cell_type": "code",
   "execution_count": 187,
   "id": "06f7e93e-a782-49db-b336-2cc994b5c10a",
   "metadata": {},
   "outputs": [],
   "source": [
    "model_keras_tok_3.compile(loss=loss, optimizer=optim, metrics=metrics)"
   ]
  },
  {
   "cell_type": "code",
   "execution_count": 188,
   "id": "31ba029a-969b-4a7f-a7b1-ca3cdfdf7f1e",
   "metadata": {},
   "outputs": [
    {
     "name": "stdout",
     "output_type": "stream",
     "text": [
      "Epoch 1/30\n",
      "320/320 - 7s - loss: 0.8276 - accuracy: 0.5610 - val_loss: 0.6980 - val_accuracy: 0.5202 - 7s/epoch - 23ms/step\n",
      "Epoch 2/30\n",
      "320/320 - 3s - loss: 0.6850 - accuracy: 0.5617 - val_loss: 0.6925 - val_accuracy: 0.5202 - 3s/epoch - 9ms/step\n",
      "Epoch 3/30\n",
      "320/320 - 3s - loss: 0.6874 - accuracy: 0.5617 - val_loss: 0.6965 - val_accuracy: 0.5202 - 3s/epoch - 10ms/step\n",
      "Epoch 4/30\n",
      "320/320 - 3s - loss: 0.6862 - accuracy: 0.5617 - val_loss: 0.7106 - val_accuracy: 0.5202 - 3s/epoch - 9ms/step\n",
      "Epoch 5/30\n",
      "320/320 - 3s - loss: 0.6837 - accuracy: 0.5617 - val_loss: 0.7108 - val_accuracy: 0.5202 - 3s/epoch - 9ms/step\n",
      "Epoch 6/30\n",
      "320/320 - 3s - loss: 0.6805 - accuracy: 0.5617 - val_loss: 0.6862 - val_accuracy: 0.5202 - 3s/epoch - 9ms/step\n",
      "Epoch 7/30\n",
      "320/320 - 3s - loss: 0.6776 - accuracy: 0.5633 - val_loss: 0.6809 - val_accuracy: 0.5942 - 3s/epoch - 9ms/step\n",
      "Epoch 8/30\n",
      "320/320 - 3s - loss: 0.6773 - accuracy: 0.5708 - val_loss: 0.6857 - val_accuracy: 0.5833 - 3s/epoch - 9ms/step\n",
      "Epoch 9/30\n",
      "320/320 - 3s - loss: 0.6742 - accuracy: 0.5761 - val_loss: 0.6817 - val_accuracy: 0.5857 - 3s/epoch - 9ms/step\n",
      "Epoch 10/30\n",
      "320/320 - 3s - loss: 0.6731 - accuracy: 0.5830 - val_loss: 0.6823 - val_accuracy: 0.5600 - 3s/epoch - 9ms/step\n",
      "Epoch 11/30\n",
      "320/320 - 3s - loss: 0.6714 - accuracy: 0.5866 - val_loss: 0.6813 - val_accuracy: 0.5888 - 3s/epoch - 9ms/step\n",
      "Epoch 12/30\n",
      "320/320 - 3s - loss: 0.6694 - accuracy: 0.5892 - val_loss: 0.6822 - val_accuracy: 0.5950 - 3s/epoch - 9ms/step\n",
      "Epoch 13/30\n",
      "320/320 - 3s - loss: 0.6665 - accuracy: 0.5916 - val_loss: 0.6771 - val_accuracy: 0.5810 - 3s/epoch - 11ms/step\n",
      "Epoch 14/30\n",
      "320/320 - 3s - loss: 0.6664 - accuracy: 0.5978 - val_loss: 0.6853 - val_accuracy: 0.5880 - 3s/epoch - 11ms/step\n",
      "Epoch 15/30\n",
      "320/320 - 3s - loss: 0.6630 - accuracy: 0.6012 - val_loss: 0.6701 - val_accuracy: 0.6028 - 3s/epoch - 10ms/step\n",
      "Epoch 16/30\n",
      "320/320 - 3s - loss: 0.6599 - accuracy: 0.6032 - val_loss: 0.6801 - val_accuracy: 0.5717 - 3s/epoch - 11ms/step\n",
      "Epoch 17/30\n",
      "320/320 - 3s - loss: 0.6576 - accuracy: 0.6060 - val_loss: 0.6733 - val_accuracy: 0.5950 - 3s/epoch - 10ms/step\n",
      "Epoch 18/30\n",
      "320/320 - 3s - loss: 0.6564 - accuracy: 0.6086 - val_loss: 0.6900 - val_accuracy: 0.5888 - 3s/epoch - 10ms/step\n",
      "Epoch 19/30\n",
      "320/320 - 3s - loss: 0.6523 - accuracy: 0.6173 - val_loss: 0.6787 - val_accuracy: 0.5857 - 3s/epoch - 10ms/step\n",
      "Epoch 20/30\n",
      "320/320 - 3s - loss: 0.6517 - accuracy: 0.6143 - val_loss: 0.6752 - val_accuracy: 0.5802 - 3s/epoch - 10ms/step\n",
      "Epoch 21/30\n",
      "320/320 - 3s - loss: 0.6477 - accuracy: 0.6142 - val_loss: 0.6874 - val_accuracy: 0.5857 - 3s/epoch - 10ms/step\n",
      "Epoch 22/30\n",
      "320/320 - 3s - loss: 0.6463 - accuracy: 0.6182 - val_loss: 0.6954 - val_accuracy: 0.5662 - 3s/epoch - 10ms/step\n",
      "Epoch 23/30\n",
      "320/320 - 3s - loss: 0.6428 - accuracy: 0.6275 - val_loss: 0.6896 - val_accuracy: 0.5615 - 3s/epoch - 9ms/step\n",
      "Epoch 24/30\n",
      "320/320 - 3s - loss: 0.6424 - accuracy: 0.6283 - val_loss: 0.6963 - val_accuracy: 0.5794 - 3s/epoch - 9ms/step\n",
      "Epoch 25/30\n",
      "320/320 - 3s - loss: 0.6384 - accuracy: 0.6295 - val_loss: 0.7010 - val_accuracy: 0.5833 - 3s/epoch - 9ms/step\n",
      "Epoch 26/30\n",
      "320/320 - 3s - loss: 0.6368 - accuracy: 0.6336 - val_loss: 0.7013 - val_accuracy: 0.5794 - 3s/epoch - 10ms/step\n",
      "Epoch 27/30\n",
      "320/320 - 3s - loss: 0.6328 - accuracy: 0.6363 - val_loss: 0.6897 - val_accuracy: 0.5740 - 3s/epoch - 9ms/step\n",
      "Epoch 28/30\n",
      "320/320 - 3s - loss: 0.6282 - accuracy: 0.6439 - val_loss: 0.6974 - val_accuracy: 0.5701 - 3s/epoch - 9ms/step\n",
      "Epoch 29/30\n",
      "320/320 - 3s - loss: 0.6267 - accuracy: 0.6462 - val_loss: 0.7135 - val_accuracy: 0.5709 - 3s/epoch - 9ms/step\n",
      "Epoch 30/30\n",
      "320/320 - 3s - loss: 0.6249 - accuracy: 0.6434 - val_loss: 0.6868 - val_accuracy: 0.5888 - 3s/epoch - 9ms/step\n"
     ]
    }
   ],
   "source": [
    "history_keras_tok_3 = model_keras_tok_3.fit(train_padded, labels_train, epochs=30, validation_data=(val_padded, labels_val), verbose=2)"
   ]
  },
  {
   "cell_type": "code",
   "execution_count": 189,
   "id": "3ed073d4-b97c-4b53-851a-2a768647d6e8",
   "metadata": {},
   "outputs": [
    {
     "data": {
      "image/png": "[encoded data removed]",
      "text/plain": [
       "<Figure size 432x288 with 1 Axes>"
      ]
     },
     "metadata": {
      "needs_background": "light"
     },
     "output_type": "display_data"
    }
   ],
   "source": [
    "plt.plot(history_keras_tok_3.history['loss'], label='training data')\n",
    "plt.plot(history_keras_tok_3.history['val_loss'], label='validation data')\n",
    "plt.title('Loss for Text Classification')\n",
    "plt.ylabel('Loss Value')\n",
    "plt.xlabel('No. epoch')\n",
    "plt.legend(loc='upper right')\n",
    "plt.show()"
   ]
  },
  {
   "cell_type": "code",
   "execution_count": 190,
   "id": "59490b4b-40d3-4cd8-b34d-b430b1474cfd",
   "metadata": {},
   "outputs": [
    {
     "data": {
      "image/png": "[encoded data removed]",
      "text/plain": [
       "<Figure size 432x288 with 1 Axes>"
      ]
     },
     "metadata": {
      "needs_background": "light"
     },
     "output_type": "display_data"
    }
   ],
   "source": [
    "plt.plot(history_keras_tok_3.history['accuracy'], label='training data')\n",
    "plt.plot(history_keras_tok_3.history['val_accuracy'], label='validation data')\n",
    "plt.title('Categorical Accuracy for Text Classification')\n",
    "plt.ylabel('Categorical Accuracy Value')\n",
    "plt.xlabel('No. epoch')\n",
    "plt.legend(loc='upper left')\n",
    "plt.show()"
   ]
  },
  {
   "cell_type": "code",
   "execution_count": 248,
   "id": "2c6f18d0-fa9f-44cf-b295-6981b56caa06",
   "metadata": {},
   "outputs": [],
   "source": [
    "input_4 = Input(shape=(15)) # shape from train_data\n",
    "embedded_4 = Embedding(len(vocabulary_dict)*10, 100, input_length=len(vocabulary_dict))(input_4)\n",
    "lstm_4 = Bidirectional(LSTM(100))(embedded_4)\n",
    "drop_4 = Dropout(0.1)(lstm_4)\n",
    "reg_4 = Dense(100, activation='relu', kernel_regularizer=regularizers.l2(0.05))(drop_4)\n",
    "dense_4 = Dense(2, activation='sigmoid')(reg_4) "
   ]
  },
  {
   "cell_type": "code",
   "execution_count": 249,
   "id": "573ffe0b-c8a7-44b8-a6d4-f0030029f998",
   "metadata": {},
   "outputs": [
    {
     "name": "stdout",
     "output_type": "stream",
     "text": [
      "Model: \"model_7\"\n",
      "_________________________________________________________________\n",
      " Layer (type)                Output Shape              Param #   \n",
      "=================================================================\n",
      " input_9 (InputLayer)        [(None, 15)]              0         \n",
      "                                                                 \n",
      " embedding_24 (Embedding)    (None, 15, 100)           12443000  \n",
      "                                                                 \n",
      " bidirectional_3 (Bidirectio  (None, 200)              160800    \n",
      " nal)                                                            \n",
      "                                                                 \n",
      " dropout_7 (Dropout)         (None, 200)               0         \n",
      "                                                                 \n",
      " dense_36 (Dense)            (None, 100)               20100     \n",
      "                                                                 \n",
      " dense_37 (Dense)            (None, 2)                 202       \n",
      "                                                                 \n",
      "=================================================================\n",
      "Total params: 12,624,102\n",
      "Trainable params: 181,102\n",
      "Non-trainable params: 12,443,000\n",
      "_________________________________________________________________\n"
     ]
    }
   ],
   "source": [
    "model_keras_tok_4 = Model(input_4, dense_4)\n",
    "model_keras_tok_4.layers[1].trainable = False\n",
    "model_keras_tok_4.summary()"
   ]
  },
  {
   "cell_type": "code",
   "execution_count": 250,
   "id": "f01b2f39-2e0a-4216-8c95-ebb0525a76fb",
   "metadata": {},
   "outputs": [
    {
     "name": "stdout",
     "output_type": "stream",
     "text": [
      "Epoch 1/30\n",
      "320/320 - 48s - loss: 0.8510 - accuracy: 0.5594 - val_loss: 0.7032 - val_accuracy: 0.5202 - 48s/epoch - 151ms/step\n",
      "Epoch 2/30\n",
      "320/320 - 5s - loss: 0.6869 - accuracy: 0.5617 - val_loss: 0.6947 - val_accuracy: 0.5202 - 5s/epoch - 14ms/step\n",
      "Epoch 3/30\n",
      "320/320 - 4s - loss: 0.6852 - accuracy: 0.5617 - val_loss: 0.6935 - val_accuracy: 0.5202 - 4s/epoch - 11ms/step\n",
      "Epoch 4/30\n",
      "320/320 - 4s - loss: 0.6855 - accuracy: 0.5617 - val_loss: 0.6960 - val_accuracy: 0.5202 - 4s/epoch - 12ms/step\n",
      "Epoch 5/30\n",
      "320/320 - 4s - loss: 0.6865 - accuracy: 0.5617 - val_loss: 0.6917 - val_accuracy: 0.5202 - 4s/epoch - 12ms/step\n",
      "Epoch 6/30\n",
      "320/320 - 4s - loss: 0.6828 - accuracy: 0.5617 - val_loss: 0.6932 - val_accuracy: 0.5202 - 4s/epoch - 12ms/step\n",
      "Epoch 7/30\n",
      "320/320 - 4s - loss: 0.6822 - accuracy: 0.5617 - val_loss: 0.6907 - val_accuracy: 0.5202 - 4s/epoch - 11ms/step\n",
      "Epoch 8/30\n",
      "320/320 - 4s - loss: 0.6819 - accuracy: 0.5617 - val_loss: 0.6900 - val_accuracy: 0.5202 - 4s/epoch - 12ms/step\n",
      "Epoch 9/30\n",
      "320/320 - 4s - loss: 0.6793 - accuracy: 0.5617 - val_loss: 0.6905 - val_accuracy: 0.5202 - 4s/epoch - 12ms/step\n",
      "Epoch 10/30\n",
      "320/320 - 4s - loss: 0.6772 - accuracy: 0.5669 - val_loss: 0.6844 - val_accuracy: 0.5857 - 4s/epoch - 13ms/step\n",
      "Epoch 11/30\n",
      "320/320 - 4s - loss: 0.6763 - accuracy: 0.5690 - val_loss: 0.6938 - val_accuracy: 0.5467 - 4s/epoch - 12ms/step\n",
      "Epoch 12/30\n",
      "320/320 - 4s - loss: 0.6742 - accuracy: 0.5795 - val_loss: 0.6880 - val_accuracy: 0.5210 - 4s/epoch - 12ms/step\n",
      "Epoch 13/30\n",
      "320/320 - 4s - loss: 0.6713 - accuracy: 0.5843 - val_loss: 0.6855 - val_accuracy: 0.5530 - 4s/epoch - 12ms/step\n",
      "Epoch 14/30\n",
      "320/320 - 4s - loss: 0.6732 - accuracy: 0.5797 - val_loss: 0.6893 - val_accuracy: 0.5701 - 4s/epoch - 12ms/step\n",
      "Epoch 15/30\n",
      "320/320 - 4s - loss: 0.6705 - accuracy: 0.5832 - val_loss: 0.6915 - val_accuracy: 0.5576 - 4s/epoch - 12ms/step\n",
      "Epoch 16/30\n",
      "320/320 - 4s - loss: 0.6681 - accuracy: 0.5952 - val_loss: 0.6835 - val_accuracy: 0.5592 - 4s/epoch - 13ms/step\n",
      "Epoch 17/30\n",
      "320/320 - 4s - loss: 0.6682 - accuracy: 0.5990 - val_loss: 0.6878 - val_accuracy: 0.5343 - 4s/epoch - 12ms/step\n",
      "Epoch 18/30\n",
      "320/320 - 4s - loss: 0.6662 - accuracy: 0.5967 - val_loss: 0.6832 - val_accuracy: 0.5755 - 4s/epoch - 12ms/step\n",
      "Epoch 19/30\n",
      "320/320 - 4s - loss: 0.6635 - accuracy: 0.5995 - val_loss: 0.6873 - val_accuracy: 0.5857 - 4s/epoch - 13ms/step\n",
      "Epoch 20/30\n",
      "320/320 - 4s - loss: 0.6621 - accuracy: 0.6012 - val_loss: 0.6851 - val_accuracy: 0.5662 - 4s/epoch - 14ms/step\n",
      "Epoch 21/30\n",
      "320/320 - 4s - loss: 0.6604 - accuracy: 0.6082 - val_loss: 0.6899 - val_accuracy: 0.5654 - 4s/epoch - 14ms/step\n",
      "Epoch 22/30\n",
      "320/320 - 4s - loss: 0.6574 - accuracy: 0.6100 - val_loss: 0.6841 - val_accuracy: 0.5724 - 4s/epoch - 14ms/step\n",
      "Epoch 23/30\n",
      "320/320 - 5s - loss: 0.6550 - accuracy: 0.6176 - val_loss: 0.7022 - val_accuracy: 0.5794 - 5s/epoch - 14ms/step\n",
      "Epoch 24/30\n",
      "320/320 - 4s - loss: 0.6534 - accuracy: 0.6228 - val_loss: 0.6904 - val_accuracy: 0.5748 - 4s/epoch - 13ms/step\n",
      "Epoch 25/30\n",
      "320/320 - 4s - loss: 0.6496 - accuracy: 0.6235 - val_loss: 0.6816 - val_accuracy: 0.5646 - 4s/epoch - 12ms/step\n",
      "Epoch 26/30\n",
      "320/320 - 4s - loss: 0.6446 - accuracy: 0.6353 - val_loss: 0.7010 - val_accuracy: 0.5537 - 4s/epoch - 13ms/step\n",
      "Epoch 27/30\n",
      "320/320 - 4s - loss: 0.6425 - accuracy: 0.6338 - val_loss: 0.6907 - val_accuracy: 0.5755 - 4s/epoch - 13ms/step\n",
      "Epoch 28/30\n",
      "320/320 - 4s - loss: 0.6399 - accuracy: 0.6375 - val_loss: 0.7071 - val_accuracy: 0.5592 - 4s/epoch - 12ms/step\n",
      "Epoch 29/30\n",
      "320/320 - 4s - loss: 0.6372 - accuracy: 0.6362 - val_loss: 0.6950 - val_accuracy: 0.5662 - 4s/epoch - 12ms/step\n",
      "Epoch 30/30\n",
      "320/320 - 4s - loss: 0.6328 - accuracy: 0.6478 - val_loss: 0.6916 - val_accuracy: 0.5670 - 4s/epoch - 13ms/step\n"
     ]
    }
   ],
   "source": [
    "model_keras_tok_4.compile(loss=loss, optimizer=optim, metrics=metrics)\n",
    "history_keras_tok_4 = model_keras_tok_4.fit(train_padded, labels_train, epochs=30, validation_data=(val_padded, labels_val), verbose=2)"
   ]
  },
  {
   "cell_type": "markdown",
   "id": "6c96842b-fdc5-4e0b-a54b-5c3a12a43103",
   "metadata": {},
   "source": [
    "Check on predictions for last trained model:"
   ]
  },
  {
   "cell_type": "code",
   "execution_count": 251,
   "id": "5a32eeb6-c9dc-4871-b45d-ffffdc29a7b6",
   "metadata": {},
   "outputs": [],
   "source": [
    "predictions = model_keras_tok_4.predict(train_padded)"
   ]
  },
  {
   "cell_type": "code",
   "execution_count": 256,
   "id": "4c932041-bb31-4883-aac4-09ea5731c7a9",
   "metadata": {},
   "outputs": [],
   "source": [
    "predictions = [0 if p[0] > 0.5 else 1 for p in predictions]"
   ]
  },
  {
   "cell_type": "code",
   "execution_count": 259,
   "id": "3c6ff04e-aee6-4d28-933e-0615c619d30b",
   "metadata": {},
   "outputs": [
    {
     "name": "stdout",
     "output_type": "stream",
     "text": [
      "[list(['for', 'the', 'first', 'time', 'in', 'history', 'the', 'share', 'of', 'the', 'national', 'popular', 'vote', 'margin', 'is', 'smaller', 'than', 'the', 'latino', 'vote', 'margin'])\n",
      " list(['since', '2000', 'nearly', '12', 'million', 'americans', 'have', 'slipped', 'out', 'of', 'the', 'middle', 'class', 'and', 'into', 'poverty'])\n",
      " list(['when', 'mitt', 'romney', 'was', 'governor', 'of', 'massachusetts', 'we', 'didnt', 'just', 'slow', 'the', 'rate', 'of', 'growth', 'of', 'our', 'government', 'we', 'actually', 'cut', 'it'])\n",
      " list(['the', 'economy', 'bled', '24', 'billion', 'due', 'to', 'the', 'government', 'shutdown'])\n",
      " list(['most', 'of', 'the', 'affordable', 'care', 'act', 'has', 'already', 'in', 'some', 'sense', 'been', 'waived', 'or', 'otherwise', 'suspended'])\n",
      " list(['in', 'this', 'last', 'election', 'in', 'november', '63', 'percent', 'of', 'the', 'american', 'people', 'chose', 'not', 'to', 'vote', '80', 'percent', 'of', 'young', 'people', 'and', '75', 'percent', 'of', 'lowincome', 'workers', 'chose', 'not', 'to', 'vote'])\n",
      " list(['mccain', 'opposed', 'a', 'requirement', 'that', 'the', 'government', 'buy', 'americanmade', 'motorcycles', 'and', 'he', 'said', 'all', 'buyamerican', 'provisions', 'were', 'quote', 'disgraceful'])\n",
      " list(['us', 'rep', 'ron', 'kind', 'dwis', 'and', 'his', 'fellow', 'democrats', 'went', 'on', 'a', 'spending', 'spree', 'and', 'now', 'their', 'credit', 'card', 'is', 'maxed', 'out'])\n",
      " list(['water', 'rates', 'in', 'manila', 'philippines', 'were', 'raised', 'up', 'to', '845', 'percent', 'when', 'a', 'subsidiary', 'of', 'the', 'world', 'bank', 'became', 'a', 'partial', 'owner'])\n",
      " list(['almost', '100000', 'people', 'left', 'puerto', 'rico', 'last', 'year'])]\n",
      "[1 1 0 1 0 1 1 0 1 1]\n",
      "[1, 1, 1, 0, 0, 0, 1, 0, 1, 0]\n"
     ]
    }
   ],
   "source": [
    "print(train_text[10:20])\n",
    "\n",
    "print(train_labels[10:20])\n",
    "print(predictions[10:20])"
   ]
  },
  {
   "cell_type": "markdown",
   "id": "74d41511-c8dd-44d5-8204-b5f36f60acbb",
   "metadata": {},
   "source": [
    "The models in this notebook have not improved over the Categorical Encoding models."
   ]
  }
 ],
 "metadata": {
  "kernelspec": {
   "display_name": "nlp-env",
   "language": "python",
   "name": "nlp-env"
  },
  "language_info": {
   "codemirror_mode": {
    "name": "ipython",
    "version": 3
   },
   "file_extension": ".py",
   "mimetype": "text/x-python",
   "name": "python",
   "nbconvert_exporter": "python",
   "pygments_lexer": "ipython3",
   "version": "3.9.7"
  }
 },
 "nbformat": 4,
 "nbformat_minor": 5
}
